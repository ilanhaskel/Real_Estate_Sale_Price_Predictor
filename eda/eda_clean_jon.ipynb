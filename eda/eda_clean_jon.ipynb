{
 "cells": [
  {
   "cell_type": "markdown",
   "metadata": {},
   "source": [
    "Final Project Submission\n",
    "\n",
    "Please fill out:\n",
    "* Student name: \n",
    "* Student pace: self paced / part time / full time\n",
    "* Scheduled project review date/time: \n",
    "* Instructor name: \n",
    "* Blog post URL:\n"
   ]
  },
  {
   "cell_type": "markdown",
   "metadata": {},
   "source": [
    "Header Image"
   ]
  },
  {
   "cell_type": "markdown",
   "metadata": {},
   "source": [
    "# Title\n",
    "**Authors:** Ilan Haskel, Jonathan Fetterolf, Nate Kist"
   ]
  },
  {
   "cell_type": "markdown",
   "metadata": {},
   "source": [
    "# Overview"
   ]
  },
  {
   "cell_type": "markdown",
   "metadata": {
    "ExecuteTime": {
     "end_time": "2022-12-07T01:05:13.688202Z",
     "start_time": "2022-12-07T01:05:13.682765Z"
    }
   },
   "source": [
    "# Business Problem\n"
   ]
  },
  {
   "cell_type": "markdown",
   "metadata": {},
   "source": [
    "# Data Understanding"
   ]
  },
  {
   "cell_type": "markdown",
   "metadata": {
    "ExecuteTime": {
     "end_time": "2022-12-06T23:38:24.022906Z",
     "start_time": "2022-12-06T23:38:24.016611Z"
    }
   },
   "source": [
    "## Imports"
   ]
  },
  {
   "cell_type": "code",
   "execution_count": 1,
   "metadata": {
    "ExecuteTime": {
     "end_time": "2022-12-07T16:38:42.447467Z",
     "start_time": "2022-12-07T16:38:41.244046Z"
    }
   },
   "outputs": [],
   "source": [
    "import pandas as pd\n",
    "import numpy as np\n",
    "from matplotlib import pyplot as plt\n",
    "%matplotlib inline\n",
    "from scipy import stats as stats\n",
    "import seaborn as sns\n",
    "from sklearn.preprocessing import StandardScaler, OneHotEncoder, OrdinalEncoder\n",
    "from sklearn.datasets import make_regression\n",
    "from sklearn.linear_model import LinearRegression\n",
    "import sklearn.metrics as metrics\n",
    "import statsmodels.api as sm"
   ]
  },
  {
   "cell_type": "markdown",
   "metadata": {},
   "source": [
    "## EDA"
   ]
  },
  {
   "cell_type": "code",
   "execution_count": 2,
   "metadata": {
    "ExecuteTime": {
     "end_time": "2022-12-07T16:38:42.527072Z",
     "start_time": "2022-12-07T16:38:42.449835Z"
    }
   },
   "outputs": [],
   "source": [
    "df = pd.read_csv('data/kc_house_data.csv')"
   ]
  },
  {
   "cell_type": "code",
   "execution_count": 3,
   "metadata": {
    "ExecuteTime": {
     "end_time": "2022-12-07T16:38:42.531499Z",
     "start_time": "2022-12-07T16:38:42.528358Z"
    }
   },
   "outputs": [
    {
     "data": {
      "text/plain": [
       "Index(['id', 'date', 'price', 'bedrooms', 'bathrooms', 'sqft_living',\n",
       "       'sqft_lot', 'floors', 'waterfront', 'greenbelt', 'nuisance', 'view',\n",
       "       'condition', 'grade', 'heat_source', 'sewer_system', 'sqft_above',\n",
       "       'sqft_basement', 'sqft_garage', 'sqft_patio', 'yr_built',\n",
       "       'yr_renovated', 'address', 'lat', 'long'],\n",
       "      dtype='object')"
      ]
     },
     "execution_count": 3,
     "metadata": {},
     "output_type": "execute_result"
    }
   ],
   "source": [
    "df.columns"
   ]
  },
  {
   "cell_type": "code",
   "execution_count": 4,
   "metadata": {
    "ExecuteTime": {
     "end_time": "2022-12-07T16:38:42.546828Z",
     "start_time": "2022-12-07T16:38:42.532490Z"
    }
   },
   "outputs": [
    {
     "data": {
      "text/html": [
       "<div>\n",
       "<style scoped>\n",
       "    .dataframe tbody tr th:only-of-type {\n",
       "        vertical-align: middle;\n",
       "    }\n",
       "\n",
       "    .dataframe tbody tr th {\n",
       "        vertical-align: top;\n",
       "    }\n",
       "\n",
       "    .dataframe thead th {\n",
       "        text-align: right;\n",
       "    }\n",
       "</style>\n",
       "<table border=\"1\" class=\"dataframe\">\n",
       "  <thead>\n",
       "    <tr style=\"text-align: right;\">\n",
       "      <th></th>\n",
       "      <th>id</th>\n",
       "      <th>date</th>\n",
       "      <th>price</th>\n",
       "      <th>bedrooms</th>\n",
       "      <th>bathrooms</th>\n",
       "      <th>sqft_living</th>\n",
       "      <th>sqft_lot</th>\n",
       "      <th>floors</th>\n",
       "      <th>waterfront</th>\n",
       "      <th>greenbelt</th>\n",
       "      <th>...</th>\n",
       "      <th>sewer_system</th>\n",
       "      <th>sqft_above</th>\n",
       "      <th>sqft_basement</th>\n",
       "      <th>sqft_garage</th>\n",
       "      <th>sqft_patio</th>\n",
       "      <th>yr_built</th>\n",
       "      <th>yr_renovated</th>\n",
       "      <th>address</th>\n",
       "      <th>lat</th>\n",
       "      <th>long</th>\n",
       "    </tr>\n",
       "  </thead>\n",
       "  <tbody>\n",
       "    <tr>\n",
       "      <th>0</th>\n",
       "      <td>7399300360</td>\n",
       "      <td>5/24/2022</td>\n",
       "      <td>675000.0</td>\n",
       "      <td>4</td>\n",
       "      <td>1.0</td>\n",
       "      <td>1180</td>\n",
       "      <td>7140</td>\n",
       "      <td>1.0</td>\n",
       "      <td>NO</td>\n",
       "      <td>NO</td>\n",
       "      <td>...</td>\n",
       "      <td>PUBLIC</td>\n",
       "      <td>1180</td>\n",
       "      <td>0</td>\n",
       "      <td>0</td>\n",
       "      <td>40</td>\n",
       "      <td>1969</td>\n",
       "      <td>0</td>\n",
       "      <td>2102 Southeast 21st Court, Renton, Washington ...</td>\n",
       "      <td>47.461975</td>\n",
       "      <td>-122.19052</td>\n",
       "    </tr>\n",
       "    <tr>\n",
       "      <th>1</th>\n",
       "      <td>8910500230</td>\n",
       "      <td>12/13/2021</td>\n",
       "      <td>920000.0</td>\n",
       "      <td>5</td>\n",
       "      <td>2.5</td>\n",
       "      <td>2770</td>\n",
       "      <td>6703</td>\n",
       "      <td>1.0</td>\n",
       "      <td>NO</td>\n",
       "      <td>NO</td>\n",
       "      <td>...</td>\n",
       "      <td>PUBLIC</td>\n",
       "      <td>1570</td>\n",
       "      <td>1570</td>\n",
       "      <td>0</td>\n",
       "      <td>240</td>\n",
       "      <td>1950</td>\n",
       "      <td>0</td>\n",
       "      <td>11231 Greenwood Avenue North, Seattle, Washing...</td>\n",
       "      <td>47.711525</td>\n",
       "      <td>-122.35591</td>\n",
       "    </tr>\n",
       "  </tbody>\n",
       "</table>\n",
       "<p>2 rows × 25 columns</p>\n",
       "</div>"
      ],
      "text/plain": [
       "           id        date     price  bedrooms  bathrooms  sqft_living  \\\n",
       "0  7399300360   5/24/2022  675000.0         4        1.0         1180   \n",
       "1  8910500230  12/13/2021  920000.0         5        2.5         2770   \n",
       "\n",
       "   sqft_lot  floors waterfront greenbelt  ... sewer_system sqft_above  \\\n",
       "0      7140     1.0         NO        NO  ...       PUBLIC       1180   \n",
       "1      6703     1.0         NO        NO  ...       PUBLIC       1570   \n",
       "\n",
       "  sqft_basement sqft_garage sqft_patio yr_built  yr_renovated  \\\n",
       "0             0           0         40     1969             0   \n",
       "1          1570           0        240     1950             0   \n",
       "\n",
       "                                             address        lat       long  \n",
       "0  2102 Southeast 21st Court, Renton, Washington ...  47.461975 -122.19052  \n",
       "1  11231 Greenwood Avenue North, Seattle, Washing...  47.711525 -122.35591  \n",
       "\n",
       "[2 rows x 25 columns]"
      ]
     },
     "execution_count": 4,
     "metadata": {},
     "output_type": "execute_result"
    }
   ],
   "source": [
    "df.head(2)"
   ]
  },
  {
   "cell_type": "code",
   "execution_count": 5,
   "metadata": {
    "ExecuteTime": {
     "end_time": "2022-12-07T16:38:42.583069Z",
     "start_time": "2022-12-07T16:38:42.547911Z"
    }
   },
   "outputs": [
    {
     "data": {
      "text/html": [
       "<div>\n",
       "<style scoped>\n",
       "    .dataframe tbody tr th:only-of-type {\n",
       "        vertical-align: middle;\n",
       "    }\n",
       "\n",
       "    .dataframe tbody tr th {\n",
       "        vertical-align: top;\n",
       "    }\n",
       "\n",
       "    .dataframe thead th {\n",
       "        text-align: right;\n",
       "    }\n",
       "</style>\n",
       "<table border=\"1\" class=\"dataframe\">\n",
       "  <thead>\n",
       "    <tr style=\"text-align: right;\">\n",
       "      <th></th>\n",
       "      <th>id</th>\n",
       "      <th>price</th>\n",
       "      <th>bedrooms</th>\n",
       "      <th>bathrooms</th>\n",
       "      <th>sqft_living</th>\n",
       "      <th>sqft_lot</th>\n",
       "      <th>floors</th>\n",
       "      <th>sqft_above</th>\n",
       "      <th>sqft_basement</th>\n",
       "      <th>sqft_garage</th>\n",
       "      <th>sqft_patio</th>\n",
       "      <th>yr_built</th>\n",
       "      <th>yr_renovated</th>\n",
       "      <th>lat</th>\n",
       "      <th>long</th>\n",
       "    </tr>\n",
       "  </thead>\n",
       "  <tbody>\n",
       "    <tr>\n",
       "      <th>count</th>\n",
       "      <td>3.015500e+04</td>\n",
       "      <td>3.015500e+04</td>\n",
       "      <td>30155.000000</td>\n",
       "      <td>30155.000000</td>\n",
       "      <td>30155.000000</td>\n",
       "      <td>3.015500e+04</td>\n",
       "      <td>30155.000000</td>\n",
       "      <td>30155.000000</td>\n",
       "      <td>30155.000000</td>\n",
       "      <td>30155.000000</td>\n",
       "      <td>30155.000000</td>\n",
       "      <td>30155.000000</td>\n",
       "      <td>30155.000000</td>\n",
       "      <td>30155.000000</td>\n",
       "      <td>30155.000000</td>\n",
       "    </tr>\n",
       "    <tr>\n",
       "      <th>mean</th>\n",
       "      <td>4.538104e+09</td>\n",
       "      <td>1.108536e+06</td>\n",
       "      <td>3.413530</td>\n",
       "      <td>2.334737</td>\n",
       "      <td>2112.424739</td>\n",
       "      <td>1.672360e+04</td>\n",
       "      <td>1.543492</td>\n",
       "      <td>1809.826098</td>\n",
       "      <td>476.039396</td>\n",
       "      <td>330.211142</td>\n",
       "      <td>217.412038</td>\n",
       "      <td>1975.163953</td>\n",
       "      <td>90.922301</td>\n",
       "      <td>47.328076</td>\n",
       "      <td>-121.317397</td>\n",
       "    </tr>\n",
       "    <tr>\n",
       "      <th>std</th>\n",
       "      <td>2.882587e+09</td>\n",
       "      <td>8.963857e+05</td>\n",
       "      <td>0.981612</td>\n",
       "      <td>0.889556</td>\n",
       "      <td>974.044318</td>\n",
       "      <td>6.038260e+04</td>\n",
       "      <td>0.567717</td>\n",
       "      <td>878.306131</td>\n",
       "      <td>579.631302</td>\n",
       "      <td>285.770536</td>\n",
       "      <td>245.302792</td>\n",
       "      <td>32.067362</td>\n",
       "      <td>416.473038</td>\n",
       "      <td>1.434005</td>\n",
       "      <td>5.725475</td>\n",
       "    </tr>\n",
       "    <tr>\n",
       "      <th>min</th>\n",
       "      <td>1.000055e+06</td>\n",
       "      <td>2.736000e+04</td>\n",
       "      <td>0.000000</td>\n",
       "      <td>0.000000</td>\n",
       "      <td>3.000000</td>\n",
       "      <td>4.020000e+02</td>\n",
       "      <td>1.000000</td>\n",
       "      <td>2.000000</td>\n",
       "      <td>0.000000</td>\n",
       "      <td>0.000000</td>\n",
       "      <td>0.000000</td>\n",
       "      <td>1900.000000</td>\n",
       "      <td>0.000000</td>\n",
       "      <td>21.274240</td>\n",
       "      <td>-157.791480</td>\n",
       "    </tr>\n",
       "    <tr>\n",
       "      <th>25%</th>\n",
       "      <td>2.064175e+09</td>\n",
       "      <td>6.480000e+05</td>\n",
       "      <td>3.000000</td>\n",
       "      <td>2.000000</td>\n",
       "      <td>1420.000000</td>\n",
       "      <td>4.850000e+03</td>\n",
       "      <td>1.000000</td>\n",
       "      <td>1180.000000</td>\n",
       "      <td>0.000000</td>\n",
       "      <td>0.000000</td>\n",
       "      <td>40.000000</td>\n",
       "      <td>1953.000000</td>\n",
       "      <td>0.000000</td>\n",
       "      <td>47.405320</td>\n",
       "      <td>-122.326045</td>\n",
       "    </tr>\n",
       "    <tr>\n",
       "      <th>50%</th>\n",
       "      <td>3.874011e+09</td>\n",
       "      <td>8.600000e+05</td>\n",
       "      <td>3.000000</td>\n",
       "      <td>2.500000</td>\n",
       "      <td>1920.000000</td>\n",
       "      <td>7.480000e+03</td>\n",
       "      <td>1.500000</td>\n",
       "      <td>1560.000000</td>\n",
       "      <td>0.000000</td>\n",
       "      <td>400.000000</td>\n",
       "      <td>150.000000</td>\n",
       "      <td>1977.000000</td>\n",
       "      <td>0.000000</td>\n",
       "      <td>47.551380</td>\n",
       "      <td>-122.225585</td>\n",
       "    </tr>\n",
       "    <tr>\n",
       "      <th>75%</th>\n",
       "      <td>7.287100e+09</td>\n",
       "      <td>1.300000e+06</td>\n",
       "      <td>4.000000</td>\n",
       "      <td>3.000000</td>\n",
       "      <td>2619.500000</td>\n",
       "      <td>1.057900e+04</td>\n",
       "      <td>2.000000</td>\n",
       "      <td>2270.000000</td>\n",
       "      <td>940.000000</td>\n",
       "      <td>510.000000</td>\n",
       "      <td>320.000000</td>\n",
       "      <td>2003.000000</td>\n",
       "      <td>0.000000</td>\n",
       "      <td>47.669913</td>\n",
       "      <td>-122.116205</td>\n",
       "    </tr>\n",
       "    <tr>\n",
       "      <th>max</th>\n",
       "      <td>9.904000e+09</td>\n",
       "      <td>3.075000e+07</td>\n",
       "      <td>13.000000</td>\n",
       "      <td>10.500000</td>\n",
       "      <td>15360.000000</td>\n",
       "      <td>3.253932e+06</td>\n",
       "      <td>4.000000</td>\n",
       "      <td>12660.000000</td>\n",
       "      <td>8020.000000</td>\n",
       "      <td>3580.000000</td>\n",
       "      <td>4370.000000</td>\n",
       "      <td>2022.000000</td>\n",
       "      <td>2022.000000</td>\n",
       "      <td>64.824070</td>\n",
       "      <td>-70.074340</td>\n",
       "    </tr>\n",
       "  </tbody>\n",
       "</table>\n",
       "</div>"
      ],
      "text/plain": [
       "                 id         price      bedrooms     bathrooms   sqft_living  \\\n",
       "count  3.015500e+04  3.015500e+04  30155.000000  30155.000000  30155.000000   \n",
       "mean   4.538104e+09  1.108536e+06      3.413530      2.334737   2112.424739   \n",
       "std    2.882587e+09  8.963857e+05      0.981612      0.889556    974.044318   \n",
       "min    1.000055e+06  2.736000e+04      0.000000      0.000000      3.000000   \n",
       "25%    2.064175e+09  6.480000e+05      3.000000      2.000000   1420.000000   \n",
       "50%    3.874011e+09  8.600000e+05      3.000000      2.500000   1920.000000   \n",
       "75%    7.287100e+09  1.300000e+06      4.000000      3.000000   2619.500000   \n",
       "max    9.904000e+09  3.075000e+07     13.000000     10.500000  15360.000000   \n",
       "\n",
       "           sqft_lot        floors    sqft_above  sqft_basement   sqft_garage  \\\n",
       "count  3.015500e+04  30155.000000  30155.000000   30155.000000  30155.000000   \n",
       "mean   1.672360e+04      1.543492   1809.826098     476.039396    330.211142   \n",
       "std    6.038260e+04      0.567717    878.306131     579.631302    285.770536   \n",
       "min    4.020000e+02      1.000000      2.000000       0.000000      0.000000   \n",
       "25%    4.850000e+03      1.000000   1180.000000       0.000000      0.000000   \n",
       "50%    7.480000e+03      1.500000   1560.000000       0.000000    400.000000   \n",
       "75%    1.057900e+04      2.000000   2270.000000     940.000000    510.000000   \n",
       "max    3.253932e+06      4.000000  12660.000000    8020.000000   3580.000000   \n",
       "\n",
       "         sqft_patio      yr_built  yr_renovated           lat          long  \n",
       "count  30155.000000  30155.000000  30155.000000  30155.000000  30155.000000  \n",
       "mean     217.412038   1975.163953     90.922301     47.328076   -121.317397  \n",
       "std      245.302792     32.067362    416.473038      1.434005      5.725475  \n",
       "min        0.000000   1900.000000      0.000000     21.274240   -157.791480  \n",
       "25%       40.000000   1953.000000      0.000000     47.405320   -122.326045  \n",
       "50%      150.000000   1977.000000      0.000000     47.551380   -122.225585  \n",
       "75%      320.000000   2003.000000      0.000000     47.669913   -122.116205  \n",
       "max     4370.000000   2022.000000   2022.000000     64.824070    -70.074340  "
      ]
     },
     "execution_count": 5,
     "metadata": {},
     "output_type": "execute_result"
    }
   ],
   "source": [
    "df.describe()"
   ]
  },
  {
   "cell_type": "markdown",
   "metadata": {},
   "source": [
    "Checking for Duplicates"
   ]
  },
  {
   "cell_type": "code",
   "execution_count": 6,
   "metadata": {
    "ExecuteTime": {
     "end_time": "2022-12-07T16:38:42.623451Z",
     "start_time": "2022-12-07T16:38:42.584304Z"
    }
   },
   "outputs": [
    {
     "data": {
      "text/plain": [
       "0        False\n",
       "1        False\n",
       "2        False\n",
       "3        False\n",
       "4        False\n",
       "         ...  \n",
       "30150    False\n",
       "30151    False\n",
       "30152    False\n",
       "30153    False\n",
       "30154    False\n",
       "Length: 30155, dtype: bool"
      ]
     },
     "execution_count": 6,
     "metadata": {},
     "output_type": "execute_result"
    }
   ],
   "source": [
    "pd.DataFrame.duplicated(df)"
   ]
  },
  {
   "cell_type": "code",
   "execution_count": 7,
   "metadata": {
    "ExecuteTime": {
     "end_time": "2022-12-07T16:38:42.660995Z",
     "start_time": "2022-12-07T16:38:42.626285Z"
    }
   },
   "outputs": [
    {
     "data": {
      "text/plain": [
       "1"
      ]
     },
     "execution_count": 7,
     "metadata": {},
     "output_type": "execute_result"
    }
   ],
   "source": [
    "pd.DataFrame.duplicated(df).sum()"
   ]
  },
  {
   "cell_type": "markdown",
   "metadata": {
    "ExecuteTime": {
     "end_time": "2022-12-06T23:39:25.039196Z",
     "start_time": "2022-12-06T23:39:25.033472Z"
    }
   },
   "source": [
    "Finding & Dropping Nulls"
   ]
  },
  {
   "cell_type": "code",
   "execution_count": 8,
   "metadata": {
    "ExecuteTime": {
     "end_time": "2022-12-07T16:38:42.675915Z",
     "start_time": "2022-12-07T16:38:42.662968Z"
    }
   },
   "outputs": [
    {
     "data": {
      "text/plain": [
       "id                0\n",
       "date              0\n",
       "price             0\n",
       "bedrooms          0\n",
       "bathrooms         0\n",
       "sqft_living       0\n",
       "sqft_lot          0\n",
       "floors            0\n",
       "waterfront        0\n",
       "greenbelt         0\n",
       "nuisance          0\n",
       "view              0\n",
       "condition         0\n",
       "grade             0\n",
       "heat_source      32\n",
       "sewer_system     14\n",
       "sqft_above        0\n",
       "sqft_basement     0\n",
       "sqft_garage       0\n",
       "sqft_patio        0\n",
       "yr_built          0\n",
       "yr_renovated      0\n",
       "address           0\n",
       "lat               0\n",
       "long              0\n",
       "dtype: int64"
      ]
     },
     "execution_count": 8,
     "metadata": {},
     "output_type": "execute_result"
    }
   ],
   "source": [
    "df.isnull().sum()"
   ]
  },
  {
   "cell_type": "code",
   "execution_count": 9,
   "metadata": {
    "ExecuteTime": {
     "end_time": "2022-12-07T16:38:42.697824Z",
     "start_time": "2022-12-07T16:38:42.676960Z"
    }
   },
   "outputs": [],
   "source": [
    "df = df.dropna().reset_index()"
   ]
  },
  {
   "cell_type": "markdown",
   "metadata": {},
   "source": [
    "Creating a column for the age when sold in years."
   ]
  },
  {
   "cell_type": "code",
   "execution_count": 10,
   "metadata": {
    "ExecuteTime": {
     "end_time": "2022-12-07T16:38:42.720908Z",
     "start_time": "2022-12-07T16:38:42.698886Z"
    }
   },
   "outputs": [],
   "source": [
    "df[['date', 'yr_built']] = df[['date', 'yr_built']].apply(pd.to_datetime)\n"
   ]
  },
  {
   "cell_type": "code",
   "execution_count": 11,
   "metadata": {
    "ExecuteTime": {
     "end_time": "2022-12-07T16:38:42.726409Z",
     "start_time": "2022-12-07T16:38:42.722092Z"
    }
   },
   "outputs": [],
   "source": [
    "df['age_when_sold'] = ((df['date'] - df['yr_built']).dt.days)/365"
   ]
  },
  {
   "cell_type": "code",
   "execution_count": 12,
   "metadata": {
    "ExecuteTime": {
     "end_time": "2022-12-07T16:38:42.730835Z",
     "start_time": "2022-12-07T16:38:42.727286Z"
    },
    "scrolled": true
   },
   "outputs": [
    {
     "data": {
      "text/plain": [
       "0        52.424658\n",
       "1        51.980822\n",
       "2        51.775342\n",
       "3        51.983562\n",
       "4        51.676712\n",
       "           ...    \n",
       "30106    51.945205\n",
       "30107    51.487671\n",
       "30108    52.432877\n",
       "30109    52.180822\n",
       "30110    52.356164\n",
       "Name: age_when_sold, Length: 30111, dtype: float64"
      ]
     },
     "execution_count": 12,
     "metadata": {},
     "output_type": "execute_result"
    }
   ],
   "source": [
    "df.age_when_sold"
   ]
  },
  {
   "cell_type": "markdown",
   "metadata": {},
   "source": [
    "Separating by Zipcodes"
   ]
  },
  {
   "cell_type": "code",
   "execution_count": 55,
   "metadata": {
    "ExecuteTime": {
     "end_time": "2022-12-07T16:56:38.497812Z",
     "start_time": "2022-12-07T16:56:38.492485Z"
    },
    "run_control": {
     "marked": false
    }
   },
   "outputs": [],
   "source": [
    "df['zipcode'] = df.address[1][-20:-15]"
   ]
  },
  {
   "cell_type": "code",
   "execution_count": 56,
   "metadata": {
    "ExecuteTime": {
     "end_time": "2022-12-07T16:56:39.140184Z",
     "start_time": "2022-12-07T16:56:39.124191Z"
    }
   },
   "outputs": [
    {
     "data": {
      "text/plain": [
       "count     30111\n",
       "unique        1\n",
       "top       98133\n",
       "freq      30111\n",
       "Name: zipcode, dtype: object"
      ]
     },
     "execution_count": 56,
     "metadata": {},
     "output_type": "execute_result"
    }
   ],
   "source": [
    "df.zipcode.describe()"
   ]
  },
  {
   "cell_type": "markdown",
   "metadata": {},
   "source": [
    "There is only one zipcode in the data."
   ]
  },
  {
   "cell_type": "code",
   "execution_count": null,
   "metadata": {},
   "outputs": [],
   "source": []
  },
  {
   "cell_type": "code",
   "execution_count": 13,
   "metadata": {
    "ExecuteTime": {
     "end_time": "2022-12-07T16:38:42.734800Z",
     "start_time": "2022-12-07T16:38:42.731838Z"
    }
   },
   "outputs": [
    {
     "data": {
      "text/plain": [
       "['index',\n",
       " 'id',\n",
       " 'date',\n",
       " 'price',\n",
       " 'bedrooms',\n",
       " 'bathrooms',\n",
       " 'sqft_living',\n",
       " 'sqft_lot',\n",
       " 'floors',\n",
       " 'waterfront',\n",
       " 'greenbelt',\n",
       " 'nuisance',\n",
       " 'view',\n",
       " 'condition',\n",
       " 'grade',\n",
       " 'heat_source',\n",
       " 'sewer_system',\n",
       " 'sqft_above',\n",
       " 'sqft_basement',\n",
       " 'sqft_garage',\n",
       " 'sqft_patio',\n",
       " 'yr_built',\n",
       " 'yr_renovated',\n",
       " 'address',\n",
       " 'lat',\n",
       " 'long',\n",
       " 'age_when_sold']"
      ]
     },
     "execution_count": 13,
     "metadata": {},
     "output_type": "execute_result"
    }
   ],
   "source": [
    "list(df.columns)"
   ]
  },
  {
   "cell_type": "markdown",
   "metadata": {},
   "source": [
    "Dropping Undesired Columns"
   ]
  },
  {
   "cell_type": "code",
   "execution_count": 14,
   "metadata": {
    "ExecuteTime": {
     "end_time": "2022-12-07T16:38:42.741334Z",
     "start_time": "2022-12-07T16:38:42.735908Z"
    }
   },
   "outputs": [],
   "source": [
    "df_colwanted = df.drop([\n",
    "                        'date', \n",
    "                        'view', \n",
    "                        'sqft_above',\n",
    "                        'sqft_basement', \n",
    "                        'yr_renovated', \n",
    "                        'address', \n",
    "                        'id'\n",
    "                       ], axis=1)"
   ]
  },
  {
   "cell_type": "code",
   "execution_count": 15,
   "metadata": {
    "ExecuteTime": {
     "end_time": "2022-12-07T16:38:42.752998Z",
     "start_time": "2022-12-07T16:38:42.742357Z"
    },
    "scrolled": true
   },
   "outputs": [
    {
     "data": {
      "text/html": [
       "<div>\n",
       "<style scoped>\n",
       "    .dataframe tbody tr th:only-of-type {\n",
       "        vertical-align: middle;\n",
       "    }\n",
       "\n",
       "    .dataframe tbody tr th {\n",
       "        vertical-align: top;\n",
       "    }\n",
       "\n",
       "    .dataframe thead th {\n",
       "        text-align: right;\n",
       "    }\n",
       "</style>\n",
       "<table border=\"1\" class=\"dataframe\">\n",
       "  <thead>\n",
       "    <tr style=\"text-align: right;\">\n",
       "      <th></th>\n",
       "      <th>index</th>\n",
       "      <th>price</th>\n",
       "      <th>bedrooms</th>\n",
       "      <th>bathrooms</th>\n",
       "      <th>sqft_living</th>\n",
       "      <th>sqft_lot</th>\n",
       "      <th>floors</th>\n",
       "      <th>waterfront</th>\n",
       "      <th>greenbelt</th>\n",
       "      <th>nuisance</th>\n",
       "      <th>condition</th>\n",
       "      <th>grade</th>\n",
       "      <th>heat_source</th>\n",
       "      <th>sewer_system</th>\n",
       "      <th>sqft_garage</th>\n",
       "      <th>sqft_patio</th>\n",
       "      <th>yr_built</th>\n",
       "      <th>lat</th>\n",
       "      <th>long</th>\n",
       "      <th>age_when_sold</th>\n",
       "    </tr>\n",
       "  </thead>\n",
       "  <tbody>\n",
       "    <tr>\n",
       "      <th>0</th>\n",
       "      <td>0</td>\n",
       "      <td>675000.0</td>\n",
       "      <td>4</td>\n",
       "      <td>1.0</td>\n",
       "      <td>1180</td>\n",
       "      <td>7140</td>\n",
       "      <td>1.0</td>\n",
       "      <td>NO</td>\n",
       "      <td>NO</td>\n",
       "      <td>NO</td>\n",
       "      <td>Good</td>\n",
       "      <td>7 Average</td>\n",
       "      <td>Gas</td>\n",
       "      <td>PUBLIC</td>\n",
       "      <td>0</td>\n",
       "      <td>40</td>\n",
       "      <td>1970-01-01 00:00:00.000001969</td>\n",
       "      <td>47.461975</td>\n",
       "      <td>-122.19052</td>\n",
       "      <td>52.424658</td>\n",
       "    </tr>\n",
       "    <tr>\n",
       "      <th>1</th>\n",
       "      <td>1</td>\n",
       "      <td>920000.0</td>\n",
       "      <td>5</td>\n",
       "      <td>2.5</td>\n",
       "      <td>2770</td>\n",
       "      <td>6703</td>\n",
       "      <td>1.0</td>\n",
       "      <td>NO</td>\n",
       "      <td>NO</td>\n",
       "      <td>YES</td>\n",
       "      <td>Average</td>\n",
       "      <td>7 Average</td>\n",
       "      <td>Oil</td>\n",
       "      <td>PUBLIC</td>\n",
       "      <td>0</td>\n",
       "      <td>240</td>\n",
       "      <td>1970-01-01 00:00:00.000001950</td>\n",
       "      <td>47.711525</td>\n",
       "      <td>-122.35591</td>\n",
       "      <td>51.980822</td>\n",
       "    </tr>\n",
       "  </tbody>\n",
       "</table>\n",
       "</div>"
      ],
      "text/plain": [
       "   index     price  bedrooms  bathrooms  sqft_living  sqft_lot  floors  \\\n",
       "0      0  675000.0         4        1.0         1180      7140     1.0   \n",
       "1      1  920000.0         5        2.5         2770      6703     1.0   \n",
       "\n",
       "  waterfront greenbelt nuisance condition      grade heat_source sewer_system  \\\n",
       "0         NO        NO       NO      Good  7 Average         Gas       PUBLIC   \n",
       "1         NO        NO      YES   Average  7 Average         Oil       PUBLIC   \n",
       "\n",
       "   sqft_garage  sqft_patio                      yr_built        lat  \\\n",
       "0            0          40 1970-01-01 00:00:00.000001969  47.461975   \n",
       "1            0         240 1970-01-01 00:00:00.000001950  47.711525   \n",
       "\n",
       "        long  age_when_sold  \n",
       "0 -122.19052      52.424658  \n",
       "1 -122.35591      51.980822  "
      ]
     },
     "execution_count": 15,
     "metadata": {},
     "output_type": "execute_result"
    }
   ],
   "source": [
    "df_colwanted.head(2)"
   ]
  },
  {
   "cell_type": "markdown",
   "metadata": {
    "ExecuteTime": {
     "end_time": "2022-12-06T23:42:46.720285Z",
     "start_time": "2022-12-06T23:42:46.412571Z"
    }
   },
   "source": [
    "### EDA Visualizations"
   ]
  },
  {
   "cell_type": "markdown",
   "metadata": {},
   "source": [
    "Where are the properties?"
   ]
  },
  {
   "cell_type": "code",
   "execution_count": 62,
   "metadata": {
    "ExecuteTime": {
     "end_time": "2022-12-07T17:00:56.335104Z",
     "start_time": "2022-12-07T17:00:56.196174Z"
    }
   },
   "outputs": [
    {
     "data": {
      "text/plain": [
       "<AxesSubplot:xlabel='long', ylabel='lat'>"
      ]
     },
     "execution_count": 62,
     "metadata": {},
     "output_type": "execute_result"
    },
    {
     "data": {
      "image/png": "[encoded data removed]",
      "text/plain": [
       "<Figure size 864x864 with 1 Axes>"
      ]
     },
     "metadata": {},
     "output_type": "display_data"
    }
   ],
   "source": [
    "sns.scatterplot(data=df, x='long', y='lat')"
   ]
  },
  {
   "cell_type": "code",
   "execution_count": null,
   "metadata": {},
   "outputs": [],
   "source": []
  },
  {
   "cell_type": "code",
   "execution_count": 16,
   "metadata": {
    "ExecuteTime": {
     "end_time": "2022-12-07T16:38:43.109843Z",
     "start_time": "2022-12-07T16:38:42.754245Z"
    }
   },
   "outputs": [
    {
     "data": {
      "text/plain": [
       "<AxesSubplot:>"
      ]
     },
     "execution_count": 16,
     "metadata": {},
     "output_type": "execute_result"
    },
    {
     "data": {
      "image/png": "[encoded data removed]",
      "text/plain": [
       "<Figure size 864x864 with 2 Axes>"
      ]
     },
     "metadata": {},
     "output_type": "display_data"
    }
   ],
   "source": [
    "sns.set(rc={'figure.figsize':(12, 12)})\n",
    "\n",
    "# Use the .heatmap function to depict the relationships visually!\n",
    "mask  = np.triu(np.ones_like(df_colwanted.corr()))\n",
    "sns.heatmap(abs(df_colwanted.corr()), annot=True, mask=mask)"
   ]
  },
  {
   "cell_type": "code",
   "execution_count": 17,
   "metadata": {
    "ExecuteTime": {
     "end_time": "2022-12-07T16:38:43.111934Z",
     "start_time": "2022-12-07T16:38:43.110682Z"
    }
   },
   "outputs": [],
   "source": [
    "#pairplot with continuous variables\n",
    "#commented out for run-time\n",
    "\n",
    "#sns.pairplot(df[['price', 'sqft_living', 'sqft_lot', 'sqft_patio']])"
   ]
  },
  {
   "cell_type": "code",
   "execution_count": 18,
   "metadata": {
    "ExecuteTime": {
     "end_time": "2022-12-07T16:38:43.113662Z",
     "start_time": "2022-12-07T16:38:43.112558Z"
    }
   },
   "outputs": [],
   "source": [
    "#pairplot with wanted columns\n",
    "#commented out for run-time\n",
    "\n",
    "#sns.pairplot(df_colwanted)"
   ]
  },
  {
   "cell_type": "code",
   "execution_count": 19,
   "metadata": {
    "ExecuteTime": {
     "end_time": "2022-12-07T16:38:43.700227Z",
     "start_time": "2022-12-07T16:38:43.114336Z"
    },
    "scrolled": true
   },
   "outputs": [
    {
     "data": {
      "text/plain": [
       "<AxesSubplot:xlabel='price', ylabel='Count'>"
      ]
     },
     "execution_count": 19,
     "metadata": {},
     "output_type": "execute_result"
    },
    {
     "data": {
      "image/png": "[encoded data removed]",
      "text/plain": [
       "<Figure size 864x864 with 1 Axes>"
      ]
     },
     "metadata": {},
     "output_type": "display_data"
    }
   ],
   "source": [
    "sns.histplot(df_colwanted.price, kde=True)"
   ]
  },
  {
   "cell_type": "markdown",
   "metadata": {},
   "source": [
    "Log Scale Target"
   ]
  },
  {
   "cell_type": "code",
   "execution_count": 20,
   "metadata": {
    "ExecuteTime": {
     "end_time": "2022-12-07T16:38:44.031407Z",
     "start_time": "2022-12-07T16:38:43.701168Z"
    }
   },
   "outputs": [
    {
     "data": {
      "text/plain": [
       "<AxesSubplot:xlabel='price', ylabel='Count'>"
      ]
     },
     "execution_count": 20,
     "metadata": {},
     "output_type": "execute_result"
    },
    {
     "data": {
      "image/png": "[encoded data removed]",
      "text/plain": [
       "<Figure size 864x864 with 1 Axes>"
      ]
     },
     "metadata": {},
     "output_type": "display_data"
    }
   ],
   "source": [
    "#logscaling target\n",
    "y_scld = np.log(df_colwanted.price)\n",
    "sns.histplot(y_scld, kde=True)"
   ]
  },
  {
   "cell_type": "markdown",
   "metadata": {},
   "source": [
    "### EDA - Baseline OLS Model"
   ]
  },
  {
   "cell_type": "code",
   "execution_count": 21,
   "metadata": {
    "ExecuteTime": {
     "end_time": "2022-12-07T16:38:44.034573Z",
     "start_time": "2022-12-07T16:38:44.032439Z"
    }
   },
   "outputs": [],
   "source": [
    "y = df.price\n",
    "X = df[['sqft_living', 'sqft_lot', 'sqft_patio']]"
   ]
  },
  {
   "cell_type": "code",
   "execution_count": 22,
   "metadata": {
    "ExecuteTime": {
     "end_time": "2022-12-07T16:38:44.062061Z",
     "start_time": "2022-12-07T16:38:44.037607Z"
    },
    "scrolled": true
   },
   "outputs": [
    {
     "data": {
      "text/html": [
       "<table class=\"simpletable\">\n",
       "<caption>OLS Regression Results</caption>\n",
       "<tr>\n",
       "  <th>Dep. Variable:</th>          <td>price</td>      <th>  R-squared:         </th>  <td>   0.377</td>  \n",
       "</tr>\n",
       "<tr>\n",
       "  <th>Model:</th>                   <td>OLS</td>       <th>  Adj. R-squared:    </th>  <td>   0.377</td>  \n",
       "</tr>\n",
       "<tr>\n",
       "  <th>Method:</th>             <td>Least Squares</td>  <th>  F-statistic:       </th>  <td>   6064.</td>  \n",
       "</tr>\n",
       "<tr>\n",
       "  <th>Date:</th>             <td>Wed, 07 Dec 2022</td> <th>  Prob (F-statistic):</th>   <td>  0.00</td>   \n",
       "</tr>\n",
       "<tr>\n",
       "  <th>Time:</th>                 <td>11:38:44</td>     <th>  Log-Likelihood:    </th> <td>-4.4832e+05</td>\n",
       "</tr>\n",
       "<tr>\n",
       "  <th>No. Observations:</th>      <td> 30111</td>      <th>  AIC:               </th>  <td>8.966e+05</td> \n",
       "</tr>\n",
       "<tr>\n",
       "  <th>Df Residuals:</th>          <td> 30107</td>      <th>  BIC:               </th>  <td>8.967e+05</td> \n",
       "</tr>\n",
       "<tr>\n",
       "  <th>Df Model:</th>              <td>     3</td>      <th>                     </th>      <td> </td>     \n",
       "</tr>\n",
       "<tr>\n",
       "  <th>Covariance Type:</th>      <td>nonrobust</td>    <th>                     </th>      <td> </td>     \n",
       "</tr>\n",
       "</table>\n",
       "<table class=\"simpletable\">\n",
       "<tr>\n",
       "       <td></td>          <th>coef</th>     <th>std err</th>      <th>t</th>      <th>P>|t|</th>  <th>[0.025</th>    <th>0.975]</th>  \n",
       "</tr>\n",
       "<tr>\n",
       "  <th>const</th>       <td>-7.759e+04</td> <td> 9751.208</td> <td>   -7.956</td> <td> 0.000</td> <td>-9.67e+04</td> <td>-5.85e+04</td>\n",
       "</tr>\n",
       "<tr>\n",
       "  <th>sqft_living</th> <td>  528.9107</td> <td>    4.575</td> <td>  115.605</td> <td> 0.000</td> <td>  519.943</td> <td>  537.878</td>\n",
       "</tr>\n",
       "<tr>\n",
       "  <th>sqft_lot</th>    <td>    0.0464</td> <td>    0.069</td> <td>    0.672</td> <td> 0.502</td> <td>   -0.089</td> <td>    0.182</td>\n",
       "</tr>\n",
       "<tr>\n",
       "  <th>sqft_patio</th>  <td>  312.7786</td> <td>   18.239</td> <td>   17.149</td> <td> 0.000</td> <td>  277.029</td> <td>  348.528</td>\n",
       "</tr>\n",
       "</table>\n",
       "<table class=\"simpletable\">\n",
       "<tr>\n",
       "  <th>Omnibus:</th>       <td>43140.750</td> <th>  Durbin-Watson:     </th>   <td>   1.862</td>  \n",
       "</tr>\n",
       "<tr>\n",
       "  <th>Prob(Omnibus):</th>  <td> 0.000</td>   <th>  Jarque-Bera (JB):  </th> <td>45972551.037</td>\n",
       "</tr>\n",
       "<tr>\n",
       "  <th>Skew:</th>           <td> 8.106</td>   <th>  Prob(JB):          </th>   <td>    0.00</td>  \n",
       "</tr>\n",
       "<tr>\n",
       "  <th>Kurtosis:</th>       <td>193.734</td>  <th>  Cond. No.          </th>   <td>1.49e+05</td>  \n",
       "</tr>\n",
       "</table><br/><br/>Notes:<br/>[1] Standard Errors assume that the covariance matrix of the errors is correctly specified.<br/>[2] The condition number is large, 1.49e+05. This might indicate that there are<br/>strong multicollinearity or other numerical problems."
      ],
      "text/plain": [
       "<class 'statsmodels.iolib.summary.Summary'>\n",
       "\"\"\"\n",
       "                            OLS Regression Results                            \n",
       "==============================================================================\n",
       "Dep. Variable:                  price   R-squared:                       0.377\n",
       "Model:                            OLS   Adj. R-squared:                  0.377\n",
       "Method:                 Least Squares   F-statistic:                     6064.\n",
       "Date:                Wed, 07 Dec 2022   Prob (F-statistic):               0.00\n",
       "Time:                        11:38:44   Log-Likelihood:            -4.4832e+05\n",
       "No. Observations:               30111   AIC:                         8.966e+05\n",
       "Df Residuals:                   30107   BIC:                         8.967e+05\n",
       "Df Model:                           3                                         \n",
       "Covariance Type:            nonrobust                                         \n",
       "===============================================================================\n",
       "                  coef    std err          t      P>|t|      [0.025      0.975]\n",
       "-------------------------------------------------------------------------------\n",
       "const       -7.759e+04   9751.208     -7.956      0.000   -9.67e+04   -5.85e+04\n",
       "sqft_living   528.9107      4.575    115.605      0.000     519.943     537.878\n",
       "sqft_lot        0.0464      0.069      0.672      0.502      -0.089       0.182\n",
       "sqft_patio    312.7786     18.239     17.149      0.000     277.029     348.528\n",
       "==============================================================================\n",
       "Omnibus:                    43140.750   Durbin-Watson:                   1.862\n",
       "Prob(Omnibus):                  0.000   Jarque-Bera (JB):         45972551.037\n",
       "Skew:                           8.106   Prob(JB):                         0.00\n",
       "Kurtosis:                     193.734   Cond. No.                     1.49e+05\n",
       "==============================================================================\n",
       "\n",
       "Notes:\n",
       "[1] Standard Errors assume that the covariance matrix of the errors is correctly specified.\n",
       "[2] The condition number is large, 1.49e+05. This might indicate that there are\n",
       "strong multicollinearity or other numerical problems.\n",
       "\"\"\""
      ]
     },
     "execution_count": 22,
     "metadata": {},
     "output_type": "execute_result"
    }
   ],
   "source": [
    "model_base = sm.OLS(y, sm.add_constant(X))\n",
    "results_base = model_base.fit()\n",
    "results_base.summary()"
   ]
  },
  {
   "cell_type": "code",
   "execution_count": 23,
   "metadata": {
    "ExecuteTime": {
     "end_time": "2022-12-07T16:38:44.066024Z",
     "start_time": "2022-12-07T16:38:44.064184Z"
    }
   },
   "outputs": [],
   "source": [
    "#need to create markdown and comment on this here!"
   ]
  },
  {
   "cell_type": "markdown",
   "metadata": {},
   "source": [
    "### EDA - Log Scaled OLS Model"
   ]
  },
  {
   "cell_type": "code",
   "execution_count": 24,
   "metadata": {
    "ExecuteTime": {
     "end_time": "2022-12-07T16:38:44.095237Z",
     "start_time": "2022-12-07T16:38:44.067385Z"
    }
   },
   "outputs": [
    {
     "data": {
      "text/html": [
       "<table class=\"simpletable\">\n",
       "<caption>OLS Regression Results</caption>\n",
       "<tr>\n",
       "  <th>Dep. Variable:</th>          <td>price</td>      <th>  R-squared:         </th> <td>   0.392</td> \n",
       "</tr>\n",
       "<tr>\n",
       "  <th>Model:</th>                   <td>OLS</td>       <th>  Adj. R-squared:    </th> <td>   0.392</td> \n",
       "</tr>\n",
       "<tr>\n",
       "  <th>Method:</th>             <td>Least Squares</td>  <th>  F-statistic:       </th> <td>   6462.</td> \n",
       "</tr>\n",
       "<tr>\n",
       "  <th>Date:</th>             <td>Wed, 07 Dec 2022</td> <th>  Prob (F-statistic):</th>  <td>  0.00</td>  \n",
       "</tr>\n",
       "<tr>\n",
       "  <th>Time:</th>                 <td>11:38:44</td>     <th>  Log-Likelihood:    </th> <td> -18944.</td> \n",
       "</tr>\n",
       "<tr>\n",
       "  <th>No. Observations:</th>      <td> 30111</td>      <th>  AIC:               </th> <td>3.790e+04</td>\n",
       "</tr>\n",
       "<tr>\n",
       "  <th>Df Residuals:</th>          <td> 30107</td>      <th>  BIC:               </th> <td>3.793e+04</td>\n",
       "</tr>\n",
       "<tr>\n",
       "  <th>Df Model:</th>              <td>     3</td>      <th>                     </th>     <td> </td>    \n",
       "</tr>\n",
       "<tr>\n",
       "  <th>Covariance Type:</th>      <td>nonrobust</td>    <th>                     </th>     <td> </td>    \n",
       "</tr>\n",
       "</table>\n",
       "<table class=\"simpletable\">\n",
       "<tr>\n",
       "       <td></td>          <th>coef</th>     <th>std err</th>      <th>t</th>      <th>P>|t|</th>  <th>[0.025</th>    <th>0.975]</th>  \n",
       "</tr>\n",
       "<tr>\n",
       "  <th>const</th>       <td>   12.9485</td> <td>    0.006</td> <td> 2070.495</td> <td> 0.000</td> <td>   12.936</td> <td>   12.961</td>\n",
       "</tr>\n",
       "<tr>\n",
       "  <th>sqft_living</th> <td>    0.0004</td> <td> 2.93e-06</td> <td>  120.629</td> <td> 0.000</td> <td>    0.000</td> <td>    0.000</td>\n",
       "</tr>\n",
       "<tr>\n",
       "  <th>sqft_lot</th>    <td> 6.312e-09</td> <td> 4.43e-08</td> <td>    0.143</td> <td> 0.887</td> <td>-8.05e-08</td> <td> 9.31e-08</td>\n",
       "</tr>\n",
       "<tr>\n",
       "  <th>sqft_patio</th>  <td>    0.0002</td> <td> 1.17e-05</td> <td>   15.311</td> <td> 0.000</td> <td>    0.000</td> <td>    0.000</td>\n",
       "</tr>\n",
       "</table>\n",
       "<table class=\"simpletable\">\n",
       "<tr>\n",
       "  <th>Omnibus:</th>       <td>5961.142</td> <th>  Durbin-Watson:     </th> <td>   1.971</td> \n",
       "</tr>\n",
       "<tr>\n",
       "  <th>Prob(Omnibus):</th>  <td> 0.000</td>  <th>  Jarque-Bera (JB):  </th> <td>50165.584</td>\n",
       "</tr>\n",
       "<tr>\n",
       "  <th>Skew:</th>           <td>-0.718</td>  <th>  Prob(JB):          </th> <td>    0.00</td> \n",
       "</tr>\n",
       "<tr>\n",
       "  <th>Kurtosis:</th>       <td> 9.158</td>  <th>  Cond. No.          </th> <td>1.49e+05</td> \n",
       "</tr>\n",
       "</table><br/><br/>Notes:<br/>[1] Standard Errors assume that the covariance matrix of the errors is correctly specified.<br/>[2] The condition number is large, 1.49e+05. This might indicate that there are<br/>strong multicollinearity or other numerical problems."
      ],
      "text/plain": [
       "<class 'statsmodels.iolib.summary.Summary'>\n",
       "\"\"\"\n",
       "                            OLS Regression Results                            \n",
       "==============================================================================\n",
       "Dep. Variable:                  price   R-squared:                       0.392\n",
       "Model:                            OLS   Adj. R-squared:                  0.392\n",
       "Method:                 Least Squares   F-statistic:                     6462.\n",
       "Date:                Wed, 07 Dec 2022   Prob (F-statistic):               0.00\n",
       "Time:                        11:38:44   Log-Likelihood:                -18944.\n",
       "No. Observations:               30111   AIC:                         3.790e+04\n",
       "Df Residuals:                   30107   BIC:                         3.793e+04\n",
       "Df Model:                           3                                         \n",
       "Covariance Type:            nonrobust                                         \n",
       "===============================================================================\n",
       "                  coef    std err          t      P>|t|      [0.025      0.975]\n",
       "-------------------------------------------------------------------------------\n",
       "const          12.9485      0.006   2070.495      0.000      12.936      12.961\n",
       "sqft_living     0.0004   2.93e-06    120.629      0.000       0.000       0.000\n",
       "sqft_lot     6.312e-09   4.43e-08      0.143      0.887   -8.05e-08    9.31e-08\n",
       "sqft_patio      0.0002   1.17e-05     15.311      0.000       0.000       0.000\n",
       "==============================================================================\n",
       "Omnibus:                     5961.142   Durbin-Watson:                   1.971\n",
       "Prob(Omnibus):                  0.000   Jarque-Bera (JB):            50165.584\n",
       "Skew:                          -0.718   Prob(JB):                         0.00\n",
       "Kurtosis:                       9.158   Cond. No.                     1.49e+05\n",
       "==============================================================================\n",
       "\n",
       "Notes:\n",
       "[1] Standard Errors assume that the covariance matrix of the errors is correctly specified.\n",
       "[2] The condition number is large, 1.49e+05. This might indicate that there are\n",
       "strong multicollinearity or other numerical problems.\n",
       "\"\"\""
      ]
     },
     "execution_count": 24,
     "metadata": {},
     "output_type": "execute_result"
    }
   ],
   "source": [
    "#logscaled target model\n",
    "model_yscld = sm.OLS(y_scld, sm.add_constant(X))\n",
    "results_yscld_base = model_yscld.fit()\n",
    "results_yscld_base.summary()"
   ]
  },
  {
   "cell_type": "code",
   "execution_count": 25,
   "metadata": {
    "ExecuteTime": {
     "end_time": "2022-12-07T16:38:44.098495Z",
     "start_time": "2022-12-07T16:38:44.096568Z"
    }
   },
   "outputs": [],
   "source": [
    "#need to create markdown and comment on this here!"
   ]
  },
  {
   "cell_type": "markdown",
   "metadata": {},
   "source": [
    "### EDA - Log Scaled OLS\n",
    "(dropping columns to address multicolinearity)"
   ]
  },
  {
   "cell_type": "code",
   "execution_count": 26,
   "metadata": {
    "ExecuteTime": {
     "end_time": "2022-12-07T16:38:44.102636Z",
     "start_time": "2022-12-07T16:38:44.099704Z"
    }
   },
   "outputs": [],
   "source": [
    "X_new = df[['sqft_living']]"
   ]
  },
  {
   "cell_type": "code",
   "execution_count": 27,
   "metadata": {
    "ExecuteTime": {
     "end_time": "2022-12-07T16:38:44.121008Z",
     "start_time": "2022-12-07T16:38:44.103763Z"
    }
   },
   "outputs": [
    {
     "data": {
      "text/html": [
       "<table class=\"simpletable\">\n",
       "<caption>OLS Regression Results</caption>\n",
       "<tr>\n",
       "  <th>Dep. Variable:</th>          <td>price</td>      <th>  R-squared:         </th> <td>   0.387</td> \n",
       "</tr>\n",
       "<tr>\n",
       "  <th>Model:</th>                   <td>OLS</td>       <th>  Adj. R-squared:    </th> <td>   0.387</td> \n",
       "</tr>\n",
       "<tr>\n",
       "  <th>Method:</th>             <td>Least Squares</td>  <th>  F-statistic:       </th> <td>1.900e+04</td>\n",
       "</tr>\n",
       "<tr>\n",
       "  <th>Date:</th>             <td>Wed, 07 Dec 2022</td> <th>  Prob (F-statistic):</th>  <td>  0.00</td>  \n",
       "</tr>\n",
       "<tr>\n",
       "  <th>Time:</th>                 <td>11:38:44</td>     <th>  Log-Likelihood:    </th> <td> -19063.</td> \n",
       "</tr>\n",
       "<tr>\n",
       "  <th>No. Observations:</th>      <td> 30111</td>      <th>  AIC:               </th> <td>3.813e+04</td>\n",
       "</tr>\n",
       "<tr>\n",
       "  <th>Df Residuals:</th>          <td> 30109</td>      <th>  BIC:               </th> <td>3.815e+04</td>\n",
       "</tr>\n",
       "<tr>\n",
       "  <th>Df Model:</th>              <td>     1</td>      <th>                     </th>     <td> </td>    \n",
       "</tr>\n",
       "<tr>\n",
       "  <th>Covariance Type:</th>      <td>nonrobust</td>    <th>                     </th>     <td> </td>    \n",
       "</tr>\n",
       "</table>\n",
       "<table class=\"simpletable\">\n",
       "<tr>\n",
       "       <td></td>          <th>coef</th>     <th>std err</th>      <th>t</th>      <th>P>|t|</th>  <th>[0.025</th>    <th>0.975]</th>  \n",
       "</tr>\n",
       "<tr>\n",
       "  <th>const</th>       <td>   12.9496</td> <td>    0.006</td> <td> 2062.757</td> <td> 0.000</td> <td>   12.937</td> <td>   12.962</td>\n",
       "</tr>\n",
       "<tr>\n",
       "  <th>sqft_living</th> <td>    0.0004</td> <td>  2.7e-06</td> <td>  137.836</td> <td> 0.000</td> <td>    0.000</td> <td>    0.000</td>\n",
       "</tr>\n",
       "</table>\n",
       "<table class=\"simpletable\">\n",
       "<tr>\n",
       "  <th>Omnibus:</th>       <td>5867.888</td> <th>  Durbin-Watson:     </th> <td>   1.972</td> \n",
       "</tr>\n",
       "<tr>\n",
       "  <th>Prob(Omnibus):</th>  <td> 0.000</td>  <th>  Jarque-Bera (JB):  </th> <td>49915.366</td>\n",
       "</tr>\n",
       "<tr>\n",
       "  <th>Skew:</th>           <td>-0.700</td>  <th>  Prob(JB):          </th> <td>    0.00</td> \n",
       "</tr>\n",
       "<tr>\n",
       "  <th>Kurtosis:</th>       <td> 9.150</td>  <th>  Cond. No.          </th> <td>5.56e+03</td> \n",
       "</tr>\n",
       "</table><br/><br/>Notes:<br/>[1] Standard Errors assume that the covariance matrix of the errors is correctly specified.<br/>[2] The condition number is large, 5.56e+03. This might indicate that there are<br/>strong multicollinearity or other numerical problems."
      ],
      "text/plain": [
       "<class 'statsmodels.iolib.summary.Summary'>\n",
       "\"\"\"\n",
       "                            OLS Regression Results                            \n",
       "==============================================================================\n",
       "Dep. Variable:                  price   R-squared:                       0.387\n",
       "Model:                            OLS   Adj. R-squared:                  0.387\n",
       "Method:                 Least Squares   F-statistic:                 1.900e+04\n",
       "Date:                Wed, 07 Dec 2022   Prob (F-statistic):               0.00\n",
       "Time:                        11:38:44   Log-Likelihood:                -19063.\n",
       "No. Observations:               30111   AIC:                         3.813e+04\n",
       "Df Residuals:                   30109   BIC:                         3.815e+04\n",
       "Df Model:                           1                                         \n",
       "Covariance Type:            nonrobust                                         \n",
       "===============================================================================\n",
       "                  coef    std err          t      P>|t|      [0.025      0.975]\n",
       "-------------------------------------------------------------------------------\n",
       "const          12.9496      0.006   2062.757      0.000      12.937      12.962\n",
       "sqft_living     0.0004    2.7e-06    137.836      0.000       0.000       0.000\n",
       "==============================================================================\n",
       "Omnibus:                     5867.888   Durbin-Watson:                   1.972\n",
       "Prob(Omnibus):                  0.000   Jarque-Bera (JB):            49915.366\n",
       "Skew:                          -0.700   Prob(JB):                         0.00\n",
       "Kurtosis:                       9.150   Cond. No.                     5.56e+03\n",
       "==============================================================================\n",
       "\n",
       "Notes:\n",
       "[1] Standard Errors assume that the covariance matrix of the errors is correctly specified.\n",
       "[2] The condition number is large, 5.56e+03. This might indicate that there are\n",
       "strong multicollinearity or other numerical problems.\n",
       "\"\"\""
      ]
     },
     "execution_count": 27,
     "metadata": {},
     "output_type": "execute_result"
    }
   ],
   "source": [
    "#logscaled target model\n",
    "newmodel_yscld = sm.OLS(y_scld, sm.add_constant(X_new))\n",
    "newresults_yscld_base = newmodel_yscld.fit()\n",
    "newresults_yscld_base.summary()"
   ]
  },
  {
   "cell_type": "markdown",
   "metadata": {},
   "source": [
    "### EDA - OneHotEncoding"
   ]
  },
  {
   "cell_type": "code",
   "execution_count": 28,
   "metadata": {
    "ExecuteTime": {
     "end_time": "2022-12-07T16:38:44.124630Z",
     "start_time": "2022-12-07T16:38:44.122721Z"
    }
   },
   "outputs": [],
   "source": [
    "ohe = OneHotEncoder(drop='first')"
   ]
  },
  {
   "cell_type": "code",
   "execution_count": 29,
   "metadata": {
    "ExecuteTime": {
     "end_time": "2022-12-07T16:38:44.165869Z",
     "start_time": "2022-12-07T16:38:44.126059Z"
    }
   },
   "outputs": [
    {
     "data": {
      "text/html": [
       "<div>\n",
       "<style scoped>\n",
       "    .dataframe tbody tr th:only-of-type {\n",
       "        vertical-align: middle;\n",
       "    }\n",
       "\n",
       "    .dataframe tbody tr th {\n",
       "        vertical-align: top;\n",
       "    }\n",
       "\n",
       "    .dataframe thead th {\n",
       "        text-align: right;\n",
       "    }\n",
       "</style>\n",
       "<table border=\"1\" class=\"dataframe\">\n",
       "  <thead>\n",
       "    <tr style=\"text-align: right;\">\n",
       "      <th></th>\n",
       "      <th>x0_0.5</th>\n",
       "      <th>x0_1.0</th>\n",
       "      <th>x0_1.5</th>\n",
       "      <th>x0_2.0</th>\n",
       "      <th>x0_2.5</th>\n",
       "      <th>x0_3.0</th>\n",
       "      <th>x0_3.5</th>\n",
       "      <th>x0_4.0</th>\n",
       "      <th>x0_4.5</th>\n",
       "      <th>x0_5.0</th>\n",
       "      <th>...</th>\n",
       "      <th>x2_Fair</th>\n",
       "      <th>x2_Good</th>\n",
       "      <th>x2_Poor</th>\n",
       "      <th>x2_Very Good</th>\n",
       "      <th>x3_Electricity/Solar</th>\n",
       "      <th>x3_Gas</th>\n",
       "      <th>x3_Gas/Solar</th>\n",
       "      <th>x3_Oil</th>\n",
       "      <th>x3_Oil/Solar</th>\n",
       "      <th>x3_Other</th>\n",
       "    </tr>\n",
       "  </thead>\n",
       "  <tbody>\n",
       "    <tr>\n",
       "      <th>0</th>\n",
       "      <td>0.0</td>\n",
       "      <td>1.0</td>\n",
       "      <td>0.0</td>\n",
       "      <td>0.0</td>\n",
       "      <td>0.0</td>\n",
       "      <td>0.0</td>\n",
       "      <td>0.0</td>\n",
       "      <td>0.0</td>\n",
       "      <td>0.0</td>\n",
       "      <td>0.0</td>\n",
       "      <td>...</td>\n",
       "      <td>0.0</td>\n",
       "      <td>1.0</td>\n",
       "      <td>0.0</td>\n",
       "      <td>0.0</td>\n",
       "      <td>0.0</td>\n",
       "      <td>1.0</td>\n",
       "      <td>0.0</td>\n",
       "      <td>0.0</td>\n",
       "      <td>0.0</td>\n",
       "      <td>0.0</td>\n",
       "    </tr>\n",
       "    <tr>\n",
       "      <th>1</th>\n",
       "      <td>0.0</td>\n",
       "      <td>0.0</td>\n",
       "      <td>0.0</td>\n",
       "      <td>0.0</td>\n",
       "      <td>1.0</td>\n",
       "      <td>0.0</td>\n",
       "      <td>0.0</td>\n",
       "      <td>0.0</td>\n",
       "      <td>0.0</td>\n",
       "      <td>0.0</td>\n",
       "      <td>...</td>\n",
       "      <td>0.0</td>\n",
       "      <td>0.0</td>\n",
       "      <td>0.0</td>\n",
       "      <td>0.0</td>\n",
       "      <td>0.0</td>\n",
       "      <td>0.0</td>\n",
       "      <td>0.0</td>\n",
       "      <td>1.0</td>\n",
       "      <td>0.0</td>\n",
       "      <td>0.0</td>\n",
       "    </tr>\n",
       "    <tr>\n",
       "      <th>2</th>\n",
       "      <td>0.0</td>\n",
       "      <td>0.0</td>\n",
       "      <td>0.0</td>\n",
       "      <td>1.0</td>\n",
       "      <td>0.0</td>\n",
       "      <td>0.0</td>\n",
       "      <td>0.0</td>\n",
       "      <td>0.0</td>\n",
       "      <td>0.0</td>\n",
       "      <td>0.0</td>\n",
       "      <td>...</td>\n",
       "      <td>0.0</td>\n",
       "      <td>0.0</td>\n",
       "      <td>0.0</td>\n",
       "      <td>0.0</td>\n",
       "      <td>0.0</td>\n",
       "      <td>1.0</td>\n",
       "      <td>0.0</td>\n",
       "      <td>0.0</td>\n",
       "      <td>0.0</td>\n",
       "      <td>0.0</td>\n",
       "    </tr>\n",
       "    <tr>\n",
       "      <th>3</th>\n",
       "      <td>0.0</td>\n",
       "      <td>0.0</td>\n",
       "      <td>0.0</td>\n",
       "      <td>0.0</td>\n",
       "      <td>0.0</td>\n",
       "      <td>1.0</td>\n",
       "      <td>0.0</td>\n",
       "      <td>0.0</td>\n",
       "      <td>0.0</td>\n",
       "      <td>0.0</td>\n",
       "      <td>...</td>\n",
       "      <td>0.0</td>\n",
       "      <td>0.0</td>\n",
       "      <td>0.0</td>\n",
       "      <td>0.0</td>\n",
       "      <td>0.0</td>\n",
       "      <td>1.0</td>\n",
       "      <td>0.0</td>\n",
       "      <td>0.0</td>\n",
       "      <td>0.0</td>\n",
       "      <td>0.0</td>\n",
       "    </tr>\n",
       "    <tr>\n",
       "      <th>4</th>\n",
       "      <td>0.0</td>\n",
       "      <td>0.0</td>\n",
       "      <td>0.0</td>\n",
       "      <td>1.0</td>\n",
       "      <td>0.0</td>\n",
       "      <td>0.0</td>\n",
       "      <td>0.0</td>\n",
       "      <td>0.0</td>\n",
       "      <td>0.0</td>\n",
       "      <td>0.0</td>\n",
       "      <td>...</td>\n",
       "      <td>0.0</td>\n",
       "      <td>0.0</td>\n",
       "      <td>0.0</td>\n",
       "      <td>0.0</td>\n",
       "      <td>0.0</td>\n",
       "      <td>0.0</td>\n",
       "      <td>0.0</td>\n",
       "      <td>0.0</td>\n",
       "      <td>0.0</td>\n",
       "      <td>0.0</td>\n",
       "    </tr>\n",
       "  </tbody>\n",
       "</table>\n",
       "<p>5 rows × 42 columns</p>\n",
       "</div>"
      ],
      "text/plain": [
       "   x0_0.5  x0_1.0  x0_1.5  x0_2.0  x0_2.5  x0_3.0  x0_3.5  x0_4.0  x0_4.5  \\\n",
       "0     0.0     1.0     0.0     0.0     0.0     0.0     0.0     0.0     0.0   \n",
       "1     0.0     0.0     0.0     0.0     1.0     0.0     0.0     0.0     0.0   \n",
       "2     0.0     0.0     0.0     1.0     0.0     0.0     0.0     0.0     0.0   \n",
       "3     0.0     0.0     0.0     0.0     0.0     1.0     0.0     0.0     0.0   \n",
       "4     0.0     0.0     0.0     1.0     0.0     0.0     0.0     0.0     0.0   \n",
       "\n",
       "   x0_5.0  ...  x2_Fair  x2_Good  x2_Poor  x2_Very Good  x3_Electricity/Solar  \\\n",
       "0     0.0  ...      0.0      1.0      0.0           0.0                   0.0   \n",
       "1     0.0  ...      0.0      0.0      0.0           0.0                   0.0   \n",
       "2     0.0  ...      0.0      0.0      0.0           0.0                   0.0   \n",
       "3     0.0  ...      0.0      0.0      0.0           0.0                   0.0   \n",
       "4     0.0  ...      0.0      0.0      0.0           0.0                   0.0   \n",
       "\n",
       "   x3_Gas  x3_Gas/Solar  x3_Oil  x3_Oil/Solar  x3_Other  \n",
       "0     1.0           0.0     0.0           0.0       0.0  \n",
       "1     0.0           0.0     1.0           0.0       0.0  \n",
       "2     1.0           0.0     0.0           0.0       0.0  \n",
       "3     1.0           0.0     0.0           0.0       0.0  \n",
       "4     0.0           0.0     0.0           0.0       0.0  \n",
       "\n",
       "[5 rows x 42 columns]"
      ]
     },
     "execution_count": 29,
     "metadata": {},
     "output_type": "execute_result"
    }
   ],
   "source": [
    "#0:number of baths\n",
    "#1:number of bedrooms\n",
    "#2:condition\n",
    "#3:heat source\n",
    "ohe_cols = ['bathrooms', 'bedrooms', 'condition', 'heat_source']\n",
    "\n",
    "ohe.fit(df[ohe_cols])\n",
    "ohe_all = pd.DataFrame(ohe.transform(df[ohe_cols]).todense(),\n",
    "                        columns=ohe.get_feature_names())\n",
    "\n",
    "\n",
    "ohe_all.head()\n"
   ]
  },
  {
   "cell_type": "markdown",
   "metadata": {},
   "source": [
    "Concatenate"
   ]
  },
  {
   "cell_type": "code",
   "execution_count": 30,
   "metadata": {
    "ExecuteTime": {
     "end_time": "2022-12-07T16:38:44.173798Z",
     "start_time": "2022-12-07T16:38:44.166955Z"
    }
   },
   "outputs": [],
   "source": [
    "X_cat = pd.concat([X_new,ohe_all], axis=1)"
   ]
  },
  {
   "cell_type": "code",
   "execution_count": 31,
   "metadata": {
    "ExecuteTime": {
     "end_time": "2022-12-07T16:38:44.185000Z",
     "start_time": "2022-12-07T16:38:44.174955Z"
    }
   },
   "outputs": [
    {
     "data": {
      "text/html": [
       "<div>\n",
       "<style scoped>\n",
       "    .dataframe tbody tr th:only-of-type {\n",
       "        vertical-align: middle;\n",
       "    }\n",
       "\n",
       "    .dataframe tbody tr th {\n",
       "        vertical-align: top;\n",
       "    }\n",
       "\n",
       "    .dataframe thead th {\n",
       "        text-align: right;\n",
       "    }\n",
       "</style>\n",
       "<table border=\"1\" class=\"dataframe\">\n",
       "  <thead>\n",
       "    <tr style=\"text-align: right;\">\n",
       "      <th></th>\n",
       "      <th>sqft_living</th>\n",
       "      <th>x0_0.5</th>\n",
       "      <th>x0_1.0</th>\n",
       "      <th>x0_1.5</th>\n",
       "      <th>x0_2.0</th>\n",
       "      <th>x0_2.5</th>\n",
       "      <th>x0_3.0</th>\n",
       "      <th>x0_3.5</th>\n",
       "      <th>x0_4.0</th>\n",
       "      <th>x0_4.5</th>\n",
       "      <th>...</th>\n",
       "      <th>x2_Fair</th>\n",
       "      <th>x2_Good</th>\n",
       "      <th>x2_Poor</th>\n",
       "      <th>x2_Very Good</th>\n",
       "      <th>x3_Electricity/Solar</th>\n",
       "      <th>x3_Gas</th>\n",
       "      <th>x3_Gas/Solar</th>\n",
       "      <th>x3_Oil</th>\n",
       "      <th>x3_Oil/Solar</th>\n",
       "      <th>x3_Other</th>\n",
       "    </tr>\n",
       "  </thead>\n",
       "  <tbody>\n",
       "    <tr>\n",
       "      <th>0</th>\n",
       "      <td>1180</td>\n",
       "      <td>0.0</td>\n",
       "      <td>1.0</td>\n",
       "      <td>0.0</td>\n",
       "      <td>0.0</td>\n",
       "      <td>0.0</td>\n",
       "      <td>0.0</td>\n",
       "      <td>0.0</td>\n",
       "      <td>0.0</td>\n",
       "      <td>0.0</td>\n",
       "      <td>...</td>\n",
       "      <td>0.0</td>\n",
       "      <td>1.0</td>\n",
       "      <td>0.0</td>\n",
       "      <td>0.0</td>\n",
       "      <td>0.0</td>\n",
       "      <td>1.0</td>\n",
       "      <td>0.0</td>\n",
       "      <td>0.0</td>\n",
       "      <td>0.0</td>\n",
       "      <td>0.0</td>\n",
       "    </tr>\n",
       "    <tr>\n",
       "      <th>1</th>\n",
       "      <td>2770</td>\n",
       "      <td>0.0</td>\n",
       "      <td>0.0</td>\n",
       "      <td>0.0</td>\n",
       "      <td>0.0</td>\n",
       "      <td>1.0</td>\n",
       "      <td>0.0</td>\n",
       "      <td>0.0</td>\n",
       "      <td>0.0</td>\n",
       "      <td>0.0</td>\n",
       "      <td>...</td>\n",
       "      <td>0.0</td>\n",
       "      <td>0.0</td>\n",
       "      <td>0.0</td>\n",
       "      <td>0.0</td>\n",
       "      <td>0.0</td>\n",
       "      <td>0.0</td>\n",
       "      <td>0.0</td>\n",
       "      <td>1.0</td>\n",
       "      <td>0.0</td>\n",
       "      <td>0.0</td>\n",
       "    </tr>\n",
       "  </tbody>\n",
       "</table>\n",
       "<p>2 rows × 43 columns</p>\n",
       "</div>"
      ],
      "text/plain": [
       "   sqft_living  x0_0.5  x0_1.0  x0_1.5  x0_2.0  x0_2.5  x0_3.0  x0_3.5  \\\n",
       "0         1180     0.0     1.0     0.0     0.0     0.0     0.0     0.0   \n",
       "1         2770     0.0     0.0     0.0     0.0     1.0     0.0     0.0   \n",
       "\n",
       "   x0_4.0  x0_4.5  ...  x2_Fair  x2_Good  x2_Poor  x2_Very Good  \\\n",
       "0     0.0     0.0  ...      0.0      1.0      0.0           0.0   \n",
       "1     0.0     0.0  ...      0.0      0.0      0.0           0.0   \n",
       "\n",
       "   x3_Electricity/Solar  x3_Gas  x3_Gas/Solar  x3_Oil  x3_Oil/Solar  x3_Other  \n",
       "0                   0.0     1.0           0.0     0.0           0.0       0.0  \n",
       "1                   0.0     0.0           0.0     1.0           0.0       0.0  \n",
       "\n",
       "[2 rows x 43 columns]"
      ]
     },
     "execution_count": 31,
     "metadata": {},
     "output_type": "execute_result"
    }
   ],
   "source": [
    "X_cat.head(2)"
   ]
  },
  {
   "cell_type": "code",
   "execution_count": 32,
   "metadata": {
    "ExecuteTime": {
     "end_time": "2022-12-07T16:38:44.419378Z",
     "start_time": "2022-12-07T16:38:44.185849Z"
    }
   },
   "outputs": [
    {
     "data": {
      "text/html": [
       "<table class=\"simpletable\">\n",
       "<caption>OLS Regression Results</caption>\n",
       "<tr>\n",
       "  <th>Dep. Variable:</th>          <td>price</td>      <th>  R-squared:         </th> <td>   0.407</td> \n",
       "</tr>\n",
       "<tr>\n",
       "  <th>Model:</th>                   <td>OLS</td>       <th>  Adj. R-squared:    </th> <td>   0.406</td> \n",
       "</tr>\n",
       "<tr>\n",
       "  <th>Method:</th>             <td>Least Squares</td>  <th>  F-statistic:       </th> <td>   480.5</td> \n",
       "</tr>\n",
       "<tr>\n",
       "  <th>Date:</th>             <td>Wed, 07 Dec 2022</td> <th>  Prob (F-statistic):</th>  <td>  0.00</td>  \n",
       "</tr>\n",
       "<tr>\n",
       "  <th>Time:</th>                 <td>11:38:44</td>     <th>  Log-Likelihood:    </th> <td> -18554.</td> \n",
       "</tr>\n",
       "<tr>\n",
       "  <th>No. Observations:</th>      <td> 30111</td>      <th>  AIC:               </th> <td>3.720e+04</td>\n",
       "</tr>\n",
       "<tr>\n",
       "  <th>Df Residuals:</th>          <td> 30067</td>      <th>  BIC:               </th> <td>3.756e+04</td>\n",
       "</tr>\n",
       "<tr>\n",
       "  <th>Df Model:</th>              <td>    43</td>      <th>                     </th>     <td> </td>    \n",
       "</tr>\n",
       "<tr>\n",
       "  <th>Covariance Type:</th>      <td>nonrobust</td>    <th>                     </th>     <td> </td>    \n",
       "</tr>\n",
       "</table>\n",
       "<table class=\"simpletable\">\n",
       "<tr>\n",
       "            <td></td>              <th>coef</th>     <th>std err</th>      <th>t</th>      <th>P>|t|</th>  <th>[0.025</th>    <th>0.975]</th>  \n",
       "</tr>\n",
       "<tr>\n",
       "  <th>const</th>                <td>   12.9466</td> <td>    0.092</td> <td>  141.468</td> <td> 0.000</td> <td>   12.767</td> <td>   13.126</td>\n",
       "</tr>\n",
       "<tr>\n",
       "  <th>sqft_living</th>          <td>    0.0004</td> <td> 4.76e-06</td> <td>   75.558</td> <td> 0.000</td> <td>    0.000</td> <td>    0.000</td>\n",
       "</tr>\n",
       "<tr>\n",
       "  <th>x0_0.5</th>               <td>    0.7767</td> <td>    0.235</td> <td>    3.312</td> <td> 0.001</td> <td>    0.317</td> <td>    1.236</td>\n",
       "</tr>\n",
       "<tr>\n",
       "  <th>x0_1.0</th>               <td>    0.5653</td> <td>    0.121</td> <td>    4.658</td> <td> 0.000</td> <td>    0.327</td> <td>    0.803</td>\n",
       "</tr>\n",
       "<tr>\n",
       "  <th>x0_1.5</th>               <td>    0.5939</td> <td>    0.122</td> <td>    4.876</td> <td> 0.000</td> <td>    0.355</td> <td>    0.833</td>\n",
       "</tr>\n",
       "<tr>\n",
       "  <th>x0_2.0</th>               <td>    0.6738</td> <td>    0.121</td> <td>    5.546</td> <td> 0.000</td> <td>    0.436</td> <td>    0.912</td>\n",
       "</tr>\n",
       "<tr>\n",
       "  <th>x0_2.5</th>               <td>    0.6758</td> <td>    0.121</td> <td>    5.564</td> <td> 0.000</td> <td>    0.438</td> <td>    0.914</td>\n",
       "</tr>\n",
       "<tr>\n",
       "  <th>x0_3.0</th>               <td>    0.7228</td> <td>    0.122</td> <td>    5.944</td> <td> 0.000</td> <td>    0.484</td> <td>    0.961</td>\n",
       "</tr>\n",
       "<tr>\n",
       "  <th>x0_3.5</th>               <td>    0.8300</td> <td>    0.122</td> <td>    6.814</td> <td> 0.000</td> <td>    0.591</td> <td>    1.069</td>\n",
       "</tr>\n",
       "<tr>\n",
       "  <th>x0_4.0</th>               <td>    0.8305</td> <td>    0.123</td> <td>    6.767</td> <td> 0.000</td> <td>    0.590</td> <td>    1.071</td>\n",
       "</tr>\n",
       "<tr>\n",
       "  <th>x0_4.5</th>               <td>    0.9078</td> <td>    0.123</td> <td>    7.363</td> <td> 0.000</td> <td>    0.666</td> <td>    1.149</td>\n",
       "</tr>\n",
       "<tr>\n",
       "  <th>x0_5.0</th>               <td>    0.8654</td> <td>    0.128</td> <td>    6.785</td> <td> 0.000</td> <td>    0.615</td> <td>    1.115</td>\n",
       "</tr>\n",
       "<tr>\n",
       "  <th>x0_5.5</th>               <td>    0.7907</td> <td>    0.130</td> <td>    6.080</td> <td> 0.000</td> <td>    0.536</td> <td>    1.046</td>\n",
       "</tr>\n",
       "<tr>\n",
       "  <th>x0_6.0</th>               <td>    0.8788</td> <td>    0.140</td> <td>    6.291</td> <td> 0.000</td> <td>    0.605</td> <td>    1.153</td>\n",
       "</tr>\n",
       "<tr>\n",
       "  <th>x0_6.5</th>               <td>    0.9698</td> <td>    0.152</td> <td>    6.371</td> <td> 0.000</td> <td>    0.671</td> <td>    1.268</td>\n",
       "</tr>\n",
       "<tr>\n",
       "  <th>x0_7.0</th>               <td>    0.6936</td> <td>    0.180</td> <td>    3.844</td> <td> 0.000</td> <td>    0.340</td> <td>    1.047</td>\n",
       "</tr>\n",
       "<tr>\n",
       "  <th>x0_7.5</th>               <td>    0.5165</td> <td>    0.181</td> <td>    2.846</td> <td> 0.004</td> <td>    0.161</td> <td>    0.872</td>\n",
       "</tr>\n",
       "<tr>\n",
       "  <th>x0_8.0</th>               <td>    0.2893</td> <td>    0.341</td> <td>    0.848</td> <td> 0.396</td> <td>   -0.379</td> <td>    0.958</td>\n",
       "</tr>\n",
       "<tr>\n",
       "  <th>x0_8.5</th>               <td>    1.4153</td> <td>    0.471</td> <td>    3.004</td> <td> 0.003</td> <td>    0.492</td> <td>    2.339</td>\n",
       "</tr>\n",
       "<tr>\n",
       "  <th>x0_9.5</th>               <td>    0.8865</td> <td>    0.465</td> <td>    1.907</td> <td> 0.057</td> <td>   -0.025</td> <td>    1.798</td>\n",
       "</tr>\n",
       "<tr>\n",
       "  <th>x0_10.0</th>              <td>   -1.8248</td> <td>    0.470</td> <td>   -3.881</td> <td> 0.000</td> <td>   -2.747</td> <td>   -0.903</td>\n",
       "</tr>\n",
       "<tr>\n",
       "  <th>x0_10.5</th>              <td>   -0.9751</td> <td>    0.467</td> <td>   -2.090</td> <td> 0.037</td> <td>   -1.890</td> <td>   -0.061</td>\n",
       "</tr>\n",
       "<tr>\n",
       "  <th>x1_1</th>                 <td>   -0.4713</td> <td>    0.100</td> <td>   -4.734</td> <td> 0.000</td> <td>   -0.666</td> <td>   -0.276</td>\n",
       "</tr>\n",
       "<tr>\n",
       "  <th>x1_2</th>                 <td>   -0.6016</td> <td>    0.097</td> <td>   -6.178</td> <td> 0.000</td> <td>   -0.793</td> <td>   -0.411</td>\n",
       "</tr>\n",
       "<tr>\n",
       "  <th>x1_3</th>                 <td>   -0.6958</td> <td>    0.097</td> <td>   -7.146</td> <td> 0.000</td> <td>   -0.887</td> <td>   -0.505</td>\n",
       "</tr>\n",
       "<tr>\n",
       "  <th>x1_4</th>                 <td>   -0.7465</td> <td>    0.098</td> <td>   -7.651</td> <td> 0.000</td> <td>   -0.938</td> <td>   -0.555</td>\n",
       "</tr>\n",
       "<tr>\n",
       "  <th>x1_5</th>                 <td>   -0.8099</td> <td>    0.098</td> <td>   -8.265</td> <td> 0.000</td> <td>   -1.002</td> <td>   -0.618</td>\n",
       "</tr>\n",
       "<tr>\n",
       "  <th>x1_6</th>                 <td>   -0.8758</td> <td>    0.100</td> <td>   -8.778</td> <td> 0.000</td> <td>   -1.071</td> <td>   -0.680</td>\n",
       "</tr>\n",
       "<tr>\n",
       "  <th>x1_7</th>                 <td>   -0.9482</td> <td>    0.110</td> <td>   -8.605</td> <td> 0.000</td> <td>   -1.164</td> <td>   -0.732</td>\n",
       "</tr>\n",
       "<tr>\n",
       "  <th>x1_8</th>                 <td>   -0.9721</td> <td>    0.123</td> <td>   -7.932</td> <td> 0.000</td> <td>   -1.212</td> <td>   -0.732</td>\n",
       "</tr>\n",
       "<tr>\n",
       "  <th>x1_9</th>                 <td>   -0.9896</td> <td>    0.156</td> <td>   -6.338</td> <td> 0.000</td> <td>   -1.296</td> <td>   -0.684</td>\n",
       "</tr>\n",
       "<tr>\n",
       "  <th>x1_10</th>                <td>   -1.0384</td> <td>    0.284</td> <td>   -3.658</td> <td> 0.000</td> <td>   -1.595</td> <td>   -0.482</td>\n",
       "</tr>\n",
       "<tr>\n",
       "  <th>x1_11</th>                <td>   -0.7452</td> <td>    0.459</td> <td>   -1.623</td> <td> 0.105</td> <td>   -1.645</td> <td>    0.155</td>\n",
       "</tr>\n",
       "<tr>\n",
       "  <th>x1_13</th>                <td>   -4.2680</td> <td>    0.644</td> <td>   -6.631</td> <td> 0.000</td> <td>   -5.530</td> <td>   -3.006</td>\n",
       "</tr>\n",
       "<tr>\n",
       "  <th>x2_Fair</th>              <td>   -0.0686</td> <td>    0.030</td> <td>   -2.267</td> <td> 0.023</td> <td>   -0.128</td> <td>   -0.009</td>\n",
       "</tr>\n",
       "<tr>\n",
       "  <th>x2_Good</th>              <td>    0.0351</td> <td>    0.006</td> <td>    5.738</td> <td> 0.000</td> <td>    0.023</td> <td>    0.047</td>\n",
       "</tr>\n",
       "<tr>\n",
       "  <th>x2_Poor</th>              <td>   -0.2313</td> <td>    0.058</td> <td>   -4.005</td> <td> 0.000</td> <td>   -0.344</td> <td>   -0.118</td>\n",
       "</tr>\n",
       "<tr>\n",
       "  <th>x2_Very Good</th>         <td>    0.0964</td> <td>    0.009</td> <td>   11.136</td> <td> 0.000</td> <td>    0.079</td> <td>    0.113</td>\n",
       "</tr>\n",
       "<tr>\n",
       "  <th>x3_Electricity/Solar</th> <td>   -0.1308</td> <td>    0.059</td> <td>   -2.229</td> <td> 0.026</td> <td>   -0.246</td> <td>   -0.016</td>\n",
       "</tr>\n",
       "<tr>\n",
       "  <th>x3_Gas</th>               <td>    0.0457</td> <td>    0.007</td> <td>    6.804</td> <td> 0.000</td> <td>    0.033</td> <td>    0.059</td>\n",
       "</tr>\n",
       "<tr>\n",
       "  <th>x3_Gas/Solar</th>         <td>    0.1852</td> <td>    0.047</td> <td>    3.946</td> <td> 0.000</td> <td>    0.093</td> <td>    0.277</td>\n",
       "</tr>\n",
       "<tr>\n",
       "  <th>x3_Oil</th>               <td>    0.0901</td> <td>    0.010</td> <td>    8.695</td> <td> 0.000</td> <td>    0.070</td> <td>    0.110</td>\n",
       "</tr>\n",
       "<tr>\n",
       "  <th>x3_Oil/Solar</th>         <td>    0.0548</td> <td>    0.224</td> <td>    0.244</td> <td> 0.807</td> <td>   -0.385</td> <td>    0.495</td>\n",
       "</tr>\n",
       "<tr>\n",
       "  <th>x3_Other</th>             <td>    0.0821</td> <td>    0.100</td> <td>    0.817</td> <td> 0.414</td> <td>   -0.115</td> <td>    0.279</td>\n",
       "</tr>\n",
       "</table>\n",
       "<table class=\"simpletable\">\n",
       "<tr>\n",
       "  <th>Omnibus:</th>       <td>5933.660</td> <th>  Durbin-Watson:     </th> <td>   1.967</td> \n",
       "</tr>\n",
       "<tr>\n",
       "  <th>Prob(Omnibus):</th>  <td> 0.000</td>  <th>  Jarque-Bera (JB):  </th> <td>52057.858</td>\n",
       "</tr>\n",
       "<tr>\n",
       "  <th>Skew:</th>           <td>-0.701</td>  <th>  Prob(JB):          </th> <td>    0.00</td> \n",
       "</tr>\n",
       "<tr>\n",
       "  <th>Kurtosis:</th>       <td> 9.287</td>  <th>  Cond. No.          </th> <td>6.83e+05</td> \n",
       "</tr>\n",
       "</table><br/><br/>Notes:<br/>[1] Standard Errors assume that the covariance matrix of the errors is correctly specified.<br/>[2] The condition number is large, 6.83e+05. This might indicate that there are<br/>strong multicollinearity or other numerical problems."
      ],
      "text/plain": [
       "<class 'statsmodels.iolib.summary.Summary'>\n",
       "\"\"\"\n",
       "                            OLS Regression Results                            \n",
       "==============================================================================\n",
       "Dep. Variable:                  price   R-squared:                       0.407\n",
       "Model:                            OLS   Adj. R-squared:                  0.406\n",
       "Method:                 Least Squares   F-statistic:                     480.5\n",
       "Date:                Wed, 07 Dec 2022   Prob (F-statistic):               0.00\n",
       "Time:                        11:38:44   Log-Likelihood:                -18554.\n",
       "No. Observations:               30111   AIC:                         3.720e+04\n",
       "Df Residuals:                   30067   BIC:                         3.756e+04\n",
       "Df Model:                          43                                         \n",
       "Covariance Type:            nonrobust                                         \n",
       "========================================================================================\n",
       "                           coef    std err          t      P>|t|      [0.025      0.975]\n",
       "----------------------------------------------------------------------------------------\n",
       "const                   12.9466      0.092    141.468      0.000      12.767      13.126\n",
       "sqft_living              0.0004   4.76e-06     75.558      0.000       0.000       0.000\n",
       "x0_0.5                   0.7767      0.235      3.312      0.001       0.317       1.236\n",
       "x0_1.0                   0.5653      0.121      4.658      0.000       0.327       0.803\n",
       "x0_1.5                   0.5939      0.122      4.876      0.000       0.355       0.833\n",
       "x0_2.0                   0.6738      0.121      5.546      0.000       0.436       0.912\n",
       "x0_2.5                   0.6758      0.121      5.564      0.000       0.438       0.914\n",
       "x0_3.0                   0.7228      0.122      5.944      0.000       0.484       0.961\n",
       "x0_3.5                   0.8300      0.122      6.814      0.000       0.591       1.069\n",
       "x0_4.0                   0.8305      0.123      6.767      0.000       0.590       1.071\n",
       "x0_4.5                   0.9078      0.123      7.363      0.000       0.666       1.149\n",
       "x0_5.0                   0.8654      0.128      6.785      0.000       0.615       1.115\n",
       "x0_5.5                   0.7907      0.130      6.080      0.000       0.536       1.046\n",
       "x0_6.0                   0.8788      0.140      6.291      0.000       0.605       1.153\n",
       "x0_6.5                   0.9698      0.152      6.371      0.000       0.671       1.268\n",
       "x0_7.0                   0.6936      0.180      3.844      0.000       0.340       1.047\n",
       "x0_7.5                   0.5165      0.181      2.846      0.004       0.161       0.872\n",
       "x0_8.0                   0.2893      0.341      0.848      0.396      -0.379       0.958\n",
       "x0_8.5                   1.4153      0.471      3.004      0.003       0.492       2.339\n",
       "x0_9.5                   0.8865      0.465      1.907      0.057      -0.025       1.798\n",
       "x0_10.0                 -1.8248      0.470     -3.881      0.000      -2.747      -0.903\n",
       "x0_10.5                 -0.9751      0.467     -2.090      0.037      -1.890      -0.061\n",
       "x1_1                    -0.4713      0.100     -4.734      0.000      -0.666      -0.276\n",
       "x1_2                    -0.6016      0.097     -6.178      0.000      -0.793      -0.411\n",
       "x1_3                    -0.6958      0.097     -7.146      0.000      -0.887      -0.505\n",
       "x1_4                    -0.7465      0.098     -7.651      0.000      -0.938      -0.555\n",
       "x1_5                    -0.8099      0.098     -8.265      0.000      -1.002      -0.618\n",
       "x1_6                    -0.8758      0.100     -8.778      0.000      -1.071      -0.680\n",
       "x1_7                    -0.9482      0.110     -8.605      0.000      -1.164      -0.732\n",
       "x1_8                    -0.9721      0.123     -7.932      0.000      -1.212      -0.732\n",
       "x1_9                    -0.9896      0.156     -6.338      0.000      -1.296      -0.684\n",
       "x1_10                   -1.0384      0.284     -3.658      0.000      -1.595      -0.482\n",
       "x1_11                   -0.7452      0.459     -1.623      0.105      -1.645       0.155\n",
       "x1_13                   -4.2680      0.644     -6.631      0.000      -5.530      -3.006\n",
       "x2_Fair                 -0.0686      0.030     -2.267      0.023      -0.128      -0.009\n",
       "x2_Good                  0.0351      0.006      5.738      0.000       0.023       0.047\n",
       "x2_Poor                 -0.2313      0.058     -4.005      0.000      -0.344      -0.118\n",
       "x2_Very Good             0.0964      0.009     11.136      0.000       0.079       0.113\n",
       "x3_Electricity/Solar    -0.1308      0.059     -2.229      0.026      -0.246      -0.016\n",
       "x3_Gas                   0.0457      0.007      6.804      0.000       0.033       0.059\n",
       "x3_Gas/Solar             0.1852      0.047      3.946      0.000       0.093       0.277\n",
       "x3_Oil                   0.0901      0.010      8.695      0.000       0.070       0.110\n",
       "x3_Oil/Solar             0.0548      0.224      0.244      0.807      -0.385       0.495\n",
       "x3_Other                 0.0821      0.100      0.817      0.414      -0.115       0.279\n",
       "==============================================================================\n",
       "Omnibus:                     5933.660   Durbin-Watson:                   1.967\n",
       "Prob(Omnibus):                  0.000   Jarque-Bera (JB):            52057.858\n",
       "Skew:                          -0.701   Prob(JB):                         0.00\n",
       "Kurtosis:                       9.287   Cond. No.                     6.83e+05\n",
       "==============================================================================\n",
       "\n",
       "Notes:\n",
       "[1] Standard Errors assume that the covariance matrix of the errors is correctly specified.\n",
       "[2] The condition number is large, 6.83e+05. This might indicate that there are\n",
       "strong multicollinearity or other numerical problems.\n",
       "\"\"\""
      ]
     },
     "execution_count": 32,
     "metadata": {},
     "output_type": "execute_result"
    }
   ],
   "source": [
    "scaled_oheall_model = sm.OLS(y_scld, sm.add_constant(X_cat)).fit()\n",
    "scaled_oheall_model.summary()"
   ]
  },
  {
   "cell_type": "code",
   "execution_count": null,
   "metadata": {},
   "outputs": [],
   "source": []
  }
 ],
 "metadata": {
  "kernelspec": {
   "display_name": "Python 3",
   "language": "python",
   "name": "python3"
  },
  "language_info": {
   "codemirror_mode": {
    "name": "ipython",
    "version": 3
   },
   "file_extension": ".py",
   "mimetype": "text/x-python",
   "name": "python",
   "nbconvert_exporter": "python",
   "pygments_lexer": "ipython3",
   "version": "3.8.5"
  },
  "toc": {
   "base_numbering": 1,
   "nav_menu": {},
   "number_sections": true,
   "sideBar": true,
   "skip_h1_title": false,
   "title_cell": "Table of Contents",
   "title_sidebar": "Contents",
   "toc_cell": false,
   "toc_position": {},
   "toc_section_display": true,
   "toc_window_display": false
  }
 },
 "nbformat": 4,
 "nbformat_minor": 2
}
