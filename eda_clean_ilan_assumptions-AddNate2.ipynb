{
 "cells": [
  {
   "cell_type": "markdown",
   "metadata": {},
   "source": [
    "## Final Project Submission\n",
    "\n",
    "Please fill out:\n",
    "* Student name: \n",
    "* Student pace: self paced / part time / full time\n",
    "* Scheduled project review date/time: \n",
    "* Instructor name: \n",
    "* Blog post URL:\n"
   ]
  },
  {
   "cell_type": "markdown",
   "metadata": {},
   "source": [
    "Stakeholder: Real Estate Investment Firm interested in buying houses, improving them, and selling them.\n",
    "Target: price"
   ]
  },
  {
   "cell_type": "markdown",
   "metadata": {},
   "source": [
    "## Imports"
   ]
  },
  {
   "cell_type": "code",
   "execution_count": 99,
   "metadata": {},
   "outputs": [],
   "source": [
    "import pandas as pd\n",
    "import numpy as np\n",
    "from matplotlib import pyplot as plt\n",
    "%matplotlib inline\n",
    "from scipy import stats as stats\n",
    "import seaborn as sns\n",
    "from sklearn.preprocessing import StandardScaler, OneHotEncoder, OrdinalEncoder\n",
    "from sklearn.datasets import make_regression\n",
    "from sklearn.linear_model import LinearRegression\n",
    "import sklearn.metrics as metrics\n",
    "import statsmodels.api as sm\n",
    "from statsmodels.stats.stattools import durbin_watson\n",
    "from scipy.stats import jarque_bera\n",
    "from statsmodels.compat import lzip"
   ]
  },
  {
   "cell_type": "markdown",
   "metadata": {},
   "source": [
    "## Functions"
   ]
  },
  {
   "cell_type": "markdown",
   "metadata": {},
   "source": [
    "The below functions were used to drop outliers based on IQR, as well as create new features in our dataframes to use in our model."
   ]
  },
  {
   "cell_type": "code",
   "execution_count": 100,
   "metadata": {
    "scrolled": true
   },
   "outputs": [],
   "source": [
    "def drop_outliers(df, col):\n",
    "    q1 = df[col].quantile(.25)\n",
    "    q3 = df[col].quantile(.75)\n",
    "    iqr = q3 - q1\n",
    "\n",
    "    lower_lim = q1 - 1.5 * iqr\n",
    "    upper_lim = q3 + 1.5 * iqr\n",
    "\n",
    "    df = df.loc[ (df[col] >= lower_lim) & (df[col] <= upper_lim) ].reset_index(drop=True)\n",
    "    return df\n",
    "\n",
    "def scale_numberical_cols(df, cols_to_scale):\n",
    "    df = df.copy()\n",
    "    features = cols_to_scale\n",
    "    autoscaler = StandardScaler()\n",
    "    df[features] = autoscaler.fit_transform(df[features])\n",
    "    return df\n",
    "\n",
    "def mapping_addressStreet(row):\n",
    "    row = row.split(\",\")[0]\n",
    "    row = row.split(\" \")\n",
    "    row = \" \".join(row[1:])\n",
    "    return row \n",
    "\n",
    "def mapping_addressCity(row):\n",
    "    row = row.split(\",\")[-3].strip()\n",
    "    return row \n",
    "\n",
    "def mapping_is_good_city(row):\n",
    "    row = row in good_cities\n",
    "    return row\n",
    "\n",
    "def mapping_is_cheap_city(row):\n",
    "    row = row in cheap_cities\n",
    "    return row\n",
    "\n",
    "def mapping_hasX(row):\n",
    "    if row == 0:\n",
    "        row = \"No\"\n",
    "    else:\n",
    "        row = \"Yes\"\n",
    "    return row\n",
    "\n",
    "def mapping_hasView(row):\n",
    "    if row == \"NONE\" or row == 'Average':\n",
    "        row = \"No\"\n",
    "    else:\n",
    "        row = \"Yes\"\n",
    "    return row"
   ]
  },
  {
   "cell_type": "markdown",
   "metadata": {},
   "source": [
    "# EDA"
   ]
  },
  {
   "cell_type": "code",
   "execution_count": 101,
   "metadata": {
    "scrolled": true
   },
   "outputs": [
    {
     "data": {
      "text/plain": [
       "Index(['id', 'date', 'price', 'bedrooms', 'bathrooms', 'sqft_living',\n",
       "       'sqft_lot', 'floors', 'waterfront', 'greenbelt', 'nuisance', 'view',\n",
       "       'condition', 'grade', 'heat_source', 'sewer_system', 'sqft_above',\n",
       "       'sqft_basement', 'sqft_garage', 'sqft_patio', 'yr_built',\n",
       "       'yr_renovated', 'address', 'lat', 'long'],\n",
       "      dtype='object')"
      ]
     },
     "execution_count": 101,
     "metadata": {},
     "output_type": "execute_result"
    }
   ],
   "source": [
    "#  First we read in the data and convert it into a pandas dataframe\n",
    "df = pd.read_csv('data/kc_house_data.csv')\n",
    "df.columns"
   ]
  },
  {
   "cell_type": "code",
   "execution_count": 102,
   "metadata": {},
   "outputs": [
    {
     "data": {
      "text/html": [
       "<div>\n",
       "<style scoped>\n",
       "    .dataframe tbody tr th:only-of-type {\n",
       "        vertical-align: middle;\n",
       "    }\n",
       "\n",
       "    .dataframe tbody tr th {\n",
       "        vertical-align: top;\n",
       "    }\n",
       "\n",
       "    .dataframe thead th {\n",
       "        text-align: right;\n",
       "    }\n",
       "</style>\n",
       "<table border=\"1\" class=\"dataframe\">\n",
       "  <thead>\n",
       "    <tr style=\"text-align: right;\">\n",
       "      <th></th>\n",
       "      <th>id</th>\n",
       "      <th>price</th>\n",
       "      <th>bedrooms</th>\n",
       "      <th>bathrooms</th>\n",
       "      <th>sqft_living</th>\n",
       "      <th>sqft_lot</th>\n",
       "      <th>floors</th>\n",
       "      <th>sqft_above</th>\n",
       "      <th>sqft_basement</th>\n",
       "      <th>sqft_garage</th>\n",
       "      <th>sqft_patio</th>\n",
       "      <th>yr_built</th>\n",
       "      <th>yr_renovated</th>\n",
       "      <th>lat</th>\n",
       "      <th>long</th>\n",
       "    </tr>\n",
       "  </thead>\n",
       "  <tbody>\n",
       "    <tr>\n",
       "      <th>count</th>\n",
       "      <td>3.015500e+04</td>\n",
       "      <td>3.015500e+04</td>\n",
       "      <td>30155.000000</td>\n",
       "      <td>30155.000000</td>\n",
       "      <td>30155.000000</td>\n",
       "      <td>3.015500e+04</td>\n",
       "      <td>30155.000000</td>\n",
       "      <td>30155.000000</td>\n",
       "      <td>30155.000000</td>\n",
       "      <td>30155.000000</td>\n",
       "      <td>30155.000000</td>\n",
       "      <td>30155.000000</td>\n",
       "      <td>30155.000000</td>\n",
       "      <td>30155.000000</td>\n",
       "      <td>30155.000000</td>\n",
       "    </tr>\n",
       "    <tr>\n",
       "      <th>mean</th>\n",
       "      <td>4.538104e+09</td>\n",
       "      <td>1.108536e+06</td>\n",
       "      <td>3.413530</td>\n",
       "      <td>2.334737</td>\n",
       "      <td>2112.424739</td>\n",
       "      <td>1.672360e+04</td>\n",
       "      <td>1.543492</td>\n",
       "      <td>1809.826098</td>\n",
       "      <td>476.039396</td>\n",
       "      <td>330.211142</td>\n",
       "      <td>217.412038</td>\n",
       "      <td>1975.163953</td>\n",
       "      <td>90.922301</td>\n",
       "      <td>47.328076</td>\n",
       "      <td>-121.317397</td>\n",
       "    </tr>\n",
       "    <tr>\n",
       "      <th>std</th>\n",
       "      <td>2.882587e+09</td>\n",
       "      <td>8.963857e+05</td>\n",
       "      <td>0.981612</td>\n",
       "      <td>0.889556</td>\n",
       "      <td>974.044318</td>\n",
       "      <td>6.038260e+04</td>\n",
       "      <td>0.567717</td>\n",
       "      <td>878.306131</td>\n",
       "      <td>579.631302</td>\n",
       "      <td>285.770536</td>\n",
       "      <td>245.302792</td>\n",
       "      <td>32.067362</td>\n",
       "      <td>416.473038</td>\n",
       "      <td>1.434005</td>\n",
       "      <td>5.725475</td>\n",
       "    </tr>\n",
       "    <tr>\n",
       "      <th>min</th>\n",
       "      <td>1.000055e+06</td>\n",
       "      <td>2.736000e+04</td>\n",
       "      <td>0.000000</td>\n",
       "      <td>0.000000</td>\n",
       "      <td>3.000000</td>\n",
       "      <td>4.020000e+02</td>\n",
       "      <td>1.000000</td>\n",
       "      <td>2.000000</td>\n",
       "      <td>0.000000</td>\n",
       "      <td>0.000000</td>\n",
       "      <td>0.000000</td>\n",
       "      <td>1900.000000</td>\n",
       "      <td>0.000000</td>\n",
       "      <td>21.274240</td>\n",
       "      <td>-157.791480</td>\n",
       "    </tr>\n",
       "    <tr>\n",
       "      <th>25%</th>\n",
       "      <td>2.064175e+09</td>\n",
       "      <td>6.480000e+05</td>\n",
       "      <td>3.000000</td>\n",
       "      <td>2.000000</td>\n",
       "      <td>1420.000000</td>\n",
       "      <td>4.850000e+03</td>\n",
       "      <td>1.000000</td>\n",
       "      <td>1180.000000</td>\n",
       "      <td>0.000000</td>\n",
       "      <td>0.000000</td>\n",
       "      <td>40.000000</td>\n",
       "      <td>1953.000000</td>\n",
       "      <td>0.000000</td>\n",
       "      <td>47.405320</td>\n",
       "      <td>-122.326045</td>\n",
       "    </tr>\n",
       "    <tr>\n",
       "      <th>50%</th>\n",
       "      <td>3.874011e+09</td>\n",
       "      <td>8.600000e+05</td>\n",
       "      <td>3.000000</td>\n",
       "      <td>2.500000</td>\n",
       "      <td>1920.000000</td>\n",
       "      <td>7.480000e+03</td>\n",
       "      <td>1.500000</td>\n",
       "      <td>1560.000000</td>\n",
       "      <td>0.000000</td>\n",
       "      <td>400.000000</td>\n",
       "      <td>150.000000</td>\n",
       "      <td>1977.000000</td>\n",
       "      <td>0.000000</td>\n",
       "      <td>47.551380</td>\n",
       "      <td>-122.225585</td>\n",
       "    </tr>\n",
       "    <tr>\n",
       "      <th>75%</th>\n",
       "      <td>7.287100e+09</td>\n",
       "      <td>1.300000e+06</td>\n",
       "      <td>4.000000</td>\n",
       "      <td>3.000000</td>\n",
       "      <td>2619.500000</td>\n",
       "      <td>1.057900e+04</td>\n",
       "      <td>2.000000</td>\n",
       "      <td>2270.000000</td>\n",
       "      <td>940.000000</td>\n",
       "      <td>510.000000</td>\n",
       "      <td>320.000000</td>\n",
       "      <td>2003.000000</td>\n",
       "      <td>0.000000</td>\n",
       "      <td>47.669913</td>\n",
       "      <td>-122.116205</td>\n",
       "    </tr>\n",
       "    <tr>\n",
       "      <th>max</th>\n",
       "      <td>9.904000e+09</td>\n",
       "      <td>3.075000e+07</td>\n",
       "      <td>13.000000</td>\n",
       "      <td>10.500000</td>\n",
       "      <td>15360.000000</td>\n",
       "      <td>3.253932e+06</td>\n",
       "      <td>4.000000</td>\n",
       "      <td>12660.000000</td>\n",
       "      <td>8020.000000</td>\n",
       "      <td>3580.000000</td>\n",
       "      <td>4370.000000</td>\n",
       "      <td>2022.000000</td>\n",
       "      <td>2022.000000</td>\n",
       "      <td>64.824070</td>\n",
       "      <td>-70.074340</td>\n",
       "    </tr>\n",
       "  </tbody>\n",
       "</table>\n",
       "</div>"
      ],
      "text/plain": [
       "                 id         price      bedrooms     bathrooms   sqft_living  \\\n",
       "count  3.015500e+04  3.015500e+04  30155.000000  30155.000000  30155.000000   \n",
       "mean   4.538104e+09  1.108536e+06      3.413530      2.334737   2112.424739   \n",
       "std    2.882587e+09  8.963857e+05      0.981612      0.889556    974.044318   \n",
       "min    1.000055e+06  2.736000e+04      0.000000      0.000000      3.000000   \n",
       "25%    2.064175e+09  6.480000e+05      3.000000      2.000000   1420.000000   \n",
       "50%    3.874011e+09  8.600000e+05      3.000000      2.500000   1920.000000   \n",
       "75%    7.287100e+09  1.300000e+06      4.000000      3.000000   2619.500000   \n",
       "max    9.904000e+09  3.075000e+07     13.000000     10.500000  15360.000000   \n",
       "\n",
       "           sqft_lot        floors    sqft_above  sqft_basement   sqft_garage  \\\n",
       "count  3.015500e+04  30155.000000  30155.000000   30155.000000  30155.000000   \n",
       "mean   1.672360e+04      1.543492   1809.826098     476.039396    330.211142   \n",
       "std    6.038260e+04      0.567717    878.306131     579.631302    285.770536   \n",
       "min    4.020000e+02      1.000000      2.000000       0.000000      0.000000   \n",
       "25%    4.850000e+03      1.000000   1180.000000       0.000000      0.000000   \n",
       "50%    7.480000e+03      1.500000   1560.000000       0.000000    400.000000   \n",
       "75%    1.057900e+04      2.000000   2270.000000     940.000000    510.000000   \n",
       "max    3.253932e+06      4.000000  12660.000000    8020.000000   3580.000000   \n",
       "\n",
       "         sqft_patio      yr_built  yr_renovated           lat          long  \n",
       "count  30155.000000  30155.000000  30155.000000  30155.000000  30155.000000  \n",
       "mean     217.412038   1975.163953     90.922301     47.328076   -121.317397  \n",
       "std      245.302792     32.067362    416.473038      1.434005      5.725475  \n",
       "min        0.000000   1900.000000      0.000000     21.274240   -157.791480  \n",
       "25%       40.000000   1953.000000      0.000000     47.405320   -122.326045  \n",
       "50%      150.000000   1977.000000      0.000000     47.551380   -122.225585  \n",
       "75%      320.000000   2003.000000      0.000000     47.669913   -122.116205  \n",
       "max     4370.000000   2022.000000   2022.000000     64.824070    -70.074340  "
      ]
     },
     "execution_count": 102,
     "metadata": {},
     "output_type": "execute_result"
    }
   ],
   "source": [
    "# Early look at our summary statistics\n",
    "df.describe()"
   ]
  },
  {
   "cell_type": "markdown",
   "metadata": {},
   "source": [
    "### Drop Outliers (+- 1.5x Interquartile Range)"
   ]
  },
  {
   "cell_type": "markdown",
   "metadata": {},
   "source": [
    "We decided to drop outliers from all the numerical columns we ultimately use in our models, based on the accepted definition of outliers (rows falling outside of 1.5x the IQR on either side). We use our above function to do so."
   ]
  },
  {
   "cell_type": "code",
   "execution_count": 103,
   "metadata": {
    "scrolled": false
   },
   "outputs": [
    {
     "data": {
      "text/html": [
       "<div>\n",
       "<style scoped>\n",
       "    .dataframe tbody tr th:only-of-type {\n",
       "        vertical-align: middle;\n",
       "    }\n",
       "\n",
       "    .dataframe tbody tr th {\n",
       "        vertical-align: top;\n",
       "    }\n",
       "\n",
       "    .dataframe thead th {\n",
       "        text-align: right;\n",
       "    }\n",
       "</style>\n",
       "<table border=\"1\" class=\"dataframe\">\n",
       "  <thead>\n",
       "    <tr style=\"text-align: right;\">\n",
       "      <th></th>\n",
       "      <th>id</th>\n",
       "      <th>price</th>\n",
       "      <th>bedrooms</th>\n",
       "      <th>bathrooms</th>\n",
       "      <th>sqft_living</th>\n",
       "      <th>sqft_lot</th>\n",
       "      <th>floors</th>\n",
       "      <th>sqft_above</th>\n",
       "      <th>sqft_basement</th>\n",
       "      <th>sqft_garage</th>\n",
       "      <th>sqft_patio</th>\n",
       "      <th>yr_built</th>\n",
       "      <th>yr_renovated</th>\n",
       "      <th>lat</th>\n",
       "      <th>long</th>\n",
       "    </tr>\n",
       "  </thead>\n",
       "  <tbody>\n",
       "    <tr>\n",
       "      <th>count</th>\n",
       "      <td>2.644800e+04</td>\n",
       "      <td>2.644800e+04</td>\n",
       "      <td>26448.000000</td>\n",
       "      <td>26448.000000</td>\n",
       "      <td>26448.000000</td>\n",
       "      <td>2.644800e+04</td>\n",
       "      <td>26448.000000</td>\n",
       "      <td>26448.000000</td>\n",
       "      <td>26448.000000</td>\n",
       "      <td>26448.000000</td>\n",
       "      <td>26448.000000</td>\n",
       "      <td>26448.000000</td>\n",
       "      <td>26448.000000</td>\n",
       "      <td>26448.000000</td>\n",
       "      <td>26448.000000</td>\n",
       "    </tr>\n",
       "    <tr>\n",
       "      <th>mean</th>\n",
       "      <td>4.573990e+09</td>\n",
       "      <td>9.351912e+05</td>\n",
       "      <td>3.368232</td>\n",
       "      <td>2.224686</td>\n",
       "      <td>1974.694722</td>\n",
       "      <td>1.533174e+04</td>\n",
       "      <td>1.489394</td>\n",
       "      <td>1694.948994</td>\n",
       "      <td>455.235632</td>\n",
       "      <td>315.399009</td>\n",
       "      <td>196.672754</td>\n",
       "      <td>1972.578910</td>\n",
       "      <td>84.517733</td>\n",
       "      <td>47.538115</td>\n",
       "      <td>-122.226111</td>\n",
       "    </tr>\n",
       "    <tr>\n",
       "      <th>std</th>\n",
       "      <td>2.872331e+09</td>\n",
       "      <td>4.291522e+05</td>\n",
       "      <td>0.944539</td>\n",
       "      <td>0.784825</td>\n",
       "      <td>757.739880</td>\n",
       "      <td>5.288984e+04</td>\n",
       "      <td>0.546934</td>\n",
       "      <td>712.103736</td>\n",
       "      <td>541.989620</td>\n",
       "      <td>268.232397</td>\n",
       "      <td>221.044850</td>\n",
       "      <td>31.396284</td>\n",
       "      <td>402.133419</td>\n",
       "      <td>0.150044</td>\n",
       "      <td>0.129056</td>\n",
       "    </tr>\n",
       "    <tr>\n",
       "      <th>min</th>\n",
       "      <td>1.000055e+06</td>\n",
       "      <td>2.736000e+04</td>\n",
       "      <td>0.000000</td>\n",
       "      <td>0.000000</td>\n",
       "      <td>3.000000</td>\n",
       "      <td>4.020000e+02</td>\n",
       "      <td>1.000000</td>\n",
       "      <td>2.000000</td>\n",
       "      <td>0.000000</td>\n",
       "      <td>0.000000</td>\n",
       "      <td>0.000000</td>\n",
       "      <td>1900.000000</td>\n",
       "      <td>0.000000</td>\n",
       "      <td>47.000860</td>\n",
       "      <td>-122.526650</td>\n",
       "    </tr>\n",
       "    <tr>\n",
       "      <th>25%</th>\n",
       "      <td>2.144800e+09</td>\n",
       "      <td>6.250000e+05</td>\n",
       "      <td>3.000000</td>\n",
       "      <td>2.000000</td>\n",
       "      <td>1400.000000</td>\n",
       "      <td>4.900000e+03</td>\n",
       "      <td>1.000000</td>\n",
       "      <td>1160.000000</td>\n",
       "      <td>0.000000</td>\n",
       "      <td>0.000000</td>\n",
       "      <td>30.000000</td>\n",
       "      <td>1951.000000</td>\n",
       "      <td>0.000000</td>\n",
       "      <td>47.406360</td>\n",
       "      <td>-122.333720</td>\n",
       "    </tr>\n",
       "    <tr>\n",
       "      <th>50%</th>\n",
       "      <td>3.888100e+09</td>\n",
       "      <td>8.256500e+05</td>\n",
       "      <td>3.000000</td>\n",
       "      <td>2.500000</td>\n",
       "      <td>1870.000000</td>\n",
       "      <td>7.363000e+03</td>\n",
       "      <td>1.000000</td>\n",
       "      <td>1510.000000</td>\n",
       "      <td>0.000000</td>\n",
       "      <td>380.000000</td>\n",
       "      <td>130.000000</td>\n",
       "      <td>1974.000000</td>\n",
       "      <td>0.000000</td>\n",
       "      <td>47.550050</td>\n",
       "      <td>-122.257115</td>\n",
       "    </tr>\n",
       "    <tr>\n",
       "      <th>75%</th>\n",
       "      <td>7.298013e+09</td>\n",
       "      <td>1.190000e+06</td>\n",
       "      <td>4.000000</td>\n",
       "      <td>2.500000</td>\n",
       "      <td>2450.000000</td>\n",
       "      <td>1.013625e+04</td>\n",
       "      <td>2.000000</td>\n",
       "      <td>2110.000000</td>\n",
       "      <td>920.000000</td>\n",
       "      <td>500.000000</td>\n",
       "      <td>290.000000</td>\n",
       "      <td>1999.000000</td>\n",
       "      <td>0.000000</td>\n",
       "      <td>47.673410</td>\n",
       "      <td>-122.139277</td>\n",
       "    </tr>\n",
       "    <tr>\n",
       "      <th>max</th>\n",
       "      <td>9.904000e+09</td>\n",
       "      <td>2.230000e+06</td>\n",
       "      <td>11.000000</td>\n",
       "      <td>7.500000</td>\n",
       "      <td>4410.000000</td>\n",
       "      <td>3.067495e+06</td>\n",
       "      <td>4.000000</td>\n",
       "      <td>5500.000000</td>\n",
       "      <td>3560.000000</td>\n",
       "      <td>2840.000000</td>\n",
       "      <td>2880.000000</td>\n",
       "      <td>2022.000000</td>\n",
       "      <td>2022.000000</td>\n",
       "      <td>47.876700</td>\n",
       "      <td>-121.829060</td>\n",
       "    </tr>\n",
       "  </tbody>\n",
       "</table>\n",
       "</div>"
      ],
      "text/plain": [
       "                 id         price      bedrooms     bathrooms   sqft_living  \\\n",
       "count  2.644800e+04  2.644800e+04  26448.000000  26448.000000  26448.000000   \n",
       "mean   4.573990e+09  9.351912e+05      3.368232      2.224686   1974.694722   \n",
       "std    2.872331e+09  4.291522e+05      0.944539      0.784825    757.739880   \n",
       "min    1.000055e+06  2.736000e+04      0.000000      0.000000      3.000000   \n",
       "25%    2.144800e+09  6.250000e+05      3.000000      2.000000   1400.000000   \n",
       "50%    3.888100e+09  8.256500e+05      3.000000      2.500000   1870.000000   \n",
       "75%    7.298013e+09  1.190000e+06      4.000000      2.500000   2450.000000   \n",
       "max    9.904000e+09  2.230000e+06     11.000000      7.500000   4410.000000   \n",
       "\n",
       "           sqft_lot        floors    sqft_above  sqft_basement   sqft_garage  \\\n",
       "count  2.644800e+04  26448.000000  26448.000000   26448.000000  26448.000000   \n",
       "mean   1.533174e+04      1.489394   1694.948994     455.235632    315.399009   \n",
       "std    5.288984e+04      0.546934    712.103736     541.989620    268.232397   \n",
       "min    4.020000e+02      1.000000      2.000000       0.000000      0.000000   \n",
       "25%    4.900000e+03      1.000000   1160.000000       0.000000      0.000000   \n",
       "50%    7.363000e+03      1.000000   1510.000000       0.000000    380.000000   \n",
       "75%    1.013625e+04      2.000000   2110.000000     920.000000    500.000000   \n",
       "max    3.067495e+06      4.000000   5500.000000    3560.000000   2840.000000   \n",
       "\n",
       "         sqft_patio      yr_built  yr_renovated           lat          long  \n",
       "count  26448.000000  26448.000000  26448.000000  26448.000000  26448.000000  \n",
       "mean     196.672754   1972.578910     84.517733     47.538115   -122.226111  \n",
       "std      221.044850     31.396284    402.133419      0.150044      0.129056  \n",
       "min        0.000000   1900.000000      0.000000     47.000860   -122.526650  \n",
       "25%       30.000000   1951.000000      0.000000     47.406360   -122.333720  \n",
       "50%      130.000000   1974.000000      0.000000     47.550050   -122.257115  \n",
       "75%      290.000000   1999.000000      0.000000     47.673410   -122.139277  \n",
       "max     2880.000000   2022.000000   2022.000000     47.876700   -121.829060  "
      ]
     },
     "execution_count": 103,
     "metadata": {},
     "output_type": "execute_result"
    }
   ],
   "source": [
    "df = drop_outliers(df, 'sqft_living').reset_index(drop=True)\n",
    "df = drop_outliers(df, 'lat').reset_index(drop=True)\n",
    "df = drop_outliers(df, 'long').reset_index(drop=True)\n",
    "df = drop_outliers(df, 'price').reset_index(drop=True)\n",
    "df.describe()"
   ]
  },
  {
   "cell_type": "markdown",
   "metadata": {},
   "source": [
    "### Finding & Dropping Nulls"
   ]
  },
  {
   "cell_type": "markdown",
   "metadata": {},
   "source": [
    "We pull out all of the null values existing in the dataframe as part of the cleaning process, so as to minimize errors later down the line."
   ]
  },
  {
   "cell_type": "code",
   "execution_count": 104,
   "metadata": {
    "scrolled": true
   },
   "outputs": [
    {
     "data": {
      "text/plain": [
       "28"
      ]
     },
     "execution_count": 104,
     "metadata": {},
     "output_type": "execute_result"
    }
   ],
   "source": [
    "df.isnull().sum().sum()"
   ]
  },
  {
   "cell_type": "code",
   "execution_count": 105,
   "metadata": {},
   "outputs": [],
   "source": [
    "df = df.dropna().reset_index(drop=True)"
   ]
  },
  {
   "cell_type": "code",
   "execution_count": 106,
   "metadata": {},
   "outputs": [
    {
     "data": {
      "text/plain": [
       "0"
      ]
     },
     "execution_count": 106,
     "metadata": {},
     "output_type": "execute_result"
    }
   ],
   "source": [
    "df.isnull().sum().sum()"
   ]
  },
  {
   "cell_type": "markdown",
   "metadata": {},
   "source": [
    "### Dropping Undesired Columns"
   ]
  },
  {
   "cell_type": "markdown",
   "metadata": {},
   "source": [
    "We decide to drop columns with features that cannot be changed easily by our stakeholder, such as year renovated and view from the house."
   ]
  },
  {
   "cell_type": "code",
   "execution_count": 107,
   "metadata": {},
   "outputs": [
    {
     "name": "stdout",
     "output_type": "stream",
     "text": [
      "<class 'pandas.core.frame.DataFrame'>\n",
      "RangeIndex: 26420 entries, 0 to 26419\n",
      "Data columns (total 25 columns):\n",
      " #   Column         Non-Null Count  Dtype  \n",
      "---  ------         --------------  -----  \n",
      " 0   id             26420 non-null  int64  \n",
      " 1   date           26420 non-null  object \n",
      " 2   price          26420 non-null  float64\n",
      " 3   bedrooms       26420 non-null  int64  \n",
      " 4   bathrooms      26420 non-null  float64\n",
      " 5   sqft_living    26420 non-null  int64  \n",
      " 6   sqft_lot       26420 non-null  int64  \n",
      " 7   floors         26420 non-null  float64\n",
      " 8   waterfront     26420 non-null  object \n",
      " 9   greenbelt      26420 non-null  object \n",
      " 10  nuisance       26420 non-null  object \n",
      " 11  view           26420 non-null  object \n",
      " 12  condition      26420 non-null  object \n",
      " 13  grade          26420 non-null  object \n",
      " 14  heat_source    26420 non-null  object \n",
      " 15  sewer_system   26420 non-null  object \n",
      " 16  sqft_above     26420 non-null  int64  \n",
      " 17  sqft_basement  26420 non-null  int64  \n",
      " 18  sqft_garage    26420 non-null  int64  \n",
      " 19  sqft_patio     26420 non-null  int64  \n",
      " 20  yr_built       26420 non-null  int64  \n",
      " 21  yr_renovated   26420 non-null  int64  \n",
      " 22  address        26420 non-null  object \n",
      " 23  lat            26420 non-null  float64\n",
      " 24  long           26420 non-null  float64\n",
      "dtypes: float64(5), int64(10), object(10)\n",
      "memory usage: 5.0+ MB\n"
     ]
    }
   ],
   "source": [
    "df.info()"
   ]
  },
  {
   "cell_type": "code",
   "execution_count": 108,
   "metadata": {},
   "outputs": [],
   "source": [
    "df = df.drop(['view', \n",
    "              'sqft_above',\n",
    "              'sqft_basement', \n",
    "              'yr_renovated', \n",
    "              'id'\n",
    "             ], axis=1)"
   ]
  },
  {
   "cell_type": "markdown",
   "metadata": {},
   "source": [
    "# Feature Engineering"
   ]
  },
  {
   "cell_type": "markdown",
   "metadata": {},
   "source": [
    "#### Extract zip codes from address to use as possible feature"
   ]
  },
  {
   "cell_type": "code",
   "execution_count": 109,
   "metadata": {
    "scrolled": false
   },
   "outputs": [
    {
     "data": {
      "text/plain": [
       "98042    985\n",
       "98038    853\n",
       "98103    740\n",
       "98117    731\n",
       "98115    719\n",
       "        ... \n",
       "98039      2\n",
       "98050      1\n",
       "98387      1\n",
       "98296      1\n",
       "98422      1\n",
       "Name: zipcode, Length: 79, dtype: int64"
      ]
     },
     "execution_count": 109,
     "metadata": {},
     "output_type": "execute_result"
    }
   ],
   "source": [
    "df['zipcode'] = df.address.str[-20:-15]\n",
    "df['zipcode'].value_counts()"
   ]
  },
  {
   "cell_type": "code",
   "execution_count": 110,
   "metadata": {},
   "outputs": [
    {
     "name": "stdout",
     "output_type": "stream",
     "text": [
      "<class 'pandas.core.frame.DataFrame'>\n",
      "RangeIndex: 26420 entries, 0 to 26419\n",
      "Data columns (total 21 columns):\n",
      " #   Column        Non-Null Count  Dtype  \n",
      "---  ------        --------------  -----  \n",
      " 0   date          26420 non-null  object \n",
      " 1   price         26420 non-null  float64\n",
      " 2   bedrooms      26420 non-null  int64  \n",
      " 3   bathrooms     26420 non-null  float64\n",
      " 4   sqft_living   26420 non-null  int64  \n",
      " 5   sqft_lot      26420 non-null  int64  \n",
      " 6   floors        26420 non-null  float64\n",
      " 7   waterfront    26420 non-null  object \n",
      " 8   greenbelt     26420 non-null  object \n",
      " 9   nuisance      26420 non-null  object \n",
      " 10  condition     26420 non-null  object \n",
      " 11  grade         26420 non-null  object \n",
      " 12  heat_source   26420 non-null  object \n",
      " 13  sewer_system  26420 non-null  object \n",
      " 14  sqft_garage   26420 non-null  int64  \n",
      " 15  sqft_patio    26420 non-null  int64  \n",
      " 16  yr_built      26420 non-null  int64  \n",
      " 17  address       26420 non-null  object \n",
      " 18  lat           26420 non-null  float64\n",
      " 19  long          26420 non-null  float64\n",
      " 20  zipcode       26420 non-null  object \n",
      "dtypes: float64(5), int64(6), object(10)\n",
      "memory usage: 4.2+ MB\n"
     ]
    }
   ],
   "source": [
    "df.info()"
   ]
  },
  {
   "cell_type": "markdown",
   "metadata": {},
   "source": [
    "#### Add feature for age when sold"
   ]
  },
  {
   "cell_type": "code",
   "execution_count": 111,
   "metadata": {
    "scrolled": true
   },
   "outputs": [
    {
     "data": {
      "text/plain": [
       "0         53\n",
       "1         71\n",
       "2         65\n",
       "3         11\n",
       "4          9\n",
       "        ... \n",
       "26415    100\n",
       "26416     10\n",
       "26417     27\n",
       "26418     16\n",
       "26419     57\n",
       "Name: age_when_sold, Length: 26420, dtype: int64"
      ]
     },
     "execution_count": 111,
     "metadata": {},
     "output_type": "execute_result"
    }
   ],
   "source": [
    "df['date'].value_counts()\n",
    "df['date_year'] = df['date'].apply(pd.to_datetime)\n",
    "df['date_year'] = df['date_year'].dt.year\n",
    "df['date_year']\n",
    "\n",
    "df['age_when_sold'] = df['date_year'] - df['yr_built']\n",
    "df['age_when_sold']"
   ]
  },
  {
   "cell_type": "code",
   "execution_count": 112,
   "metadata": {
    "scrolled": true
   },
   "outputs": [
    {
     "data": {
      "text/plain": [
       "2021    1129\n",
       "1968     482\n",
       "1967     451\n",
       "1978     450\n",
       "1977     450\n",
       "        ... \n",
       "1901      36\n",
       "1935      35\n",
       "1934      34\n",
       "1902      31\n",
       "1933      29\n",
       "Name: yr_built, Length: 123, dtype: int64"
      ]
     },
     "execution_count": 112,
     "metadata": {},
     "output_type": "execute_result"
    }
   ],
   "source": [
    "df['yr_built'].value_counts()"
   ]
  },
  {
   "cell_type": "code",
   "execution_count": 113,
   "metadata": {
    "scrolled": true
   },
   "outputs": [
    {
     "data": {
      "text/html": [
       "<div>\n",
       "<style scoped>\n",
       "    .dataframe tbody tr th:only-of-type {\n",
       "        vertical-align: middle;\n",
       "    }\n",
       "\n",
       "    .dataframe tbody tr th {\n",
       "        vertical-align: top;\n",
       "    }\n",
       "\n",
       "    .dataframe thead th {\n",
       "        text-align: right;\n",
       "    }\n",
       "</style>\n",
       "<table border=\"1\" class=\"dataframe\">\n",
       "  <thead>\n",
       "    <tr style=\"text-align: right;\">\n",
       "      <th></th>\n",
       "      <th>price</th>\n",
       "      <th>bedrooms</th>\n",
       "      <th>bathrooms</th>\n",
       "      <th>sqft_living</th>\n",
       "      <th>sqft_lot</th>\n",
       "      <th>floors</th>\n",
       "      <th>sqft_garage</th>\n",
       "      <th>sqft_patio</th>\n",
       "      <th>yr_built</th>\n",
       "      <th>lat</th>\n",
       "      <th>long</th>\n",
       "      <th>date_year</th>\n",
       "      <th>age_when_sold</th>\n",
       "    </tr>\n",
       "  </thead>\n",
       "  <tbody>\n",
       "    <tr>\n",
       "      <th>count</th>\n",
       "      <td>2.642000e+04</td>\n",
       "      <td>26420.000000</td>\n",
       "      <td>26420.000000</td>\n",
       "      <td>26420.000000</td>\n",
       "      <td>2.642000e+04</td>\n",
       "      <td>26420.000000</td>\n",
       "      <td>26420.000000</td>\n",
       "      <td>26420.000000</td>\n",
       "      <td>26420.000000</td>\n",
       "      <td>26420.000000</td>\n",
       "      <td>26420.000000</td>\n",
       "      <td>26420.000000</td>\n",
       "      <td>26420.000000</td>\n",
       "    </tr>\n",
       "    <tr>\n",
       "      <th>mean</th>\n",
       "      <td>9.354395e+05</td>\n",
       "      <td>3.369531</td>\n",
       "      <td>2.225360</td>\n",
       "      <td>1975.344928</td>\n",
       "      <td>1.524770e+04</td>\n",
       "      <td>1.489421</td>\n",
       "      <td>315.607419</td>\n",
       "      <td>196.662983</td>\n",
       "      <td>1972.573051</td>\n",
       "      <td>47.538172</td>\n",
       "      <td>-122.226127</td>\n",
       "      <td>2021.354996</td>\n",
       "      <td>48.781945</td>\n",
       "    </tr>\n",
       "    <tr>\n",
       "      <th>std</th>\n",
       "      <td>4.291241e+05</td>\n",
       "      <td>0.943124</td>\n",
       "      <td>0.784123</td>\n",
       "      <td>757.302280</td>\n",
       "      <td>5.227460e+04</td>\n",
       "      <td>0.547000</td>\n",
       "      <td>268.206900</td>\n",
       "      <td>220.967477</td>\n",
       "      <td>31.388103</td>\n",
       "      <td>0.150008</td>\n",
       "      <td>0.128973</td>\n",
       "      <td>0.478521</td>\n",
       "      <td>31.406812</td>\n",
       "    </tr>\n",
       "    <tr>\n",
       "      <th>min</th>\n",
       "      <td>2.736000e+04</td>\n",
       "      <td>0.000000</td>\n",
       "      <td>0.000000</td>\n",
       "      <td>3.000000</td>\n",
       "      <td>4.020000e+02</td>\n",
       "      <td>1.000000</td>\n",
       "      <td>0.000000</td>\n",
       "      <td>0.000000</td>\n",
       "      <td>1900.000000</td>\n",
       "      <td>47.000860</td>\n",
       "      <td>-122.526650</td>\n",
       "      <td>2021.000000</td>\n",
       "      <td>-1.000000</td>\n",
       "    </tr>\n",
       "    <tr>\n",
       "      <th>25%</th>\n",
       "      <td>6.250000e+05</td>\n",
       "      <td>3.000000</td>\n",
       "      <td>2.000000</td>\n",
       "      <td>1400.000000</td>\n",
       "      <td>4.900000e+03</td>\n",
       "      <td>1.000000</td>\n",
       "      <td>0.000000</td>\n",
       "      <td>30.000000</td>\n",
       "      <td>1951.000000</td>\n",
       "      <td>47.406434</td>\n",
       "      <td>-122.333679</td>\n",
       "      <td>2021.000000</td>\n",
       "      <td>22.000000</td>\n",
       "    </tr>\n",
       "    <tr>\n",
       "      <th>50%</th>\n",
       "      <td>8.260000e+05</td>\n",
       "      <td>3.000000</td>\n",
       "      <td>2.500000</td>\n",
       "      <td>1870.000000</td>\n",
       "      <td>7.360000e+03</td>\n",
       "      <td>1.000000</td>\n",
       "      <td>380.000000</td>\n",
       "      <td>130.000000</td>\n",
       "      <td>1974.000000</td>\n",
       "      <td>47.550115</td>\n",
       "      <td>-122.257115</td>\n",
       "      <td>2021.000000</td>\n",
       "      <td>47.000000</td>\n",
       "    </tr>\n",
       "    <tr>\n",
       "      <th>75%</th>\n",
       "      <td>1.190470e+06</td>\n",
       "      <td>4.000000</td>\n",
       "      <td>2.500000</td>\n",
       "      <td>2450.000000</td>\n",
       "      <td>1.013200e+04</td>\n",
       "      <td>2.000000</td>\n",
       "      <td>500.000000</td>\n",
       "      <td>290.000000</td>\n",
       "      <td>1999.000000</td>\n",
       "      <td>47.673411</td>\n",
       "      <td>-122.139277</td>\n",
       "      <td>2022.000000</td>\n",
       "      <td>70.000000</td>\n",
       "    </tr>\n",
       "    <tr>\n",
       "      <th>max</th>\n",
       "      <td>2.230000e+06</td>\n",
       "      <td>11.000000</td>\n",
       "      <td>7.500000</td>\n",
       "      <td>4410.000000</td>\n",
       "      <td>3.067495e+06</td>\n",
       "      <td>4.000000</td>\n",
       "      <td>2840.000000</td>\n",
       "      <td>2880.000000</td>\n",
       "      <td>2022.000000</td>\n",
       "      <td>47.876700</td>\n",
       "      <td>-121.829060</td>\n",
       "      <td>2022.000000</td>\n",
       "      <td>122.000000</td>\n",
       "    </tr>\n",
       "  </tbody>\n",
       "</table>\n",
       "</div>"
      ],
      "text/plain": [
       "              price      bedrooms     bathrooms   sqft_living      sqft_lot  \\\n",
       "count  2.642000e+04  26420.000000  26420.000000  26420.000000  2.642000e+04   \n",
       "mean   9.354395e+05      3.369531      2.225360   1975.344928  1.524770e+04   \n",
       "std    4.291241e+05      0.943124      0.784123    757.302280  5.227460e+04   \n",
       "min    2.736000e+04      0.000000      0.000000      3.000000  4.020000e+02   \n",
       "25%    6.250000e+05      3.000000      2.000000   1400.000000  4.900000e+03   \n",
       "50%    8.260000e+05      3.000000      2.500000   1870.000000  7.360000e+03   \n",
       "75%    1.190470e+06      4.000000      2.500000   2450.000000  1.013200e+04   \n",
       "max    2.230000e+06     11.000000      7.500000   4410.000000  3.067495e+06   \n",
       "\n",
       "             floors   sqft_garage    sqft_patio      yr_built           lat  \\\n",
       "count  26420.000000  26420.000000  26420.000000  26420.000000  26420.000000   \n",
       "mean       1.489421    315.607419    196.662983   1972.573051     47.538172   \n",
       "std        0.547000    268.206900    220.967477     31.388103      0.150008   \n",
       "min        1.000000      0.000000      0.000000   1900.000000     47.000860   \n",
       "25%        1.000000      0.000000     30.000000   1951.000000     47.406434   \n",
       "50%        1.000000    380.000000    130.000000   1974.000000     47.550115   \n",
       "75%        2.000000    500.000000    290.000000   1999.000000     47.673411   \n",
       "max        4.000000   2840.000000   2880.000000   2022.000000     47.876700   \n",
       "\n",
       "               long     date_year  age_when_sold  \n",
       "count  26420.000000  26420.000000   26420.000000  \n",
       "mean    -122.226127   2021.354996      48.781945  \n",
       "std        0.128973      0.478521      31.406812  \n",
       "min     -122.526650   2021.000000      -1.000000  \n",
       "25%     -122.333679   2021.000000      22.000000  \n",
       "50%     -122.257115   2021.000000      47.000000  \n",
       "75%     -122.139277   2022.000000      70.000000  \n",
       "max     -121.829060   2022.000000     122.000000  "
      ]
     },
     "execution_count": 113,
     "metadata": {},
     "output_type": "execute_result"
    }
   ],
   "source": [
    "df.describe()"
   ]
  },
  {
   "cell_type": "markdown",
   "metadata": {},
   "source": [
    "Here we find the most correlated column to price, which appears to be square footage of living space. It has a correlation of 0.54 with price."
   ]
  },
  {
   "cell_type": "code",
   "execution_count": 114,
   "metadata": {
    "scrolled": false
   },
   "outputs": [
    {
     "data": {
      "text/plain": [
       "age_when_sold   -0.073991\n",
       "sqft_lot         0.060780\n",
       "yr_built         0.075396\n",
       "date_year        0.089280\n",
       "long             0.145425\n",
       "floors           0.209825\n",
       "sqft_garage      0.216967\n",
       "sqft_patio       0.233824\n",
       "bedrooms         0.299602\n",
       "bathrooms        0.418828\n",
       "lat              0.440139\n",
       "sqft_living      0.547406\n",
       "price            1.000000\n",
       "Name: price, dtype: float64"
      ]
     },
     "execution_count": 114,
     "metadata": {},
     "output_type": "execute_result"
    }
   ],
   "source": [
    "df.corr()['price'].sort_values()"
   ]
  },
  {
   "cell_type": "markdown",
   "metadata": {},
   "source": [
    "### EDA Visualizations"
   ]
  },
  {
   "cell_type": "code",
   "execution_count": 115,
   "metadata": {},
   "outputs": [
    {
     "data": {
      "image/png": "[encoded data removed]",
      "text/plain": [
       "<Figure size 864x864 with 2 Axes>"
      ]
     },
     "metadata": {},
     "output_type": "display_data"
    }
   ],
   "source": [
    "sns.set(rc={'figure.figsize':(12, 12)})\n",
    "\n",
    "# Use the .heatmap function to depict the relationships between all our variables visually!\n",
    "mask  = np.triu(np.ones_like(df.corr()))\n",
    "sns.heatmap(abs(df.corr()), annot=True, mask=mask);"
   ]
  },
  {
   "cell_type": "markdown",
   "metadata": {},
   "source": [
    "Using the heatmap to analyze correlation between our variables also helps to get ahead of any multicollinearity problems we may have once our model is actually constructed. For example, we can see from the visualization that number of bathrooms and square-feet of livable space have a high positive correlation of 0.72."
   ]
  },
  {
   "cell_type": "code",
   "execution_count": 116,
   "metadata": {},
   "outputs": [],
   "source": [
    "#pairplot with wanted columns\n",
    "#commented out for run-time\n",
    "\n",
    "#sns.pairplot(df_colwanted)"
   ]
  },
  {
   "cell_type": "markdown",
   "metadata": {},
   "source": [
    "#### Log Scaling Target"
   ]
  },
  {
   "cell_type": "markdown",
   "metadata": {},
   "source": [
    "Below we create a histogram of the distribution of our target (price). We can see a slight right-skew to our data, which we will try normalizing by log-scaling our target."
   ]
  },
  {
   "cell_type": "code",
   "execution_count": 117,
   "metadata": {
    "scrolled": false
   },
   "outputs": [
    {
     "data": {
      "text/plain": [
       "<AxesSubplot:xlabel='price', ylabel='Count'>"
      ]
     },
     "execution_count": 117,
     "metadata": {},
     "output_type": "execute_result"
    },
    {
     "data": {
      "image/png": "[encoded data removed]",
      "text/plain": [
       "<Figure size 576x576 with 1 Axes>"
      ]
     },
     "metadata": {},
     "output_type": "display_data"
    }
   ],
   "source": [
    "fig, ax = plt.subplots(figsize=(8,8))\n",
    "sns.histplot(df.price, kde=True)"
   ]
  },
  {
   "cell_type": "markdown",
   "metadata": {},
   "source": [
    "As seen below, log-scaling our target actually overcompensates for the initial right-skew and adds a left-skew to our target's distribution. For the next chunk of our notebook, we experiment with using both our original target and its log-scaled version in our model to see how the difference affects model performance."
   ]
  },
  {
   "cell_type": "code",
   "execution_count": 118,
   "metadata": {},
   "outputs": [
    {
     "data": {
      "text/plain": [
       "<AxesSubplot:xlabel='price', ylabel='Count'>"
      ]
     },
     "execution_count": 118,
     "metadata": {},
     "output_type": "execute_result"
    },
    {
     "data": {
      "image/png": "[encoded data removed]",
      "text/plain": [
       "<Figure size 576x576 with 1 Axes>"
      ]
     },
     "metadata": {},
     "output_type": "display_data"
    }
   ],
   "source": [
    "#logscaling target\n",
    "fig, ax = plt.subplots(figsize=(8,8))\n",
    "y2 = np.log(df.price)\n",
    "sns.histplot(y2, kde=True)"
   ]
  },
  {
   "cell_type": "markdown",
   "metadata": {},
   "source": [
    "### EDA - Baseline OLS Model"
   ]
  },
  {
   "cell_type": "markdown",
   "metadata": {},
   "source": [
    "Here we construct our first baseline model, taking only numerical variables as predictors. The predictors we used to estimate price were square-footage of livable space, square-footage of lot size, and square-footage of patio size."
   ]
  },
  {
   "cell_type": "code",
   "execution_count": 119,
   "metadata": {
    "scrolled": false
   },
   "outputs": [
    {
     "data": {
      "text/plain": [
       "0.3033787884100603"
      ]
     },
     "execution_count": 119,
     "metadata": {},
     "output_type": "execute_result"
    }
   ],
   "source": [
    "x = sm.add_constant(df[['sqft_living', 'sqft_lot', 'sqft_patio']])\n",
    "y = df['price']\n",
    "model = sm.OLS(y, x).fit()\n",
    "model.rsquared"
   ]
  },
  {
   "cell_type": "code",
   "execution_count": 120,
   "metadata": {
    "scrolled": true
   },
   "outputs": [
    {
     "data": {
      "text/html": [
       "<table class=\"simpletable\">\n",
       "<caption>OLS Regression Results</caption>\n",
       "<tr>\n",
       "  <th>Dep. Variable:</th>          <td>price</td>      <th>  R-squared:         </th>  <td>   0.303</td>  \n",
       "</tr>\n",
       "<tr>\n",
       "  <th>Model:</th>                   <td>OLS</td>       <th>  Adj. R-squared:    </th>  <td>   0.303</td>  \n",
       "</tr>\n",
       "<tr>\n",
       "  <th>Method:</th>             <td>Least Squares</td>  <th>  F-statistic:       </th>  <td>   3835.</td>  \n",
       "</tr>\n",
       "<tr>\n",
       "  <th>Date:</th>             <td>Thu, 08 Dec 2022</td> <th>  Prob (F-statistic):</th>   <td>  0.00</td>   \n",
       "</tr>\n",
       "<tr>\n",
       "  <th>Time:</th>                 <td>19:00:36</td>     <th>  Log-Likelihood:    </th> <td>-3.7537e+05</td>\n",
       "</tr>\n",
       "<tr>\n",
       "  <th>No. Observations:</th>      <td> 26420</td>      <th>  AIC:               </th>  <td>7.507e+05</td> \n",
       "</tr>\n",
       "<tr>\n",
       "  <th>Df Residuals:</th>          <td> 26416</td>      <th>  BIC:               </th>  <td>7.508e+05</td> \n",
       "</tr>\n",
       "<tr>\n",
       "  <th>Df Model:</th>              <td>     3</td>      <th>                     </th>      <td> </td>     \n",
       "</tr>\n",
       "<tr>\n",
       "  <th>Covariance Type:</th>      <td>nonrobust</td>    <th>                     </th>      <td> </td>     \n",
       "</tr>\n",
       "</table>\n",
       "<table class=\"simpletable\">\n",
       "<tr>\n",
       "       <td></td>          <th>coef</th>     <th>std err</th>      <th>t</th>      <th>P>|t|</th>  <th>[0.025</th>    <th>0.975]</th>  \n",
       "</tr>\n",
       "<tr>\n",
       "  <th>const</th>       <td> 3.212e+05</td> <td> 6158.583</td> <td>   52.150</td> <td> 0.000</td> <td> 3.09e+05</td> <td> 3.33e+05</td>\n",
       "</tr>\n",
       "<tr>\n",
       "  <th>sqft_living</th> <td>  298.3032</td> <td>    3.077</td> <td>   96.946</td> <td> 0.000</td> <td>  292.272</td> <td>  304.334</td>\n",
       "</tr>\n",
       "<tr>\n",
       "  <th>sqft_lot</th>    <td>    0.0567</td> <td>    0.043</td> <td>    1.330</td> <td> 0.183</td> <td>   -0.027</td> <td>    0.140</td>\n",
       "</tr>\n",
       "<tr>\n",
       "  <th>sqft_patio</th>  <td>  122.8036</td> <td>   10.605</td> <td>   11.580</td> <td> 0.000</td> <td>  102.017</td> <td>  143.590</td>\n",
       "</tr>\n",
       "</table>\n",
       "<table class=\"simpletable\">\n",
       "<tr>\n",
       "  <th>Omnibus:</th>       <td>1260.728</td> <th>  Durbin-Watson:     </th> <td>   2.007</td>\n",
       "</tr>\n",
       "<tr>\n",
       "  <th>Prob(Omnibus):</th>  <td> 0.000</td>  <th>  Jarque-Bera (JB):  </th> <td>1501.723</td>\n",
       "</tr>\n",
       "<tr>\n",
       "  <th>Skew:</th>           <td> 0.524</td>  <th>  Prob(JB):          </th> <td>    0.00</td>\n",
       "</tr>\n",
       "<tr>\n",
       "  <th>Kurtosis:</th>       <td> 3.518</td>  <th>  Cond. No.          </th> <td>1.52e+05</td>\n",
       "</tr>\n",
       "</table><br/><br/>Notes:<br/>[1] Standard Errors assume that the covariance matrix of the errors is correctly specified.<br/>[2] The condition number is large, 1.52e+05. This might indicate that there are<br/>strong multicollinearity or other numerical problems."
      ],
      "text/plain": [
       "<class 'statsmodels.iolib.summary.Summary'>\n",
       "\"\"\"\n",
       "                            OLS Regression Results                            \n",
       "==============================================================================\n",
       "Dep. Variable:                  price   R-squared:                       0.303\n",
       "Model:                            OLS   Adj. R-squared:                  0.303\n",
       "Method:                 Least Squares   F-statistic:                     3835.\n",
       "Date:                Thu, 08 Dec 2022   Prob (F-statistic):               0.00\n",
       "Time:                        19:00:36   Log-Likelihood:            -3.7537e+05\n",
       "No. Observations:               26420   AIC:                         7.507e+05\n",
       "Df Residuals:                   26416   BIC:                         7.508e+05\n",
       "Df Model:                           3                                         \n",
       "Covariance Type:            nonrobust                                         \n",
       "===============================================================================\n",
       "                  coef    std err          t      P>|t|      [0.025      0.975]\n",
       "-------------------------------------------------------------------------------\n",
       "const        3.212e+05   6158.583     52.150      0.000    3.09e+05    3.33e+05\n",
       "sqft_living   298.3032      3.077     96.946      0.000     292.272     304.334\n",
       "sqft_lot        0.0567      0.043      1.330      0.183      -0.027       0.140\n",
       "sqft_patio    122.8036     10.605     11.580      0.000     102.017     143.590\n",
       "==============================================================================\n",
       "Omnibus:                     1260.728   Durbin-Watson:                   2.007\n",
       "Prob(Omnibus):                  0.000   Jarque-Bera (JB):             1501.723\n",
       "Skew:                           0.524   Prob(JB):                         0.00\n",
       "Kurtosis:                       3.518   Cond. No.                     1.52e+05\n",
       "==============================================================================\n",
       "\n",
       "Notes:\n",
       "[1] Standard Errors assume that the covariance matrix of the errors is correctly specified.\n",
       "[2] The condition number is large, 1.52e+05. This might indicate that there are\n",
       "strong multicollinearity or other numerical problems.\n",
       "\"\"\""
      ]
     },
     "execution_count": 120,
     "metadata": {},
     "output_type": "execute_result"
    }
   ],
   "source": [
    "model.summary()"
   ]
  },
  {
   "cell_type": "markdown",
   "metadata": {},
   "source": [
    "Analyzing our model's summary statistics, we can note that our R-squared score outperforms a baseline model, but there is still some work we can do to try and improve how accurately our predictors account for variance in our target. It is worth noting that some of our model's summary statistics, such as condition number, suggest that we violate some of the linear regression assumptions. For now we are simply trying to iterate to improve our R-squared score, though we address concerns with assumptions later in our notebook."
   ]
  },
  {
   "cell_type": "markdown",
   "metadata": {},
   "source": [
    "### EDA - Log Scaled OLS Model"
   ]
  },
  {
   "cell_type": "markdown",
   "metadata": {},
   "source": [
    "Now we try the same model using our log-scaled target, to see how it performs."
   ]
  },
  {
   "cell_type": "code",
   "execution_count": 121,
   "metadata": {},
   "outputs": [
    {
     "data": {
      "text/plain": [
       "0.2552250673702846"
      ]
     },
     "execution_count": 121,
     "metadata": {},
     "output_type": "execute_result"
    }
   ],
   "source": [
    "x = sm.add_constant(df[['sqft_living', 'sqft_lot', 'sqft_patio']])\n",
    "y2 = np.log(df['price'])\n",
    "model = sm.OLS(y2, x).fit()\n",
    "model.rsquared"
   ]
  },
  {
   "cell_type": "code",
   "execution_count": 122,
   "metadata": {},
   "outputs": [
    {
     "data": {
      "text/html": [
       "<table class=\"simpletable\">\n",
       "<caption>OLS Regression Results</caption>\n",
       "<tr>\n",
       "  <th>Dep. Variable:</th>          <td>price</td>      <th>  R-squared:         </th> <td>   0.255</td> \n",
       "</tr>\n",
       "<tr>\n",
       "  <th>Model:</th>                   <td>OLS</td>       <th>  Adj. R-squared:    </th> <td>   0.255</td> \n",
       "</tr>\n",
       "<tr>\n",
       "  <th>Method:</th>             <td>Least Squares</td>  <th>  F-statistic:       </th> <td>   3017.</td> \n",
       "</tr>\n",
       "<tr>\n",
       "  <th>Date:</th>             <td>Thu, 08 Dec 2022</td> <th>  Prob (F-statistic):</th>  <td>  0.00</td>  \n",
       "</tr>\n",
       "<tr>\n",
       "  <th>Time:</th>                 <td>19:00:41</td>     <th>  Log-Likelihood:    </th> <td> -14547.</td> \n",
       "</tr>\n",
       "<tr>\n",
       "  <th>No. Observations:</th>      <td> 26420</td>      <th>  AIC:               </th> <td>2.910e+04</td>\n",
       "</tr>\n",
       "<tr>\n",
       "  <th>Df Residuals:</th>          <td> 26416</td>      <th>  BIC:               </th> <td>2.914e+04</td>\n",
       "</tr>\n",
       "<tr>\n",
       "  <th>Df Model:</th>              <td>     3</td>      <th>                     </th>     <td> </td>    \n",
       "</tr>\n",
       "<tr>\n",
       "  <th>Covariance Type:</th>      <td>nonrobust</td>    <th>                     </th>     <td> </td>    \n",
       "</tr>\n",
       "</table>\n",
       "<table class=\"simpletable\">\n",
       "<tr>\n",
       "       <td></td>          <th>coef</th>     <th>std err</th>      <th>t</th>      <th>P>|t|</th>  <th>[0.025</th>    <th>0.975]</th>  \n",
       "</tr>\n",
       "<tr>\n",
       "  <th>const</th>       <td>   13.0027</td> <td>    0.007</td> <td> 1801.914</td> <td> 0.000</td> <td>   12.989</td> <td>   13.017</td>\n",
       "</tr>\n",
       "<tr>\n",
       "  <th>sqft_living</th> <td>    0.0003</td> <td> 3.61e-06</td> <td>   85.852</td> <td> 0.000</td> <td>    0.000</td> <td>    0.000</td>\n",
       "</tr>\n",
       "<tr>\n",
       "  <th>sqft_lot</th>    <td>-1.491e-08</td> <td> 4.99e-08</td> <td>   -0.299</td> <td> 0.765</td> <td>-1.13e-07</td> <td> 8.29e-08</td>\n",
       "</tr>\n",
       "<tr>\n",
       "  <th>sqft_patio</th>  <td>    0.0001</td> <td> 1.24e-05</td> <td>   10.947</td> <td> 0.000</td> <td>    0.000</td> <td>    0.000</td>\n",
       "</tr>\n",
       "</table>\n",
       "<table class=\"simpletable\">\n",
       "<tr>\n",
       "  <th>Omnibus:</th>       <td>7865.705</td> <th>  Durbin-Watson:     </th> <td>   2.011</td> \n",
       "</tr>\n",
       "<tr>\n",
       "  <th>Prob(Omnibus):</th>  <td> 0.000</td>  <th>  Jarque-Bera (JB):  </th> <td>50024.140</td>\n",
       "</tr>\n",
       "<tr>\n",
       "  <th>Skew:</th>           <td>-1.279</td>  <th>  Prob(JB):          </th> <td>    0.00</td> \n",
       "</tr>\n",
       "<tr>\n",
       "  <th>Kurtosis:</th>       <td> 9.237</td>  <th>  Cond. No.          </th> <td>1.52e+05</td> \n",
       "</tr>\n",
       "</table><br/><br/>Notes:<br/>[1] Standard Errors assume that the covariance matrix of the errors is correctly specified.<br/>[2] The condition number is large, 1.52e+05. This might indicate that there are<br/>strong multicollinearity or other numerical problems."
      ],
      "text/plain": [
       "<class 'statsmodels.iolib.summary.Summary'>\n",
       "\"\"\"\n",
       "                            OLS Regression Results                            \n",
       "==============================================================================\n",
       "Dep. Variable:                  price   R-squared:                       0.255\n",
       "Model:                            OLS   Adj. R-squared:                  0.255\n",
       "Method:                 Least Squares   F-statistic:                     3017.\n",
       "Date:                Thu, 08 Dec 2022   Prob (F-statistic):               0.00\n",
       "Time:                        19:00:41   Log-Likelihood:                -14547.\n",
       "No. Observations:               26420   AIC:                         2.910e+04\n",
       "Df Residuals:                   26416   BIC:                         2.914e+04\n",
       "Df Model:                           3                                         \n",
       "Covariance Type:            nonrobust                                         \n",
       "===============================================================================\n",
       "                  coef    std err          t      P>|t|      [0.025      0.975]\n",
       "-------------------------------------------------------------------------------\n",
       "const          13.0027      0.007   1801.914      0.000      12.989      13.017\n",
       "sqft_living     0.0003   3.61e-06     85.852      0.000       0.000       0.000\n",
       "sqft_lot    -1.491e-08   4.99e-08     -0.299      0.765   -1.13e-07    8.29e-08\n",
       "sqft_patio      0.0001   1.24e-05     10.947      0.000       0.000       0.000\n",
       "==============================================================================\n",
       "Omnibus:                     7865.705   Durbin-Watson:                   2.011\n",
       "Prob(Omnibus):                  0.000   Jarque-Bera (JB):            50024.140\n",
       "Skew:                          -1.279   Prob(JB):                         0.00\n",
       "Kurtosis:                       9.237   Cond. No.                     1.52e+05\n",
       "==============================================================================\n",
       "\n",
       "Notes:\n",
       "[1] Standard Errors assume that the covariance matrix of the errors is correctly specified.\n",
       "[2] The condition number is large, 1.52e+05. This might indicate that there are\n",
       "strong multicollinearity or other numerical problems.\n",
       "\"\"\""
      ]
     },
     "execution_count": 122,
     "metadata": {},
     "output_type": "execute_result"
    }
   ],
   "source": [
    "model.summary()"
   ]
  },
  {
   "cell_type": "markdown",
   "metadata": {},
   "source": [
    "As expected, looking at our new R-squared score, our model with our target log-scaled performs worse than without it. From this point forward, we use our unscaled target."
   ]
  },
  {
   "cell_type": "markdown",
   "metadata": {},
   "source": [
    "### EDA - Log Scaled OLS"
   ]
  },
  {
   "cell_type": "markdown",
   "metadata": {},
   "source": [
    "Next we try dropping some columns to address multicolinearity and see if we can get a better R-squared score. We also add our engineered column for the age of the house when it was sold to see if it helps our model."
   ]
  },
  {
   "cell_type": "code",
   "execution_count": 124,
   "metadata": {
    "scrolled": false
   },
   "outputs": [
    {
     "data": {
      "text/html": [
       "<table class=\"simpletable\">\n",
       "<caption>OLS Regression Results</caption>\n",
       "<tr>\n",
       "  <th>Dep. Variable:</th>          <td>price</td>      <th>  R-squared:         </th>  <td>   0.312</td>  \n",
       "</tr>\n",
       "<tr>\n",
       "  <th>Model:</th>                   <td>OLS</td>       <th>  Adj. R-squared:    </th>  <td>   0.312</td>  \n",
       "</tr>\n",
       "<tr>\n",
       "  <th>Method:</th>             <td>Least Squares</td>  <th>  F-statistic:       </th>  <td>   5998.</td>  \n",
       "</tr>\n",
       "<tr>\n",
       "  <th>Date:</th>             <td>Thu, 08 Dec 2022</td> <th>  Prob (F-statistic):</th>   <td>  0.00</td>   \n",
       "</tr>\n",
       "<tr>\n",
       "  <th>Time:</th>                 <td>19:02:03</td>     <th>  Log-Likelihood:    </th> <td>-3.7520e+05</td>\n",
       "</tr>\n",
       "<tr>\n",
       "  <th>No. Observations:</th>      <td> 26420</td>      <th>  AIC:               </th>  <td>7.504e+05</td> \n",
       "</tr>\n",
       "<tr>\n",
       "  <th>Df Residuals:</th>          <td> 26417</td>      <th>  BIC:               </th>  <td>7.504e+05</td> \n",
       "</tr>\n",
       "<tr>\n",
       "  <th>Df Model:</th>              <td>     2</td>      <th>                     </th>      <td> </td>     \n",
       "</tr>\n",
       "<tr>\n",
       "  <th>Covariance Type:</th>      <td>nonrobust</td>    <th>                     </th>      <td> </td>     \n",
       "</tr>\n",
       "</table>\n",
       "<table class=\"simpletable\">\n",
       "<tr>\n",
       "        <td></td>           <th>coef</th>     <th>std err</th>      <th>t</th>      <th>P>|t|</th>  <th>[0.025</th>    <th>0.975]</th>  \n",
       "</tr>\n",
       "<tr>\n",
       "  <th>const</th>         <td> 1.994e+05</td> <td> 8287.550</td> <td>   24.065</td> <td> 0.000</td> <td> 1.83e+05</td> <td> 2.16e+05</td>\n",
       "</tr>\n",
       "<tr>\n",
       "  <th>sqft_living</th>   <td>  332.4032</td> <td>    3.062</td> <td>  108.565</td> <td> 0.000</td> <td>  326.402</td> <td>  338.404</td>\n",
       "</tr>\n",
       "<tr>\n",
       "  <th>age_when_sold</th> <td> 1627.4028</td> <td>   73.828</td> <td>   22.043</td> <td> 0.000</td> <td> 1482.696</td> <td> 1772.109</td>\n",
       "</tr>\n",
       "</table>\n",
       "<table class=\"simpletable\">\n",
       "<tr>\n",
       "  <th>Omnibus:</th>       <td>1187.902</td> <th>  Durbin-Watson:     </th> <td>   2.006</td>\n",
       "</tr>\n",
       "<tr>\n",
       "  <th>Prob(Omnibus):</th>  <td> 0.000</td>  <th>  Jarque-Bera (JB):  </th> <td>1438.162</td>\n",
       "</tr>\n",
       "<tr>\n",
       "  <th>Skew:</th>           <td> 0.493</td>  <th>  Prob(JB):          </th> <td>    0.00</td>\n",
       "</tr>\n",
       "<tr>\n",
       "  <th>Kurtosis:</th>       <td> 3.578</td>  <th>  Cond. No.          </th> <td>8.01e+03</td>\n",
       "</tr>\n",
       "</table><br/><br/>Notes:<br/>[1] Standard Errors assume that the covariance matrix of the errors is correctly specified.<br/>[2] The condition number is large, 8.01e+03. This might indicate that there are<br/>strong multicollinearity or other numerical problems."
      ],
      "text/plain": [
       "<class 'statsmodels.iolib.summary.Summary'>\n",
       "\"\"\"\n",
       "                            OLS Regression Results                            \n",
       "==============================================================================\n",
       "Dep. Variable:                  price   R-squared:                       0.312\n",
       "Model:                            OLS   Adj. R-squared:                  0.312\n",
       "Method:                 Least Squares   F-statistic:                     5998.\n",
       "Date:                Thu, 08 Dec 2022   Prob (F-statistic):               0.00\n",
       "Time:                        19:02:03   Log-Likelihood:            -3.7520e+05\n",
       "No. Observations:               26420   AIC:                         7.504e+05\n",
       "Df Residuals:                   26417   BIC:                         7.504e+05\n",
       "Df Model:                           2                                         \n",
       "Covariance Type:            nonrobust                                         \n",
       "=================================================================================\n",
       "                    coef    std err          t      P>|t|      [0.025      0.975]\n",
       "---------------------------------------------------------------------------------\n",
       "const          1.994e+05   8287.550     24.065      0.000    1.83e+05    2.16e+05\n",
       "sqft_living     332.4032      3.062    108.565      0.000     326.402     338.404\n",
       "age_when_sold  1627.4028     73.828     22.043      0.000    1482.696    1772.109\n",
       "==============================================================================\n",
       "Omnibus:                     1187.902   Durbin-Watson:                   2.006\n",
       "Prob(Omnibus):                  0.000   Jarque-Bera (JB):             1438.162\n",
       "Skew:                           0.493   Prob(JB):                         0.00\n",
       "Kurtosis:                       3.578   Cond. No.                     8.01e+03\n",
       "==============================================================================\n",
       "\n",
       "Notes:\n",
       "[1] Standard Errors assume that the covariance matrix of the errors is correctly specified.\n",
       "[2] The condition number is large, 8.01e+03. This might indicate that there are\n",
       "strong multicollinearity or other numerical problems.\n",
       "\"\"\""
      ]
     },
     "execution_count": 124,
     "metadata": {},
     "output_type": "execute_result"
    }
   ],
   "source": [
    "x = sm.add_constant(df[['sqft_living', 'age_when_sold']])\n",
    "y2 = np.log(df['price'])\n",
    "model = sm.OLS(y, x).fit()\n",
    "model.summary()"
   ]
  },
  {
   "cell_type": "markdown",
   "metadata": {},
   "source": [
    "As seen in the above model summary, our R-squared score increased by a small amount, suggesting this new model does a better job of predicting price than the last one. We can also see that our condition number dropped by an order of magnitude, suggesting that dropping some columns helped with multicollinearity issues. All this said, our R-squared score is still lower than we would like it and our condition number is still high enough to suggest multicollinearity. We continue iterating."
   ]
  },
  {
   "cell_type": "markdown",
   "metadata": {},
   "source": [
    "### EDA - OneHotEncoding"
   ]
  },
  {
   "cell_type": "markdown",
   "metadata": {},
   "source": [
    "Here we decide to start incorporating some categorical variables into our model, using One-Hot Encoding. Specifically, we dummy-out and try incorporating features for the number of bathrooms, number of bedrooms, condition, and heat source in a house. We also make sure to drop the first encoded feature from each of these categories, so as to help control for multicollinearity."
   ]
  },
  {
   "cell_type": "code",
   "execution_count": 126,
   "metadata": {},
   "outputs": [
    {
     "data": {
      "text/html": [
       "<div>\n",
       "<style scoped>\n",
       "    .dataframe tbody tr th:only-of-type {\n",
       "        vertical-align: middle;\n",
       "    }\n",
       "\n",
       "    .dataframe tbody tr th {\n",
       "        vertical-align: top;\n",
       "    }\n",
       "\n",
       "    .dataframe thead th {\n",
       "        text-align: right;\n",
       "    }\n",
       "</style>\n",
       "<table border=\"1\" class=\"dataframe\">\n",
       "  <thead>\n",
       "    <tr style=\"text-align: right;\">\n",
       "      <th></th>\n",
       "      <th>const</th>\n",
       "      <th>sqft_living</th>\n",
       "      <th>age_when_sold</th>\n",
       "      <th>x0_0.5</th>\n",
       "      <th>x0_1.0</th>\n",
       "      <th>x0_1.5</th>\n",
       "      <th>x0_2.0</th>\n",
       "      <th>x0_2.5</th>\n",
       "      <th>x0_3.0</th>\n",
       "      <th>x0_3.5</th>\n",
       "      <th>...</th>\n",
       "      <th>x2_Fair</th>\n",
       "      <th>x2_Good</th>\n",
       "      <th>x2_Poor</th>\n",
       "      <th>x2_Very Good</th>\n",
       "      <th>x3_Electricity/Solar</th>\n",
       "      <th>x3_Gas</th>\n",
       "      <th>x3_Gas/Solar</th>\n",
       "      <th>x3_Oil</th>\n",
       "      <th>x3_Oil/Solar</th>\n",
       "      <th>x3_Other</th>\n",
       "    </tr>\n",
       "  </thead>\n",
       "  <tbody>\n",
       "    <tr>\n",
       "      <th>0</th>\n",
       "      <td>1.0</td>\n",
       "      <td>1180</td>\n",
       "      <td>53</td>\n",
       "      <td>0.0</td>\n",
       "      <td>1.0</td>\n",
       "      <td>0.0</td>\n",
       "      <td>0.0</td>\n",
       "      <td>0.0</td>\n",
       "      <td>0.0</td>\n",
       "      <td>0.0</td>\n",
       "      <td>...</td>\n",
       "      <td>0.0</td>\n",
       "      <td>1.0</td>\n",
       "      <td>0.0</td>\n",
       "      <td>0.0</td>\n",
       "      <td>0.0</td>\n",
       "      <td>1.0</td>\n",
       "      <td>0.0</td>\n",
       "      <td>0.0</td>\n",
       "      <td>0.0</td>\n",
       "      <td>0.0</td>\n",
       "    </tr>\n",
       "    <tr>\n",
       "      <th>1</th>\n",
       "      <td>1.0</td>\n",
       "      <td>2770</td>\n",
       "      <td>71</td>\n",
       "      <td>0.0</td>\n",
       "      <td>0.0</td>\n",
       "      <td>0.0</td>\n",
       "      <td>0.0</td>\n",
       "      <td>1.0</td>\n",
       "      <td>0.0</td>\n",
       "      <td>0.0</td>\n",
       "      <td>...</td>\n",
       "      <td>0.0</td>\n",
       "      <td>0.0</td>\n",
       "      <td>0.0</td>\n",
       "      <td>0.0</td>\n",
       "      <td>0.0</td>\n",
       "      <td>0.0</td>\n",
       "      <td>0.0</td>\n",
       "      <td>1.0</td>\n",
       "      <td>0.0</td>\n",
       "      <td>0.0</td>\n",
       "    </tr>\n",
       "  </tbody>\n",
       "</table>\n",
       "<p>2 rows × 39 columns</p>\n",
       "</div>"
      ],
      "text/plain": [
       "   const  sqft_living  age_when_sold  x0_0.5  x0_1.0  x0_1.5  x0_2.0  x0_2.5  \\\n",
       "0    1.0         1180             53     0.0     1.0     0.0     0.0     0.0   \n",
       "1    1.0         2770             71     0.0     0.0     0.0     0.0     1.0   \n",
       "\n",
       "   x0_3.0  x0_3.5  ...  x2_Fair  x2_Good  x2_Poor  x2_Very Good  \\\n",
       "0     0.0     0.0  ...      0.0      1.0      0.0           0.0   \n",
       "1     0.0     0.0  ...      0.0      0.0      0.0           0.0   \n",
       "\n",
       "   x3_Electricity/Solar  x3_Gas  x3_Gas/Solar  x3_Oil  x3_Oil/Solar  x3_Other  \n",
       "0                   0.0     1.0           0.0     0.0           0.0       0.0  \n",
       "1                   0.0     0.0           0.0     1.0           0.0       0.0  \n",
       "\n",
       "[2 rows x 39 columns]"
      ]
     },
     "execution_count": 126,
     "metadata": {},
     "output_type": "execute_result"
    }
   ],
   "source": [
    "# One-Hot Encoding our categorical variables\n",
    "\n",
    "#0:number of baths\n",
    "#1:number of bedrooms\n",
    "#2:condition\n",
    "#3:heat source\n",
    "\n",
    "ohe = OneHotEncoder(drop='first')\n",
    "ohe_cols = ['bathrooms', \n",
    "            'bedrooms', \n",
    "            'condition', \n",
    "            'heat_source']\n",
    "ohe.fit(df[ohe_cols])\n",
    "ohe_all = pd.DataFrame(ohe.transform(df[ohe_cols]).todense(),\n",
    "                        columns=ohe.get_feature_names())\n",
    "ohe_all\n",
    "X_cat = pd.concat([x,ohe_all], axis=1)\n",
    "X_cat.head(2)"
   ]
  },
  {
   "cell_type": "code",
   "execution_count": 128,
   "metadata": {
    "scrolled": true
   },
   "outputs": [
    {
     "data": {
      "text/html": [
       "<table class=\"simpletable\">\n",
       "<caption>OLS Regression Results</caption>\n",
       "<tr>\n",
       "  <th>Dep. Variable:</th>          <td>price</td>      <th>  R-squared:         </th>  <td>   0.335</td>  \n",
       "</tr>\n",
       "<tr>\n",
       "  <th>Model:</th>                   <td>OLS</td>       <th>  Adj. R-squared:    </th>  <td>   0.334</td>  \n",
       "</tr>\n",
       "<tr>\n",
       "  <th>Method:</th>             <td>Least Squares</td>  <th>  F-statistic:       </th>  <td>   349.6</td>  \n",
       "</tr>\n",
       "<tr>\n",
       "  <th>Date:</th>             <td>Thu, 08 Dec 2022</td> <th>  Prob (F-statistic):</th>   <td>  0.00</td>   \n",
       "</tr>\n",
       "<tr>\n",
       "  <th>Time:</th>                 <td>19:10:25</td>     <th>  Log-Likelihood:    </th> <td>-3.7475e+05</td>\n",
       "</tr>\n",
       "<tr>\n",
       "  <th>No. Observations:</th>      <td> 26420</td>      <th>  AIC:               </th>  <td>7.496e+05</td> \n",
       "</tr>\n",
       "<tr>\n",
       "  <th>Df Residuals:</th>          <td> 26381</td>      <th>  BIC:               </th>  <td>7.499e+05</td> \n",
       "</tr>\n",
       "<tr>\n",
       "  <th>Df Model:</th>              <td>    38</td>      <th>                     </th>      <td> </td>     \n",
       "</tr>\n",
       "<tr>\n",
       "  <th>Covariance Type:</th>      <td>nonrobust</td>    <th>                     </th>      <td> </td>     \n",
       "</tr>\n",
       "</table>\n",
       "<table class=\"simpletable\">\n",
       "<tr>\n",
       "            <td></td>              <th>coef</th>     <th>std err</th>      <th>t</th>      <th>P>|t|</th>  <th>[0.025</th>    <th>0.975]</th>  \n",
       "</tr>\n",
       "<tr>\n",
       "  <th>const</th>                <td> 2.719e+05</td> <td>  7.6e+04</td> <td>    3.579</td> <td> 0.000</td> <td> 1.23e+05</td> <td> 4.21e+05</td>\n",
       "</tr>\n",
       "<tr>\n",
       "  <th>sqft_living</th>          <td>  315.6147</td> <td>    4.719</td> <td>   66.886</td> <td> 0.000</td> <td>  306.366</td> <td>  324.864</td>\n",
       "</tr>\n",
       "<tr>\n",
       "  <th>age_when_sold</th>        <td> 2306.5240</td> <td>   91.213</td> <td>   25.287</td> <td> 0.000</td> <td> 2127.741</td> <td> 2485.307</td>\n",
       "</tr>\n",
       "<tr>\n",
       "  <th>x0_0.5</th>               <td> 4.207e+05</td> <td> 1.88e+05</td> <td>    2.236</td> <td> 0.025</td> <td> 5.19e+04</td> <td>  7.9e+05</td>\n",
       "</tr>\n",
       "<tr>\n",
       "  <th>x0_1.0</th>               <td> 2.039e+05</td> <td> 1.04e+05</td> <td>    1.957</td> <td> 0.050</td> <td> -303.442</td> <td> 4.08e+05</td>\n",
       "</tr>\n",
       "<tr>\n",
       "  <th>x0_1.5</th>               <td> 2.354e+05</td> <td> 1.04e+05</td> <td>    2.255</td> <td> 0.024</td> <td> 3.08e+04</td> <td>  4.4e+05</td>\n",
       "</tr>\n",
       "<tr>\n",
       "  <th>x0_2.0</th>               <td> 2.843e+05</td> <td> 1.04e+05</td> <td>    2.729</td> <td> 0.006</td> <td> 8.01e+04</td> <td> 4.88e+05</td>\n",
       "</tr>\n",
       "<tr>\n",
       "  <th>x0_2.5</th>               <td> 3.403e+05</td> <td> 1.04e+05</td> <td>    3.269</td> <td> 0.001</td> <td> 1.36e+05</td> <td> 5.44e+05</td>\n",
       "</tr>\n",
       "<tr>\n",
       "  <th>x0_3.0</th>               <td> 3.575e+05</td> <td> 1.04e+05</td> <td>    3.430</td> <td> 0.001</td> <td> 1.53e+05</td> <td> 5.62e+05</td>\n",
       "</tr>\n",
       "<tr>\n",
       "  <th>x0_3.5</th>               <td> 4.663e+05</td> <td> 1.04e+05</td> <td>    4.464</td> <td> 0.000</td> <td> 2.62e+05</td> <td> 6.71e+05</td>\n",
       "</tr>\n",
       "<tr>\n",
       "  <th>x0_4.0</th>               <td> 4.548e+05</td> <td> 1.05e+05</td> <td>    4.312</td> <td> 0.000</td> <td> 2.48e+05</td> <td> 6.61e+05</td>\n",
       "</tr>\n",
       "<tr>\n",
       "  <th>x0_4.5</th>               <td> 4.401e+05</td> <td> 1.08e+05</td> <td>    4.070</td> <td> 0.000</td> <td> 2.28e+05</td> <td> 6.52e+05</td>\n",
       "</tr>\n",
       "<tr>\n",
       "  <th>x0_5.0</th>               <td> 3.697e+05</td> <td> 1.19e+05</td> <td>    3.104</td> <td> 0.002</td> <td> 1.36e+05</td> <td> 6.03e+05</td>\n",
       "</tr>\n",
       "<tr>\n",
       "  <th>x0_5.5</th>               <td> 7.582e+04</td> <td> 1.36e+05</td> <td>    0.556</td> <td> 0.578</td> <td>-1.91e+05</td> <td> 3.43e+05</td>\n",
       "</tr>\n",
       "<tr>\n",
       "  <th>x0_6.0</th>               <td> 6.282e+05</td> <td> 1.45e+05</td> <td>    4.336</td> <td> 0.000</td> <td> 3.44e+05</td> <td> 9.12e+05</td>\n",
       "</tr>\n",
       "<tr>\n",
       "  <th>x0_6.5</th>               <td> 8.094e+05</td> <td> 2.28e+05</td> <td>    3.548</td> <td> 0.000</td> <td> 3.62e+05</td> <td> 1.26e+06</td>\n",
       "</tr>\n",
       "<tr>\n",
       "  <th>x0_7.0</th>               <td> 4.396e+05</td> <td> 2.28e+05</td> <td>    1.924</td> <td> 0.054</td> <td>-8143.566</td> <td> 8.87e+05</td>\n",
       "</tr>\n",
       "<tr>\n",
       "  <th>x0_7.5</th>               <td> 3.797e+05</td> <td> 2.76e+05</td> <td>    1.373</td> <td> 0.170</td> <td>-1.62e+05</td> <td> 9.22e+05</td>\n",
       "</tr>\n",
       "<tr>\n",
       "  <th>x1_1</th>                 <td>-2.607e+05</td> <td> 8.58e+04</td> <td>   -3.038</td> <td> 0.002</td> <td>-4.29e+05</td> <td>-9.25e+04</td>\n",
       "</tr>\n",
       "<tr>\n",
       "  <th>x1_2</th>                 <td>-3.291e+05</td> <td> 8.39e+04</td> <td>   -3.921</td> <td> 0.000</td> <td>-4.94e+05</td> <td>-1.65e+05</td>\n",
       "</tr>\n",
       "<tr>\n",
       "  <th>x1_3</th>                 <td>-4.069e+05</td> <td> 8.39e+04</td> <td>   -4.848</td> <td> 0.000</td> <td>-5.71e+05</td> <td>-2.42e+05</td>\n",
       "</tr>\n",
       "<tr>\n",
       "  <th>x1_4</th>                 <td>-4.464e+05</td> <td> 8.41e+04</td> <td>   -5.306</td> <td> 0.000</td> <td>-6.11e+05</td> <td>-2.82e+05</td>\n",
       "</tr>\n",
       "<tr>\n",
       "  <th>x1_5</th>                 <td>-5.166e+05</td> <td> 8.45e+04</td> <td>   -6.112</td> <td> 0.000</td> <td>-6.82e+05</td> <td>-3.51e+05</td>\n",
       "</tr>\n",
       "<tr>\n",
       "  <th>x1_6</th>                 <td>-5.788e+05</td> <td> 8.63e+04</td> <td>   -6.705</td> <td> 0.000</td> <td>-7.48e+05</td> <td> -4.1e+05</td>\n",
       "</tr>\n",
       "<tr>\n",
       "  <th>x1_7</th>                 <td>-5.965e+05</td> <td> 9.63e+04</td> <td>   -6.192</td> <td> 0.000</td> <td>-7.85e+05</td> <td>-4.08e+05</td>\n",
       "</tr>\n",
       "<tr>\n",
       "  <th>x1_8</th>                 <td>-6.843e+05</td> <td> 1.07e+05</td> <td>   -6.411</td> <td> 0.000</td> <td>-8.94e+05</td> <td>-4.75e+05</td>\n",
       "</tr>\n",
       "<tr>\n",
       "  <th>x1_9</th>                 <td>-6.432e+05</td> <td> 1.38e+05</td> <td>   -4.661</td> <td> 0.000</td> <td>-9.14e+05</td> <td>-3.73e+05</td>\n",
       "</tr>\n",
       "<tr>\n",
       "  <th>x1_10</th>                <td> -7.41e+05</td> <td> 4.14e+05</td> <td>   -1.791</td> <td> 0.073</td> <td>-1.55e+06</td> <td> 6.99e+04</td>\n",
       "</tr>\n",
       "<tr>\n",
       "  <th>x1_11</th>                <td>-4.156e+05</td> <td> 3.61e+05</td> <td>   -1.153</td> <td> 0.249</td> <td>-1.12e+06</td> <td> 2.91e+05</td>\n",
       "</tr>\n",
       "<tr>\n",
       "  <th>x2_Fair</th>              <td>-6.827e+04</td> <td> 2.45e+04</td> <td>   -2.787</td> <td> 0.005</td> <td>-1.16e+05</td> <td>-2.03e+04</td>\n",
       "</tr>\n",
       "<tr>\n",
       "  <th>x2_Good</th>              <td> 7249.5065</td> <td> 5191.628</td> <td>    1.396</td> <td> 0.163</td> <td>-2926.365</td> <td> 1.74e+04</td>\n",
       "</tr>\n",
       "<tr>\n",
       "  <th>x2_Poor</th>              <td>-1.674e+05</td> <td>  4.6e+04</td> <td>   -3.643</td> <td> 0.000</td> <td>-2.57e+05</td> <td>-7.73e+04</td>\n",
       "</tr>\n",
       "<tr>\n",
       "  <th>x2_Very Good</th>         <td> 4.152e+04</td> <td> 7401.296</td> <td>    5.609</td> <td> 0.000</td> <td>  2.7e+04</td> <td>  5.6e+04</td>\n",
       "</tr>\n",
       "<tr>\n",
       "  <th>x3_Electricity/Solar</th> <td>-2.183e+04</td> <td> 4.88e+04</td> <td>   -0.447</td> <td> 0.655</td> <td>-1.18e+05</td> <td> 7.39e+04</td>\n",
       "</tr>\n",
       "<tr>\n",
       "  <th>x3_Gas</th>               <td>   4.3e+04</td> <td> 5613.743</td> <td>    7.659</td> <td> 0.000</td> <td>  3.2e+04</td> <td>  5.4e+04</td>\n",
       "</tr>\n",
       "<tr>\n",
       "  <th>x3_Gas/Solar</th>         <td>  2.07e+05</td> <td> 4.13e+04</td> <td>    5.008</td> <td> 0.000</td> <td> 1.26e+05</td> <td> 2.88e+05</td>\n",
       "</tr>\n",
       "<tr>\n",
       "  <th>x3_Oil</th>               <td> 2.021e+04</td> <td> 8603.135</td> <td>    2.349</td> <td> 0.019</td> <td> 3343.129</td> <td> 3.71e+04</td>\n",
       "</tr>\n",
       "<tr>\n",
       "  <th>x3_Oil/Solar</th>         <td>-2.842e+04</td> <td> 1.75e+05</td> <td>   -0.162</td> <td> 0.871</td> <td>-3.72e+05</td> <td> 3.15e+05</td>\n",
       "</tr>\n",
       "<tr>\n",
       "  <th>x3_Other</th>             <td> 1.602e+05</td> <td> 8.51e+04</td> <td>    1.882</td> <td> 0.060</td> <td>-6676.357</td> <td> 3.27e+05</td>\n",
       "</tr>\n",
       "</table>\n",
       "<table class=\"simpletable\">\n",
       "<tr>\n",
       "  <th>Omnibus:</th>       <td>1279.104</td> <th>  Durbin-Watson:     </th> <td>   2.001</td>\n",
       "</tr>\n",
       "<tr>\n",
       "  <th>Prob(Omnibus):</th>  <td> 0.000</td>  <th>  Jarque-Bera (JB):  </th> <td>1619.553</td>\n",
       "</tr>\n",
       "<tr>\n",
       "  <th>Skew:</th>           <td> 0.498</td>  <th>  Prob(JB):          </th> <td>    0.00</td>\n",
       "</tr>\n",
       "<tr>\n",
       "  <th>Kurtosis:</th>       <td> 3.691</td>  <th>  Cond. No.          </th> <td>4.90e+05</td>\n",
       "</tr>\n",
       "</table><br/><br/>Notes:<br/>[1] Standard Errors assume that the covariance matrix of the errors is correctly specified.<br/>[2] The condition number is large, 4.9e+05. This might indicate that there are<br/>strong multicollinearity or other numerical problems."
      ],
      "text/plain": [
       "<class 'statsmodels.iolib.summary.Summary'>\n",
       "\"\"\"\n",
       "                            OLS Regression Results                            \n",
       "==============================================================================\n",
       "Dep. Variable:                  price   R-squared:                       0.335\n",
       "Model:                            OLS   Adj. R-squared:                  0.334\n",
       "Method:                 Least Squares   F-statistic:                     349.6\n",
       "Date:                Thu, 08 Dec 2022   Prob (F-statistic):               0.00\n",
       "Time:                        19:10:25   Log-Likelihood:            -3.7475e+05\n",
       "No. Observations:               26420   AIC:                         7.496e+05\n",
       "Df Residuals:                   26381   BIC:                         7.499e+05\n",
       "Df Model:                          38                                         \n",
       "Covariance Type:            nonrobust                                         \n",
       "========================================================================================\n",
       "                           coef    std err          t      P>|t|      [0.025      0.975]\n",
       "----------------------------------------------------------------------------------------\n",
       "const                 2.719e+05    7.6e+04      3.579      0.000    1.23e+05    4.21e+05\n",
       "sqft_living            315.6147      4.719     66.886      0.000     306.366     324.864\n",
       "age_when_sold         2306.5240     91.213     25.287      0.000    2127.741    2485.307\n",
       "x0_0.5                4.207e+05   1.88e+05      2.236      0.025    5.19e+04     7.9e+05\n",
       "x0_1.0                2.039e+05   1.04e+05      1.957      0.050    -303.442    4.08e+05\n",
       "x0_1.5                2.354e+05   1.04e+05      2.255      0.024    3.08e+04     4.4e+05\n",
       "x0_2.0                2.843e+05   1.04e+05      2.729      0.006    8.01e+04    4.88e+05\n",
       "x0_2.5                3.403e+05   1.04e+05      3.269      0.001    1.36e+05    5.44e+05\n",
       "x0_3.0                3.575e+05   1.04e+05      3.430      0.001    1.53e+05    5.62e+05\n",
       "x0_3.5                4.663e+05   1.04e+05      4.464      0.000    2.62e+05    6.71e+05\n",
       "x0_4.0                4.548e+05   1.05e+05      4.312      0.000    2.48e+05    6.61e+05\n",
       "x0_4.5                4.401e+05   1.08e+05      4.070      0.000    2.28e+05    6.52e+05\n",
       "x0_5.0                3.697e+05   1.19e+05      3.104      0.002    1.36e+05    6.03e+05\n",
       "x0_5.5                7.582e+04   1.36e+05      0.556      0.578   -1.91e+05    3.43e+05\n",
       "x0_6.0                6.282e+05   1.45e+05      4.336      0.000    3.44e+05    9.12e+05\n",
       "x0_6.5                8.094e+05   2.28e+05      3.548      0.000    3.62e+05    1.26e+06\n",
       "x0_7.0                4.396e+05   2.28e+05      1.924      0.054   -8143.566    8.87e+05\n",
       "x0_7.5                3.797e+05   2.76e+05      1.373      0.170   -1.62e+05    9.22e+05\n",
       "x1_1                 -2.607e+05   8.58e+04     -3.038      0.002   -4.29e+05   -9.25e+04\n",
       "x1_2                 -3.291e+05   8.39e+04     -3.921      0.000   -4.94e+05   -1.65e+05\n",
       "x1_3                 -4.069e+05   8.39e+04     -4.848      0.000   -5.71e+05   -2.42e+05\n",
       "x1_4                 -4.464e+05   8.41e+04     -5.306      0.000   -6.11e+05   -2.82e+05\n",
       "x1_5                 -5.166e+05   8.45e+04     -6.112      0.000   -6.82e+05   -3.51e+05\n",
       "x1_6                 -5.788e+05   8.63e+04     -6.705      0.000   -7.48e+05    -4.1e+05\n",
       "x1_7                 -5.965e+05   9.63e+04     -6.192      0.000   -7.85e+05   -4.08e+05\n",
       "x1_8                 -6.843e+05   1.07e+05     -6.411      0.000   -8.94e+05   -4.75e+05\n",
       "x1_9                 -6.432e+05   1.38e+05     -4.661      0.000   -9.14e+05   -3.73e+05\n",
       "x1_10                 -7.41e+05   4.14e+05     -1.791      0.073   -1.55e+06    6.99e+04\n",
       "x1_11                -4.156e+05   3.61e+05     -1.153      0.249   -1.12e+06    2.91e+05\n",
       "x2_Fair              -6.827e+04   2.45e+04     -2.787      0.005   -1.16e+05   -2.03e+04\n",
       "x2_Good               7249.5065   5191.628      1.396      0.163   -2926.365    1.74e+04\n",
       "x2_Poor              -1.674e+05    4.6e+04     -3.643      0.000   -2.57e+05   -7.73e+04\n",
       "x2_Very Good          4.152e+04   7401.296      5.609      0.000     2.7e+04     5.6e+04\n",
       "x3_Electricity/Solar -2.183e+04   4.88e+04     -0.447      0.655   -1.18e+05    7.39e+04\n",
       "x3_Gas                  4.3e+04   5613.743      7.659      0.000     3.2e+04     5.4e+04\n",
       "x3_Gas/Solar           2.07e+05   4.13e+04      5.008      0.000    1.26e+05    2.88e+05\n",
       "x3_Oil                2.021e+04   8603.135      2.349      0.019    3343.129    3.71e+04\n",
       "x3_Oil/Solar         -2.842e+04   1.75e+05     -0.162      0.871   -3.72e+05    3.15e+05\n",
       "x3_Other              1.602e+05   8.51e+04      1.882      0.060   -6676.357    3.27e+05\n",
       "==============================================================================\n",
       "Omnibus:                     1279.104   Durbin-Watson:                   2.001\n",
       "Prob(Omnibus):                  0.000   Jarque-Bera (JB):             1619.553\n",
       "Skew:                           0.498   Prob(JB):                         0.00\n",
       "Kurtosis:                       3.691   Cond. No.                     4.90e+05\n",
       "==============================================================================\n",
       "\n",
       "Notes:\n",
       "[1] Standard Errors assume that the covariance matrix of the errors is correctly specified.\n",
       "[2] The condition number is large, 4.9e+05. This might indicate that there are\n",
       "strong multicollinearity or other numerical problems.\n",
       "\"\"\""
      ]
     },
     "execution_count": 128,
     "metadata": {},
     "output_type": "execute_result"
    }
   ],
   "source": [
    "# Creating our new model using one-hot encoded categorical features\n",
    "scaled_oheall_model = sm.OLS(y, sm.add_constant(X_cat)).fit()\n",
    "scaled_oheall_model.summary()"
   ]
  },
  {
   "cell_type": "markdown",
   "metadata": {},
   "source": [
    "This new model incorporating some categorical features has a slightly higher R-squared score than our previous iteration, but we see the condition number jump up two orders of magnitude, suggesting stronger problems with multicollinearity."
   ]
  },
  {
   "cell_type": "markdown",
   "metadata": {},
   "source": [
    "### Scale the numerical columns"
   ]
  },
  {
   "cell_type": "markdown",
   "metadata": {},
   "source": [
    "Here we take a break from feature selection and engineering to Standard Scale our numeric variables. This is in order to make their coefficients easier to compare with one another."
   ]
  },
  {
   "cell_type": "code",
   "execution_count": 129,
   "metadata": {
    "scrolled": true
   },
   "outputs": [
    {
     "data": {
      "text/html": [
       "<div>\n",
       "<style scoped>\n",
       "    .dataframe tbody tr th:only-of-type {\n",
       "        vertical-align: middle;\n",
       "    }\n",
       "\n",
       "    .dataframe tbody tr th {\n",
       "        vertical-align: top;\n",
       "    }\n",
       "\n",
       "    .dataframe thead th {\n",
       "        text-align: right;\n",
       "    }\n",
       "</style>\n",
       "<table border=\"1\" class=\"dataframe\">\n",
       "  <thead>\n",
       "    <tr style=\"text-align: right;\">\n",
       "      <th></th>\n",
       "      <th>date</th>\n",
       "      <th>price</th>\n",
       "      <th>bedrooms</th>\n",
       "      <th>bathrooms</th>\n",
       "      <th>sqft_living</th>\n",
       "      <th>sqft_lot</th>\n",
       "      <th>floors</th>\n",
       "      <th>waterfront</th>\n",
       "      <th>greenbelt</th>\n",
       "      <th>nuisance</th>\n",
       "      <th>...</th>\n",
       "      <th>sewer_system</th>\n",
       "      <th>sqft_garage</th>\n",
       "      <th>sqft_patio</th>\n",
       "      <th>yr_built</th>\n",
       "      <th>address</th>\n",
       "      <th>lat</th>\n",
       "      <th>long</th>\n",
       "      <th>zipcode</th>\n",
       "      <th>date_year</th>\n",
       "      <th>age_when_sold</th>\n",
       "    </tr>\n",
       "  </thead>\n",
       "  <tbody>\n",
       "    <tr>\n",
       "      <th>0</th>\n",
       "      <td>5/24/2022</td>\n",
       "      <td>675000.0</td>\n",
       "      <td>4</td>\n",
       "      <td>1.0</td>\n",
       "      <td>-1.050254</td>\n",
       "      <td>7140</td>\n",
       "      <td>1.0</td>\n",
       "      <td>NO</td>\n",
       "      <td>NO</td>\n",
       "      <td>NO</td>\n",
       "      <td>...</td>\n",
       "      <td>PUBLIC</td>\n",
       "      <td>0</td>\n",
       "      <td>40</td>\n",
       "      <td>1969</td>\n",
       "      <td>2102 Southeast 21st Court, Renton, Washington ...</td>\n",
       "      <td>-0.507960</td>\n",
       "      <td>0.276085</td>\n",
       "      <td>98055</td>\n",
       "      <td>2022</td>\n",
       "      <td>0.134306</td>\n",
       "    </tr>\n",
       "    <tr>\n",
       "      <th>1</th>\n",
       "      <td>12/13/2021</td>\n",
       "      <td>920000.0</td>\n",
       "      <td>5</td>\n",
       "      <td>2.5</td>\n",
       "      <td>1.049343</td>\n",
       "      <td>6703</td>\n",
       "      <td>1.0</td>\n",
       "      <td>NO</td>\n",
       "      <td>NO</td>\n",
       "      <td>YES</td>\n",
       "      <td>...</td>\n",
       "      <td>PUBLIC</td>\n",
       "      <td>0</td>\n",
       "      <td>240</td>\n",
       "      <td>1950</td>\n",
       "      <td>11231 Greenwood Avenue North, Seattle, Washing...</td>\n",
       "      <td>1.155646</td>\n",
       "      <td>-1.006297</td>\n",
       "      <td>98133</td>\n",
       "      <td>2021</td>\n",
       "      <td>0.707441</td>\n",
       "    </tr>\n",
       "    <tr>\n",
       "      <th>2</th>\n",
       "      <td>9/29/2021</td>\n",
       "      <td>311000.0</td>\n",
       "      <td>6</td>\n",
       "      <td>2.0</td>\n",
       "      <td>1.194599</td>\n",
       "      <td>6156</td>\n",
       "      <td>1.0</td>\n",
       "      <td>NO</td>\n",
       "      <td>NO</td>\n",
       "      <td>NO</td>\n",
       "      <td>...</td>\n",
       "      <td>PUBLIC</td>\n",
       "      <td>0</td>\n",
       "      <td>0</td>\n",
       "      <td>1956</td>\n",
       "      <td>8504 South 113th Street, Seattle, Washington 9...</td>\n",
       "      <td>-0.240836</td>\n",
       "      <td>0.007187</td>\n",
       "      <td>98178</td>\n",
       "      <td>2021</td>\n",
       "      <td>0.516396</td>\n",
       "    </tr>\n",
       "    <tr>\n",
       "      <th>3</th>\n",
       "      <td>12/14/2021</td>\n",
       "      <td>775000.0</td>\n",
       "      <td>3</td>\n",
       "      <td>3.0</td>\n",
       "      <td>0.243837</td>\n",
       "      <td>1400</td>\n",
       "      <td>2.0</td>\n",
       "      <td>NO</td>\n",
       "      <td>NO</td>\n",
       "      <td>NO</td>\n",
       "      <td>...</td>\n",
       "      <td>PUBLIC</td>\n",
       "      <td>200</td>\n",
       "      <td>270</td>\n",
       "      <td>2010</td>\n",
       "      <td>4079 Letitia Avenue South, Seattle, Washington...</td>\n",
       "      <td>0.186248</td>\n",
       "      <td>-0.496803</td>\n",
       "      <td>98118</td>\n",
       "      <td>2021</td>\n",
       "      <td>-1.203008</td>\n",
       "    </tr>\n",
       "    <tr>\n",
       "      <th>4</th>\n",
       "      <td>8/24/2021</td>\n",
       "      <td>592500.0</td>\n",
       "      <td>2</td>\n",
       "      <td>2.0</td>\n",
       "      <td>-1.129484</td>\n",
       "      <td>758</td>\n",
       "      <td>2.0</td>\n",
       "      <td>NO</td>\n",
       "      <td>NO</td>\n",
       "      <td>YES</td>\n",
       "      <td>...</td>\n",
       "      <td>PUBLIC</td>\n",
       "      <td>550</td>\n",
       "      <td>30</td>\n",
       "      <td>2012</td>\n",
       "      <td>2193 Northwest Talus Drive, Issaquah, Washingt...</td>\n",
       "      <td>-0.038010</td>\n",
       "      <td>1.195983</td>\n",
       "      <td>98027</td>\n",
       "      <td>2021</td>\n",
       "      <td>-1.266690</td>\n",
       "    </tr>\n",
       "    <tr>\n",
       "      <th>...</th>\n",
       "      <td>...</td>\n",
       "      <td>...</td>\n",
       "      <td>...</td>\n",
       "      <td>...</td>\n",
       "      <td>...</td>\n",
       "      <td>...</td>\n",
       "      <td>...</td>\n",
       "      <td>...</td>\n",
       "      <td>...</td>\n",
       "      <td>...</td>\n",
       "      <td>...</td>\n",
       "      <td>...</td>\n",
       "      <td>...</td>\n",
       "      <td>...</td>\n",
       "      <td>...</td>\n",
       "      <td>...</td>\n",
       "      <td>...</td>\n",
       "      <td>...</td>\n",
       "      <td>...</td>\n",
       "      <td>...</td>\n",
       "      <td>...</td>\n",
       "    </tr>\n",
       "    <tr>\n",
       "      <th>26415</th>\n",
       "      <td>11/30/2021</td>\n",
       "      <td>1555000.0</td>\n",
       "      <td>5</td>\n",
       "      <td>2.0</td>\n",
       "      <td>-0.086288</td>\n",
       "      <td>4000</td>\n",
       "      <td>1.5</td>\n",
       "      <td>NO</td>\n",
       "      <td>NO</td>\n",
       "      <td>NO</td>\n",
       "      <td>...</td>\n",
       "      <td>PUBLIC</td>\n",
       "      <td>0</td>\n",
       "      <td>210</td>\n",
       "      <td>1921</td>\n",
       "      <td>4673 Eastern Avenue North, Seattle, Washington...</td>\n",
       "      <td>0.843758</td>\n",
       "      <td>-0.800747</td>\n",
       "      <td>98103</td>\n",
       "      <td>2021</td>\n",
       "      <td>1.630825</td>\n",
       "    </tr>\n",
       "    <tr>\n",
       "      <th>26416</th>\n",
       "      <td>6/16/2021</td>\n",
       "      <td>1313000.0</td>\n",
       "      <td>3</td>\n",
       "      <td>2.0</td>\n",
       "      <td>0.058967</td>\n",
       "      <td>5800</td>\n",
       "      <td>2.0</td>\n",
       "      <td>NO</td>\n",
       "      <td>NO</td>\n",
       "      <td>NO</td>\n",
       "      <td>...</td>\n",
       "      <td>PUBLIC</td>\n",
       "      <td>0</td>\n",
       "      <td>520</td>\n",
       "      <td>2011</td>\n",
       "      <td>4131 44th Avenue Southwest, Seattle, Washingto...</td>\n",
       "      <td>0.182915</td>\n",
       "      <td>-1.259068</td>\n",
       "      <td>98116</td>\n",
       "      <td>2021</td>\n",
       "      <td>-1.234849</td>\n",
       "    </tr>\n",
       "    <tr>\n",
       "      <th>26417</th>\n",
       "      <td>5/27/2022</td>\n",
       "      <td>800000.0</td>\n",
       "      <td>3</td>\n",
       "      <td>2.0</td>\n",
       "      <td>-0.469234</td>\n",
       "      <td>3600</td>\n",
       "      <td>1.0</td>\n",
       "      <td>NO</td>\n",
       "      <td>NO</td>\n",
       "      <td>YES</td>\n",
       "      <td>...</td>\n",
       "      <td>PUBLIC</td>\n",
       "      <td>240</td>\n",
       "      <td>110</td>\n",
       "      <td>1995</td>\n",
       "      <td>910 Martin Luther King Jr Way, Seattle, Washin...</td>\n",
       "      <td>0.481471</td>\n",
       "      <td>-0.540611</td>\n",
       "      <td>98122</td>\n",
       "      <td>2022</td>\n",
       "      <td>-0.693555</td>\n",
       "    </tr>\n",
       "    <tr>\n",
       "      <th>26418</th>\n",
       "      <td>2/24/2022</td>\n",
       "      <td>775000.0</td>\n",
       "      <td>3</td>\n",
       "      <td>2.5</td>\n",
       "      <td>0.785243</td>\n",
       "      <td>2889</td>\n",
       "      <td>2.0</td>\n",
       "      <td>NO</td>\n",
       "      <td>NO</td>\n",
       "      <td>NO</td>\n",
       "      <td>...</td>\n",
       "      <td>PUBLIC</td>\n",
       "      <td>480</td>\n",
       "      <td>100</td>\n",
       "      <td>2006</td>\n",
       "      <td>17127 114th Avenue Southeast, Renton, Washingt...</td>\n",
       "      <td>-0.591190</td>\n",
       "      <td>0.287250</td>\n",
       "      <td>98055</td>\n",
       "      <td>2022</td>\n",
       "      <td>-1.043804</td>\n",
       "    </tr>\n",
       "    <tr>\n",
       "      <th>26419</th>\n",
       "      <td>4/29/2022</td>\n",
       "      <td>500000.0</td>\n",
       "      <td>3</td>\n",
       "      <td>1.5</td>\n",
       "      <td>-1.023844</td>\n",
       "      <td>11058</td>\n",
       "      <td>1.0</td>\n",
       "      <td>NO</td>\n",
       "      <td>NO</td>\n",
       "      <td>NO</td>\n",
       "      <td>...</td>\n",
       "      <td>PUBLIC</td>\n",
       "      <td>420</td>\n",
       "      <td>0</td>\n",
       "      <td>1965</td>\n",
       "      <td>18615 7th Avenue South, Burien, Washington 981...</td>\n",
       "      <td>-0.682187</td>\n",
       "      <td>-0.777021</td>\n",
       "      <td>98148</td>\n",
       "      <td>2022</td>\n",
       "      <td>0.261670</td>\n",
       "    </tr>\n",
       "  </tbody>\n",
       "</table>\n",
       "<p>26420 rows × 23 columns</p>\n",
       "</div>"
      ],
      "text/plain": [
       "             date      price  bedrooms  bathrooms  sqft_living  sqft_lot  \\\n",
       "0       5/24/2022   675000.0         4        1.0    -1.050254      7140   \n",
       "1      12/13/2021   920000.0         5        2.5     1.049343      6703   \n",
       "2       9/29/2021   311000.0         6        2.0     1.194599      6156   \n",
       "3      12/14/2021   775000.0         3        3.0     0.243837      1400   \n",
       "4       8/24/2021   592500.0         2        2.0    -1.129484       758   \n",
       "...           ...        ...       ...        ...          ...       ...   \n",
       "26415  11/30/2021  1555000.0         5        2.0    -0.086288      4000   \n",
       "26416   6/16/2021  1313000.0         3        2.0     0.058967      5800   \n",
       "26417   5/27/2022   800000.0         3        2.0    -0.469234      3600   \n",
       "26418   2/24/2022   775000.0         3        2.5     0.785243      2889   \n",
       "26419   4/29/2022   500000.0         3        1.5    -1.023844     11058   \n",
       "\n",
       "       floors waterfront greenbelt nuisance  ... sewer_system sqft_garage  \\\n",
       "0         1.0         NO        NO       NO  ...       PUBLIC           0   \n",
       "1         1.0         NO        NO      YES  ...       PUBLIC           0   \n",
       "2         1.0         NO        NO       NO  ...       PUBLIC           0   \n",
       "3         2.0         NO        NO       NO  ...       PUBLIC         200   \n",
       "4         2.0         NO        NO      YES  ...       PUBLIC         550   \n",
       "...       ...        ...       ...      ...  ...          ...         ...   \n",
       "26415     1.5         NO        NO       NO  ...       PUBLIC           0   \n",
       "26416     2.0         NO        NO       NO  ...       PUBLIC           0   \n",
       "26417     1.0         NO        NO      YES  ...       PUBLIC         240   \n",
       "26418     2.0         NO        NO       NO  ...       PUBLIC         480   \n",
       "26419     1.0         NO        NO       NO  ...       PUBLIC         420   \n",
       "\n",
       "      sqft_patio yr_built                                            address  \\\n",
       "0             40     1969  2102 Southeast 21st Court, Renton, Washington ...   \n",
       "1            240     1950  11231 Greenwood Avenue North, Seattle, Washing...   \n",
       "2              0     1956  8504 South 113th Street, Seattle, Washington 9...   \n",
       "3            270     2010  4079 Letitia Avenue South, Seattle, Washington...   \n",
       "4             30     2012  2193 Northwest Talus Drive, Issaquah, Washingt...   \n",
       "...          ...      ...                                                ...   \n",
       "26415        210     1921  4673 Eastern Avenue North, Seattle, Washington...   \n",
       "26416        520     2011  4131 44th Avenue Southwest, Seattle, Washingto...   \n",
       "26417        110     1995  910 Martin Luther King Jr Way, Seattle, Washin...   \n",
       "26418        100     2006  17127 114th Avenue Southeast, Renton, Washingt...   \n",
       "26419          0     1965  18615 7th Avenue South, Burien, Washington 981...   \n",
       "\n",
       "            lat      long zipcode  date_year  age_when_sold  \n",
       "0     -0.507960  0.276085   98055       2022       0.134306  \n",
       "1      1.155646 -1.006297   98133       2021       0.707441  \n",
       "2     -0.240836  0.007187   98178       2021       0.516396  \n",
       "3      0.186248 -0.496803   98118       2021      -1.203008  \n",
       "4     -0.038010  1.195983   98027       2021      -1.266690  \n",
       "...         ...       ...     ...        ...            ...  \n",
       "26415  0.843758 -0.800747   98103       2021       1.630825  \n",
       "26416  0.182915 -1.259068   98116       2021      -1.234849  \n",
       "26417  0.481471 -0.540611   98122       2022      -0.693555  \n",
       "26418 -0.591190  0.287250   98055       2022      -1.043804  \n",
       "26419 -0.682187 -0.777021   98148       2022       0.261670  \n",
       "\n",
       "[26420 rows x 23 columns]"
      ]
     },
     "execution_count": 129,
     "metadata": {},
     "output_type": "execute_result"
    }
   ],
   "source": [
    "df = scale_numberical_cols(df, ['sqft_living', 'age_when_sold', 'long', 'lat'])\n",
    "df"
   ]
  },
  {
   "cell_type": "code",
   "execution_count": 130,
   "metadata": {
    "scrolled": true
   },
   "outputs": [
    {
     "data": {
      "text/html": [
       "<table class=\"simpletable\">\n",
       "<caption>OLS Regression Results</caption>\n",
       "<tr>\n",
       "  <th>Dep. Variable:</th>          <td>price</td>      <th>  R-squared:         </th>  <td>   0.335</td>  \n",
       "</tr>\n",
       "<tr>\n",
       "  <th>Model:</th>                   <td>OLS</td>       <th>  Adj. R-squared:    </th>  <td>   0.334</td>  \n",
       "</tr>\n",
       "<tr>\n",
       "  <th>Method:</th>             <td>Least Squares</td>  <th>  F-statistic:       </th>  <td>   349.6</td>  \n",
       "</tr>\n",
       "<tr>\n",
       "  <th>Date:</th>             <td>Thu, 08 Dec 2022</td> <th>  Prob (F-statistic):</th>   <td>  0.00</td>   \n",
       "</tr>\n",
       "<tr>\n",
       "  <th>Time:</th>                 <td>19:13:33</td>     <th>  Log-Likelihood:    </th> <td>-3.7475e+05</td>\n",
       "</tr>\n",
       "<tr>\n",
       "  <th>No. Observations:</th>      <td> 26420</td>      <th>  AIC:               </th>  <td>7.496e+05</td> \n",
       "</tr>\n",
       "<tr>\n",
       "  <th>Df Residuals:</th>          <td> 26381</td>      <th>  BIC:               </th>  <td>7.499e+05</td> \n",
       "</tr>\n",
       "<tr>\n",
       "  <th>Df Model:</th>              <td>    38</td>      <th>                     </th>      <td> </td>     \n",
       "</tr>\n",
       "<tr>\n",
       "  <th>Covariance Type:</th>      <td>nonrobust</td>    <th>                     </th>      <td> </td>     \n",
       "</tr>\n",
       "</table>\n",
       "<table class=\"simpletable\">\n",
       "<tr>\n",
       "            <td></td>              <th>coef</th>     <th>std err</th>      <th>t</th>      <th>P>|t|</th>  <th>[0.025</th>    <th>0.975]</th>  \n",
       "</tr>\n",
       "<tr>\n",
       "  <th>const</th>                <td> 2.719e+05</td> <td>  7.6e+04</td> <td>    3.579</td> <td> 0.000</td> <td> 1.23e+05</td> <td> 4.21e+05</td>\n",
       "</tr>\n",
       "<tr>\n",
       "  <th>sqft_living</th>          <td>  315.6147</td> <td>    4.719</td> <td>   66.886</td> <td> 0.000</td> <td>  306.366</td> <td>  324.864</td>\n",
       "</tr>\n",
       "<tr>\n",
       "  <th>age_when_sold</th>        <td> 2306.5240</td> <td>   91.213</td> <td>   25.287</td> <td> 0.000</td> <td> 2127.741</td> <td> 2485.307</td>\n",
       "</tr>\n",
       "<tr>\n",
       "  <th>x0_0.5</th>               <td> 4.207e+05</td> <td> 1.88e+05</td> <td>    2.236</td> <td> 0.025</td> <td> 5.19e+04</td> <td>  7.9e+05</td>\n",
       "</tr>\n",
       "<tr>\n",
       "  <th>x0_1.0</th>               <td> 2.039e+05</td> <td> 1.04e+05</td> <td>    1.957</td> <td> 0.050</td> <td> -303.442</td> <td> 4.08e+05</td>\n",
       "</tr>\n",
       "<tr>\n",
       "  <th>x0_1.5</th>               <td> 2.354e+05</td> <td> 1.04e+05</td> <td>    2.255</td> <td> 0.024</td> <td> 3.08e+04</td> <td>  4.4e+05</td>\n",
       "</tr>\n",
       "<tr>\n",
       "  <th>x0_2.0</th>               <td> 2.843e+05</td> <td> 1.04e+05</td> <td>    2.729</td> <td> 0.006</td> <td> 8.01e+04</td> <td> 4.88e+05</td>\n",
       "</tr>\n",
       "<tr>\n",
       "  <th>x0_2.5</th>               <td> 3.403e+05</td> <td> 1.04e+05</td> <td>    3.269</td> <td> 0.001</td> <td> 1.36e+05</td> <td> 5.44e+05</td>\n",
       "</tr>\n",
       "<tr>\n",
       "  <th>x0_3.0</th>               <td> 3.575e+05</td> <td> 1.04e+05</td> <td>    3.430</td> <td> 0.001</td> <td> 1.53e+05</td> <td> 5.62e+05</td>\n",
       "</tr>\n",
       "<tr>\n",
       "  <th>x0_3.5</th>               <td> 4.663e+05</td> <td> 1.04e+05</td> <td>    4.464</td> <td> 0.000</td> <td> 2.62e+05</td> <td> 6.71e+05</td>\n",
       "</tr>\n",
       "<tr>\n",
       "  <th>x0_4.0</th>               <td> 4.548e+05</td> <td> 1.05e+05</td> <td>    4.312</td> <td> 0.000</td> <td> 2.48e+05</td> <td> 6.61e+05</td>\n",
       "</tr>\n",
       "<tr>\n",
       "  <th>x0_4.5</th>               <td> 4.401e+05</td> <td> 1.08e+05</td> <td>    4.070</td> <td> 0.000</td> <td> 2.28e+05</td> <td> 6.52e+05</td>\n",
       "</tr>\n",
       "<tr>\n",
       "  <th>x0_5.0</th>               <td> 3.697e+05</td> <td> 1.19e+05</td> <td>    3.104</td> <td> 0.002</td> <td> 1.36e+05</td> <td> 6.03e+05</td>\n",
       "</tr>\n",
       "<tr>\n",
       "  <th>x0_5.5</th>               <td> 7.582e+04</td> <td> 1.36e+05</td> <td>    0.556</td> <td> 0.578</td> <td>-1.91e+05</td> <td> 3.43e+05</td>\n",
       "</tr>\n",
       "<tr>\n",
       "  <th>x0_6.0</th>               <td> 6.282e+05</td> <td> 1.45e+05</td> <td>    4.336</td> <td> 0.000</td> <td> 3.44e+05</td> <td> 9.12e+05</td>\n",
       "</tr>\n",
       "<tr>\n",
       "  <th>x0_6.5</th>               <td> 8.094e+05</td> <td> 2.28e+05</td> <td>    3.548</td> <td> 0.000</td> <td> 3.62e+05</td> <td> 1.26e+06</td>\n",
       "</tr>\n",
       "<tr>\n",
       "  <th>x0_7.0</th>               <td> 4.396e+05</td> <td> 2.28e+05</td> <td>    1.924</td> <td> 0.054</td> <td>-8143.566</td> <td> 8.87e+05</td>\n",
       "</tr>\n",
       "<tr>\n",
       "  <th>x0_7.5</th>               <td> 3.797e+05</td> <td> 2.76e+05</td> <td>    1.373</td> <td> 0.170</td> <td>-1.62e+05</td> <td> 9.22e+05</td>\n",
       "</tr>\n",
       "<tr>\n",
       "  <th>x1_1</th>                 <td>-2.607e+05</td> <td> 8.58e+04</td> <td>   -3.038</td> <td> 0.002</td> <td>-4.29e+05</td> <td>-9.25e+04</td>\n",
       "</tr>\n",
       "<tr>\n",
       "  <th>x1_2</th>                 <td>-3.291e+05</td> <td> 8.39e+04</td> <td>   -3.921</td> <td> 0.000</td> <td>-4.94e+05</td> <td>-1.65e+05</td>\n",
       "</tr>\n",
       "<tr>\n",
       "  <th>x1_3</th>                 <td>-4.069e+05</td> <td> 8.39e+04</td> <td>   -4.848</td> <td> 0.000</td> <td>-5.71e+05</td> <td>-2.42e+05</td>\n",
       "</tr>\n",
       "<tr>\n",
       "  <th>x1_4</th>                 <td>-4.464e+05</td> <td> 8.41e+04</td> <td>   -5.306</td> <td> 0.000</td> <td>-6.11e+05</td> <td>-2.82e+05</td>\n",
       "</tr>\n",
       "<tr>\n",
       "  <th>x1_5</th>                 <td>-5.166e+05</td> <td> 8.45e+04</td> <td>   -6.112</td> <td> 0.000</td> <td>-6.82e+05</td> <td>-3.51e+05</td>\n",
       "</tr>\n",
       "<tr>\n",
       "  <th>x1_6</th>                 <td>-5.788e+05</td> <td> 8.63e+04</td> <td>   -6.705</td> <td> 0.000</td> <td>-7.48e+05</td> <td> -4.1e+05</td>\n",
       "</tr>\n",
       "<tr>\n",
       "  <th>x1_7</th>                 <td>-5.965e+05</td> <td> 9.63e+04</td> <td>   -6.192</td> <td> 0.000</td> <td>-7.85e+05</td> <td>-4.08e+05</td>\n",
       "</tr>\n",
       "<tr>\n",
       "  <th>x1_8</th>                 <td>-6.843e+05</td> <td> 1.07e+05</td> <td>   -6.411</td> <td> 0.000</td> <td>-8.94e+05</td> <td>-4.75e+05</td>\n",
       "</tr>\n",
       "<tr>\n",
       "  <th>x1_9</th>                 <td>-6.432e+05</td> <td> 1.38e+05</td> <td>   -4.661</td> <td> 0.000</td> <td>-9.14e+05</td> <td>-3.73e+05</td>\n",
       "</tr>\n",
       "<tr>\n",
       "  <th>x1_10</th>                <td> -7.41e+05</td> <td> 4.14e+05</td> <td>   -1.791</td> <td> 0.073</td> <td>-1.55e+06</td> <td> 6.99e+04</td>\n",
       "</tr>\n",
       "<tr>\n",
       "  <th>x1_11</th>                <td>-4.156e+05</td> <td> 3.61e+05</td> <td>   -1.153</td> <td> 0.249</td> <td>-1.12e+06</td> <td> 2.91e+05</td>\n",
       "</tr>\n",
       "<tr>\n",
       "  <th>x2_Fair</th>              <td>-6.827e+04</td> <td> 2.45e+04</td> <td>   -2.787</td> <td> 0.005</td> <td>-1.16e+05</td> <td>-2.03e+04</td>\n",
       "</tr>\n",
       "<tr>\n",
       "  <th>x2_Good</th>              <td> 7249.5065</td> <td> 5191.628</td> <td>    1.396</td> <td> 0.163</td> <td>-2926.365</td> <td> 1.74e+04</td>\n",
       "</tr>\n",
       "<tr>\n",
       "  <th>x2_Poor</th>              <td>-1.674e+05</td> <td>  4.6e+04</td> <td>   -3.643</td> <td> 0.000</td> <td>-2.57e+05</td> <td>-7.73e+04</td>\n",
       "</tr>\n",
       "<tr>\n",
       "  <th>x2_Very Good</th>         <td> 4.152e+04</td> <td> 7401.296</td> <td>    5.609</td> <td> 0.000</td> <td>  2.7e+04</td> <td>  5.6e+04</td>\n",
       "</tr>\n",
       "<tr>\n",
       "  <th>x3_Electricity/Solar</th> <td>-2.183e+04</td> <td> 4.88e+04</td> <td>   -0.447</td> <td> 0.655</td> <td>-1.18e+05</td> <td> 7.39e+04</td>\n",
       "</tr>\n",
       "<tr>\n",
       "  <th>x3_Gas</th>               <td>   4.3e+04</td> <td> 5613.743</td> <td>    7.659</td> <td> 0.000</td> <td>  3.2e+04</td> <td>  5.4e+04</td>\n",
       "</tr>\n",
       "<tr>\n",
       "  <th>x3_Gas/Solar</th>         <td>  2.07e+05</td> <td> 4.13e+04</td> <td>    5.008</td> <td> 0.000</td> <td> 1.26e+05</td> <td> 2.88e+05</td>\n",
       "</tr>\n",
       "<tr>\n",
       "  <th>x3_Oil</th>               <td> 2.021e+04</td> <td> 8603.135</td> <td>    2.349</td> <td> 0.019</td> <td> 3343.129</td> <td> 3.71e+04</td>\n",
       "</tr>\n",
       "<tr>\n",
       "  <th>x3_Oil/Solar</th>         <td>-2.842e+04</td> <td> 1.75e+05</td> <td>   -0.162</td> <td> 0.871</td> <td>-3.72e+05</td> <td> 3.15e+05</td>\n",
       "</tr>\n",
       "<tr>\n",
       "  <th>x3_Other</th>             <td> 1.602e+05</td> <td> 8.51e+04</td> <td>    1.882</td> <td> 0.060</td> <td>-6676.357</td> <td> 3.27e+05</td>\n",
       "</tr>\n",
       "</table>\n",
       "<table class=\"simpletable\">\n",
       "<tr>\n",
       "  <th>Omnibus:</th>       <td>1279.104</td> <th>  Durbin-Watson:     </th> <td>   2.001</td>\n",
       "</tr>\n",
       "<tr>\n",
       "  <th>Prob(Omnibus):</th>  <td> 0.000</td>  <th>  Jarque-Bera (JB):  </th> <td>1619.553</td>\n",
       "</tr>\n",
       "<tr>\n",
       "  <th>Skew:</th>           <td> 0.498</td>  <th>  Prob(JB):          </th> <td>    0.00</td>\n",
       "</tr>\n",
       "<tr>\n",
       "  <th>Kurtosis:</th>       <td> 3.691</td>  <th>  Cond. No.          </th> <td>4.90e+05</td>\n",
       "</tr>\n",
       "</table><br/><br/>Notes:<br/>[1] Standard Errors assume that the covariance matrix of the errors is correctly specified.<br/>[2] The condition number is large, 4.9e+05. This might indicate that there are<br/>strong multicollinearity or other numerical problems."
      ],
      "text/plain": [
       "<class 'statsmodels.iolib.summary.Summary'>\n",
       "\"\"\"\n",
       "                            OLS Regression Results                            \n",
       "==============================================================================\n",
       "Dep. Variable:                  price   R-squared:                       0.335\n",
       "Model:                            OLS   Adj. R-squared:                  0.334\n",
       "Method:                 Least Squares   F-statistic:                     349.6\n",
       "Date:                Thu, 08 Dec 2022   Prob (F-statistic):               0.00\n",
       "Time:                        19:13:33   Log-Likelihood:            -3.7475e+05\n",
       "No. Observations:               26420   AIC:                         7.496e+05\n",
       "Df Residuals:                   26381   BIC:                         7.499e+05\n",
       "Df Model:                          38                                         \n",
       "Covariance Type:            nonrobust                                         \n",
       "========================================================================================\n",
       "                           coef    std err          t      P>|t|      [0.025      0.975]\n",
       "----------------------------------------------------------------------------------------\n",
       "const                 2.719e+05    7.6e+04      3.579      0.000    1.23e+05    4.21e+05\n",
       "sqft_living            315.6147      4.719     66.886      0.000     306.366     324.864\n",
       "age_when_sold         2306.5240     91.213     25.287      0.000    2127.741    2485.307\n",
       "x0_0.5                4.207e+05   1.88e+05      2.236      0.025    5.19e+04     7.9e+05\n",
       "x0_1.0                2.039e+05   1.04e+05      1.957      0.050    -303.442    4.08e+05\n",
       "x0_1.5                2.354e+05   1.04e+05      2.255      0.024    3.08e+04     4.4e+05\n",
       "x0_2.0                2.843e+05   1.04e+05      2.729      0.006    8.01e+04    4.88e+05\n",
       "x0_2.5                3.403e+05   1.04e+05      3.269      0.001    1.36e+05    5.44e+05\n",
       "x0_3.0                3.575e+05   1.04e+05      3.430      0.001    1.53e+05    5.62e+05\n",
       "x0_3.5                4.663e+05   1.04e+05      4.464      0.000    2.62e+05    6.71e+05\n",
       "x0_4.0                4.548e+05   1.05e+05      4.312      0.000    2.48e+05    6.61e+05\n",
       "x0_4.5                4.401e+05   1.08e+05      4.070      0.000    2.28e+05    6.52e+05\n",
       "x0_5.0                3.697e+05   1.19e+05      3.104      0.002    1.36e+05    6.03e+05\n",
       "x0_5.5                7.582e+04   1.36e+05      0.556      0.578   -1.91e+05    3.43e+05\n",
       "x0_6.0                6.282e+05   1.45e+05      4.336      0.000    3.44e+05    9.12e+05\n",
       "x0_6.5                8.094e+05   2.28e+05      3.548      0.000    3.62e+05    1.26e+06\n",
       "x0_7.0                4.396e+05   2.28e+05      1.924      0.054   -8143.566    8.87e+05\n",
       "x0_7.5                3.797e+05   2.76e+05      1.373      0.170   -1.62e+05    9.22e+05\n",
       "x1_1                 -2.607e+05   8.58e+04     -3.038      0.002   -4.29e+05   -9.25e+04\n",
       "x1_2                 -3.291e+05   8.39e+04     -3.921      0.000   -4.94e+05   -1.65e+05\n",
       "x1_3                 -4.069e+05   8.39e+04     -4.848      0.000   -5.71e+05   -2.42e+05\n",
       "x1_4                 -4.464e+05   8.41e+04     -5.306      0.000   -6.11e+05   -2.82e+05\n",
       "x1_5                 -5.166e+05   8.45e+04     -6.112      0.000   -6.82e+05   -3.51e+05\n",
       "x1_6                 -5.788e+05   8.63e+04     -6.705      0.000   -7.48e+05    -4.1e+05\n",
       "x1_7                 -5.965e+05   9.63e+04     -6.192      0.000   -7.85e+05   -4.08e+05\n",
       "x1_8                 -6.843e+05   1.07e+05     -6.411      0.000   -8.94e+05   -4.75e+05\n",
       "x1_9                 -6.432e+05   1.38e+05     -4.661      0.000   -9.14e+05   -3.73e+05\n",
       "x1_10                 -7.41e+05   4.14e+05     -1.791      0.073   -1.55e+06    6.99e+04\n",
       "x1_11                -4.156e+05   3.61e+05     -1.153      0.249   -1.12e+06    2.91e+05\n",
       "x2_Fair              -6.827e+04   2.45e+04     -2.787      0.005   -1.16e+05   -2.03e+04\n",
       "x2_Good               7249.5065   5191.628      1.396      0.163   -2926.365    1.74e+04\n",
       "x2_Poor              -1.674e+05    4.6e+04     -3.643      0.000   -2.57e+05   -7.73e+04\n",
       "x2_Very Good          4.152e+04   7401.296      5.609      0.000     2.7e+04     5.6e+04\n",
       "x3_Electricity/Solar -2.183e+04   4.88e+04     -0.447      0.655   -1.18e+05    7.39e+04\n",
       "x3_Gas                  4.3e+04   5613.743      7.659      0.000     3.2e+04     5.4e+04\n",
       "x3_Gas/Solar           2.07e+05   4.13e+04      5.008      0.000    1.26e+05    2.88e+05\n",
       "x3_Oil                2.021e+04   8603.135      2.349      0.019    3343.129    3.71e+04\n",
       "x3_Oil/Solar         -2.842e+04   1.75e+05     -0.162      0.871   -3.72e+05    3.15e+05\n",
       "x3_Other              1.602e+05   8.51e+04      1.882      0.060   -6676.357    3.27e+05\n",
       "==============================================================================\n",
       "Omnibus:                     1279.104   Durbin-Watson:                   2.001\n",
       "Prob(Omnibus):                  0.000   Jarque-Bera (JB):             1619.553\n",
       "Skew:                           0.498   Prob(JB):                         0.00\n",
       "Kurtosis:                       3.691   Cond. No.                     4.90e+05\n",
       "==============================================================================\n",
       "\n",
       "Notes:\n",
       "[1] Standard Errors assume that the covariance matrix of the errors is correctly specified.\n",
       "[2] The condition number is large, 4.9e+05. This might indicate that there are\n",
       "strong multicollinearity or other numerical problems.\n",
       "\"\"\""
      ]
     },
     "execution_count": 130,
     "metadata": {},
     "output_type": "execute_result"
    }
   ],
   "source": [
    "ohe_cols = ['bathrooms', \n",
    "            'bedrooms', \n",
    "            'condition', \n",
    "            'heat_source']\n",
    "\n",
    "ohe = OneHotEncoder(drop='first')\n",
    "    \n",
    "ohe.fit(df[ohe_cols])\n",
    "ohe_all = pd.DataFrame(ohe.transform(df[ohe_cols]).todense(),\n",
    "                            columns=ohe.get_feature_names())\n",
    "\n",
    "X_cat = pd.concat([x,ohe_all], axis=1)\n",
    "scaled_oheall_model = sm.OLS(y, sm.add_constant(X_cat)).fit()\n",
    "scaled_oheall_model.summary()"
   ]
  },
  {
   "cell_type": "markdown",
   "metadata": {},
   "source": [
    "As expected, standard scaling did not change any of our model's performance statistics, as it is only designed to make relative strength of feature coefficients more easily interpretable."
   ]
  },
  {
   "cell_type": "markdown",
   "metadata": {},
   "source": [
    "### Testing adding additional categorical features with OHE"
   ]
  },
  {
   "cell_type": "markdown",
   "metadata": {},
   "source": [
    "We continue adding features to our model, with the hopes of improving our R-squared score. We decide to incorporate more categorical variables, such as amount of floors, proximity to a waterfront, zipcode, and grade. Before applying them to our model, we first have to one-hot encode these as well."
   ]
  },
  {
   "cell_type": "code",
   "execution_count": 131,
   "metadata": {
    "scrolled": true
   },
   "outputs": [
    {
     "data": {
      "text/html": [
       "<table class=\"simpletable\">\n",
       "<caption>OLS Regression Results</caption>\n",
       "<tr>\n",
       "  <th>Dep. Variable:</th>          <td>price</td>      <th>  R-squared:         </th>  <td>   0.697</td>  \n",
       "</tr>\n",
       "<tr>\n",
       "  <th>Model:</th>                   <td>OLS</td>       <th>  Adj. R-squared:    </th>  <td>   0.696</td>  \n",
       "</tr>\n",
       "<tr>\n",
       "  <th>Method:</th>             <td>Least Squares</td>  <th>  F-statistic:       </th>  <td>   455.1</td>  \n",
       "</tr>\n",
       "<tr>\n",
       "  <th>Date:</th>             <td>Thu, 08 Dec 2022</td> <th>  Prob (F-statistic):</th>   <td>  0.00</td>   \n",
       "</tr>\n",
       "<tr>\n",
       "  <th>Time:</th>                 <td>19:16:23</td>     <th>  Log-Likelihood:    </th> <td>-3.6436e+05</td>\n",
       "</tr>\n",
       "<tr>\n",
       "  <th>No. Observations:</th>      <td> 26420</td>      <th>  AIC:               </th>  <td>7.290e+05</td> \n",
       "</tr>\n",
       "<tr>\n",
       "  <th>Df Residuals:</th>          <td> 26286</td>      <th>  BIC:               </th>  <td>7.301e+05</td> \n",
       "</tr>\n",
       "<tr>\n",
       "  <th>Df Model:</th>              <td>   133</td>      <th>                     </th>      <td> </td>     \n",
       "</tr>\n",
       "<tr>\n",
       "  <th>Covariance Type:</th>      <td>nonrobust</td>    <th>                     </th>      <td> </td>     \n",
       "</tr>\n",
       "</table>\n",
       "<table class=\"simpletable\">\n",
       "<tr>\n",
       "            <td></td>              <th>coef</th>     <th>std err</th>      <th>t</th>      <th>P>|t|</th>  <th>[0.025</th>    <th>0.975]</th>  \n",
       "</tr>\n",
       "<tr>\n",
       "  <th>const</th>                <td> 4.353e+05</td> <td> 5.48e+04</td> <td>    7.943</td> <td> 0.000</td> <td> 3.28e+05</td> <td> 5.43e+05</td>\n",
       "</tr>\n",
       "<tr>\n",
       "  <th>sqft_living</th>          <td>  201.8509</td> <td>    3.806</td> <td>   53.040</td> <td> 0.000</td> <td>  194.392</td> <td>  209.310</td>\n",
       "</tr>\n",
       "<tr>\n",
       "  <th>age_when_sold</th>        <td>  963.0366</td> <td>   83.056</td> <td>   11.595</td> <td> 0.000</td> <td>  800.242</td> <td> 1125.831</td>\n",
       "</tr>\n",
       "<tr>\n",
       "  <th>x0_0.5</th>               <td> 4.721e+05</td> <td> 1.28e+05</td> <td>    3.693</td> <td> 0.000</td> <td> 2.22e+05</td> <td> 7.23e+05</td>\n",
       "</tr>\n",
       "<tr>\n",
       "  <th>x0_1.0</th>               <td> 3.422e+05</td> <td> 7.08e+04</td> <td>    4.834</td> <td> 0.000</td> <td> 2.03e+05</td> <td> 4.81e+05</td>\n",
       "</tr>\n",
       "<tr>\n",
       "  <th>x0_1.5</th>               <td> 3.207e+05</td> <td> 7.09e+04</td> <td>    4.522</td> <td> 0.000</td> <td> 1.82e+05</td> <td>  4.6e+05</td>\n",
       "</tr>\n",
       "<tr>\n",
       "  <th>x0_2.0</th>               <td>  3.36e+05</td> <td> 7.07e+04</td> <td>    4.752</td> <td> 0.000</td> <td> 1.97e+05</td> <td> 4.75e+05</td>\n",
       "</tr>\n",
       "<tr>\n",
       "  <th>x0_2.5</th>               <td>  3.56e+05</td> <td> 7.07e+04</td> <td>    5.035</td> <td> 0.000</td> <td> 2.17e+05</td> <td> 4.95e+05</td>\n",
       "</tr>\n",
       "<tr>\n",
       "  <th>x0_3.0</th>               <td> 3.681e+05</td> <td> 7.08e+04</td> <td>    5.200</td> <td> 0.000</td> <td> 2.29e+05</td> <td> 5.07e+05</td>\n",
       "</tr>\n",
       "<tr>\n",
       "  <th>x0_3.5</th>               <td> 3.816e+05</td> <td>  7.1e+04</td> <td>    5.377</td> <td> 0.000</td> <td> 2.42e+05</td> <td> 5.21e+05</td>\n",
       "</tr>\n",
       "<tr>\n",
       "  <th>x0_4.0</th>               <td> 3.943e+05</td> <td> 7.16e+04</td> <td>    5.505</td> <td> 0.000</td> <td> 2.54e+05</td> <td> 5.35e+05</td>\n",
       "</tr>\n",
       "<tr>\n",
       "  <th>x0_4.5</th>               <td> 4.168e+05</td> <td> 7.34e+04</td> <td>    5.675</td> <td> 0.000</td> <td> 2.73e+05</td> <td> 5.61e+05</td>\n",
       "</tr>\n",
       "<tr>\n",
       "  <th>x0_5.0</th>               <td> 4.469e+05</td> <td> 8.08e+04</td> <td>    5.530</td> <td> 0.000</td> <td> 2.88e+05</td> <td> 6.05e+05</td>\n",
       "</tr>\n",
       "<tr>\n",
       "  <th>x0_5.5</th>               <td> 1.167e+05</td> <td> 9.27e+04</td> <td>    1.260</td> <td> 0.208</td> <td>-6.49e+04</td> <td> 2.98e+05</td>\n",
       "</tr>\n",
       "<tr>\n",
       "  <th>x0_6.0</th>               <td> 5.882e+05</td> <td> 9.82e+04</td> <td>    5.991</td> <td> 0.000</td> <td> 3.96e+05</td> <td> 7.81e+05</td>\n",
       "</tr>\n",
       "<tr>\n",
       "  <th>x0_6.5</th>               <td> 6.124e+05</td> <td> 1.55e+05</td> <td>    3.959</td> <td> 0.000</td> <td> 3.09e+05</td> <td> 9.16e+05</td>\n",
       "</tr>\n",
       "<tr>\n",
       "  <th>x0_7.0</th>               <td> 4.915e+05</td> <td> 1.55e+05</td> <td>    3.177</td> <td> 0.001</td> <td> 1.88e+05</td> <td> 7.95e+05</td>\n",
       "</tr>\n",
       "<tr>\n",
       "  <th>x0_7.5</th>               <td>  5.45e+05</td> <td> 1.87e+05</td> <td>    2.913</td> <td> 0.004</td> <td> 1.78e+05</td> <td> 9.12e+05</td>\n",
       "</tr>\n",
       "<tr>\n",
       "  <th>x1_1</th>                 <td>-3.176e+05</td> <td> 5.83e+04</td> <td>   -5.444</td> <td> 0.000</td> <td>-4.32e+05</td> <td>-2.03e+05</td>\n",
       "</tr>\n",
       "<tr>\n",
       "  <th>x1_2</th>                 <td>-3.841e+05</td> <td> 5.71e+04</td> <td>   -6.730</td> <td> 0.000</td> <td>-4.96e+05</td> <td>-2.72e+05</td>\n",
       "</tr>\n",
       "<tr>\n",
       "  <th>x1_3</th>                 <td> -3.57e+05</td> <td> 5.71e+04</td> <td>   -6.253</td> <td> 0.000</td> <td>-4.69e+05</td> <td>-2.45e+05</td>\n",
       "</tr>\n",
       "<tr>\n",
       "  <th>x1_4</th>                 <td>-3.507e+05</td> <td> 5.72e+04</td> <td>   -6.127</td> <td> 0.000</td> <td>-4.63e+05</td> <td>-2.39e+05</td>\n",
       "</tr>\n",
       "<tr>\n",
       "  <th>x1_5</th>                 <td>-3.805e+05</td> <td> 5.75e+04</td> <td>   -6.615</td> <td> 0.000</td> <td>-4.93e+05</td> <td>-2.68e+05</td>\n",
       "</tr>\n",
       "<tr>\n",
       "  <th>x1_6</th>                 <td>-3.988e+05</td> <td> 5.87e+04</td> <td>   -6.790</td> <td> 0.000</td> <td>-5.14e+05</td> <td>-2.84e+05</td>\n",
       "</tr>\n",
       "<tr>\n",
       "  <th>x1_7</th>                 <td>-4.124e+05</td> <td> 6.55e+04</td> <td>   -6.294</td> <td> 0.000</td> <td>-5.41e+05</td> <td>-2.84e+05</td>\n",
       "</tr>\n",
       "<tr>\n",
       "  <th>x1_8</th>                 <td>-4.789e+05</td> <td> 7.26e+04</td> <td>   -6.597</td> <td> 0.000</td> <td>-6.21e+05</td> <td>-3.37e+05</td>\n",
       "</tr>\n",
       "<tr>\n",
       "  <th>x1_9</th>                 <td>-3.975e+05</td> <td> 9.37e+04</td> <td>   -4.243</td> <td> 0.000</td> <td>-5.81e+05</td> <td>-2.14e+05</td>\n",
       "</tr>\n",
       "<tr>\n",
       "  <th>x1_10</th>                <td>-8.344e+05</td> <td>  2.8e+05</td> <td>   -2.978</td> <td> 0.003</td> <td>-1.38e+06</td> <td>-2.85e+05</td>\n",
       "</tr>\n",
       "<tr>\n",
       "  <th>x1_11</th>                <td>-4.057e+05</td> <td> 2.44e+05</td> <td>   -1.661</td> <td> 0.097</td> <td>-8.85e+05</td> <td>  7.3e+04</td>\n",
       "</tr>\n",
       "<tr>\n",
       "  <th>x2_Fair</th>              <td>-6.517e+04</td> <td> 1.67e+04</td> <td>   -3.912</td> <td> 0.000</td> <td>-9.78e+04</td> <td>-3.25e+04</td>\n",
       "</tr>\n",
       "<tr>\n",
       "  <th>x2_Good</th>              <td> 5.111e+04</td> <td> 3650.232</td> <td>   14.001</td> <td> 0.000</td> <td>  4.4e+04</td> <td> 5.83e+04</td>\n",
       "</tr>\n",
       "<tr>\n",
       "  <th>x2_Poor</th>              <td>-1.087e+05</td> <td> 3.21e+04</td> <td>   -3.390</td> <td> 0.001</td> <td>-1.72e+05</td> <td>-4.58e+04</td>\n",
       "</tr>\n",
       "<tr>\n",
       "  <th>x2_Very Good</th>         <td> 1.011e+05</td> <td> 5121.961</td> <td>   19.736</td> <td> 0.000</td> <td>  9.1e+04</td> <td> 1.11e+05</td>\n",
       "</tr>\n",
       "<tr>\n",
       "  <th>x3_Electricity/Solar</th> <td>-5.185e+04</td> <td> 3.32e+04</td> <td>   -1.561</td> <td> 0.119</td> <td>-1.17e+05</td> <td> 1.32e+04</td>\n",
       "</tr>\n",
       "<tr>\n",
       "  <th>x3_Gas</th>               <td> 1.313e+04</td> <td> 3946.056</td> <td>    3.327</td> <td> 0.001</td> <td> 5394.020</td> <td> 2.09e+04</td>\n",
       "</tr>\n",
       "<tr>\n",
       "  <th>x3_Gas/Solar</th>         <td> 1.313e+05</td> <td> 2.81e+04</td> <td>    4.679</td> <td> 0.000</td> <td> 7.63e+04</td> <td> 1.86e+05</td>\n",
       "</tr>\n",
       "<tr>\n",
       "  <th>x3_Oil</th>               <td> 3711.7460</td> <td> 5933.820</td> <td>    0.626</td> <td> 0.532</td> <td>-7918.863</td> <td> 1.53e+04</td>\n",
       "</tr>\n",
       "<tr>\n",
       "  <th>x3_Oil/Solar</th>         <td> 9.632e+04</td> <td> 1.19e+05</td> <td>    0.812</td> <td> 0.417</td> <td>-1.36e+05</td> <td> 3.29e+05</td>\n",
       "</tr>\n",
       "<tr>\n",
       "  <th>x3_Other</th>             <td> 1.412e+05</td> <td>  5.8e+04</td> <td>    2.435</td> <td> 0.015</td> <td> 2.75e+04</td> <td> 2.55e+05</td>\n",
       "</tr>\n",
       "<tr>\n",
       "  <th>x4_YES</th>               <td>  2.41e+05</td> <td> 1.47e+04</td> <td>   16.368</td> <td> 0.000</td> <td> 2.12e+05</td> <td>  2.7e+05</td>\n",
       "</tr>\n",
       "<tr>\n",
       "  <th>x5_1.5</th>               <td> 3846.6458</td> <td> 5780.049</td> <td>    0.666</td> <td> 0.506</td> <td>-7482.564</td> <td> 1.52e+04</td>\n",
       "</tr>\n",
       "<tr>\n",
       "  <th>x5_2.0</th>               <td> 3918.9372</td> <td> 4613.641</td> <td>    0.849</td> <td> 0.396</td> <td>-5124.049</td> <td>  1.3e+04</td>\n",
       "</tr>\n",
       "<tr>\n",
       "  <th>x5_2.5</th>               <td> 2.596e+04</td> <td> 2.16e+04</td> <td>    1.204</td> <td> 0.228</td> <td>-1.63e+04</td> <td> 6.82e+04</td>\n",
       "</tr>\n",
       "<tr>\n",
       "  <th>x5_3.0</th>               <td>-8.256e+04</td> <td> 1.05e+04</td> <td>   -7.835</td> <td> 0.000</td> <td>-1.03e+05</td> <td>-6.19e+04</td>\n",
       "</tr>\n",
       "<tr>\n",
       "  <th>x5_3.5</th>               <td>-4847.2188</td> <td> 8.43e+04</td> <td>   -0.058</td> <td> 0.954</td> <td> -1.7e+05</td> <td>  1.6e+05</td>\n",
       "</tr>\n",
       "<tr>\n",
       "  <th>x5_4.0</th>               <td>-9.497e+04</td> <td> 4.73e+04</td> <td>   -2.010</td> <td> 0.044</td> <td>-1.88e+05</td> <td>-2343.996</td>\n",
       "</tr>\n",
       "<tr>\n",
       "  <th>x6_98002</th>             <td>-1.361e+04</td> <td> 1.58e+04</td> <td>   -0.864</td> <td> 0.388</td> <td>-4.45e+04</td> <td> 1.73e+04</td>\n",
       "</tr>\n",
       "<tr>\n",
       "  <th>x6_98003</th>             <td>-1.978e+04</td> <td> 1.49e+04</td> <td>   -1.330</td> <td> 0.183</td> <td>-4.89e+04</td> <td> 9369.370</td>\n",
       "</tr>\n",
       "<tr>\n",
       "  <th>x6_98004</th>             <td>  1.07e+06</td> <td> 2.62e+04</td> <td>   40.803</td> <td> 0.000</td> <td> 1.02e+06</td> <td> 1.12e+06</td>\n",
       "</tr>\n",
       "<tr>\n",
       "  <th>x6_98005</th>             <td> 8.389e+05</td> <td> 2.45e+04</td> <td>   34.286</td> <td> 0.000</td> <td> 7.91e+05</td> <td> 8.87e+05</td>\n",
       "</tr>\n",
       "<tr>\n",
       "  <th>x6_98006</th>             <td> 6.527e+05</td> <td> 1.56e+04</td> <td>   41.867</td> <td> 0.000</td> <td> 6.22e+05</td> <td> 6.83e+05</td>\n",
       "</tr>\n",
       "<tr>\n",
       "  <th>x6_98007</th>             <td> 6.083e+05</td> <td> 2.25e+04</td> <td>   27.095</td> <td> 0.000</td> <td> 5.64e+05</td> <td> 6.52e+05</td>\n",
       "</tr>\n",
       "<tr>\n",
       "  <th>x6_98008</th>             <td> 6.482e+05</td> <td>  1.6e+04</td> <td>   40.605</td> <td> 0.000</td> <td> 6.17e+05</td> <td> 6.79e+05</td>\n",
       "</tr>\n",
       "<tr>\n",
       "  <th>x6_98010</th>             <td> 6.504e+04</td> <td> 1.66e+04</td> <td>    3.917</td> <td> 0.000</td> <td> 3.25e+04</td> <td> 9.76e+04</td>\n",
       "</tr>\n",
       "<tr>\n",
       "  <th>x6_98011</th>             <td> 4.525e+05</td> <td> 1.78e+04</td> <td>   25.424</td> <td> 0.000</td> <td> 4.18e+05</td> <td> 4.87e+05</td>\n",
       "</tr>\n",
       "<tr>\n",
       "  <th>x6_98014</th>             <td> 2.381e+05</td> <td> 2.18e+04</td> <td>   10.939</td> <td> 0.000</td> <td> 1.95e+05</td> <td> 2.81e+05</td>\n",
       "</tr>\n",
       "<tr>\n",
       "  <th>x6_98019</th>             <td> 2.565e+05</td> <td>  1.8e+04</td> <td>   14.254</td> <td> 0.000</td> <td> 2.21e+05</td> <td> 2.92e+05</td>\n",
       "</tr>\n",
       "<tr>\n",
       "  <th>x6_98022</th>             <td> 3.079e+04</td> <td> 1.47e+04</td> <td>    2.094</td> <td> 0.036</td> <td> 1967.432</td> <td> 5.96e+04</td>\n",
       "</tr>\n",
       "<tr>\n",
       "  <th>x6_98023</th>             <td>-4.739e+04</td> <td> 1.32e+04</td> <td>   -3.597</td> <td> 0.000</td> <td>-7.32e+04</td> <td>-2.16e+04</td>\n",
       "</tr>\n",
       "<tr>\n",
       "  <th>x6_98024</th>             <td> 3.971e+05</td> <td> 2.61e+04</td> <td>   15.245</td> <td> 0.000</td> <td> 3.46e+05</td> <td> 4.48e+05</td>\n",
       "</tr>\n",
       "<tr>\n",
       "  <th>x6_98027</th>             <td> 4.848e+05</td> <td> 1.59e+04</td> <td>   30.453</td> <td> 0.000</td> <td> 4.54e+05</td> <td> 5.16e+05</td>\n",
       "</tr>\n",
       "<tr>\n",
       "  <th>x6_98028</th>             <td> 3.797e+05</td> <td>  1.6e+04</td> <td>   23.770</td> <td> 0.000</td> <td> 3.48e+05</td> <td> 4.11e+05</td>\n",
       "</tr>\n",
       "<tr>\n",
       "  <th>x6_98029</th>             <td> 6.154e+05</td> <td>  1.7e+04</td> <td>   36.263</td> <td> 0.000</td> <td> 5.82e+05</td> <td> 6.49e+05</td>\n",
       "</tr>\n",
       "<tr>\n",
       "  <th>x6_98030</th>             <td> 7035.2116</td> <td> 1.55e+04</td> <td>    0.453</td> <td> 0.651</td> <td>-2.34e+04</td> <td> 3.75e+04</td>\n",
       "</tr>\n",
       "<tr>\n",
       "  <th>x6_98031</th>             <td> 2.489e+04</td> <td> 1.41e+04</td> <td>    1.771</td> <td> 0.076</td> <td>-2650.042</td> <td> 5.24e+04</td>\n",
       "</tr>\n",
       "<tr>\n",
       "  <th>x6_98032</th>             <td>  1.43e+04</td> <td>    2e+04</td> <td>    0.716</td> <td> 0.474</td> <td>-2.48e+04</td> <td> 5.34e+04</td>\n",
       "</tr>\n",
       "<tr>\n",
       "  <th>x6_98033</th>             <td> 8.253e+05</td> <td> 1.53e+04</td> <td>   53.979</td> <td> 0.000</td> <td> 7.95e+05</td> <td> 8.55e+05</td>\n",
       "</tr>\n",
       "<tr>\n",
       "  <th>x6_98034</th>             <td> 5.401e+05</td> <td> 1.34e+04</td> <td>   40.440</td> <td> 0.000</td> <td> 5.14e+05</td> <td> 5.66e+05</td>\n",
       "</tr>\n",
       "<tr>\n",
       "  <th>x6_98038</th>             <td> 1.266e+05</td> <td> 1.25e+04</td> <td>   10.095</td> <td> 0.000</td> <td> 1.02e+05</td> <td> 1.51e+05</td>\n",
       "</tr>\n",
       "<tr>\n",
       "  <th>x6_98039</th>             <td> 1.108e+06</td> <td> 1.68e+05</td> <td>    6.607</td> <td> 0.000</td> <td>  7.8e+05</td> <td> 1.44e+06</td>\n",
       "</tr>\n",
       "<tr>\n",
       "  <th>x6_98040</th>             <td> 8.392e+05</td> <td> 2.15e+04</td> <td>   39.058</td> <td> 0.000</td> <td> 7.97e+05</td> <td> 8.81e+05</td>\n",
       "</tr>\n",
       "<tr>\n",
       "  <th>x6_98042</th>             <td> 2.233e+04</td> <td> 1.22e+04</td> <td>    1.837</td> <td> 0.066</td> <td>-1496.793</td> <td> 4.62e+04</td>\n",
       "</tr>\n",
       "<tr>\n",
       "  <th>x6_98047</th>             <td> 3.667e+04</td> <td> 2.87e+04</td> <td>    1.279</td> <td> 0.201</td> <td>-1.95e+04</td> <td> 9.29e+04</td>\n",
       "</tr>\n",
       "<tr>\n",
       "  <th>x6_98050</th>             <td> 1.825e+05</td> <td> 2.37e+05</td> <td>    0.770</td> <td> 0.441</td> <td>-2.82e+05</td> <td> 6.47e+05</td>\n",
       "</tr>\n",
       "<tr>\n",
       "  <th>x6_98051</th>             <td> 1.595e+05</td> <td> 3.19e+04</td> <td>    5.007</td> <td> 0.000</td> <td> 9.71e+04</td> <td> 2.22e+05</td>\n",
       "</tr>\n",
       "<tr>\n",
       "  <th>x6_98052</th>             <td> 6.837e+05</td> <td> 1.44e+04</td> <td>   47.523</td> <td> 0.000</td> <td> 6.55e+05</td> <td> 7.12e+05</td>\n",
       "</tr>\n",
       "<tr>\n",
       "  <th>x6_98053</th>             <td> 5.835e+05</td> <td> 1.63e+04</td> <td>   35.695</td> <td> 0.000</td> <td> 5.51e+05</td> <td> 6.16e+05</td>\n",
       "</tr>\n",
       "<tr>\n",
       "  <th>x6_98055</th>             <td> 6.715e+04</td> <td> 1.87e+04</td> <td>    3.598</td> <td> 0.000</td> <td> 3.06e+04</td> <td> 1.04e+05</td>\n",
       "</tr>\n",
       "<tr>\n",
       "  <th>x6_98056</th>             <td> 2.617e+05</td> <td> 1.43e+04</td> <td>   18.330</td> <td> 0.000</td> <td> 2.34e+05</td> <td>  2.9e+05</td>\n",
       "</tr>\n",
       "<tr>\n",
       "  <th>x6_98057</th>             <td>  1.02e+05</td> <td> 2.33e+04</td> <td>    4.371</td> <td> 0.000</td> <td> 5.63e+04</td> <td> 1.48e+05</td>\n",
       "</tr>\n",
       "<tr>\n",
       "  <th>x6_98058</th>             <td> 8.352e+04</td> <td> 1.32e+04</td> <td>    6.331</td> <td> 0.000</td> <td> 5.77e+04</td> <td> 1.09e+05</td>\n",
       "</tr>\n",
       "<tr>\n",
       "  <th>x6_98059</th>             <td> 2.695e+05</td> <td> 1.39e+04</td> <td>   19.441</td> <td> 0.000</td> <td> 2.42e+05</td> <td> 2.97e+05</td>\n",
       "</tr>\n",
       "<tr>\n",
       "  <th>x6_98065</th>             <td> 4.295e+05</td> <td> 1.87e+04</td> <td>   22.937</td> <td> 0.000</td> <td> 3.93e+05</td> <td> 4.66e+05</td>\n",
       "</tr>\n",
       "<tr>\n",
       "  <th>x6_98070</th>             <td> 2.633e+05</td> <td> 2.05e+04</td> <td>   12.830</td> <td> 0.000</td> <td> 2.23e+05</td> <td> 3.03e+05</td>\n",
       "</tr>\n",
       "<tr>\n",
       "  <th>x6_98072</th>             <td> 4.868e+05</td> <td> 1.67e+04</td> <td>   29.140</td> <td> 0.000</td> <td> 4.54e+05</td> <td>  5.2e+05</td>\n",
       "</tr>\n",
       "<tr>\n",
       "  <th>x6_98074</th>             <td> 6.262e+05</td> <td> 1.62e+04</td> <td>   38.638</td> <td> 0.000</td> <td> 5.94e+05</td> <td> 6.58e+05</td>\n",
       "</tr>\n",
       "<tr>\n",
       "  <th>x6_98075</th>             <td> 6.905e+05</td> <td> 1.69e+04</td> <td>   40.891</td> <td> 0.000</td> <td> 6.57e+05</td> <td> 7.24e+05</td>\n",
       "</tr>\n",
       "<tr>\n",
       "  <th>x6_98077</th>             <td> 4.841e+05</td> <td> 1.94e+04</td> <td>   24.907</td> <td> 0.000</td> <td> 4.46e+05</td> <td> 5.22e+05</td>\n",
       "</tr>\n",
       "<tr>\n",
       "  <th>x6_98092</th>             <td>-2.224e+04</td> <td> 1.36e+04</td> <td>   -1.634</td> <td> 0.102</td> <td>-4.89e+04</td> <td> 4430.556</td>\n",
       "</tr>\n",
       "<tr>\n",
       "  <th>x6_98102</th>             <td> 5.949e+05</td> <td>  2.4e+04</td> <td>   24.781</td> <td> 0.000</td> <td> 5.48e+05</td> <td> 6.42e+05</td>\n",
       "</tr>\n",
       "<tr>\n",
       "  <th>x6_98103</th>             <td> 4.968e+05</td> <td> 1.34e+04</td> <td>   37.086</td> <td> 0.000</td> <td> 4.71e+05</td> <td> 5.23e+05</td>\n",
       "</tr>\n",
       "<tr>\n",
       "  <th>x6_98105</th>             <td> 5.327e+05</td> <td> 1.75e+04</td> <td>   30.526</td> <td> 0.000</td> <td> 4.99e+05</td> <td> 5.67e+05</td>\n",
       "</tr>\n",
       "<tr>\n",
       "  <th>x6_98106</th>             <td> 1.836e+05</td> <td> 1.41e+04</td> <td>   13.001</td> <td> 0.000</td> <td> 1.56e+05</td> <td> 2.11e+05</td>\n",
       "</tr>\n",
       "<tr>\n",
       "  <th>x6_98107</th>             <td> 5.181e+05</td> <td> 1.51e+04</td> <td>   34.336</td> <td> 0.000</td> <td> 4.89e+05</td> <td> 5.48e+05</td>\n",
       "</tr>\n",
       "<tr>\n",
       "  <th>x6_98108</th>             <td> 2.033e+05</td> <td> 1.68e+04</td> <td>   12.123</td> <td> 0.000</td> <td>  1.7e+05</td> <td> 2.36e+05</td>\n",
       "</tr>\n",
       "<tr>\n",
       "  <th>x6_98109</th>             <td> 6.295e+05</td> <td> 2.52e+04</td> <td>   24.935</td> <td> 0.000</td> <td>  5.8e+05</td> <td> 6.79e+05</td>\n",
       "</tr>\n",
       "<tr>\n",
       "  <th>x6_98112</th>             <td> 5.848e+05</td> <td> 1.92e+04</td> <td>   30.412</td> <td> 0.000</td> <td> 5.47e+05</td> <td> 6.22e+05</td>\n",
       "</tr>\n",
       "<tr>\n",
       "  <th>x6_98115</th>             <td> 5.085e+05</td> <td> 1.34e+04</td> <td>   38.053</td> <td> 0.000</td> <td> 4.82e+05</td> <td> 5.35e+05</td>\n",
       "</tr>\n",
       "<tr>\n",
       "  <th>x6_98116</th>             <td> 4.334e+05</td> <td> 1.59e+04</td> <td>   27.242</td> <td> 0.000</td> <td> 4.02e+05</td> <td> 4.65e+05</td>\n",
       "</tr>\n",
       "<tr>\n",
       "  <th>x6_98117</th>             <td> 4.894e+05</td> <td> 1.34e+04</td> <td>   36.518</td> <td> 0.000</td> <td> 4.63e+05</td> <td> 5.16e+05</td>\n",
       "</tr>\n",
       "<tr>\n",
       "  <th>x6_98118</th>             <td>  2.81e+05</td> <td> 1.39e+04</td> <td>   20.266</td> <td> 0.000</td> <td> 2.54e+05</td> <td> 3.08e+05</td>\n",
       "</tr>\n",
       "<tr>\n",
       "  <th>x6_98119</th>             <td> 6.196e+05</td> <td> 1.92e+04</td> <td>   32.239</td> <td> 0.000</td> <td> 5.82e+05</td> <td> 6.57e+05</td>\n",
       "</tr>\n",
       "<tr>\n",
       "  <th>x6_98122</th>             <td> 4.238e+05</td> <td> 1.57e+04</td> <td>   27.048</td> <td> 0.000</td> <td> 3.93e+05</td> <td> 4.55e+05</td>\n",
       "</tr>\n",
       "<tr>\n",
       "  <th>x6_98125</th>             <td> 3.519e+05</td> <td> 1.46e+04</td> <td>   24.135</td> <td> 0.000</td> <td> 3.23e+05</td> <td>  3.8e+05</td>\n",
       "</tr>\n",
       "<tr>\n",
       "  <th>x6_98126</th>             <td> 2.906e+05</td> <td>  1.5e+04</td> <td>   19.369</td> <td> 0.000</td> <td> 2.61e+05</td> <td>  3.2e+05</td>\n",
       "</tr>\n",
       "<tr>\n",
       "  <th>x6_98133</th>             <td> 2.731e+05</td> <td> 1.34e+04</td> <td>   20.387</td> <td> 0.000</td> <td> 2.47e+05</td> <td> 2.99e+05</td>\n",
       "</tr>\n",
       "<tr>\n",
       "  <th>x6_98136</th>             <td> 4.175e+05</td> <td>  1.7e+04</td> <td>   24.492</td> <td> 0.000</td> <td> 3.84e+05</td> <td> 4.51e+05</td>\n",
       "</tr>\n",
       "<tr>\n",
       "  <th>x6_98144</th>             <td> 3.954e+05</td> <td> 1.54e+04</td> <td>   25.601</td> <td> 0.000</td> <td> 3.65e+05</td> <td> 4.26e+05</td>\n",
       "</tr>\n",
       "<tr>\n",
       "  <th>x6_98146</th>             <td> 1.942e+05</td> <td> 1.51e+04</td> <td>   12.876</td> <td> 0.000</td> <td> 1.65e+05</td> <td> 2.24e+05</td>\n",
       "</tr>\n",
       "<tr>\n",
       "  <th>x6_98148</th>             <td> 7.492e+04</td> <td> 2.65e+04</td> <td>    2.824</td> <td> 0.005</td> <td> 2.29e+04</td> <td> 1.27e+05</td>\n",
       "</tr>\n",
       "<tr>\n",
       "  <th>x6_98155</th>             <td> 3.292e+05</td> <td> 1.43e+04</td> <td>   22.995</td> <td> 0.000</td> <td> 3.01e+05</td> <td> 3.57e+05</td>\n",
       "</tr>\n",
       "<tr>\n",
       "  <th>x6_98166</th>             <td> 1.841e+05</td> <td> 1.63e+04</td> <td>   11.294</td> <td> 0.000</td> <td> 1.52e+05</td> <td> 2.16e+05</td>\n",
       "</tr>\n",
       "<tr>\n",
       "  <th>x6_98168</th>             <td> 6.867e+04</td> <td> 1.56e+04</td> <td>    4.411</td> <td> 0.000</td> <td> 3.82e+04</td> <td> 9.92e+04</td>\n",
       "</tr>\n",
       "<tr>\n",
       "  <th>x6_98177</th>             <td>  4.05e+05</td> <td> 1.76e+04</td> <td>   23.018</td> <td> 0.000</td> <td>  3.7e+05</td> <td> 4.39e+05</td>\n",
       "</tr>\n",
       "<tr>\n",
       "  <th>x6_98178</th>             <td> 1.193e+05</td> <td> 1.56e+04</td> <td>    7.657</td> <td> 0.000</td> <td> 8.88e+04</td> <td>  1.5e+05</td>\n",
       "</tr>\n",
       "<tr>\n",
       "  <th>x6_98188</th>             <td> 8.385e+04</td> <td> 1.94e+04</td> <td>    4.317</td> <td> 0.000</td> <td> 4.58e+04</td> <td> 1.22e+05</td>\n",
       "</tr>\n",
       "<tr>\n",
       "  <th>x6_98198</th>             <td>  6.35e+04</td> <td>  1.5e+04</td> <td>    4.226</td> <td> 0.000</td> <td> 3.41e+04</td> <td>  9.3e+04</td>\n",
       "</tr>\n",
       "<tr>\n",
       "  <th>x6_98199</th>             <td> 5.638e+05</td> <td> 1.62e+04</td> <td>   34.749</td> <td> 0.000</td> <td> 5.32e+05</td> <td> 5.96e+05</td>\n",
       "</tr>\n",
       "<tr>\n",
       "  <th>x6_98272</th>             <td> 2.869e+05</td> <td> 9.73e+04</td> <td>    2.948</td> <td> 0.003</td> <td> 9.62e+04</td> <td> 4.78e+05</td>\n",
       "</tr>\n",
       "<tr>\n",
       "  <th>x6_98296</th>             <td> 4.146e+04</td> <td> 2.37e+05</td> <td>    0.175</td> <td> 0.861</td> <td>-4.23e+05</td> <td> 5.06e+05</td>\n",
       "</tr>\n",
       "<tr>\n",
       "  <th>x6_98354</th>             <td> 3.157e+04</td> <td> 5.03e+04</td> <td>    0.628</td> <td> 0.530</td> <td> -6.7e+04</td> <td>  1.3e+05</td>\n",
       "</tr>\n",
       "<tr>\n",
       "  <th>x6_98372</th>             <td> 3.438e+05</td> <td> 1.68e+05</td> <td>    2.048</td> <td> 0.041</td> <td> 1.47e+04</td> <td> 6.73e+05</td>\n",
       "</tr>\n",
       "<tr>\n",
       "  <th>x6_98387</th>             <td> 4.823e+05</td> <td> 2.37e+05</td> <td>    2.034</td> <td> 0.042</td> <td> 1.75e+04</td> <td> 9.47e+05</td>\n",
       "</tr>\n",
       "<tr>\n",
       "  <th>x6_98422</th>             <td>-3.937e+05</td> <td> 2.37e+05</td> <td>   -1.661</td> <td> 0.097</td> <td>-8.58e+05</td> <td> 7.08e+04</td>\n",
       "</tr>\n",
       "<tr>\n",
       "  <th>x7_11 Excellent</th>      <td>  1.67e+05</td> <td> 2.95e+04</td> <td>    5.671</td> <td> 0.000</td> <td> 1.09e+05</td> <td> 2.25e+05</td>\n",
       "</tr>\n",
       "<tr>\n",
       "  <th>x7_12 Luxury</th>         <td> 4.869e+04</td> <td> 9.74e+04</td> <td>    0.500</td> <td> 0.617</td> <td>-1.42e+05</td> <td>  2.4e+05</td>\n",
       "</tr>\n",
       "<tr>\n",
       "  <th>x7_2 Substandard</th>     <td>-4.083e+05</td> <td>  2.4e+05</td> <td>   -1.700</td> <td> 0.089</td> <td>-8.79e+05</td> <td> 6.25e+04</td>\n",
       "</tr>\n",
       "<tr>\n",
       "  <th>x7_3 Poor</th>            <td>-2.752e+05</td> <td> 8.75e+04</td> <td>   -3.144</td> <td> 0.002</td> <td>-4.47e+05</td> <td>-1.04e+05</td>\n",
       "</tr>\n",
       "<tr>\n",
       "  <th>x7_4 Low</th>             <td>-3.206e+05</td> <td> 3.97e+04</td> <td>   -8.082</td> <td> 0.000</td> <td>-3.98e+05</td> <td>-2.43e+05</td>\n",
       "</tr>\n",
       "<tr>\n",
       "  <th>x7_5 Fair</th>            <td>-3.738e+05</td> <td> 1.82e+04</td> <td>  -20.527</td> <td> 0.000</td> <td>-4.09e+05</td> <td>-3.38e+05</td>\n",
       "</tr>\n",
       "<tr>\n",
       "  <th>x7_6 Low Average</th>     <td>-3.831e+05</td> <td> 1.29e+04</td> <td>  -29.679</td> <td> 0.000</td> <td>-4.08e+05</td> <td>-3.58e+05</td>\n",
       "</tr>\n",
       "<tr>\n",
       "  <th>x7_7 Average</th>         <td>-3.472e+05</td> <td> 1.13e+04</td> <td>  -30.682</td> <td> 0.000</td> <td>-3.69e+05</td> <td>-3.25e+05</td>\n",
       "</tr>\n",
       "<tr>\n",
       "  <th>x7_8 Good</th>            <td> -2.45e+05</td> <td> 1.06e+04</td> <td>  -23.136</td> <td> 0.000</td> <td>-2.66e+05</td> <td>-2.24e+05</td>\n",
       "</tr>\n",
       "<tr>\n",
       "  <th>x7_9 Better</th>          <td>-8.727e+04</td> <td> 1.07e+04</td> <td>   -8.120</td> <td> 0.000</td> <td>-1.08e+05</td> <td>-6.62e+04</td>\n",
       "</tr>\n",
       "</table>\n",
       "<table class=\"simpletable\">\n",
       "<tr>\n",
       "  <th>Omnibus:</th>       <td>2552.099</td> <th>  Durbin-Watson:     </th> <td>   1.979</td> \n",
       "</tr>\n",
       "<tr>\n",
       "  <th>Prob(Omnibus):</th>  <td> 0.000</td>  <th>  Jarque-Bera (JB):  </th> <td>19986.558</td>\n",
       "</tr>\n",
       "<tr>\n",
       "  <th>Skew:</th>           <td>-0.020</td>  <th>  Prob(JB):          </th> <td>    0.00</td> \n",
       "</tr>\n",
       "<tr>\n",
       "  <th>Kurtosis:</th>       <td> 7.261</td>  <th>  Cond. No.          </th> <td>4.92e+05</td> \n",
       "</tr>\n",
       "</table><br/><br/>Notes:<br/>[1] Standard Errors assume that the covariance matrix of the errors is correctly specified.<br/>[2] The condition number is large, 4.92e+05. This might indicate that there are<br/>strong multicollinearity or other numerical problems."
      ],
      "text/plain": [
       "<class 'statsmodels.iolib.summary.Summary'>\n",
       "\"\"\"\n",
       "                            OLS Regression Results                            \n",
       "==============================================================================\n",
       "Dep. Variable:                  price   R-squared:                       0.697\n",
       "Model:                            OLS   Adj. R-squared:                  0.696\n",
       "Method:                 Least Squares   F-statistic:                     455.1\n",
       "Date:                Thu, 08 Dec 2022   Prob (F-statistic):               0.00\n",
       "Time:                        19:16:23   Log-Likelihood:            -3.6436e+05\n",
       "No. Observations:               26420   AIC:                         7.290e+05\n",
       "Df Residuals:                   26286   BIC:                         7.301e+05\n",
       "Df Model:                         133                                         \n",
       "Covariance Type:            nonrobust                                         \n",
       "========================================================================================\n",
       "                           coef    std err          t      P>|t|      [0.025      0.975]\n",
       "----------------------------------------------------------------------------------------\n",
       "const                 4.353e+05   5.48e+04      7.943      0.000    3.28e+05    5.43e+05\n",
       "sqft_living            201.8509      3.806     53.040      0.000     194.392     209.310\n",
       "age_when_sold          963.0366     83.056     11.595      0.000     800.242    1125.831\n",
       "x0_0.5                4.721e+05   1.28e+05      3.693      0.000    2.22e+05    7.23e+05\n",
       "x0_1.0                3.422e+05   7.08e+04      4.834      0.000    2.03e+05    4.81e+05\n",
       "x0_1.5                3.207e+05   7.09e+04      4.522      0.000    1.82e+05     4.6e+05\n",
       "x0_2.0                 3.36e+05   7.07e+04      4.752      0.000    1.97e+05    4.75e+05\n",
       "x0_2.5                 3.56e+05   7.07e+04      5.035      0.000    2.17e+05    4.95e+05\n",
       "x0_3.0                3.681e+05   7.08e+04      5.200      0.000    2.29e+05    5.07e+05\n",
       "x0_3.5                3.816e+05    7.1e+04      5.377      0.000    2.42e+05    5.21e+05\n",
       "x0_4.0                3.943e+05   7.16e+04      5.505      0.000    2.54e+05    5.35e+05\n",
       "x0_4.5                4.168e+05   7.34e+04      5.675      0.000    2.73e+05    5.61e+05\n",
       "x0_5.0                4.469e+05   8.08e+04      5.530      0.000    2.88e+05    6.05e+05\n",
       "x0_5.5                1.167e+05   9.27e+04      1.260      0.208   -6.49e+04    2.98e+05\n",
       "x0_6.0                5.882e+05   9.82e+04      5.991      0.000    3.96e+05    7.81e+05\n",
       "x0_6.5                6.124e+05   1.55e+05      3.959      0.000    3.09e+05    9.16e+05\n",
       "x0_7.0                4.915e+05   1.55e+05      3.177      0.001    1.88e+05    7.95e+05\n",
       "x0_7.5                 5.45e+05   1.87e+05      2.913      0.004    1.78e+05    9.12e+05\n",
       "x1_1                 -3.176e+05   5.83e+04     -5.444      0.000   -4.32e+05   -2.03e+05\n",
       "x1_2                 -3.841e+05   5.71e+04     -6.730      0.000   -4.96e+05   -2.72e+05\n",
       "x1_3                  -3.57e+05   5.71e+04     -6.253      0.000   -4.69e+05   -2.45e+05\n",
       "x1_4                 -3.507e+05   5.72e+04     -6.127      0.000   -4.63e+05   -2.39e+05\n",
       "x1_5                 -3.805e+05   5.75e+04     -6.615      0.000   -4.93e+05   -2.68e+05\n",
       "x1_6                 -3.988e+05   5.87e+04     -6.790      0.000   -5.14e+05   -2.84e+05\n",
       "x1_7                 -4.124e+05   6.55e+04     -6.294      0.000   -5.41e+05   -2.84e+05\n",
       "x1_8                 -4.789e+05   7.26e+04     -6.597      0.000   -6.21e+05   -3.37e+05\n",
       "x1_9                 -3.975e+05   9.37e+04     -4.243      0.000   -5.81e+05   -2.14e+05\n",
       "x1_10                -8.344e+05    2.8e+05     -2.978      0.003   -1.38e+06   -2.85e+05\n",
       "x1_11                -4.057e+05   2.44e+05     -1.661      0.097   -8.85e+05     7.3e+04\n",
       "x2_Fair              -6.517e+04   1.67e+04     -3.912      0.000   -9.78e+04   -3.25e+04\n",
       "x2_Good               5.111e+04   3650.232     14.001      0.000     4.4e+04    5.83e+04\n",
       "x2_Poor              -1.087e+05   3.21e+04     -3.390      0.001   -1.72e+05   -4.58e+04\n",
       "x2_Very Good          1.011e+05   5121.961     19.736      0.000     9.1e+04    1.11e+05\n",
       "x3_Electricity/Solar -5.185e+04   3.32e+04     -1.561      0.119   -1.17e+05    1.32e+04\n",
       "x3_Gas                1.313e+04   3946.056      3.327      0.001    5394.020    2.09e+04\n",
       "x3_Gas/Solar          1.313e+05   2.81e+04      4.679      0.000    7.63e+04    1.86e+05\n",
       "x3_Oil                3711.7460   5933.820      0.626      0.532   -7918.863    1.53e+04\n",
       "x3_Oil/Solar          9.632e+04   1.19e+05      0.812      0.417   -1.36e+05    3.29e+05\n",
       "x3_Other              1.412e+05    5.8e+04      2.435      0.015    2.75e+04    2.55e+05\n",
       "x4_YES                 2.41e+05   1.47e+04     16.368      0.000    2.12e+05     2.7e+05\n",
       "x5_1.5                3846.6458   5780.049      0.666      0.506   -7482.564    1.52e+04\n",
       "x5_2.0                3918.9372   4613.641      0.849      0.396   -5124.049     1.3e+04\n",
       "x5_2.5                2.596e+04   2.16e+04      1.204      0.228   -1.63e+04    6.82e+04\n",
       "x5_3.0               -8.256e+04   1.05e+04     -7.835      0.000   -1.03e+05   -6.19e+04\n",
       "x5_3.5               -4847.2188   8.43e+04     -0.058      0.954    -1.7e+05     1.6e+05\n",
       "x5_4.0               -9.497e+04   4.73e+04     -2.010      0.044   -1.88e+05   -2343.996\n",
       "x6_98002             -1.361e+04   1.58e+04     -0.864      0.388   -4.45e+04    1.73e+04\n",
       "x6_98003             -1.978e+04   1.49e+04     -1.330      0.183   -4.89e+04    9369.370\n",
       "x6_98004               1.07e+06   2.62e+04     40.803      0.000    1.02e+06    1.12e+06\n",
       "x6_98005              8.389e+05   2.45e+04     34.286      0.000    7.91e+05    8.87e+05\n",
       "x6_98006              6.527e+05   1.56e+04     41.867      0.000    6.22e+05    6.83e+05\n",
       "x6_98007              6.083e+05   2.25e+04     27.095      0.000    5.64e+05    6.52e+05\n",
       "x6_98008              6.482e+05    1.6e+04     40.605      0.000    6.17e+05    6.79e+05\n",
       "x6_98010              6.504e+04   1.66e+04      3.917      0.000    3.25e+04    9.76e+04\n",
       "x6_98011              4.525e+05   1.78e+04     25.424      0.000    4.18e+05    4.87e+05\n",
       "x6_98014              2.381e+05   2.18e+04     10.939      0.000    1.95e+05    2.81e+05\n",
       "x6_98019              2.565e+05    1.8e+04     14.254      0.000    2.21e+05    2.92e+05\n",
       "x6_98022              3.079e+04   1.47e+04      2.094      0.036    1967.432    5.96e+04\n",
       "x6_98023             -4.739e+04   1.32e+04     -3.597      0.000   -7.32e+04   -2.16e+04\n",
       "x6_98024              3.971e+05   2.61e+04     15.245      0.000    3.46e+05    4.48e+05\n",
       "x6_98027              4.848e+05   1.59e+04     30.453      0.000    4.54e+05    5.16e+05\n",
       "x6_98028              3.797e+05    1.6e+04     23.770      0.000    3.48e+05    4.11e+05\n",
       "x6_98029              6.154e+05    1.7e+04     36.263      0.000    5.82e+05    6.49e+05\n",
       "x6_98030              7035.2116   1.55e+04      0.453      0.651   -2.34e+04    3.75e+04\n",
       "x6_98031              2.489e+04   1.41e+04      1.771      0.076   -2650.042    5.24e+04\n",
       "x6_98032               1.43e+04      2e+04      0.716      0.474   -2.48e+04    5.34e+04\n",
       "x6_98033              8.253e+05   1.53e+04     53.979      0.000    7.95e+05    8.55e+05\n",
       "x6_98034              5.401e+05   1.34e+04     40.440      0.000    5.14e+05    5.66e+05\n",
       "x6_98038              1.266e+05   1.25e+04     10.095      0.000    1.02e+05    1.51e+05\n",
       "x6_98039              1.108e+06   1.68e+05      6.607      0.000     7.8e+05    1.44e+06\n",
       "x6_98040              8.392e+05   2.15e+04     39.058      0.000    7.97e+05    8.81e+05\n",
       "x6_98042              2.233e+04   1.22e+04      1.837      0.066   -1496.793    4.62e+04\n",
       "x6_98047              3.667e+04   2.87e+04      1.279      0.201   -1.95e+04    9.29e+04\n",
       "x6_98050              1.825e+05   2.37e+05      0.770      0.441   -2.82e+05    6.47e+05\n",
       "x6_98051              1.595e+05   3.19e+04      5.007      0.000    9.71e+04    2.22e+05\n",
       "x6_98052              6.837e+05   1.44e+04     47.523      0.000    6.55e+05    7.12e+05\n",
       "x6_98053              5.835e+05   1.63e+04     35.695      0.000    5.51e+05    6.16e+05\n",
       "x6_98055              6.715e+04   1.87e+04      3.598      0.000    3.06e+04    1.04e+05\n",
       "x6_98056              2.617e+05   1.43e+04     18.330      0.000    2.34e+05     2.9e+05\n",
       "x6_98057               1.02e+05   2.33e+04      4.371      0.000    5.63e+04    1.48e+05\n",
       "x6_98058              8.352e+04   1.32e+04      6.331      0.000    5.77e+04    1.09e+05\n",
       "x6_98059              2.695e+05   1.39e+04     19.441      0.000    2.42e+05    2.97e+05\n",
       "x6_98065              4.295e+05   1.87e+04     22.937      0.000    3.93e+05    4.66e+05\n",
       "x6_98070              2.633e+05   2.05e+04     12.830      0.000    2.23e+05    3.03e+05\n",
       "x6_98072              4.868e+05   1.67e+04     29.140      0.000    4.54e+05     5.2e+05\n",
       "x6_98074              6.262e+05   1.62e+04     38.638      0.000    5.94e+05    6.58e+05\n",
       "x6_98075              6.905e+05   1.69e+04     40.891      0.000    6.57e+05    7.24e+05\n",
       "x6_98077              4.841e+05   1.94e+04     24.907      0.000    4.46e+05    5.22e+05\n",
       "x6_98092             -2.224e+04   1.36e+04     -1.634      0.102   -4.89e+04    4430.556\n",
       "x6_98102              5.949e+05    2.4e+04     24.781      0.000    5.48e+05    6.42e+05\n",
       "x6_98103              4.968e+05   1.34e+04     37.086      0.000    4.71e+05    5.23e+05\n",
       "x6_98105              5.327e+05   1.75e+04     30.526      0.000    4.99e+05    5.67e+05\n",
       "x6_98106              1.836e+05   1.41e+04     13.001      0.000    1.56e+05    2.11e+05\n",
       "x6_98107              5.181e+05   1.51e+04     34.336      0.000    4.89e+05    5.48e+05\n",
       "x6_98108              2.033e+05   1.68e+04     12.123      0.000     1.7e+05    2.36e+05\n",
       "x6_98109              6.295e+05   2.52e+04     24.935      0.000     5.8e+05    6.79e+05\n",
       "x6_98112              5.848e+05   1.92e+04     30.412      0.000    5.47e+05    6.22e+05\n",
       "x6_98115              5.085e+05   1.34e+04     38.053      0.000    4.82e+05    5.35e+05\n",
       "x6_98116              4.334e+05   1.59e+04     27.242      0.000    4.02e+05    4.65e+05\n",
       "x6_98117              4.894e+05   1.34e+04     36.518      0.000    4.63e+05    5.16e+05\n",
       "x6_98118               2.81e+05   1.39e+04     20.266      0.000    2.54e+05    3.08e+05\n",
       "x6_98119              6.196e+05   1.92e+04     32.239      0.000    5.82e+05    6.57e+05\n",
       "x6_98122              4.238e+05   1.57e+04     27.048      0.000    3.93e+05    4.55e+05\n",
       "x6_98125              3.519e+05   1.46e+04     24.135      0.000    3.23e+05     3.8e+05\n",
       "x6_98126              2.906e+05    1.5e+04     19.369      0.000    2.61e+05     3.2e+05\n",
       "x6_98133              2.731e+05   1.34e+04     20.387      0.000    2.47e+05    2.99e+05\n",
       "x6_98136              4.175e+05    1.7e+04     24.492      0.000    3.84e+05    4.51e+05\n",
       "x6_98144              3.954e+05   1.54e+04     25.601      0.000    3.65e+05    4.26e+05\n",
       "x6_98146              1.942e+05   1.51e+04     12.876      0.000    1.65e+05    2.24e+05\n",
       "x6_98148              7.492e+04   2.65e+04      2.824      0.005    2.29e+04    1.27e+05\n",
       "x6_98155              3.292e+05   1.43e+04     22.995      0.000    3.01e+05    3.57e+05\n",
       "x6_98166              1.841e+05   1.63e+04     11.294      0.000    1.52e+05    2.16e+05\n",
       "x6_98168              6.867e+04   1.56e+04      4.411      0.000    3.82e+04    9.92e+04\n",
       "x6_98177               4.05e+05   1.76e+04     23.018      0.000     3.7e+05    4.39e+05\n",
       "x6_98178              1.193e+05   1.56e+04      7.657      0.000    8.88e+04     1.5e+05\n",
       "x6_98188              8.385e+04   1.94e+04      4.317      0.000    4.58e+04    1.22e+05\n",
       "x6_98198               6.35e+04    1.5e+04      4.226      0.000    3.41e+04     9.3e+04\n",
       "x6_98199              5.638e+05   1.62e+04     34.749      0.000    5.32e+05    5.96e+05\n",
       "x6_98272              2.869e+05   9.73e+04      2.948      0.003    9.62e+04    4.78e+05\n",
       "x6_98296              4.146e+04   2.37e+05      0.175      0.861   -4.23e+05    5.06e+05\n",
       "x6_98354              3.157e+04   5.03e+04      0.628      0.530    -6.7e+04     1.3e+05\n",
       "x6_98372              3.438e+05   1.68e+05      2.048      0.041    1.47e+04    6.73e+05\n",
       "x6_98387              4.823e+05   2.37e+05      2.034      0.042    1.75e+04    9.47e+05\n",
       "x6_98422             -3.937e+05   2.37e+05     -1.661      0.097   -8.58e+05    7.08e+04\n",
       "x7_11 Excellent        1.67e+05   2.95e+04      5.671      0.000    1.09e+05    2.25e+05\n",
       "x7_12 Luxury          4.869e+04   9.74e+04      0.500      0.617   -1.42e+05     2.4e+05\n",
       "x7_2 Substandard     -4.083e+05    2.4e+05     -1.700      0.089   -8.79e+05    6.25e+04\n",
       "x7_3 Poor            -2.752e+05   8.75e+04     -3.144      0.002   -4.47e+05   -1.04e+05\n",
       "x7_4 Low             -3.206e+05   3.97e+04     -8.082      0.000   -3.98e+05   -2.43e+05\n",
       "x7_5 Fair            -3.738e+05   1.82e+04    -20.527      0.000   -4.09e+05   -3.38e+05\n",
       "x7_6 Low Average     -3.831e+05   1.29e+04    -29.679      0.000   -4.08e+05   -3.58e+05\n",
       "x7_7 Average         -3.472e+05   1.13e+04    -30.682      0.000   -3.69e+05   -3.25e+05\n",
       "x7_8 Good             -2.45e+05   1.06e+04    -23.136      0.000   -2.66e+05   -2.24e+05\n",
       "x7_9 Better          -8.727e+04   1.07e+04     -8.120      0.000   -1.08e+05   -6.62e+04\n",
       "==============================================================================\n",
       "Omnibus:                     2552.099   Durbin-Watson:                   1.979\n",
       "Prob(Omnibus):                  0.000   Jarque-Bera (JB):            19986.558\n",
       "Skew:                          -0.020   Prob(JB):                         0.00\n",
       "Kurtosis:                       7.261   Cond. No.                     4.92e+05\n",
       "==============================================================================\n",
       "\n",
       "Notes:\n",
       "[1] Standard Errors assume that the covariance matrix of the errors is correctly specified.\n",
       "[2] The condition number is large, 4.92e+05. This might indicate that there are\n",
       "strong multicollinearity or other numerical problems.\n",
       "\"\"\""
      ]
     },
     "execution_count": 131,
     "metadata": {},
     "output_type": "execute_result"
    }
   ],
   "source": [
    "ohe_cols = ['bathrooms', \n",
    "            'bedrooms', \n",
    "            'condition', \n",
    "            'heat_source',\n",
    "            'waterfront', \n",
    "            'floors', \n",
    "            'zipcode',\n",
    "            'grade']\n",
    "\n",
    "ohe = OneHotEncoder(drop='first')\n",
    "    \n",
    "ohe.fit(df[ohe_cols])\n",
    "ohe_all = pd.DataFrame(ohe.transform(df[ohe_cols]).todense(),\n",
    "                            columns=ohe.get_feature_names())\n",
    "\n",
    "X_cat = pd.concat([x,ohe_all], axis=1)\n",
    "scaled_oheall_model = sm.OLS(y, sm.add_constant(X_cat)).fit()\n",
    "scaled_oheall_model.summary()"
   ]
  },
  {
   "cell_type": "markdown",
   "metadata": {},
   "source": [
    "It is at this point that we see our R-squared score make a huge jump: our model goes from accounting for only 30% of the variance in our target, to just under 70%. We can conclude that the addition of our new categorical variables is responsible for this improvement."
   ]
  },
  {
   "cell_type": "markdown",
   "metadata": {},
   "source": [
    "### Ordinal Encoding Grade and Condition "
   ]
  },
  {
   "cell_type": "markdown",
   "metadata": {},
   "source": [
    "It is at this point that we realize that grade, one of the categorical variables incorporated in our current model, should not have been one-hot encoded. Instead, as an ordinal categorical variable, we need to use ordinal encoding to maintain the natural rank order in grade values."
   ]
  },
  {
   "cell_type": "code",
   "execution_count": 133,
   "metadata": {},
   "outputs": [
    {
     "data": {
      "text/plain": [
       "7 Average        11286\n",
       "8 Good            8429\n",
       "9 Better          2807\n",
       "6 Low Average     2765\n",
       "10 Very Good       629\n",
       "5 Fair             373\n",
       "11 Excellent        73\n",
       "4 Low               43\n",
       "3 Poor               8\n",
       "12 Luxury            6\n",
       "2 Substandard        1\n",
       "Name: grade, dtype: int64"
      ]
     },
     "execution_count": 133,
     "metadata": {},
     "output_type": "execute_result"
    }
   ],
   "source": [
    "df.grade.value_counts()"
   ]
  },
  {
   "cell_type": "code",
   "execution_count": 134,
   "metadata": {},
   "outputs": [
    {
     "data": {
      "text/html": [
       "<div>\n",
       "<style scoped>\n",
       "    .dataframe tbody tr th:only-of-type {\n",
       "        vertical-align: middle;\n",
       "    }\n",
       "\n",
       "    .dataframe tbody tr th {\n",
       "        vertical-align: top;\n",
       "    }\n",
       "\n",
       "    .dataframe thead th {\n",
       "        text-align: right;\n",
       "    }\n",
       "</style>\n",
       "<table border=\"1\" class=\"dataframe\">\n",
       "  <thead>\n",
       "    <tr style=\"text-align: right;\">\n",
       "      <th></th>\n",
       "      <th>0</th>\n",
       "    </tr>\n",
       "  </thead>\n",
       "  <tbody>\n",
       "    <tr>\n",
       "      <th>0</th>\n",
       "      <td>5.0</td>\n",
       "    </tr>\n",
       "    <tr>\n",
       "      <th>1</th>\n",
       "      <td>5.0</td>\n",
       "    </tr>\n",
       "    <tr>\n",
       "      <th>2</th>\n",
       "      <td>5.0</td>\n",
       "    </tr>\n",
       "    <tr>\n",
       "      <th>3</th>\n",
       "      <td>7.0</td>\n",
       "    </tr>\n",
       "    <tr>\n",
       "      <th>4</th>\n",
       "      <td>5.0</td>\n",
       "    </tr>\n",
       "    <tr>\n",
       "      <th>...</th>\n",
       "      <td>...</td>\n",
       "    </tr>\n",
       "    <tr>\n",
       "      <th>26415</th>\n",
       "      <td>6.0</td>\n",
       "    </tr>\n",
       "    <tr>\n",
       "      <th>26416</th>\n",
       "      <td>5.0</td>\n",
       "    </tr>\n",
       "    <tr>\n",
       "      <th>26417</th>\n",
       "      <td>5.0</td>\n",
       "    </tr>\n",
       "    <tr>\n",
       "      <th>26418</th>\n",
       "      <td>6.0</td>\n",
       "    </tr>\n",
       "    <tr>\n",
       "      <th>26419</th>\n",
       "      <td>5.0</td>\n",
       "    </tr>\n",
       "  </tbody>\n",
       "</table>\n",
       "<p>26420 rows × 1 columns</p>\n",
       "</div>"
      ],
      "text/plain": [
       "         0\n",
       "0      5.0\n",
       "1      5.0\n",
       "2      5.0\n",
       "3      7.0\n",
       "4      5.0\n",
       "...    ...\n",
       "26415  6.0\n",
       "26416  5.0\n",
       "26417  5.0\n",
       "26418  6.0\n",
       "26419  5.0\n",
       "\n",
       "[26420 rows x 1 columns]"
      ]
     },
     "execution_count": 134,
     "metadata": {},
     "output_type": "execute_result"
    }
   ],
   "source": [
    "# ordinally encoding grade\n",
    "grade_df = df[['grade']]\n",
    "grade_cats = [['2 Substandard',\n",
    "               '3 Poor',\n",
    "               '4 Low',\n",
    "               '5 Fair',\n",
    "               '6 Low Average',\n",
    "               '7 Average',\n",
    "               '8 Good',\n",
    "               '9 Better',\n",
    "               '10 Very Good',\n",
    "               '11 Excellent',\n",
    "               '12 Luxury',\n",
    "               '13 Mansion']]\n",
    "ords_grade = OrdinalEncoder(categories=grade_cats)\n",
    "ords_grade.fit(grade_df)\n",
    "ords_grade.transform(grade_df)\n",
    "grades_encoded = pd.DataFrame(ords_grade.transform(grade_df))\n",
    "grades_encoded"
   ]
  },
  {
   "cell_type": "markdown",
   "metadata": {},
   "source": [
    "Similarly, condition is a categorical feature being used in our model that should have been ordinally encoded as well. We proceed with re-encoding condition."
   ]
  },
  {
   "cell_type": "code",
   "execution_count": 135,
   "metadata": {},
   "outputs": [
    {
     "data": {
      "text/plain": [
       "Average      15675\n",
       "Good          7472\n",
       "Very Good     3003\n",
       "Fair           211\n",
       "Poor            59\n",
       "Name: condition, dtype: int64"
      ]
     },
     "execution_count": 135,
     "metadata": {},
     "output_type": "execute_result"
    }
   ],
   "source": [
    "df.condition.value_counts()"
   ]
  },
  {
   "cell_type": "code",
   "execution_count": 136,
   "metadata": {},
   "outputs": [
    {
     "data": {
      "text/html": [
       "<div>\n",
       "<style scoped>\n",
       "    .dataframe tbody tr th:only-of-type {\n",
       "        vertical-align: middle;\n",
       "    }\n",
       "\n",
       "    .dataframe tbody tr th {\n",
       "        vertical-align: top;\n",
       "    }\n",
       "\n",
       "    .dataframe thead th {\n",
       "        text-align: right;\n",
       "    }\n",
       "</style>\n",
       "<table border=\"1\" class=\"dataframe\">\n",
       "  <thead>\n",
       "    <tr style=\"text-align: right;\">\n",
       "      <th></th>\n",
       "      <th>0</th>\n",
       "    </tr>\n",
       "  </thead>\n",
       "  <tbody>\n",
       "    <tr>\n",
       "      <th>0</th>\n",
       "      <td>3.0</td>\n",
       "    </tr>\n",
       "    <tr>\n",
       "      <th>1</th>\n",
       "      <td>2.0</td>\n",
       "    </tr>\n",
       "    <tr>\n",
       "      <th>2</th>\n",
       "      <td>2.0</td>\n",
       "    </tr>\n",
       "    <tr>\n",
       "      <th>3</th>\n",
       "      <td>2.0</td>\n",
       "    </tr>\n",
       "    <tr>\n",
       "      <th>4</th>\n",
       "      <td>2.0</td>\n",
       "    </tr>\n",
       "  </tbody>\n",
       "</table>\n",
       "</div>"
      ],
      "text/plain": [
       "     0\n",
       "0  3.0\n",
       "1  2.0\n",
       "2  2.0\n",
       "3  2.0\n",
       "4  2.0"
      ]
     },
     "execution_count": 136,
     "metadata": {},
     "output_type": "execute_result"
    }
   ],
   "source": [
    "# ordinally encoding condition\n",
    "cond_df = df[['condition']]\n",
    "cond_cats = [['Poor',\n",
    "              'Fair',\n",
    "              'Average',\n",
    "              'Good',\n",
    "              'Very Good']]\n",
    "ords_cond = OrdinalEncoder(categories=cond_cats)\n",
    "ords_cond.fit(cond_df)\n",
    "ords_cond.transform(cond_df)\n",
    "cond_encoded = pd.DataFrame(ords_cond.transform(cond_df))\n",
    "cond_encoded.head()"
   ]
  },
  {
   "cell_type": "code",
   "execution_count": 137,
   "metadata": {},
   "outputs": [],
   "source": [
    "# Creating a new dataframe with just our ordinally-encoded features, \n",
    "# to be later concatenated to our other predictor variables before model incorporation\n",
    "ordinal_df = pd.concat([grades_encoded, cond_encoded], axis=1)\n",
    "ordinal_df.columns = ['grade', 'condition']"
   ]
  },
  {
   "cell_type": "code",
   "execution_count": 138,
   "metadata": {},
   "outputs": [
    {
     "data": {
      "text/html": [
       "<div>\n",
       "<style scoped>\n",
       "    .dataframe tbody tr th:only-of-type {\n",
       "        vertical-align: middle;\n",
       "    }\n",
       "\n",
       "    .dataframe tbody tr th {\n",
       "        vertical-align: top;\n",
       "    }\n",
       "\n",
       "    .dataframe thead th {\n",
       "        text-align: right;\n",
       "    }\n",
       "</style>\n",
       "<table border=\"1\" class=\"dataframe\">\n",
       "  <thead>\n",
       "    <tr style=\"text-align: right;\">\n",
       "      <th></th>\n",
       "      <th>grade</th>\n",
       "      <th>condition</th>\n",
       "    </tr>\n",
       "  </thead>\n",
       "  <tbody>\n",
       "    <tr>\n",
       "      <th>0</th>\n",
       "      <td>5.0</td>\n",
       "      <td>3.0</td>\n",
       "    </tr>\n",
       "    <tr>\n",
       "      <th>1</th>\n",
       "      <td>5.0</td>\n",
       "      <td>2.0</td>\n",
       "    </tr>\n",
       "    <tr>\n",
       "      <th>2</th>\n",
       "      <td>5.0</td>\n",
       "      <td>2.0</td>\n",
       "    </tr>\n",
       "    <tr>\n",
       "      <th>3</th>\n",
       "      <td>7.0</td>\n",
       "      <td>2.0</td>\n",
       "    </tr>\n",
       "    <tr>\n",
       "      <th>4</th>\n",
       "      <td>5.0</td>\n",
       "      <td>2.0</td>\n",
       "    </tr>\n",
       "    <tr>\n",
       "      <th>...</th>\n",
       "      <td>...</td>\n",
       "      <td>...</td>\n",
       "    </tr>\n",
       "    <tr>\n",
       "      <th>26415</th>\n",
       "      <td>6.0</td>\n",
       "      <td>3.0</td>\n",
       "    </tr>\n",
       "    <tr>\n",
       "      <th>26416</th>\n",
       "      <td>5.0</td>\n",
       "      <td>2.0</td>\n",
       "    </tr>\n",
       "    <tr>\n",
       "      <th>26417</th>\n",
       "      <td>5.0</td>\n",
       "      <td>2.0</td>\n",
       "    </tr>\n",
       "    <tr>\n",
       "      <th>26418</th>\n",
       "      <td>6.0</td>\n",
       "      <td>2.0</td>\n",
       "    </tr>\n",
       "    <tr>\n",
       "      <th>26419</th>\n",
       "      <td>5.0</td>\n",
       "      <td>2.0</td>\n",
       "    </tr>\n",
       "  </tbody>\n",
       "</table>\n",
       "<p>26420 rows × 2 columns</p>\n",
       "</div>"
      ],
      "text/plain": [
       "       grade  condition\n",
       "0        5.0        3.0\n",
       "1        5.0        2.0\n",
       "2        5.0        2.0\n",
       "3        7.0        2.0\n",
       "4        5.0        2.0\n",
       "...      ...        ...\n",
       "26415    6.0        3.0\n",
       "26416    5.0        2.0\n",
       "26417    5.0        2.0\n",
       "26418    6.0        2.0\n",
       "26419    5.0        2.0\n",
       "\n",
       "[26420 rows x 2 columns]"
      ]
     },
     "execution_count": 138,
     "metadata": {},
     "output_type": "execute_result"
    }
   ],
   "source": [
    "ordinal_df"
   ]
  },
  {
   "cell_type": "markdown",
   "metadata": {},
   "source": [
    "#### Dropping condition and grade, and then adding their encoded columns"
   ]
  },
  {
   "cell_type": "code",
   "execution_count": 139,
   "metadata": {
    "scrolled": true
   },
   "outputs": [
    {
     "data": {
      "text/html": [
       "<table class=\"simpletable\">\n",
       "<caption>OLS Regression Results</caption>\n",
       "<tr>\n",
       "  <th>Dep. Variable:</th>          <td>price</td>      <th>  R-squared:         </th>  <td>   0.692</td>  \n",
       "</tr>\n",
       "<tr>\n",
       "  <th>Model:</th>                   <td>OLS</td>       <th>  Adj. R-squared:    </th>  <td>   0.691</td>  \n",
       "</tr>\n",
       "<tr>\n",
       "  <th>Method:</th>             <td>Least Squares</td>  <th>  F-statistic:       </th>  <td>   488.5</td>  \n",
       "</tr>\n",
       "<tr>\n",
       "  <th>Date:</th>             <td>Thu, 08 Dec 2022</td> <th>  Prob (F-statistic):</th>   <td>  0.00</td>   \n",
       "</tr>\n",
       "<tr>\n",
       "  <th>Time:</th>                 <td>19:24:20</td>     <th>  Log-Likelihood:    </th> <td>-3.6458e+05</td>\n",
       "</tr>\n",
       "<tr>\n",
       "  <th>No. Observations:</th>      <td> 26420</td>      <th>  AIC:               </th>  <td>7.294e+05</td> \n",
       "</tr>\n",
       "<tr>\n",
       "  <th>Df Residuals:</th>          <td> 26298</td>      <th>  BIC:               </th>  <td>7.304e+05</td> \n",
       "</tr>\n",
       "<tr>\n",
       "  <th>Df Model:</th>              <td>   121</td>      <th>                     </th>      <td> </td>     \n",
       "</tr>\n",
       "<tr>\n",
       "  <th>Covariance Type:</th>      <td>nonrobust</td>    <th>                     </th>      <td> </td>     \n",
       "</tr>\n",
       "</table>\n",
       "<table class=\"simpletable\">\n",
       "<tr>\n",
       "            <td></td>              <th>coef</th>     <th>std err</th>      <th>t</th>      <th>P>|t|</th>  <th>[0.025</th>    <th>0.975]</th>  \n",
       "</tr>\n",
       "<tr>\n",
       "  <th>const</th>                <td>-4.702e+05</td> <td> 5.42e+04</td> <td>   -8.675</td> <td> 0.000</td> <td>-5.76e+05</td> <td>-3.64e+05</td>\n",
       "</tr>\n",
       "<tr>\n",
       "  <th>sqft_living</th>          <td>  209.9231</td> <td>    3.815</td> <td>   55.020</td> <td> 0.000</td> <td>  202.445</td> <td>  217.401</td>\n",
       "</tr>\n",
       "<tr>\n",
       "  <th>age_when_sold</th>        <td> 1091.6021</td> <td>   82.432</td> <td>   13.242</td> <td> 0.000</td> <td>  930.030</td> <td> 1253.174</td>\n",
       "</tr>\n",
       "<tr>\n",
       "  <th>x0_0.5</th>               <td> 6.013e+05</td> <td> 1.29e+05</td> <td>    4.677</td> <td> 0.000</td> <td> 3.49e+05</td> <td> 8.53e+05</td>\n",
       "</tr>\n",
       "<tr>\n",
       "  <th>x0_1.0</th>               <td> 4.073e+05</td> <td> 7.12e+04</td> <td>    5.719</td> <td> 0.000</td> <td> 2.68e+05</td> <td> 5.47e+05</td>\n",
       "</tr>\n",
       "<tr>\n",
       "  <th>x0_1.5</th>               <td> 3.621e+05</td> <td> 7.14e+04</td> <td>    5.072</td> <td> 0.000</td> <td> 2.22e+05</td> <td> 5.02e+05</td>\n",
       "</tr>\n",
       "<tr>\n",
       "  <th>x0_2.0</th>               <td> 3.771e+05</td> <td> 7.12e+04</td> <td>    5.297</td> <td> 0.000</td> <td> 2.38e+05</td> <td> 5.17e+05</td>\n",
       "</tr>\n",
       "<tr>\n",
       "  <th>x0_2.5</th>               <td> 3.969e+05</td> <td> 7.12e+04</td> <td>    5.576</td> <td> 0.000</td> <td> 2.57e+05</td> <td> 5.36e+05</td>\n",
       "</tr>\n",
       "<tr>\n",
       "  <th>x0_3.0</th>               <td> 4.089e+05</td> <td> 7.12e+04</td> <td>    5.739</td> <td> 0.000</td> <td> 2.69e+05</td> <td> 5.49e+05</td>\n",
       "</tr>\n",
       "<tr>\n",
       "  <th>x0_3.5</th>               <td> 4.335e+05</td> <td> 7.14e+04</td> <td>    6.070</td> <td> 0.000</td> <td> 2.94e+05</td> <td> 5.74e+05</td>\n",
       "</tr>\n",
       "<tr>\n",
       "  <th>x0_4.0</th>               <td> 4.436e+05</td> <td> 7.21e+04</td> <td>    6.154</td> <td> 0.000</td> <td> 3.02e+05</td> <td> 5.85e+05</td>\n",
       "</tr>\n",
       "<tr>\n",
       "  <th>x0_4.5</th>               <td> 4.734e+05</td> <td> 7.39e+04</td> <td>    6.404</td> <td> 0.000</td> <td> 3.29e+05</td> <td> 6.18e+05</td>\n",
       "</tr>\n",
       "<tr>\n",
       "  <th>x0_5.0</th>               <td> 5.021e+05</td> <td> 8.14e+04</td> <td>    6.171</td> <td> 0.000</td> <td> 3.43e+05</td> <td> 6.62e+05</td>\n",
       "</tr>\n",
       "<tr>\n",
       "  <th>x0_5.5</th>               <td> 1.725e+05</td> <td> 9.33e+04</td> <td>    1.849</td> <td> 0.064</td> <td>-1.04e+04</td> <td> 3.55e+05</td>\n",
       "</tr>\n",
       "<tr>\n",
       "  <th>x0_6.0</th>               <td> 6.324e+05</td> <td> 9.89e+04</td> <td>    6.393</td> <td> 0.000</td> <td> 4.38e+05</td> <td> 8.26e+05</td>\n",
       "</tr>\n",
       "<tr>\n",
       "  <th>x0_6.5</th>               <td> 6.617e+05</td> <td> 1.56e+05</td> <td>    4.245</td> <td> 0.000</td> <td> 3.56e+05</td> <td> 9.67e+05</td>\n",
       "</tr>\n",
       "<tr>\n",
       "  <th>x0_7.0</th>               <td> 5.447e+05</td> <td> 1.56e+05</td> <td>    3.494</td> <td> 0.000</td> <td> 2.39e+05</td> <td>  8.5e+05</td>\n",
       "</tr>\n",
       "<tr>\n",
       "  <th>x0_7.5</th>               <td> 5.714e+05</td> <td> 1.89e+05</td> <td>    3.030</td> <td> 0.002</td> <td> 2.02e+05</td> <td> 9.41e+05</td>\n",
       "</tr>\n",
       "<tr>\n",
       "  <th>x1_1</th>                 <td>-3.139e+05</td> <td> 5.85e+04</td> <td>   -5.368</td> <td> 0.000</td> <td>-4.28e+05</td> <td>-1.99e+05</td>\n",
       "</tr>\n",
       "<tr>\n",
       "  <th>x1_2</th>                 <td>  -4.4e+05</td> <td> 5.72e+04</td> <td>   -7.693</td> <td> 0.000</td> <td>-5.52e+05</td> <td>-3.28e+05</td>\n",
       "</tr>\n",
       "<tr>\n",
       "  <th>x1_3</th>                 <td>-4.256e+05</td> <td> 5.72e+04</td> <td>   -7.441</td> <td> 0.000</td> <td>-5.38e+05</td> <td>-3.13e+05</td>\n",
       "</tr>\n",
       "<tr>\n",
       "  <th>x1_4</th>                 <td>-4.194e+05</td> <td> 5.73e+04</td> <td>   -7.315</td> <td> 0.000</td> <td>-5.32e+05</td> <td>-3.07e+05</td>\n",
       "</tr>\n",
       "<tr>\n",
       "  <th>x1_5</th>                 <td> -4.53e+05</td> <td> 5.76e+04</td> <td>   -7.863</td> <td> 0.000</td> <td>-5.66e+05</td> <td> -3.4e+05</td>\n",
       "</tr>\n",
       "<tr>\n",
       "  <th>x1_6</th>                 <td>-4.786e+05</td> <td> 5.88e+04</td> <td>   -8.134</td> <td> 0.000</td> <td>-5.94e+05</td> <td>-3.63e+05</td>\n",
       "</tr>\n",
       "<tr>\n",
       "  <th>x1_7</th>                 <td>-4.978e+05</td> <td> 6.57e+04</td> <td>   -7.579</td> <td> 0.000</td> <td>-6.27e+05</td> <td>-3.69e+05</td>\n",
       "</tr>\n",
       "<tr>\n",
       "  <th>x1_8</th>                 <td>-5.672e+05</td> <td> 7.29e+04</td> <td>   -7.785</td> <td> 0.000</td> <td> -7.1e+05</td> <td>-4.24e+05</td>\n",
       "</tr>\n",
       "<tr>\n",
       "  <th>x1_9</th>                 <td>-4.863e+05</td> <td> 9.42e+04</td> <td>   -5.162</td> <td> 0.000</td> <td>-6.71e+05</td> <td>-3.02e+05</td>\n",
       "</tr>\n",
       "<tr>\n",
       "  <th>x1_10</th>                <td>-8.777e+05</td> <td> 2.82e+05</td> <td>   -3.108</td> <td> 0.002</td> <td>-1.43e+06</td> <td>-3.24e+05</td>\n",
       "</tr>\n",
       "<tr>\n",
       "  <th>x1_11</th>                <td>-4.902e+05</td> <td> 2.46e+05</td> <td>   -1.991</td> <td> 0.046</td> <td>-9.73e+05</td> <td>-7722.808</td>\n",
       "</tr>\n",
       "<tr>\n",
       "  <th>x2_Electricity/Solar</th> <td>-6.847e+04</td> <td> 3.35e+04</td> <td>   -2.045</td> <td> 0.041</td> <td>-1.34e+05</td> <td>-2858.253</td>\n",
       "</tr>\n",
       "<tr>\n",
       "  <th>x2_Gas</th>               <td> 9396.8046</td> <td> 3972.663</td> <td>    2.365</td> <td> 0.018</td> <td> 1610.170</td> <td> 1.72e+04</td>\n",
       "</tr>\n",
       "<tr>\n",
       "  <th>x2_Gas/Solar</th>         <td>  1.24e+05</td> <td> 2.82e+04</td> <td>    4.391</td> <td> 0.000</td> <td> 6.87e+04</td> <td> 1.79e+05</td>\n",
       "</tr>\n",
       "<tr>\n",
       "  <th>x2_Oil</th>               <td>-6233.4168</td> <td> 5956.265</td> <td>   -1.047</td> <td> 0.295</td> <td>-1.79e+04</td> <td> 5441.186</td>\n",
       "</tr>\n",
       "<tr>\n",
       "  <th>x2_Oil/Solar</th>         <td> 7.662e+04</td> <td>  1.2e+05</td> <td>    0.641</td> <td> 0.522</td> <td>-1.58e+05</td> <td> 3.11e+05</td>\n",
       "</tr>\n",
       "<tr>\n",
       "  <th>x2_Other</th>             <td> 1.687e+05</td> <td> 5.82e+04</td> <td>    2.897</td> <td> 0.004</td> <td> 5.45e+04</td> <td> 2.83e+05</td>\n",
       "</tr>\n",
       "<tr>\n",
       "  <th>x3_YES</th>               <td> 2.498e+05</td> <td> 1.48e+04</td> <td>   16.875</td> <td> 0.000</td> <td> 2.21e+05</td> <td> 2.79e+05</td>\n",
       "</tr>\n",
       "<tr>\n",
       "  <th>x4_1.5</th>               <td> 2984.4632</td> <td> 5826.045</td> <td>    0.512</td> <td> 0.608</td> <td>-8434.901</td> <td> 1.44e+04</td>\n",
       "</tr>\n",
       "<tr>\n",
       "  <th>x4_2.0</th>               <td>  1.13e+04</td> <td> 4624.170</td> <td>    2.444</td> <td> 0.015</td> <td> 2235.606</td> <td> 2.04e+04</td>\n",
       "</tr>\n",
       "<tr>\n",
       "  <th>x4_2.5</th>               <td> 3.329e+04</td> <td> 2.17e+04</td> <td>    1.532</td> <td> 0.125</td> <td>-9292.955</td> <td> 7.59e+04</td>\n",
       "</tr>\n",
       "<tr>\n",
       "  <th>x4_3.0</th>               <td>-6.664e+04</td> <td> 1.06e+04</td> <td>   -6.299</td> <td> 0.000</td> <td>-8.74e+04</td> <td>-4.59e+04</td>\n",
       "</tr>\n",
       "<tr>\n",
       "  <th>x4_3.5</th>               <td> 1188.1254</td> <td> 8.49e+04</td> <td>    0.014</td> <td> 0.989</td> <td>-1.65e+05</td> <td> 1.68e+05</td>\n",
       "</tr>\n",
       "<tr>\n",
       "  <th>x4_4.0</th>               <td>-7.757e+04</td> <td> 4.76e+04</td> <td>   -1.629</td> <td> 0.103</td> <td>-1.71e+05</td> <td> 1.57e+04</td>\n",
       "</tr>\n",
       "<tr>\n",
       "  <th>x5_98002</th>             <td>-7463.1575</td> <td> 1.59e+04</td> <td>   -0.471</td> <td> 0.638</td> <td>-3.86e+04</td> <td> 2.36e+04</td>\n",
       "</tr>\n",
       "<tr>\n",
       "  <th>x5_98003</th>             <td>-2.709e+04</td> <td>  1.5e+04</td> <td>   -1.808</td> <td> 0.071</td> <td>-5.65e+04</td> <td> 2277.695</td>\n",
       "</tr>\n",
       "<tr>\n",
       "  <th>x5_98004</th>             <td> 1.063e+06</td> <td> 2.64e+04</td> <td>   40.244</td> <td> 0.000</td> <td> 1.01e+06</td> <td> 1.12e+06</td>\n",
       "</tr>\n",
       "<tr>\n",
       "  <th>x5_98005</th>             <td> 8.446e+05</td> <td> 2.47e+04</td> <td>   34.259</td> <td> 0.000</td> <td> 7.96e+05</td> <td> 8.93e+05</td>\n",
       "</tr>\n",
       "<tr>\n",
       "  <th>x5_98006</th>             <td> 6.545e+05</td> <td> 1.57e+04</td> <td>   41.705</td> <td> 0.000</td> <td> 6.24e+05</td> <td> 6.85e+05</td>\n",
       "</tr>\n",
       "<tr>\n",
       "  <th>x5_98007</th>             <td> 6.013e+05</td> <td> 2.26e+04</td> <td>   26.570</td> <td> 0.000</td> <td> 5.57e+05</td> <td> 6.46e+05</td>\n",
       "</tr>\n",
       "<tr>\n",
       "  <th>x5_98008</th>             <td> 6.438e+05</td> <td> 1.61e+04</td> <td>   40.026</td> <td> 0.000</td> <td> 6.12e+05</td> <td> 6.75e+05</td>\n",
       "</tr>\n",
       "<tr>\n",
       "  <th>x5_98010</th>             <td> 6.496e+04</td> <td> 1.67e+04</td> <td>    3.886</td> <td> 0.000</td> <td> 3.22e+04</td> <td> 9.77e+04</td>\n",
       "</tr>\n",
       "<tr>\n",
       "  <th>x5_98011</th>             <td> 4.491e+05</td> <td> 1.79e+04</td> <td>   25.034</td> <td> 0.000</td> <td> 4.14e+05</td> <td> 4.84e+05</td>\n",
       "</tr>\n",
       "<tr>\n",
       "  <th>x5_98014</th>             <td> 2.396e+05</td> <td> 2.19e+04</td> <td>   10.922</td> <td> 0.000</td> <td> 1.97e+05</td> <td> 2.83e+05</td>\n",
       "</tr>\n",
       "<tr>\n",
       "  <th>x5_98019</th>             <td> 2.587e+05</td> <td> 1.81e+04</td> <td>   14.260</td> <td> 0.000</td> <td> 2.23e+05</td> <td> 2.94e+05</td>\n",
       "</tr>\n",
       "<tr>\n",
       "  <th>x5_98022</th>             <td> 3.144e+04</td> <td> 1.48e+04</td> <td>    2.121</td> <td> 0.034</td> <td> 2389.380</td> <td> 6.05e+04</td>\n",
       "</tr>\n",
       "<tr>\n",
       "  <th>x5_98023</th>             <td>-4.769e+04</td> <td> 1.33e+04</td> <td>   -3.593</td> <td> 0.000</td> <td>-7.37e+04</td> <td>-2.17e+04</td>\n",
       "</tr>\n",
       "<tr>\n",
       "  <th>x5_98024</th>             <td> 4.096e+05</td> <td> 2.62e+04</td> <td>   15.603</td> <td> 0.000</td> <td> 3.58e+05</td> <td> 4.61e+05</td>\n",
       "</tr>\n",
       "<tr>\n",
       "  <th>x5_98027</th>             <td> 4.892e+05</td> <td>  1.6e+04</td> <td>   30.528</td> <td> 0.000</td> <td> 4.58e+05</td> <td> 5.21e+05</td>\n",
       "</tr>\n",
       "<tr>\n",
       "  <th>x5_98028</th>             <td>  3.72e+05</td> <td> 1.61e+04</td> <td>   23.113</td> <td> 0.000</td> <td>  3.4e+05</td> <td> 4.04e+05</td>\n",
       "</tr>\n",
       "<tr>\n",
       "  <th>x5_98029</th>             <td> 6.234e+05</td> <td> 1.71e+04</td> <td>   36.451</td> <td> 0.000</td> <td>  5.9e+05</td> <td> 6.57e+05</td>\n",
       "</tr>\n",
       "<tr>\n",
       "  <th>x5_98030</th>             <td> 5559.3682</td> <td> 1.57e+04</td> <td>    0.355</td> <td> 0.722</td> <td>-2.51e+04</td> <td> 3.62e+04</td>\n",
       "</tr>\n",
       "<tr>\n",
       "  <th>x5_98031</th>             <td> 1.842e+04</td> <td> 1.42e+04</td> <td>    1.302</td> <td> 0.193</td> <td>-9322.000</td> <td> 4.62e+04</td>\n",
       "</tr>\n",
       "<tr>\n",
       "  <th>x5_98032</th>             <td> 1.846e+04</td> <td> 2.01e+04</td> <td>    0.919</td> <td> 0.358</td> <td>-2.09e+04</td> <td> 5.79e+04</td>\n",
       "</tr>\n",
       "<tr>\n",
       "  <th>x5_98033</th>             <td> 8.264e+05</td> <td> 1.54e+04</td> <td>   53.629</td> <td> 0.000</td> <td> 7.96e+05</td> <td> 8.57e+05</td>\n",
       "</tr>\n",
       "<tr>\n",
       "  <th>x5_98034</th>             <td> 5.314e+05</td> <td> 1.35e+04</td> <td>   39.511</td> <td> 0.000</td> <td> 5.05e+05</td> <td> 5.58e+05</td>\n",
       "</tr>\n",
       "<tr>\n",
       "  <th>x5_98038</th>             <td>  1.24e+05</td> <td> 1.26e+04</td> <td>    9.808</td> <td> 0.000</td> <td> 9.92e+04</td> <td> 1.49e+05</td>\n",
       "</tr>\n",
       "<tr>\n",
       "  <th>x5_98039</th>             <td> 1.084e+06</td> <td> 1.69e+05</td> <td>    6.412</td> <td> 0.000</td> <td> 7.53e+05</td> <td> 1.42e+06</td>\n",
       "</tr>\n",
       "<tr>\n",
       "  <th>x5_98040</th>             <td> 8.417e+05</td> <td> 2.17e+04</td> <td>   38.874</td> <td> 0.000</td> <td> 7.99e+05</td> <td> 8.84e+05</td>\n",
       "</tr>\n",
       "<tr>\n",
       "  <th>x5_98042</th>             <td> 1.794e+04</td> <td> 1.22e+04</td> <td>    1.465</td> <td> 0.143</td> <td>-6070.353</td> <td>  4.2e+04</td>\n",
       "</tr>\n",
       "<tr>\n",
       "  <th>x5_98047</th>             <td> 4.029e+04</td> <td> 2.89e+04</td> <td>    1.394</td> <td> 0.163</td> <td>-1.64e+04</td> <td> 9.69e+04</td>\n",
       "</tr>\n",
       "<tr>\n",
       "  <th>x5_98050</th>             <td> 2.106e+05</td> <td> 2.39e+05</td> <td>    0.881</td> <td> 0.378</td> <td>-2.58e+05</td> <td> 6.79e+05</td>\n",
       "</tr>\n",
       "<tr>\n",
       "  <th>x5_98051</th>             <td> 1.821e+05</td> <td> 3.21e+04</td> <td>    5.675</td> <td> 0.000</td> <td> 1.19e+05</td> <td> 2.45e+05</td>\n",
       "</tr>\n",
       "<tr>\n",
       "  <th>x5_98052</th>             <td>  6.81e+05</td> <td> 1.45e+04</td> <td>   47.004</td> <td> 0.000</td> <td> 6.53e+05</td> <td> 7.09e+05</td>\n",
       "</tr>\n",
       "<tr>\n",
       "  <th>x5_98053</th>             <td> 5.807e+05</td> <td> 1.65e+04</td> <td>   35.258</td> <td> 0.000</td> <td> 5.48e+05</td> <td> 6.13e+05</td>\n",
       "</tr>\n",
       "<tr>\n",
       "  <th>x5_98055</th>             <td> 6.836e+04</td> <td> 1.88e+04</td> <td>    3.633</td> <td> 0.000</td> <td> 3.15e+04</td> <td> 1.05e+05</td>\n",
       "</tr>\n",
       "<tr>\n",
       "  <th>x5_98056</th>             <td>  2.74e+05</td> <td> 1.44e+04</td> <td>   19.074</td> <td> 0.000</td> <td> 2.46e+05</td> <td> 3.02e+05</td>\n",
       "</tr>\n",
       "<tr>\n",
       "  <th>x5_98057</th>             <td> 1.207e+05</td> <td> 2.35e+04</td> <td>    5.140</td> <td> 0.000</td> <td> 7.47e+04</td> <td> 1.67e+05</td>\n",
       "</tr>\n",
       "<tr>\n",
       "  <th>x5_98058</th>             <td> 8.217e+04</td> <td> 1.33e+04</td> <td>    6.181</td> <td> 0.000</td> <td> 5.61e+04</td> <td> 1.08e+05</td>\n",
       "</tr>\n",
       "<tr>\n",
       "  <th>x5_98059</th>             <td> 2.727e+05</td> <td>  1.4e+04</td> <td>   19.517</td> <td> 0.000</td> <td> 2.45e+05</td> <td>    3e+05</td>\n",
       "</tr>\n",
       "<tr>\n",
       "  <th>x5_98065</th>             <td>  4.32e+05</td> <td> 1.89e+04</td> <td>   22.899</td> <td> 0.000</td> <td> 3.95e+05</td> <td> 4.69e+05</td>\n",
       "</tr>\n",
       "<tr>\n",
       "  <th>x5_98070</th>             <td> 2.601e+05</td> <td> 2.06e+04</td> <td>   12.606</td> <td> 0.000</td> <td>  2.2e+05</td> <td> 3.01e+05</td>\n",
       "</tr>\n",
       "<tr>\n",
       "  <th>x5_98072</th>             <td> 4.856e+05</td> <td> 1.68e+04</td> <td>   28.840</td> <td> 0.000</td> <td> 4.53e+05</td> <td> 5.19e+05</td>\n",
       "</tr>\n",
       "<tr>\n",
       "  <th>x5_98074</th>             <td>  6.39e+05</td> <td> 1.63e+04</td> <td>   39.172</td> <td> 0.000</td> <td> 6.07e+05</td> <td> 6.71e+05</td>\n",
       "</tr>\n",
       "<tr>\n",
       "  <th>x5_98075</th>             <td> 7.104e+05</td> <td> 1.69e+04</td> <td>   41.995</td> <td> 0.000</td> <td> 6.77e+05</td> <td> 7.44e+05</td>\n",
       "</tr>\n",
       "<tr>\n",
       "  <th>x5_98077</th>             <td> 4.957e+05</td> <td> 1.96e+04</td> <td>   25.344</td> <td> 0.000</td> <td> 4.57e+05</td> <td> 5.34e+05</td>\n",
       "</tr>\n",
       "<tr>\n",
       "  <th>x5_98092</th>             <td>    -2e+04</td> <td> 1.37e+04</td> <td>   -1.458</td> <td> 0.145</td> <td>-4.69e+04</td> <td> 6884.481</td>\n",
       "</tr>\n",
       "<tr>\n",
       "  <th>x5_98102</th>             <td> 5.977e+05</td> <td> 2.42e+04</td> <td>   24.716</td> <td> 0.000</td> <td>  5.5e+05</td> <td> 6.45e+05</td>\n",
       "</tr>\n",
       "<tr>\n",
       "  <th>x5_98103</th>             <td>  4.81e+05</td> <td> 1.35e+04</td> <td>   35.692</td> <td> 0.000</td> <td> 4.55e+05</td> <td> 5.07e+05</td>\n",
       "</tr>\n",
       "<tr>\n",
       "  <th>x5_98105</th>             <td> 5.208e+05</td> <td> 1.76e+04</td> <td>   29.630</td> <td> 0.000</td> <td> 4.86e+05</td> <td> 5.55e+05</td>\n",
       "</tr>\n",
       "<tr>\n",
       "  <th>x5_98106</th>             <td> 1.806e+05</td> <td> 1.42e+04</td> <td>   12.697</td> <td> 0.000</td> <td> 1.53e+05</td> <td> 2.08e+05</td>\n",
       "</tr>\n",
       "<tr>\n",
       "  <th>x5_98107</th>             <td> 5.031e+05</td> <td> 1.52e+04</td> <td>   33.140</td> <td> 0.000</td> <td> 4.73e+05</td> <td> 5.33e+05</td>\n",
       "</tr>\n",
       "<tr>\n",
       "  <th>x5_98108</th>             <td> 1.997e+05</td> <td> 1.69e+04</td> <td>   11.815</td> <td> 0.000</td> <td> 1.67e+05</td> <td> 2.33e+05</td>\n",
       "</tr>\n",
       "<tr>\n",
       "  <th>x5_98109</th>             <td> 6.211e+05</td> <td> 2.54e+04</td> <td>   24.415</td> <td> 0.000</td> <td> 5.71e+05</td> <td> 6.71e+05</td>\n",
       "</tr>\n",
       "<tr>\n",
       "  <th>x5_98112</th>             <td> 5.815e+05</td> <td> 1.94e+04</td> <td>   30.025</td> <td> 0.000</td> <td> 5.44e+05</td> <td> 6.19e+05</td>\n",
       "</tr>\n",
       "<tr>\n",
       "  <th>x5_98115</th>             <td> 4.936e+05</td> <td> 1.34e+04</td> <td>   36.715</td> <td> 0.000</td> <td> 4.67e+05</td> <td>  5.2e+05</td>\n",
       "</tr>\n",
       "<tr>\n",
       "  <th>x5_98116</th>             <td> 4.258e+05</td> <td>  1.6e+04</td> <td>   26.563</td> <td> 0.000</td> <td> 3.94e+05</td> <td> 4.57e+05</td>\n",
       "</tr>\n",
       "<tr>\n",
       "  <th>x5_98117</th>             <td> 4.796e+05</td> <td> 1.35e+04</td> <td>   35.554</td> <td> 0.000</td> <td> 4.53e+05</td> <td> 5.06e+05</td>\n",
       "</tr>\n",
       "<tr>\n",
       "  <th>x5_98118</th>             <td> 2.739e+05</td> <td>  1.4e+04</td> <td>   19.620</td> <td> 0.000</td> <td> 2.47e+05</td> <td> 3.01e+05</td>\n",
       "</tr>\n",
       "<tr>\n",
       "  <th>x5_98119</th>             <td> 6.108e+05</td> <td> 1.94e+04</td> <td>   31.560</td> <td> 0.000</td> <td> 5.73e+05</td> <td> 6.49e+05</td>\n",
       "</tr>\n",
       "<tr>\n",
       "  <th>x5_98122</th>             <td>   4.2e+05</td> <td> 1.58e+04</td> <td>   26.624</td> <td> 0.000</td> <td> 3.89e+05</td> <td> 4.51e+05</td>\n",
       "</tr>\n",
       "<tr>\n",
       "  <th>x5_98125</th>             <td> 3.432e+05</td> <td> 1.47e+04</td> <td>   23.359</td> <td> 0.000</td> <td> 3.14e+05</td> <td> 3.72e+05</td>\n",
       "</tr>\n",
       "<tr>\n",
       "  <th>x5_98126</th>             <td> 2.895e+05</td> <td> 1.51e+04</td> <td>   19.152</td> <td> 0.000</td> <td>  2.6e+05</td> <td> 3.19e+05</td>\n",
       "</tr>\n",
       "<tr>\n",
       "  <th>x5_98133</th>             <td> 2.618e+05</td> <td> 1.35e+04</td> <td>   19.408</td> <td> 0.000</td> <td> 2.35e+05</td> <td> 2.88e+05</td>\n",
       "</tr>\n",
       "<tr>\n",
       "  <th>x5_98136</th>             <td>  4.07e+05</td> <td> 1.72e+04</td> <td>   23.704</td> <td> 0.000</td> <td> 3.73e+05</td> <td> 4.41e+05</td>\n",
       "</tr>\n",
       "<tr>\n",
       "  <th>x5_98144</th>             <td> 3.892e+05</td> <td> 1.56e+04</td> <td>   25.017</td> <td> 0.000</td> <td> 3.59e+05</td> <td>  4.2e+05</td>\n",
       "</tr>\n",
       "<tr>\n",
       "  <th>x5_98146</th>             <td>  1.98e+05</td> <td> 1.52e+04</td> <td>   13.028</td> <td> 0.000</td> <td> 1.68e+05</td> <td> 2.28e+05</td>\n",
       "</tr>\n",
       "<tr>\n",
       "  <th>x5_98148</th>             <td> 6.596e+04</td> <td> 2.67e+04</td> <td>    2.466</td> <td> 0.014</td> <td> 1.35e+04</td> <td> 1.18e+05</td>\n",
       "</tr>\n",
       "<tr>\n",
       "  <th>x5_98155</th>             <td> 3.252e+05</td> <td> 1.44e+04</td> <td>   22.542</td> <td> 0.000</td> <td> 2.97e+05</td> <td> 3.54e+05</td>\n",
       "</tr>\n",
       "<tr>\n",
       "  <th>x5_98166</th>             <td> 1.859e+05</td> <td> 1.64e+04</td> <td>   11.318</td> <td> 0.000</td> <td> 1.54e+05</td> <td> 2.18e+05</td>\n",
       "</tr>\n",
       "<tr>\n",
       "  <th>x5_98168</th>             <td> 7.592e+04</td> <td> 1.57e+04</td> <td>    4.847</td> <td> 0.000</td> <td> 4.52e+04</td> <td> 1.07e+05</td>\n",
       "</tr>\n",
       "<tr>\n",
       "  <th>x5_98177</th>             <td> 4.003e+05</td> <td> 1.77e+04</td> <td>   22.580</td> <td> 0.000</td> <td> 3.66e+05</td> <td> 4.35e+05</td>\n",
       "</tr>\n",
       "<tr>\n",
       "  <th>x5_98178</th>             <td> 1.183e+05</td> <td> 1.57e+04</td> <td>    7.538</td> <td> 0.000</td> <td> 8.75e+04</td> <td> 1.49e+05</td>\n",
       "</tr>\n",
       "<tr>\n",
       "  <th>x5_98188</th>             <td>  7.57e+04</td> <td> 1.96e+04</td> <td>    3.868</td> <td> 0.000</td> <td> 3.73e+04</td> <td> 1.14e+05</td>\n",
       "</tr>\n",
       "<tr>\n",
       "  <th>x5_98198</th>             <td> 5.833e+04</td> <td> 1.51e+04</td> <td>    3.851</td> <td> 0.000</td> <td> 2.86e+04</td> <td>  8.8e+04</td>\n",
       "</tr>\n",
       "<tr>\n",
       "  <th>x5_98199</th>             <td> 5.612e+05</td> <td> 1.63e+04</td> <td>   34.338</td> <td> 0.000</td> <td> 5.29e+05</td> <td> 5.93e+05</td>\n",
       "</tr>\n",
       "<tr>\n",
       "  <th>x5_98272</th>             <td> 2.895e+05</td> <td> 9.81e+04</td> <td>    2.953</td> <td> 0.003</td> <td> 9.73e+04</td> <td> 4.82e+05</td>\n",
       "</tr>\n",
       "<tr>\n",
       "  <th>x5_98296</th>             <td> 3.059e+04</td> <td> 2.39e+05</td> <td>    0.128</td> <td> 0.898</td> <td>-4.38e+05</td> <td> 4.99e+05</td>\n",
       "</tr>\n",
       "<tr>\n",
       "  <th>x5_98354</th>             <td> 1.916e+04</td> <td> 5.07e+04</td> <td>    0.378</td> <td> 0.705</td> <td>-8.02e+04</td> <td> 1.19e+05</td>\n",
       "</tr>\n",
       "<tr>\n",
       "  <th>x5_98372</th>             <td> 3.881e+05</td> <td> 1.69e+05</td> <td>    2.293</td> <td> 0.022</td> <td> 5.64e+04</td> <td>  7.2e+05</td>\n",
       "</tr>\n",
       "<tr>\n",
       "  <th>x5_98387</th>             <td> 4.497e+05</td> <td> 2.39e+05</td> <td>    1.881</td> <td> 0.060</td> <td> -1.9e+04</td> <td> 9.18e+05</td>\n",
       "</tr>\n",
       "<tr>\n",
       "  <th>x5_98422</th>             <td>-4.142e+05</td> <td> 2.39e+05</td> <td>   -1.733</td> <td> 0.083</td> <td>-8.83e+05</td> <td> 5.42e+04</td>\n",
       "</tr>\n",
       "<tr>\n",
       "  <th>grade</th>                <td> 9.637e+04</td> <td> 2462.283</td> <td>   39.139</td> <td> 0.000</td> <td> 9.15e+04</td> <td> 1.01e+05</td>\n",
       "</tr>\n",
       "<tr>\n",
       "  <th>condition</th>            <td>  4.92e+04</td> <td> 2298.296</td> <td>   21.407</td> <td> 0.000</td> <td> 4.47e+04</td> <td> 5.37e+04</td>\n",
       "</tr>\n",
       "</table>\n",
       "<table class=\"simpletable\">\n",
       "<tr>\n",
       "  <th>Omnibus:</th>       <td>2474.625</td> <th>  Durbin-Watson:     </th> <td>   1.974</td> \n",
       "</tr>\n",
       "<tr>\n",
       "  <th>Prob(Omnibus):</th>  <td> 0.000</td>  <th>  Jarque-Bera (JB):  </th> <td>18564.817</td>\n",
       "</tr>\n",
       "<tr>\n",
       "  <th>Skew:</th>           <td> 0.020</td>  <th>  Prob(JB):          </th> <td>    0.00</td> \n",
       "</tr>\n",
       "<tr>\n",
       "  <th>Kurtosis:</th>       <td> 7.106</td>  <th>  Cond. No.          </th> <td>4.91e+05</td> \n",
       "</tr>\n",
       "</table><br/><br/>Notes:<br/>[1] Standard Errors assume that the covariance matrix of the errors is correctly specified.<br/>[2] The condition number is large, 4.91e+05. This might indicate that there are<br/>strong multicollinearity or other numerical problems."
      ],
      "text/plain": [
       "<class 'statsmodels.iolib.summary.Summary'>\n",
       "\"\"\"\n",
       "                            OLS Regression Results                            \n",
       "==============================================================================\n",
       "Dep. Variable:                  price   R-squared:                       0.692\n",
       "Model:                            OLS   Adj. R-squared:                  0.691\n",
       "Method:                 Least Squares   F-statistic:                     488.5\n",
       "Date:                Thu, 08 Dec 2022   Prob (F-statistic):               0.00\n",
       "Time:                        19:24:20   Log-Likelihood:            -3.6458e+05\n",
       "No. Observations:               26420   AIC:                         7.294e+05\n",
       "Df Residuals:                   26298   BIC:                         7.304e+05\n",
       "Df Model:                         121                                         \n",
       "Covariance Type:            nonrobust                                         \n",
       "========================================================================================\n",
       "                           coef    std err          t      P>|t|      [0.025      0.975]\n",
       "----------------------------------------------------------------------------------------\n",
       "const                -4.702e+05   5.42e+04     -8.675      0.000   -5.76e+05   -3.64e+05\n",
       "sqft_living            209.9231      3.815     55.020      0.000     202.445     217.401\n",
       "age_when_sold         1091.6021     82.432     13.242      0.000     930.030    1253.174\n",
       "x0_0.5                6.013e+05   1.29e+05      4.677      0.000    3.49e+05    8.53e+05\n",
       "x0_1.0                4.073e+05   7.12e+04      5.719      0.000    2.68e+05    5.47e+05\n",
       "x0_1.5                3.621e+05   7.14e+04      5.072      0.000    2.22e+05    5.02e+05\n",
       "x0_2.0                3.771e+05   7.12e+04      5.297      0.000    2.38e+05    5.17e+05\n",
       "x0_2.5                3.969e+05   7.12e+04      5.576      0.000    2.57e+05    5.36e+05\n",
       "x0_3.0                4.089e+05   7.12e+04      5.739      0.000    2.69e+05    5.49e+05\n",
       "x0_3.5                4.335e+05   7.14e+04      6.070      0.000    2.94e+05    5.74e+05\n",
       "x0_4.0                4.436e+05   7.21e+04      6.154      0.000    3.02e+05    5.85e+05\n",
       "x0_4.5                4.734e+05   7.39e+04      6.404      0.000    3.29e+05    6.18e+05\n",
       "x0_5.0                5.021e+05   8.14e+04      6.171      0.000    3.43e+05    6.62e+05\n",
       "x0_5.5                1.725e+05   9.33e+04      1.849      0.064   -1.04e+04    3.55e+05\n",
       "x0_6.0                6.324e+05   9.89e+04      6.393      0.000    4.38e+05    8.26e+05\n",
       "x0_6.5                6.617e+05   1.56e+05      4.245      0.000    3.56e+05    9.67e+05\n",
       "x0_7.0                5.447e+05   1.56e+05      3.494      0.000    2.39e+05     8.5e+05\n",
       "x0_7.5                5.714e+05   1.89e+05      3.030      0.002    2.02e+05    9.41e+05\n",
       "x1_1                 -3.139e+05   5.85e+04     -5.368      0.000   -4.28e+05   -1.99e+05\n",
       "x1_2                   -4.4e+05   5.72e+04     -7.693      0.000   -5.52e+05   -3.28e+05\n",
       "x1_3                 -4.256e+05   5.72e+04     -7.441      0.000   -5.38e+05   -3.13e+05\n",
       "x1_4                 -4.194e+05   5.73e+04     -7.315      0.000   -5.32e+05   -3.07e+05\n",
       "x1_5                  -4.53e+05   5.76e+04     -7.863      0.000   -5.66e+05    -3.4e+05\n",
       "x1_6                 -4.786e+05   5.88e+04     -8.134      0.000   -5.94e+05   -3.63e+05\n",
       "x1_7                 -4.978e+05   6.57e+04     -7.579      0.000   -6.27e+05   -3.69e+05\n",
       "x1_8                 -5.672e+05   7.29e+04     -7.785      0.000    -7.1e+05   -4.24e+05\n",
       "x1_9                 -4.863e+05   9.42e+04     -5.162      0.000   -6.71e+05   -3.02e+05\n",
       "x1_10                -8.777e+05   2.82e+05     -3.108      0.002   -1.43e+06   -3.24e+05\n",
       "x1_11                -4.902e+05   2.46e+05     -1.991      0.046   -9.73e+05   -7722.808\n",
       "x2_Electricity/Solar -6.847e+04   3.35e+04     -2.045      0.041   -1.34e+05   -2858.253\n",
       "x2_Gas                9396.8046   3972.663      2.365      0.018    1610.170    1.72e+04\n",
       "x2_Gas/Solar           1.24e+05   2.82e+04      4.391      0.000    6.87e+04    1.79e+05\n",
       "x2_Oil               -6233.4168   5956.265     -1.047      0.295   -1.79e+04    5441.186\n",
       "x2_Oil/Solar          7.662e+04    1.2e+05      0.641      0.522   -1.58e+05    3.11e+05\n",
       "x2_Other              1.687e+05   5.82e+04      2.897      0.004    5.45e+04    2.83e+05\n",
       "x3_YES                2.498e+05   1.48e+04     16.875      0.000    2.21e+05    2.79e+05\n",
       "x4_1.5                2984.4632   5826.045      0.512      0.608   -8434.901    1.44e+04\n",
       "x4_2.0                 1.13e+04   4624.170      2.444      0.015    2235.606    2.04e+04\n",
       "x4_2.5                3.329e+04   2.17e+04      1.532      0.125   -9292.955    7.59e+04\n",
       "x4_3.0               -6.664e+04   1.06e+04     -6.299      0.000   -8.74e+04   -4.59e+04\n",
       "x4_3.5                1188.1254   8.49e+04      0.014      0.989   -1.65e+05    1.68e+05\n",
       "x4_4.0               -7.757e+04   4.76e+04     -1.629      0.103   -1.71e+05    1.57e+04\n",
       "x5_98002             -7463.1575   1.59e+04     -0.471      0.638   -3.86e+04    2.36e+04\n",
       "x5_98003             -2.709e+04    1.5e+04     -1.808      0.071   -5.65e+04    2277.695\n",
       "x5_98004              1.063e+06   2.64e+04     40.244      0.000    1.01e+06    1.12e+06\n",
       "x5_98005              8.446e+05   2.47e+04     34.259      0.000    7.96e+05    8.93e+05\n",
       "x5_98006              6.545e+05   1.57e+04     41.705      0.000    6.24e+05    6.85e+05\n",
       "x5_98007              6.013e+05   2.26e+04     26.570      0.000    5.57e+05    6.46e+05\n",
       "x5_98008              6.438e+05   1.61e+04     40.026      0.000    6.12e+05    6.75e+05\n",
       "x5_98010              6.496e+04   1.67e+04      3.886      0.000    3.22e+04    9.77e+04\n",
       "x5_98011              4.491e+05   1.79e+04     25.034      0.000    4.14e+05    4.84e+05\n",
       "x5_98014              2.396e+05   2.19e+04     10.922      0.000    1.97e+05    2.83e+05\n",
       "x5_98019              2.587e+05   1.81e+04     14.260      0.000    2.23e+05    2.94e+05\n",
       "x5_98022              3.144e+04   1.48e+04      2.121      0.034    2389.380    6.05e+04\n",
       "x5_98023             -4.769e+04   1.33e+04     -3.593      0.000   -7.37e+04   -2.17e+04\n",
       "x5_98024              4.096e+05   2.62e+04     15.603      0.000    3.58e+05    4.61e+05\n",
       "x5_98027              4.892e+05    1.6e+04     30.528      0.000    4.58e+05    5.21e+05\n",
       "x5_98028               3.72e+05   1.61e+04     23.113      0.000     3.4e+05    4.04e+05\n",
       "x5_98029              6.234e+05   1.71e+04     36.451      0.000     5.9e+05    6.57e+05\n",
       "x5_98030              5559.3682   1.57e+04      0.355      0.722   -2.51e+04    3.62e+04\n",
       "x5_98031              1.842e+04   1.42e+04      1.302      0.193   -9322.000    4.62e+04\n",
       "x5_98032              1.846e+04   2.01e+04      0.919      0.358   -2.09e+04    5.79e+04\n",
       "x5_98033              8.264e+05   1.54e+04     53.629      0.000    7.96e+05    8.57e+05\n",
       "x5_98034              5.314e+05   1.35e+04     39.511      0.000    5.05e+05    5.58e+05\n",
       "x5_98038               1.24e+05   1.26e+04      9.808      0.000    9.92e+04    1.49e+05\n",
       "x5_98039              1.084e+06   1.69e+05      6.412      0.000    7.53e+05    1.42e+06\n",
       "x5_98040              8.417e+05   2.17e+04     38.874      0.000    7.99e+05    8.84e+05\n",
       "x5_98042              1.794e+04   1.22e+04      1.465      0.143   -6070.353     4.2e+04\n",
       "x5_98047              4.029e+04   2.89e+04      1.394      0.163   -1.64e+04    9.69e+04\n",
       "x5_98050              2.106e+05   2.39e+05      0.881      0.378   -2.58e+05    6.79e+05\n",
       "x5_98051              1.821e+05   3.21e+04      5.675      0.000    1.19e+05    2.45e+05\n",
       "x5_98052               6.81e+05   1.45e+04     47.004      0.000    6.53e+05    7.09e+05\n",
       "x5_98053              5.807e+05   1.65e+04     35.258      0.000    5.48e+05    6.13e+05\n",
       "x5_98055              6.836e+04   1.88e+04      3.633      0.000    3.15e+04    1.05e+05\n",
       "x5_98056               2.74e+05   1.44e+04     19.074      0.000    2.46e+05    3.02e+05\n",
       "x5_98057              1.207e+05   2.35e+04      5.140      0.000    7.47e+04    1.67e+05\n",
       "x5_98058              8.217e+04   1.33e+04      6.181      0.000    5.61e+04    1.08e+05\n",
       "x5_98059              2.727e+05    1.4e+04     19.517      0.000    2.45e+05       3e+05\n",
       "x5_98065               4.32e+05   1.89e+04     22.899      0.000    3.95e+05    4.69e+05\n",
       "x5_98070              2.601e+05   2.06e+04     12.606      0.000     2.2e+05    3.01e+05\n",
       "x5_98072              4.856e+05   1.68e+04     28.840      0.000    4.53e+05    5.19e+05\n",
       "x5_98074               6.39e+05   1.63e+04     39.172      0.000    6.07e+05    6.71e+05\n",
       "x5_98075              7.104e+05   1.69e+04     41.995      0.000    6.77e+05    7.44e+05\n",
       "x5_98077              4.957e+05   1.96e+04     25.344      0.000    4.57e+05    5.34e+05\n",
       "x5_98092                 -2e+04   1.37e+04     -1.458      0.145   -4.69e+04    6884.481\n",
       "x5_98102              5.977e+05   2.42e+04     24.716      0.000     5.5e+05    6.45e+05\n",
       "x5_98103               4.81e+05   1.35e+04     35.692      0.000    4.55e+05    5.07e+05\n",
       "x5_98105              5.208e+05   1.76e+04     29.630      0.000    4.86e+05    5.55e+05\n",
       "x5_98106              1.806e+05   1.42e+04     12.697      0.000    1.53e+05    2.08e+05\n",
       "x5_98107              5.031e+05   1.52e+04     33.140      0.000    4.73e+05    5.33e+05\n",
       "x5_98108              1.997e+05   1.69e+04     11.815      0.000    1.67e+05    2.33e+05\n",
       "x5_98109              6.211e+05   2.54e+04     24.415      0.000    5.71e+05    6.71e+05\n",
       "x5_98112              5.815e+05   1.94e+04     30.025      0.000    5.44e+05    6.19e+05\n",
       "x5_98115              4.936e+05   1.34e+04     36.715      0.000    4.67e+05     5.2e+05\n",
       "x5_98116              4.258e+05    1.6e+04     26.563      0.000    3.94e+05    4.57e+05\n",
       "x5_98117              4.796e+05   1.35e+04     35.554      0.000    4.53e+05    5.06e+05\n",
       "x5_98118              2.739e+05    1.4e+04     19.620      0.000    2.47e+05    3.01e+05\n",
       "x5_98119              6.108e+05   1.94e+04     31.560      0.000    5.73e+05    6.49e+05\n",
       "x5_98122                4.2e+05   1.58e+04     26.624      0.000    3.89e+05    4.51e+05\n",
       "x5_98125              3.432e+05   1.47e+04     23.359      0.000    3.14e+05    3.72e+05\n",
       "x5_98126              2.895e+05   1.51e+04     19.152      0.000     2.6e+05    3.19e+05\n",
       "x5_98133              2.618e+05   1.35e+04     19.408      0.000    2.35e+05    2.88e+05\n",
       "x5_98136               4.07e+05   1.72e+04     23.704      0.000    3.73e+05    4.41e+05\n",
       "x5_98144              3.892e+05   1.56e+04     25.017      0.000    3.59e+05     4.2e+05\n",
       "x5_98146               1.98e+05   1.52e+04     13.028      0.000    1.68e+05    2.28e+05\n",
       "x5_98148              6.596e+04   2.67e+04      2.466      0.014    1.35e+04    1.18e+05\n",
       "x5_98155              3.252e+05   1.44e+04     22.542      0.000    2.97e+05    3.54e+05\n",
       "x5_98166              1.859e+05   1.64e+04     11.318      0.000    1.54e+05    2.18e+05\n",
       "x5_98168              7.592e+04   1.57e+04      4.847      0.000    4.52e+04    1.07e+05\n",
       "x5_98177              4.003e+05   1.77e+04     22.580      0.000    3.66e+05    4.35e+05\n",
       "x5_98178              1.183e+05   1.57e+04      7.538      0.000    8.75e+04    1.49e+05\n",
       "x5_98188               7.57e+04   1.96e+04      3.868      0.000    3.73e+04    1.14e+05\n",
       "x5_98198              5.833e+04   1.51e+04      3.851      0.000    2.86e+04     8.8e+04\n",
       "x5_98199              5.612e+05   1.63e+04     34.338      0.000    5.29e+05    5.93e+05\n",
       "x5_98272              2.895e+05   9.81e+04      2.953      0.003    9.73e+04    4.82e+05\n",
       "x5_98296              3.059e+04   2.39e+05      0.128      0.898   -4.38e+05    4.99e+05\n",
       "x5_98354              1.916e+04   5.07e+04      0.378      0.705   -8.02e+04    1.19e+05\n",
       "x5_98372              3.881e+05   1.69e+05      2.293      0.022    5.64e+04     7.2e+05\n",
       "x5_98387              4.497e+05   2.39e+05      1.881      0.060    -1.9e+04    9.18e+05\n",
       "x5_98422             -4.142e+05   2.39e+05     -1.733      0.083   -8.83e+05    5.42e+04\n",
       "grade                 9.637e+04   2462.283     39.139      0.000    9.15e+04    1.01e+05\n",
       "condition              4.92e+04   2298.296     21.407      0.000    4.47e+04    5.37e+04\n",
       "==============================================================================\n",
       "Omnibus:                     2474.625   Durbin-Watson:                   1.974\n",
       "Prob(Omnibus):                  0.000   Jarque-Bera (JB):            18564.817\n",
       "Skew:                           0.020   Prob(JB):                         0.00\n",
       "Kurtosis:                       7.106   Cond. No.                     4.91e+05\n",
       "==============================================================================\n",
       "\n",
       "Notes:\n",
       "[1] Standard Errors assume that the covariance matrix of the errors is correctly specified.\n",
       "[2] The condition number is large, 4.91e+05. This might indicate that there are\n",
       "strong multicollinearity or other numerical problems.\n",
       "\"\"\""
      ]
     },
     "execution_count": 139,
     "metadata": {},
     "output_type": "execute_result"
    }
   ],
   "source": [
    "ohe_cols = ['bathrooms', \n",
    "            'bedrooms', \n",
    "            'heat_source', \n",
    "            'waterfront',\n",
    "            'floors', \n",
    "            'zipcode']\n",
    "ohe = OneHotEncoder(drop='first')\n",
    "    \n",
    "ohe.fit(df[ohe_cols])\n",
    "ohe_all = pd.DataFrame(ohe.transform(df[ohe_cols]).todense(),\n",
    "                            columns=ohe.get_feature_names())\n",
    "\n",
    "X_cat = pd.concat([x,ohe_all,ordinal_df], axis=1)\n",
    "scaled_oheall_model = sm.OLS(y, sm.add_constant(X_cat)).fit()\n",
    "scaled_oheall_model.summary()"
   ]
  },
  {
   "cell_type": "markdown",
   "metadata": {},
   "source": [
    "This correction had less of an impact on our model than initially anticipated, but it did change our R-squared score and some of our assumption test statistics a small amount."
   ]
  },
  {
   "cell_type": "markdown",
   "metadata": {},
   "source": [
    "### Drop statistically insignificant values and run new model"
   ]
  },
  {
   "cell_type": "markdown",
   "metadata": {},
   "source": [
    "Analyzing the p-values corresponding with our model predictors, we notice that some of them are above an alpha of 0.05, suggesting that the perceived relationships these features have with our target are not statistically significant. We proceed by dropping these specific predictors from our model and recreating it."
   ]
  },
  {
   "cell_type": "code",
   "execution_count": 140,
   "metadata": {},
   "outputs": [],
   "source": [
    "# Dropping insignificant values (<0.05)\n",
    "ohe_all_sig = ohe_all.drop(['x2_Gas/Solar',\n",
    "                           'x2_Oil',\n",
    "                           'x2_Oil/Solar',\n",
    "                           'x4_1.5',\n",
    "                           'x4_2.0',\n",
    "                           'x4_2.5',\n",
    "                           'x4_3.5',\n",
    "                           'x4_4.0',\n",
    "                           'x5_98003',\n",
    "                           'x5_98030',\n",
    "                           'x5_98031',\n",
    "                            'x5_98032',\n",
    "                            'x5_98047',\n",
    "                            'x5_98092',\n",
    "                            'x5_98148',\n",
    "                            'x5_98296',\n",
    "                            'x5_98354',\n",
    "                            'x5_98387'], axis=1)"
   ]
  },
  {
   "cell_type": "code",
   "execution_count": 141,
   "metadata": {},
   "outputs": [
    {
     "data": {
      "text/html": [
       "<table class=\"simpletable\">\n",
       "<caption>OLS Regression Results</caption>\n",
       "<tr>\n",
       "  <th>Dep. Variable:</th>          <td>price</td>      <th>  R-squared:         </th>  <td>   0.691</td>  \n",
       "</tr>\n",
       "<tr>\n",
       "  <th>Model:</th>                   <td>OLS</td>       <th>  Adj. R-squared:    </th>  <td>   0.690</td>  \n",
       "</tr>\n",
       "<tr>\n",
       "  <th>Method:</th>             <td>Least Squares</td>  <th>  F-statistic:       </th>  <td>   572.4</td>  \n",
       "</tr>\n",
       "<tr>\n",
       "  <th>Date:</th>             <td>Thu, 08 Dec 2022</td> <th>  Prob (F-statistic):</th>   <td>  0.00</td>   \n",
       "</tr>\n",
       "<tr>\n",
       "  <th>Time:</th>                 <td>19:27:53</td>     <th>  Log-Likelihood:    </th> <td>-3.6461e+05</td>\n",
       "</tr>\n",
       "<tr>\n",
       "  <th>No. Observations:</th>      <td> 26420</td>      <th>  AIC:               </th>  <td>7.294e+05</td> \n",
       "</tr>\n",
       "<tr>\n",
       "  <th>Df Residuals:</th>          <td> 26316</td>      <th>  BIC:               </th>  <td>7.303e+05</td> \n",
       "</tr>\n",
       "<tr>\n",
       "  <th>Df Model:</th>              <td>   103</td>      <th>                     </th>      <td> </td>     \n",
       "</tr>\n",
       "<tr>\n",
       "  <th>Covariance Type:</th>      <td>nonrobust</td>    <th>                     </th>      <td> </td>     \n",
       "</tr>\n",
       "</table>\n",
       "<table class=\"simpletable\">\n",
       "<tr>\n",
       "            <td></td>              <th>coef</th>     <th>std err</th>      <th>t</th>      <th>P>|t|</th>  <th>[0.025</th>    <th>0.975]</th>  \n",
       "</tr>\n",
       "<tr>\n",
       "  <th>const</th>                <td>-4.656e+05</td> <td> 5.35e+04</td> <td>   -8.710</td> <td> 0.000</td> <td> -5.7e+05</td> <td>-3.61e+05</td>\n",
       "</tr>\n",
       "<tr>\n",
       "  <th>sqft_living</th>          <td>  210.6732</td> <td>    3.784</td> <td>   55.670</td> <td> 0.000</td> <td>  203.256</td> <td>  218.091</td>\n",
       "</tr>\n",
       "<tr>\n",
       "  <th>age_when_sold</th>        <td> 1034.3422</td> <td>   75.002</td> <td>   13.791</td> <td> 0.000</td> <td>  887.334</td> <td> 1181.351</td>\n",
       "</tr>\n",
       "<tr>\n",
       "  <th>x0_0.5</th>               <td>  6.04e+05</td> <td> 1.29e+05</td> <td>    4.696</td> <td> 0.000</td> <td> 3.52e+05</td> <td> 8.56e+05</td>\n",
       "</tr>\n",
       "<tr>\n",
       "  <th>x0_1.0</th>               <td> 4.066e+05</td> <td> 7.12e+04</td> <td>    5.708</td> <td> 0.000</td> <td> 2.67e+05</td> <td> 5.46e+05</td>\n",
       "</tr>\n",
       "<tr>\n",
       "  <th>x0_1.5</th>               <td> 3.627e+05</td> <td> 7.14e+04</td> <td>    5.081</td> <td> 0.000</td> <td> 2.23e+05</td> <td> 5.03e+05</td>\n",
       "</tr>\n",
       "<tr>\n",
       "  <th>x0_2.0</th>               <td> 3.771e+05</td> <td> 7.12e+04</td> <td>    5.298</td> <td> 0.000</td> <td> 2.38e+05</td> <td> 5.17e+05</td>\n",
       "</tr>\n",
       "<tr>\n",
       "  <th>x0_2.5</th>               <td> 4.013e+05</td> <td> 7.12e+04</td> <td>    5.639</td> <td> 0.000</td> <td> 2.62e+05</td> <td> 5.41e+05</td>\n",
       "</tr>\n",
       "<tr>\n",
       "  <th>x0_3.0</th>               <td> 4.106e+05</td> <td> 7.12e+04</td> <td>    5.764</td> <td> 0.000</td> <td> 2.71e+05</td> <td>  5.5e+05</td>\n",
       "</tr>\n",
       "<tr>\n",
       "  <th>x0_3.5</th>               <td> 4.389e+05</td> <td> 7.14e+04</td> <td>    6.148</td> <td> 0.000</td> <td> 2.99e+05</td> <td> 5.79e+05</td>\n",
       "</tr>\n",
       "<tr>\n",
       "  <th>x0_4.0</th>               <td> 4.483e+05</td> <td> 7.21e+04</td> <td>    6.221</td> <td> 0.000</td> <td> 3.07e+05</td> <td>  5.9e+05</td>\n",
       "</tr>\n",
       "<tr>\n",
       "  <th>x0_4.5</th>               <td> 4.772e+05</td> <td> 7.39e+04</td> <td>    6.457</td> <td> 0.000</td> <td> 3.32e+05</td> <td> 6.22e+05</td>\n",
       "</tr>\n",
       "<tr>\n",
       "  <th>x0_5.0</th>               <td> 5.044e+05</td> <td> 8.14e+04</td> <td>    6.199</td> <td> 0.000</td> <td> 3.45e+05</td> <td> 6.64e+05</td>\n",
       "</tr>\n",
       "<tr>\n",
       "  <th>x0_5.5</th>               <td>  1.74e+05</td> <td> 9.32e+04</td> <td>    1.867</td> <td> 0.062</td> <td>-8672.165</td> <td> 3.57e+05</td>\n",
       "</tr>\n",
       "<tr>\n",
       "  <th>x0_6.0</th>               <td> 6.354e+05</td> <td> 9.89e+04</td> <td>    6.426</td> <td> 0.000</td> <td> 4.42e+05</td> <td> 8.29e+05</td>\n",
       "</tr>\n",
       "<tr>\n",
       "  <th>x0_6.5</th>               <td> 6.747e+05</td> <td> 1.56e+05</td> <td>    4.329</td> <td> 0.000</td> <td> 3.69e+05</td> <td>  9.8e+05</td>\n",
       "</tr>\n",
       "<tr>\n",
       "  <th>x0_7.0</th>               <td> 5.453e+05</td> <td> 1.56e+05</td> <td>    3.496</td> <td> 0.000</td> <td>  2.4e+05</td> <td> 8.51e+05</td>\n",
       "</tr>\n",
       "<tr>\n",
       "  <th>x0_7.5</th>               <td>  5.76e+05</td> <td> 1.89e+05</td> <td>    3.053</td> <td> 0.002</td> <td> 2.06e+05</td> <td> 9.46e+05</td>\n",
       "</tr>\n",
       "<tr>\n",
       "  <th>x1_1</th>                 <td>-3.118e+05</td> <td> 5.85e+04</td> <td>   -5.329</td> <td> 0.000</td> <td>-4.27e+05</td> <td>-1.97e+05</td>\n",
       "</tr>\n",
       "<tr>\n",
       "  <th>x1_2</th>                 <td>-4.397e+05</td> <td> 5.72e+04</td> <td>   -7.684</td> <td> 0.000</td> <td>-5.52e+05</td> <td>-3.28e+05</td>\n",
       "</tr>\n",
       "<tr>\n",
       "  <th>x1_3</th>                 <td>-4.256e+05</td> <td> 5.72e+04</td> <td>   -7.437</td> <td> 0.000</td> <td>-5.38e+05</td> <td>-3.13e+05</td>\n",
       "</tr>\n",
       "<tr>\n",
       "  <th>x1_4</th>                 <td> -4.19e+05</td> <td> 5.74e+04</td> <td>   -7.305</td> <td> 0.000</td> <td>-5.31e+05</td> <td>-3.07e+05</td>\n",
       "</tr>\n",
       "<tr>\n",
       "  <th>x1_5</th>                 <td>-4.525e+05</td> <td> 5.76e+04</td> <td>   -7.850</td> <td> 0.000</td> <td>-5.65e+05</td> <td>-3.39e+05</td>\n",
       "</tr>\n",
       "<tr>\n",
       "  <th>x1_6</th>                 <td>-4.772e+05</td> <td> 5.89e+04</td> <td>   -8.106</td> <td> 0.000</td> <td>-5.93e+05</td> <td>-3.62e+05</td>\n",
       "</tr>\n",
       "<tr>\n",
       "  <th>x1_7</th>                 <td>-4.951e+05</td> <td> 6.57e+04</td> <td>   -7.535</td> <td> 0.000</td> <td>-6.24e+05</td> <td>-3.66e+05</td>\n",
       "</tr>\n",
       "<tr>\n",
       "  <th>x1_8</th>                 <td>-5.684e+05</td> <td> 7.29e+04</td> <td>   -7.800</td> <td> 0.000</td> <td>-7.11e+05</td> <td>-4.26e+05</td>\n",
       "</tr>\n",
       "<tr>\n",
       "  <th>x1_9</th>                 <td>-4.799e+05</td> <td> 9.42e+04</td> <td>   -5.095</td> <td> 0.000</td> <td>-6.65e+05</td> <td>-2.95e+05</td>\n",
       "</tr>\n",
       "<tr>\n",
       "  <th>x1_10</th>                <td>-8.706e+05</td> <td> 2.83e+05</td> <td>   -3.080</td> <td> 0.002</td> <td>-1.42e+06</td> <td>-3.17e+05</td>\n",
       "</tr>\n",
       "<tr>\n",
       "  <th>x1_11</th>                <td>-4.901e+05</td> <td> 2.46e+05</td> <td>   -1.990</td> <td> 0.047</td> <td>-9.73e+05</td> <td>-7310.933</td>\n",
       "</tr>\n",
       "<tr>\n",
       "  <th>x2_Electricity/Solar</th> <td>-6.583e+04</td> <td> 3.34e+04</td> <td>   -1.968</td> <td> 0.049</td> <td>-1.31e+05</td> <td> -269.516</td>\n",
       "</tr>\n",
       "<tr>\n",
       "  <th>x2_Gas</th>               <td> 1.087e+04</td> <td> 3501.101</td> <td>    3.106</td> <td> 0.002</td> <td> 4011.459</td> <td> 1.77e+04</td>\n",
       "</tr>\n",
       "<tr>\n",
       "  <th>x2_Other</th>             <td> 1.708e+05</td> <td> 5.82e+04</td> <td>    2.933</td> <td> 0.003</td> <td> 5.67e+04</td> <td> 2.85e+05</td>\n",
       "</tr>\n",
       "<tr>\n",
       "  <th>x3_YES</th>               <td> 2.496e+05</td> <td> 1.48e+04</td> <td>   16.872</td> <td> 0.000</td> <td> 2.21e+05</td> <td> 2.79e+05</td>\n",
       "</tr>\n",
       "<tr>\n",
       "  <th>x4_3.0</th>               <td>-7.406e+04</td> <td> 9846.119</td> <td>   -7.522</td> <td> 0.000</td> <td>-9.34e+04</td> <td>-5.48e+04</td>\n",
       "</tr>\n",
       "<tr>\n",
       "  <th>x5_98002</th>             <td>-7427.5172</td> <td> 1.34e+04</td> <td>   -0.555</td> <td> 0.579</td> <td>-3.37e+04</td> <td> 1.88e+04</td>\n",
       "</tr>\n",
       "<tr>\n",
       "  <th>x5_98004</th>             <td> 1.061e+06</td> <td>  2.5e+04</td> <td>   42.458</td> <td> 0.000</td> <td> 1.01e+06</td> <td> 1.11e+06</td>\n",
       "</tr>\n",
       "<tr>\n",
       "  <th>x5_98005</th>             <td> 8.423e+05</td> <td> 2.31e+04</td> <td>   36.463</td> <td> 0.000</td> <td> 7.97e+05</td> <td> 8.88e+05</td>\n",
       "</tr>\n",
       "<tr>\n",
       "  <th>x5_98006</th>             <td> 6.521e+05</td> <td> 1.31e+04</td> <td>   49.750</td> <td> 0.000</td> <td> 6.26e+05</td> <td> 6.78e+05</td>\n",
       "</tr>\n",
       "<tr>\n",
       "  <th>x5_98007</th>             <td> 5.992e+05</td> <td>  2.1e+04</td> <td>   28.601</td> <td> 0.000</td> <td> 5.58e+05</td> <td>  6.4e+05</td>\n",
       "</tr>\n",
       "<tr>\n",
       "  <th>x5_98008</th>             <td> 6.417e+05</td> <td> 1.36e+04</td> <td>   47.237</td> <td> 0.000</td> <td> 6.15e+05</td> <td> 6.68e+05</td>\n",
       "</tr>\n",
       "<tr>\n",
       "  <th>x5_98010</th>             <td> 6.563e+04</td> <td> 1.44e+04</td> <td>    4.549</td> <td> 0.000</td> <td> 3.73e+04</td> <td> 9.39e+04</td>\n",
       "</tr>\n",
       "<tr>\n",
       "  <th>x5_98011</th>             <td> 4.482e+05</td> <td> 1.58e+04</td> <td>   28.373</td> <td> 0.000</td> <td> 4.17e+05</td> <td> 4.79e+05</td>\n",
       "</tr>\n",
       "<tr>\n",
       "  <th>x5_98014</th>             <td>   2.4e+05</td> <td> 2.02e+04</td> <td>   11.855</td> <td> 0.000</td> <td>    2e+05</td> <td>  2.8e+05</td>\n",
       "</tr>\n",
       "<tr>\n",
       "  <th>x5_98019</th>             <td> 2.594e+05</td> <td>  1.6e+04</td> <td>   16.182</td> <td> 0.000</td> <td> 2.28e+05</td> <td> 2.91e+05</td>\n",
       "</tr>\n",
       "<tr>\n",
       "  <th>x5_98022</th>             <td> 3.195e+04</td> <td> 1.21e+04</td> <td>    2.633</td> <td> 0.008</td> <td> 8169.708</td> <td> 5.57e+04</td>\n",
       "</tr>\n",
       "<tr>\n",
       "  <th>x5_98023</th>             <td>-4.889e+04</td> <td> 1.02e+04</td> <td>   -4.811</td> <td> 0.000</td> <td>-6.88e+04</td> <td> -2.9e+04</td>\n",
       "</tr>\n",
       "<tr>\n",
       "  <th>x5_98024</th>             <td> 4.095e+05</td> <td> 2.48e+04</td> <td>   16.480</td> <td> 0.000</td> <td> 3.61e+05</td> <td> 4.58e+05</td>\n",
       "</tr>\n",
       "<tr>\n",
       "  <th>x5_98027</th>             <td> 4.883e+05</td> <td> 1.36e+04</td> <td>   36.005</td> <td> 0.000</td> <td> 4.62e+05</td> <td> 5.15e+05</td>\n",
       "</tr>\n",
       "<tr>\n",
       "  <th>x5_98028</th>             <td> 3.713e+05</td> <td> 1.37e+04</td> <td>   27.179</td> <td> 0.000</td> <td> 3.45e+05</td> <td> 3.98e+05</td>\n",
       "</tr>\n",
       "<tr>\n",
       "  <th>x5_98029</th>             <td> 6.261e+05</td> <td> 1.48e+04</td> <td>   42.307</td> <td> 0.000</td> <td> 5.97e+05</td> <td> 6.55e+05</td>\n",
       "</tr>\n",
       "<tr>\n",
       "  <th>x5_98033</th>             <td> 8.255e+05</td> <td> 1.28e+04</td> <td>   64.350</td> <td> 0.000</td> <td>    8e+05</td> <td> 8.51e+05</td>\n",
       "</tr>\n",
       "<tr>\n",
       "  <th>x5_98034</th>             <td> 5.304e+05</td> <td> 1.04e+04</td> <td>   51.036</td> <td> 0.000</td> <td>  5.1e+05</td> <td> 5.51e+05</td>\n",
       "</tr>\n",
       "<tr>\n",
       "  <th>x5_98038</th>             <td> 1.247e+05</td> <td> 9361.653</td> <td>   13.322</td> <td> 0.000</td> <td> 1.06e+05</td> <td> 1.43e+05</td>\n",
       "</tr>\n",
       "<tr>\n",
       "  <th>x5_98039</th>             <td>  1.08e+06</td> <td> 1.69e+05</td> <td>    6.391</td> <td> 0.000</td> <td> 7.49e+05</td> <td> 1.41e+06</td>\n",
       "</tr>\n",
       "<tr>\n",
       "  <th>x5_98040</th>             <td> 8.428e+05</td> <td> 1.99e+04</td> <td>   42.456</td> <td> 0.000</td> <td> 8.04e+05</td> <td> 8.82e+05</td>\n",
       "</tr>\n",
       "<tr>\n",
       "  <th>x5_98042</th>             <td> 1.792e+04</td> <td> 8823.553</td> <td>    2.031</td> <td> 0.042</td> <td>  627.538</td> <td> 3.52e+04</td>\n",
       "</tr>\n",
       "<tr>\n",
       "  <th>x5_98050</th>             <td> 2.115e+05</td> <td> 2.39e+05</td> <td>    0.885</td> <td> 0.376</td> <td>-2.57e+05</td> <td>  6.8e+05</td>\n",
       "</tr>\n",
       "<tr>\n",
       "  <th>x5_98051</th>             <td> 1.817e+05</td> <td>  3.1e+04</td> <td>    5.866</td> <td> 0.000</td> <td> 1.21e+05</td> <td> 2.42e+05</td>\n",
       "</tr>\n",
       "<tr>\n",
       "  <th>x5_98052</th>             <td> 6.803e+05</td> <td> 1.17e+04</td> <td>   58.177</td> <td> 0.000</td> <td> 6.57e+05</td> <td> 7.03e+05</td>\n",
       "</tr>\n",
       "<tr>\n",
       "  <th>x5_98053</th>             <td> 5.796e+05</td> <td> 1.41e+04</td> <td>   41.108</td> <td> 0.000</td> <td> 5.52e+05</td> <td> 6.07e+05</td>\n",
       "</tr>\n",
       "<tr>\n",
       "  <th>x5_98055</th>             <td> 6.772e+04</td> <td> 1.68e+04</td> <td>    4.033</td> <td> 0.000</td> <td> 3.48e+04</td> <td> 1.01e+05</td>\n",
       "</tr>\n",
       "<tr>\n",
       "  <th>x5_98056</th>             <td> 2.745e+05</td> <td> 1.16e+04</td> <td>   23.720</td> <td> 0.000</td> <td> 2.52e+05</td> <td> 2.97e+05</td>\n",
       "</tr>\n",
       "<tr>\n",
       "  <th>x5_98057</th>             <td> 1.209e+05</td> <td> 2.19e+04</td> <td>    5.521</td> <td> 0.000</td> <td> 7.79e+04</td> <td> 1.64e+05</td>\n",
       "</tr>\n",
       "<tr>\n",
       "  <th>x5_98058</th>             <td> 8.132e+04</td> <td> 1.02e+04</td> <td>    7.965</td> <td> 0.000</td> <td> 6.13e+04</td> <td> 1.01e+05</td>\n",
       "</tr>\n",
       "<tr>\n",
       "  <th>x5_98059</th>             <td>  2.73e+05</td> <td> 1.11e+04</td> <td>   24.650</td> <td> 0.000</td> <td> 2.51e+05</td> <td> 2.95e+05</td>\n",
       "</tr>\n",
       "<tr>\n",
       "  <th>x5_98065</th>             <td> 4.347e+05</td> <td> 1.68e+04</td> <td>   25.806</td> <td> 0.000</td> <td> 4.02e+05</td> <td> 4.68e+05</td>\n",
       "</tr>\n",
       "<tr>\n",
       "  <th>x5_98070</th>             <td> 2.625e+05</td> <td> 1.88e+04</td> <td>   13.961</td> <td> 0.000</td> <td> 2.26e+05</td> <td> 2.99e+05</td>\n",
       "</tr>\n",
       "<tr>\n",
       "  <th>x5_98072</th>             <td>  4.85e+05</td> <td> 1.45e+04</td> <td>   33.394</td> <td> 0.000</td> <td> 4.57e+05</td> <td> 5.13e+05</td>\n",
       "</tr>\n",
       "<tr>\n",
       "  <th>x5_98074</th>             <td> 6.395e+05</td> <td> 1.39e+04</td> <td>   46.058</td> <td> 0.000</td> <td> 6.12e+05</td> <td> 6.67e+05</td>\n",
       "</tr>\n",
       "<tr>\n",
       "  <th>x5_98075</th>             <td> 7.112e+05</td> <td> 1.46e+04</td> <td>   48.695</td> <td> 0.000</td> <td> 6.83e+05</td> <td>  7.4e+05</td>\n",
       "</tr>\n",
       "<tr>\n",
       "  <th>x5_98077</th>             <td> 4.959e+05</td> <td> 1.76e+04</td> <td>   28.179</td> <td> 0.000</td> <td> 4.61e+05</td> <td>  5.3e+05</td>\n",
       "</tr>\n",
       "<tr>\n",
       "  <th>x5_98102</th>             <td> 6.031e+05</td> <td> 2.25e+04</td> <td>   26.825</td> <td> 0.000</td> <td> 5.59e+05</td> <td> 6.47e+05</td>\n",
       "</tr>\n",
       "<tr>\n",
       "  <th>x5_98103</th>             <td> 4.841e+05</td> <td> 1.03e+04</td> <td>   47.096</td> <td> 0.000</td> <td> 4.64e+05</td> <td> 5.04e+05</td>\n",
       "</tr>\n",
       "<tr>\n",
       "  <th>x5_98105</th>             <td> 5.232e+05</td> <td> 1.53e+04</td> <td>   34.238</td> <td> 0.000</td> <td> 4.93e+05</td> <td> 5.53e+05</td>\n",
       "</tr>\n",
       "<tr>\n",
       "  <th>x5_98106</th>             <td> 1.824e+05</td> <td> 1.14e+04</td> <td>   16.057</td> <td> 0.000</td> <td>  1.6e+05</td> <td> 2.05e+05</td>\n",
       "</tr>\n",
       "<tr>\n",
       "  <th>x5_98107</th>             <td> 5.043e+05</td> <td> 1.24e+04</td> <td>   40.513</td> <td> 0.000</td> <td>  4.8e+05</td> <td> 5.29e+05</td>\n",
       "</tr>\n",
       "<tr>\n",
       "  <th>x5_98108</th>             <td> 1.999e+05</td> <td> 1.46e+04</td> <td>   13.711</td> <td> 0.000</td> <td> 1.71e+05</td> <td> 2.28e+05</td>\n",
       "</tr>\n",
       "<tr>\n",
       "  <th>x5_98109</th>             <td> 6.251e+05</td> <td> 2.39e+04</td> <td>   26.150</td> <td> 0.000</td> <td> 5.78e+05</td> <td> 6.72e+05</td>\n",
       "</tr>\n",
       "<tr>\n",
       "  <th>x5_98112</th>             <td> 5.857e+05</td> <td> 1.73e+04</td> <td>   33.894</td> <td> 0.000</td> <td> 5.52e+05</td> <td>  6.2e+05</td>\n",
       "</tr>\n",
       "<tr>\n",
       "  <th>x5_98115</th>             <td> 4.948e+05</td> <td> 1.03e+04</td> <td>   48.018</td> <td> 0.000</td> <td> 4.75e+05</td> <td> 5.15e+05</td>\n",
       "</tr>\n",
       "<tr>\n",
       "  <th>x5_98116</th>             <td> 4.273e+05</td> <td> 1.35e+04</td> <td>   31.595</td> <td> 0.000</td> <td> 4.01e+05</td> <td> 4.54e+05</td>\n",
       "</tr>\n",
       "<tr>\n",
       "  <th>x5_98117</th>             <td> 4.786e+05</td> <td> 1.03e+04</td> <td>   46.448</td> <td> 0.000</td> <td> 4.58e+05</td> <td> 4.99e+05</td>\n",
       "</tr>\n",
       "<tr>\n",
       "  <th>x5_98118</th>             <td> 2.742e+05</td> <td>  1.1e+04</td> <td>   24.904</td> <td> 0.000</td> <td> 2.53e+05</td> <td> 2.96e+05</td>\n",
       "</tr>\n",
       "<tr>\n",
       "  <th>x5_98119</th>             <td> 6.135e+05</td> <td> 1.73e+04</td> <td>   35.526</td> <td> 0.000</td> <td>  5.8e+05</td> <td> 6.47e+05</td>\n",
       "</tr>\n",
       "<tr>\n",
       "  <th>x5_98122</th>             <td> 4.247e+05</td> <td> 1.31e+04</td> <td>   32.374</td> <td> 0.000</td> <td> 3.99e+05</td> <td>  4.5e+05</td>\n",
       "</tr>\n",
       "<tr>\n",
       "  <th>x5_98125</th>             <td> 3.427e+05</td> <td> 1.19e+04</td> <td>   28.689</td> <td> 0.000</td> <td> 3.19e+05</td> <td> 3.66e+05</td>\n",
       "</tr>\n",
       "<tr>\n",
       "  <th>x5_98126</th>             <td> 2.905e+05</td> <td> 1.24e+04</td> <td>   23.355</td> <td> 0.000</td> <td> 2.66e+05</td> <td> 3.15e+05</td>\n",
       "</tr>\n",
       "<tr>\n",
       "  <th>x5_98133</th>             <td> 2.617e+05</td> <td> 1.04e+04</td> <td>   25.081</td> <td> 0.000</td> <td> 2.41e+05</td> <td> 2.82e+05</td>\n",
       "</tr>\n",
       "<tr>\n",
       "  <th>x5_98136</th>             <td> 4.081e+05</td> <td> 1.49e+04</td> <td>   27.474</td> <td> 0.000</td> <td> 3.79e+05</td> <td> 4.37e+05</td>\n",
       "</tr>\n",
       "<tr>\n",
       "  <th>x5_98144</th>             <td> 3.924e+05</td> <td> 1.29e+04</td> <td>   30.398</td> <td> 0.000</td> <td> 3.67e+05</td> <td> 4.18e+05</td>\n",
       "</tr>\n",
       "<tr>\n",
       "  <th>x5_98146</th>             <td> 1.969e+05</td> <td> 1.26e+04</td> <td>   15.634</td> <td> 0.000</td> <td> 1.72e+05</td> <td> 2.22e+05</td>\n",
       "</tr>\n",
       "<tr>\n",
       "  <th>x5_98155</th>             <td> 3.244e+05</td> <td> 1.16e+04</td> <td>   27.868</td> <td> 0.000</td> <td> 3.02e+05</td> <td> 3.47e+05</td>\n",
       "</tr>\n",
       "<tr>\n",
       "  <th>x5_98166</th>             <td> 1.844e+05</td> <td>  1.4e+04</td> <td>   13.151</td> <td> 0.000</td> <td> 1.57e+05</td> <td> 2.12e+05</td>\n",
       "</tr>\n",
       "<tr>\n",
       "  <th>x5_98168</th>             <td> 7.565e+04</td> <td> 1.32e+04</td> <td>    5.749</td> <td> 0.000</td> <td> 4.99e+04</td> <td> 1.01e+05</td>\n",
       "</tr>\n",
       "<tr>\n",
       "  <th>x5_98177</th>             <td> 4.015e+05</td> <td> 1.55e+04</td> <td>   25.929</td> <td> 0.000</td> <td> 3.71e+05</td> <td> 4.32e+05</td>\n",
       "</tr>\n",
       "<tr>\n",
       "  <th>x5_98178</th>             <td>  1.17e+05</td> <td> 1.32e+04</td> <td>    8.873</td> <td> 0.000</td> <td> 9.12e+04</td> <td> 1.43e+05</td>\n",
       "</tr>\n",
       "<tr>\n",
       "  <th>x5_98188</th>             <td> 7.463e+04</td> <td> 1.76e+04</td> <td>    4.232</td> <td> 0.000</td> <td> 4.01e+04</td> <td> 1.09e+05</td>\n",
       "</tr>\n",
       "<tr>\n",
       "  <th>x5_98198</th>             <td> 5.649e+04</td> <td> 1.25e+04</td> <td>    4.512</td> <td> 0.000</td> <td>  3.2e+04</td> <td>  8.1e+04</td>\n",
       "</tr>\n",
       "<tr>\n",
       "  <th>x5_98199</th>             <td> 5.624e+05</td> <td> 1.39e+04</td> <td>   40.457</td> <td> 0.000</td> <td> 5.35e+05</td> <td>  5.9e+05</td>\n",
       "</tr>\n",
       "<tr>\n",
       "  <th>x5_98272</th>             <td> 2.894e+05</td> <td> 9.78e+04</td> <td>    2.961</td> <td> 0.003</td> <td> 9.78e+04</td> <td> 4.81e+05</td>\n",
       "</tr>\n",
       "<tr>\n",
       "  <th>x5_98372</th>             <td> 3.951e+05</td> <td> 1.69e+05</td> <td>    2.336</td> <td> 0.019</td> <td> 6.36e+04</td> <td> 7.27e+05</td>\n",
       "</tr>\n",
       "<tr>\n",
       "  <th>x5_98422</th>             <td>-4.054e+05</td> <td> 2.39e+05</td> <td>   -1.697</td> <td> 0.090</td> <td>-8.74e+05</td> <td>  6.3e+04</td>\n",
       "</tr>\n",
       "<tr>\n",
       "  <th>grade</th>                <td> 9.617e+04</td> <td> 2448.431</td> <td>   39.280</td> <td> 0.000</td> <td> 9.14e+04</td> <td> 1.01e+05</td>\n",
       "</tr>\n",
       "<tr>\n",
       "  <th>condition</th>            <td> 4.877e+04</td> <td> 2268.173</td> <td>   21.503</td> <td> 0.000</td> <td> 4.43e+04</td> <td> 5.32e+04</td>\n",
       "</tr>\n",
       "</table>\n",
       "<table class=\"simpletable\">\n",
       "<tr>\n",
       "  <th>Omnibus:</th>       <td>2463.442</td> <th>  Durbin-Watson:     </th> <td>   1.974</td> \n",
       "</tr>\n",
       "<tr>\n",
       "  <th>Prob(Omnibus):</th>  <td> 0.000</td>  <th>  Jarque-Bera (JB):  </th> <td>18351.140</td>\n",
       "</tr>\n",
       "<tr>\n",
       "  <th>Skew:</th>           <td> 0.024</td>  <th>  Prob(JB):          </th> <td>    0.00</td> \n",
       "</tr>\n",
       "<tr>\n",
       "  <th>Kurtosis:</th>       <td> 7.083</td>  <th>  Cond. No.          </th> <td>4.91e+05</td> \n",
       "</tr>\n",
       "</table><br/><br/>Notes:<br/>[1] Standard Errors assume that the covariance matrix of the errors is correctly specified.<br/>[2] The condition number is large, 4.91e+05. This might indicate that there are<br/>strong multicollinearity or other numerical problems."
      ],
      "text/plain": [
       "<class 'statsmodels.iolib.summary.Summary'>\n",
       "\"\"\"\n",
       "                            OLS Regression Results                            \n",
       "==============================================================================\n",
       "Dep. Variable:                  price   R-squared:                       0.691\n",
       "Model:                            OLS   Adj. R-squared:                  0.690\n",
       "Method:                 Least Squares   F-statistic:                     572.4\n",
       "Date:                Thu, 08 Dec 2022   Prob (F-statistic):               0.00\n",
       "Time:                        19:27:53   Log-Likelihood:            -3.6461e+05\n",
       "No. Observations:               26420   AIC:                         7.294e+05\n",
       "Df Residuals:                   26316   BIC:                         7.303e+05\n",
       "Df Model:                         103                                         \n",
       "Covariance Type:            nonrobust                                         \n",
       "========================================================================================\n",
       "                           coef    std err          t      P>|t|      [0.025      0.975]\n",
       "----------------------------------------------------------------------------------------\n",
       "const                -4.656e+05   5.35e+04     -8.710      0.000    -5.7e+05   -3.61e+05\n",
       "sqft_living            210.6732      3.784     55.670      0.000     203.256     218.091\n",
       "age_when_sold         1034.3422     75.002     13.791      0.000     887.334    1181.351\n",
       "x0_0.5                 6.04e+05   1.29e+05      4.696      0.000    3.52e+05    8.56e+05\n",
       "x0_1.0                4.066e+05   7.12e+04      5.708      0.000    2.67e+05    5.46e+05\n",
       "x0_1.5                3.627e+05   7.14e+04      5.081      0.000    2.23e+05    5.03e+05\n",
       "x0_2.0                3.771e+05   7.12e+04      5.298      0.000    2.38e+05    5.17e+05\n",
       "x0_2.5                4.013e+05   7.12e+04      5.639      0.000    2.62e+05    5.41e+05\n",
       "x0_3.0                4.106e+05   7.12e+04      5.764      0.000    2.71e+05     5.5e+05\n",
       "x0_3.5                4.389e+05   7.14e+04      6.148      0.000    2.99e+05    5.79e+05\n",
       "x0_4.0                4.483e+05   7.21e+04      6.221      0.000    3.07e+05     5.9e+05\n",
       "x0_4.5                4.772e+05   7.39e+04      6.457      0.000    3.32e+05    6.22e+05\n",
       "x0_5.0                5.044e+05   8.14e+04      6.199      0.000    3.45e+05    6.64e+05\n",
       "x0_5.5                 1.74e+05   9.32e+04      1.867      0.062   -8672.165    3.57e+05\n",
       "x0_6.0                6.354e+05   9.89e+04      6.426      0.000    4.42e+05    8.29e+05\n",
       "x0_6.5                6.747e+05   1.56e+05      4.329      0.000    3.69e+05     9.8e+05\n",
       "x0_7.0                5.453e+05   1.56e+05      3.496      0.000     2.4e+05    8.51e+05\n",
       "x0_7.5                 5.76e+05   1.89e+05      3.053      0.002    2.06e+05    9.46e+05\n",
       "x1_1                 -3.118e+05   5.85e+04     -5.329      0.000   -4.27e+05   -1.97e+05\n",
       "x1_2                 -4.397e+05   5.72e+04     -7.684      0.000   -5.52e+05   -3.28e+05\n",
       "x1_3                 -4.256e+05   5.72e+04     -7.437      0.000   -5.38e+05   -3.13e+05\n",
       "x1_4                  -4.19e+05   5.74e+04     -7.305      0.000   -5.31e+05   -3.07e+05\n",
       "x1_5                 -4.525e+05   5.76e+04     -7.850      0.000   -5.65e+05   -3.39e+05\n",
       "x1_6                 -4.772e+05   5.89e+04     -8.106      0.000   -5.93e+05   -3.62e+05\n",
       "x1_7                 -4.951e+05   6.57e+04     -7.535      0.000   -6.24e+05   -3.66e+05\n",
       "x1_8                 -5.684e+05   7.29e+04     -7.800      0.000   -7.11e+05   -4.26e+05\n",
       "x1_9                 -4.799e+05   9.42e+04     -5.095      0.000   -6.65e+05   -2.95e+05\n",
       "x1_10                -8.706e+05   2.83e+05     -3.080      0.002   -1.42e+06   -3.17e+05\n",
       "x1_11                -4.901e+05   2.46e+05     -1.990      0.047   -9.73e+05   -7310.933\n",
       "x2_Electricity/Solar -6.583e+04   3.34e+04     -1.968      0.049   -1.31e+05    -269.516\n",
       "x2_Gas                1.087e+04   3501.101      3.106      0.002    4011.459    1.77e+04\n",
       "x2_Other              1.708e+05   5.82e+04      2.933      0.003    5.67e+04    2.85e+05\n",
       "x3_YES                2.496e+05   1.48e+04     16.872      0.000    2.21e+05    2.79e+05\n",
       "x4_3.0               -7.406e+04   9846.119     -7.522      0.000   -9.34e+04   -5.48e+04\n",
       "x5_98002             -7427.5172   1.34e+04     -0.555      0.579   -3.37e+04    1.88e+04\n",
       "x5_98004              1.061e+06    2.5e+04     42.458      0.000    1.01e+06    1.11e+06\n",
       "x5_98005              8.423e+05   2.31e+04     36.463      0.000    7.97e+05    8.88e+05\n",
       "x5_98006              6.521e+05   1.31e+04     49.750      0.000    6.26e+05    6.78e+05\n",
       "x5_98007              5.992e+05    2.1e+04     28.601      0.000    5.58e+05     6.4e+05\n",
       "x5_98008              6.417e+05   1.36e+04     47.237      0.000    6.15e+05    6.68e+05\n",
       "x5_98010              6.563e+04   1.44e+04      4.549      0.000    3.73e+04    9.39e+04\n",
       "x5_98011              4.482e+05   1.58e+04     28.373      0.000    4.17e+05    4.79e+05\n",
       "x5_98014                2.4e+05   2.02e+04     11.855      0.000       2e+05     2.8e+05\n",
       "x5_98019              2.594e+05    1.6e+04     16.182      0.000    2.28e+05    2.91e+05\n",
       "x5_98022              3.195e+04   1.21e+04      2.633      0.008    8169.708    5.57e+04\n",
       "x5_98023             -4.889e+04   1.02e+04     -4.811      0.000   -6.88e+04    -2.9e+04\n",
       "x5_98024              4.095e+05   2.48e+04     16.480      0.000    3.61e+05    4.58e+05\n",
       "x5_98027              4.883e+05   1.36e+04     36.005      0.000    4.62e+05    5.15e+05\n",
       "x5_98028              3.713e+05   1.37e+04     27.179      0.000    3.45e+05    3.98e+05\n",
       "x5_98029              6.261e+05   1.48e+04     42.307      0.000    5.97e+05    6.55e+05\n",
       "x5_98033              8.255e+05   1.28e+04     64.350      0.000       8e+05    8.51e+05\n",
       "x5_98034              5.304e+05   1.04e+04     51.036      0.000     5.1e+05    5.51e+05\n",
       "x5_98038              1.247e+05   9361.653     13.322      0.000    1.06e+05    1.43e+05\n",
       "x5_98039               1.08e+06   1.69e+05      6.391      0.000    7.49e+05    1.41e+06\n",
       "x5_98040              8.428e+05   1.99e+04     42.456      0.000    8.04e+05    8.82e+05\n",
       "x5_98042              1.792e+04   8823.553      2.031      0.042     627.538    3.52e+04\n",
       "x5_98050              2.115e+05   2.39e+05      0.885      0.376   -2.57e+05     6.8e+05\n",
       "x5_98051              1.817e+05    3.1e+04      5.866      0.000    1.21e+05    2.42e+05\n",
       "x5_98052              6.803e+05   1.17e+04     58.177      0.000    6.57e+05    7.03e+05\n",
       "x5_98053              5.796e+05   1.41e+04     41.108      0.000    5.52e+05    6.07e+05\n",
       "x5_98055              6.772e+04   1.68e+04      4.033      0.000    3.48e+04    1.01e+05\n",
       "x5_98056              2.745e+05   1.16e+04     23.720      0.000    2.52e+05    2.97e+05\n",
       "x5_98057              1.209e+05   2.19e+04      5.521      0.000    7.79e+04    1.64e+05\n",
       "x5_98058              8.132e+04   1.02e+04      7.965      0.000    6.13e+04    1.01e+05\n",
       "x5_98059               2.73e+05   1.11e+04     24.650      0.000    2.51e+05    2.95e+05\n",
       "x5_98065              4.347e+05   1.68e+04     25.806      0.000    4.02e+05    4.68e+05\n",
       "x5_98070              2.625e+05   1.88e+04     13.961      0.000    2.26e+05    2.99e+05\n",
       "x5_98072               4.85e+05   1.45e+04     33.394      0.000    4.57e+05    5.13e+05\n",
       "x5_98074              6.395e+05   1.39e+04     46.058      0.000    6.12e+05    6.67e+05\n",
       "x5_98075              7.112e+05   1.46e+04     48.695      0.000    6.83e+05     7.4e+05\n",
       "x5_98077              4.959e+05   1.76e+04     28.179      0.000    4.61e+05     5.3e+05\n",
       "x5_98102              6.031e+05   2.25e+04     26.825      0.000    5.59e+05    6.47e+05\n",
       "x5_98103              4.841e+05   1.03e+04     47.096      0.000    4.64e+05    5.04e+05\n",
       "x5_98105              5.232e+05   1.53e+04     34.238      0.000    4.93e+05    5.53e+05\n",
       "x5_98106              1.824e+05   1.14e+04     16.057      0.000     1.6e+05    2.05e+05\n",
       "x5_98107              5.043e+05   1.24e+04     40.513      0.000     4.8e+05    5.29e+05\n",
       "x5_98108              1.999e+05   1.46e+04     13.711      0.000    1.71e+05    2.28e+05\n",
       "x5_98109              6.251e+05   2.39e+04     26.150      0.000    5.78e+05    6.72e+05\n",
       "x5_98112              5.857e+05   1.73e+04     33.894      0.000    5.52e+05     6.2e+05\n",
       "x5_98115              4.948e+05   1.03e+04     48.018      0.000    4.75e+05    5.15e+05\n",
       "x5_98116              4.273e+05   1.35e+04     31.595      0.000    4.01e+05    4.54e+05\n",
       "x5_98117              4.786e+05   1.03e+04     46.448      0.000    4.58e+05    4.99e+05\n",
       "x5_98118              2.742e+05    1.1e+04     24.904      0.000    2.53e+05    2.96e+05\n",
       "x5_98119              6.135e+05   1.73e+04     35.526      0.000     5.8e+05    6.47e+05\n",
       "x5_98122              4.247e+05   1.31e+04     32.374      0.000    3.99e+05     4.5e+05\n",
       "x5_98125              3.427e+05   1.19e+04     28.689      0.000    3.19e+05    3.66e+05\n",
       "x5_98126              2.905e+05   1.24e+04     23.355      0.000    2.66e+05    3.15e+05\n",
       "x5_98133              2.617e+05   1.04e+04     25.081      0.000    2.41e+05    2.82e+05\n",
       "x5_98136              4.081e+05   1.49e+04     27.474      0.000    3.79e+05    4.37e+05\n",
       "x5_98144              3.924e+05   1.29e+04     30.398      0.000    3.67e+05    4.18e+05\n",
       "x5_98146              1.969e+05   1.26e+04     15.634      0.000    1.72e+05    2.22e+05\n",
       "x5_98155              3.244e+05   1.16e+04     27.868      0.000    3.02e+05    3.47e+05\n",
       "x5_98166              1.844e+05    1.4e+04     13.151      0.000    1.57e+05    2.12e+05\n",
       "x5_98168              7.565e+04   1.32e+04      5.749      0.000    4.99e+04    1.01e+05\n",
       "x5_98177              4.015e+05   1.55e+04     25.929      0.000    3.71e+05    4.32e+05\n",
       "x5_98178               1.17e+05   1.32e+04      8.873      0.000    9.12e+04    1.43e+05\n",
       "x5_98188              7.463e+04   1.76e+04      4.232      0.000    4.01e+04    1.09e+05\n",
       "x5_98198              5.649e+04   1.25e+04      4.512      0.000     3.2e+04     8.1e+04\n",
       "x5_98199              5.624e+05   1.39e+04     40.457      0.000    5.35e+05     5.9e+05\n",
       "x5_98272              2.894e+05   9.78e+04      2.961      0.003    9.78e+04    4.81e+05\n",
       "x5_98372              3.951e+05   1.69e+05      2.336      0.019    6.36e+04    7.27e+05\n",
       "x5_98422             -4.054e+05   2.39e+05     -1.697      0.090   -8.74e+05     6.3e+04\n",
       "grade                 9.617e+04   2448.431     39.280      0.000    9.14e+04    1.01e+05\n",
       "condition             4.877e+04   2268.173     21.503      0.000    4.43e+04    5.32e+04\n",
       "==============================================================================\n",
       "Omnibus:                     2463.442   Durbin-Watson:                   1.974\n",
       "Prob(Omnibus):                  0.000   Jarque-Bera (JB):            18351.140\n",
       "Skew:                           0.024   Prob(JB):                         0.00\n",
       "Kurtosis:                       7.083   Cond. No.                     4.91e+05\n",
       "==============================================================================\n",
       "\n",
       "Notes:\n",
       "[1] Standard Errors assume that the covariance matrix of the errors is correctly specified.\n",
       "[2] The condition number is large, 4.91e+05. This might indicate that there are\n",
       "strong multicollinearity or other numerical problems.\n",
       "\"\"\""
      ]
     },
     "execution_count": 141,
     "metadata": {},
     "output_type": "execute_result"
    }
   ],
   "source": [
    "# model with dropped insignificant values\n",
    "ohe_cols = ['bathrooms', \n",
    "            'bedrooms', \n",
    "            'heat_source', \n",
    "            'waterfront',\n",
    "            'floors', \n",
    "            'zipcode']\n",
    "ohe = OneHotEncoder(drop='first')\n",
    "    \n",
    "ohe.fit(df[ohe_cols])\n",
    "ohe_all = pd.DataFrame(ohe.transform(df[ohe_cols]).todense(),\n",
    "                            columns=ohe.get_feature_names())\n",
    "\n",
    "X_cat = pd.concat([x,ohe_all_sig,ordinal_df], axis=1)\n",
    "scaled_oheall_model = sm.OLS(y, sm.add_constant(X_cat)).fit()\n",
    "scaled_oheall_model.summary()"
   ]
  },
  {
   "cell_type": "markdown",
   "metadata": {},
   "source": [
    "Ultimately, we find that dropping our insignificant features did not affect model performance very much, nor did it improve our summary statistics pertaining to assumption problems."
   ]
  },
  {
   "cell_type": "markdown",
   "metadata": {},
   "source": [
    "### Checking Assumptions - Linearity"
   ]
  },
  {
   "cell_type": "markdown",
   "metadata": {},
   "source": [
    "Here we decide to take a deeper dive into seeing how our model stacks up against the assumptions of linear regression. The first assumption we check is linearity. For the results of a linear regression to be significant, the relationship between its target and predictors must be linear. We check this by constructing a scatter plot of our residuals plotted against our model predictions."
   ]
  },
  {
   "cell_type": "code",
   "execution_count": 143,
   "metadata": {},
   "outputs": [
    {
     "data": {
      "text/html": [
       "<div>\n",
       "<style scoped>\n",
       "    .dataframe tbody tr th:only-of-type {\n",
       "        vertical-align: middle;\n",
       "    }\n",
       "\n",
       "    .dataframe tbody tr th {\n",
       "        vertical-align: top;\n",
       "    }\n",
       "\n",
       "    .dataframe thead th {\n",
       "        text-align: right;\n",
       "    }\n",
       "</style>\n",
       "<table border=\"1\" class=\"dataframe\">\n",
       "  <thead>\n",
       "    <tr style=\"text-align: right;\">\n",
       "      <th></th>\n",
       "      <th>const</th>\n",
       "      <th>sqft_living</th>\n",
       "      <th>age_when_sold</th>\n",
       "    </tr>\n",
       "  </thead>\n",
       "  <tbody>\n",
       "    <tr>\n",
       "      <th>0</th>\n",
       "      <td>1.0</td>\n",
       "      <td>1180</td>\n",
       "      <td>53</td>\n",
       "    </tr>\n",
       "    <tr>\n",
       "      <th>1</th>\n",
       "      <td>1.0</td>\n",
       "      <td>2770</td>\n",
       "      <td>71</td>\n",
       "    </tr>\n",
       "    <tr>\n",
       "      <th>2</th>\n",
       "      <td>1.0</td>\n",
       "      <td>2880</td>\n",
       "      <td>65</td>\n",
       "    </tr>\n",
       "    <tr>\n",
       "      <th>3</th>\n",
       "      <td>1.0</td>\n",
       "      <td>2160</td>\n",
       "      <td>11</td>\n",
       "    </tr>\n",
       "    <tr>\n",
       "      <th>4</th>\n",
       "      <td>1.0</td>\n",
       "      <td>1120</td>\n",
       "      <td>9</td>\n",
       "    </tr>\n",
       "  </tbody>\n",
       "</table>\n",
       "</div>"
      ],
      "text/plain": [
       "   const  sqft_living  age_when_sold\n",
       "0    1.0         1180             53\n",
       "1    1.0         2770             71\n",
       "2    1.0         2880             65\n",
       "3    1.0         2160             11\n",
       "4    1.0         1120              9"
      ]
     },
     "execution_count": 143,
     "metadata": {},
     "output_type": "execute_result"
    }
   ],
   "source": [
    "x.head()"
   ]
  },
  {
   "cell_type": "code",
   "execution_count": 144,
   "metadata": {},
   "outputs": [
    {
     "data": {
      "image/png": "[encoded data removed]",
      "text/plain": [
       "<Figure size 432x432 with 1 Axes>"
      ]
     },
     "metadata": {},
     "output_type": "display_data"
    }
   ],
   "source": [
    "# plotting residuals vs predictions\n",
    "model_preds = scaled_oheall_model.predict(X_cat)\n",
    "resids = y - model_preds\n",
    "\n",
    "fig, ax = plt.subplots(figsize=(6,6))\n",
    "ax.scatter(model_preds, resids)\n",
    "\n",
    "ax.set_xlabel('predicted house prices')\n",
    "ax.set_ylabel('residual')\n",
    "plt.suptitle('Residuals Vs. Predictions');\n"
   ]
  },
  {
   "cell_type": "markdown",
   "metadata": {},
   "source": [
    "From our plot, we can gather that the relationship between our target and our predictors is linear."
   ]
  },
  {
   "cell_type": "markdown",
   "metadata": {},
   "source": [
    "### Checking Assumptions - Independence"
   ]
  },
  {
   "cell_type": "markdown",
   "metadata": {},
   "source": [
    "Next we check for independence of errors. We do this by plotting our residuals and target values against each other and looking for patterns."
   ]
  },
  {
   "cell_type": "code",
   "execution_count": 145,
   "metadata": {},
   "outputs": [
    {
     "data": {
      "image/png": "[encoded data removed]",
      "text/plain": [
       "<Figure size 864x864 with 1 Axes>"
      ]
     },
     "metadata": {},
     "output_type": "display_data"
    }
   ],
   "source": [
    "# plotting residuals and target value against each other\n",
    "fig, ax = plt.subplots()\n",
    "\n",
    "ax.scatter(y, resids);"
   ]
  },
  {
   "cell_type": "markdown",
   "metadata": {},
   "source": [
    "The upwards trend in this plot suggests a very slight positive correlation in our errors.  \n",
    "We can confirm by looking at the Durbin-Watson test statistic from our model."
   ]
  },
  {
   "cell_type": "code",
   "execution_count": 146,
   "metadata": {},
   "outputs": [
    {
     "data": {
      "text/plain": [
       "1.9740273780962416"
      ]
     },
     "execution_count": 146,
     "metadata": {},
     "output_type": "execute_result"
    }
   ],
   "source": [
    "durbin_watson(scaled_oheall_model.resid)"
   ]
  },
  {
   "cell_type": "markdown",
   "metadata": {},
   "source": [
    "This confirms the qualitative conclusion we drew from our scatter plot.  \n",
    "Since the test statistic is below 2.0, we know there to be a very slight positive correlation in our errors.  \n",
    "However, since our test statistic is so close to 2.0, we can confidently say that autocorrelation is not a problem for our regression model."
   ]
  },
  {
   "cell_type": "markdown",
   "metadata": {},
   "source": [
    "### Checking Assumptions - Normality"
   ]
  },
  {
   "cell_type": "markdown",
   "metadata": {},
   "source": [
    "Next we check for noramlity. Our errors will ideally follow a normal distribution. We first check this by making a histogram of our residuals."
   ]
  },
  {
   "cell_type": "code",
   "execution_count": 147,
   "metadata": {},
   "outputs": [
    {
     "data": {
      "image/png": "[encoded data removed]",
      "text/plain": [
       "<Figure size 864x864 with 1 Axes>"
      ]
     },
     "metadata": {},
     "output_type": "display_data"
    }
   ],
   "source": [
    "# Making a histogram out of our residuals\n",
    "resids.hist(bins=int(np.sqrt(len(resids))));"
   ]
  },
  {
   "cell_type": "markdown",
   "metadata": {},
   "source": [
    "Upon first glance at our histogram of residuals, our errors appear to be normally distributed."
   ]
  },
  {
   "cell_type": "code",
   "execution_count": 148,
   "metadata": {},
   "outputs": [
    {
     "data": {
      "image/png": "[encoded data removed]",
      "text/plain": [
       "<Figure size 864x864 with 1 Axes>"
      ]
     },
     "metadata": {},
     "output_type": "display_data"
    }
   ],
   "source": [
    "# Making a qqplot out of our residuals to further investigate\n",
    "sm.qqplot(resids, line='r');"
   ]
  },
  {
   "cell_type": "markdown",
   "metadata": {},
   "source": [
    "With normally distributed errors, our plot should follow the diagonal line closely.  \n",
    "Instead, we see some fairly significant divergences at the extremes. This suggests that our errors may not follow a normal distribution."
   ]
  },
  {
   "cell_type": "code",
   "execution_count": 149,
   "metadata": {},
   "outputs": [
    {
     "data": {
      "text/plain": [
       "Jarque_beraResult(statistic=18351.139570174026, pvalue=0.0)"
      ]
     },
     "execution_count": 149,
     "metadata": {},
     "output_type": "execute_result"
    }
   ],
   "source": [
    "# For more quantitative assessment of error distribution, we turn to the Jarque-Bera test:\n",
    "jarque_bera(resids)"
   ]
  },
  {
   "cell_type": "markdown",
   "metadata": {},
   "source": [
    "Based on the large magnitude of our test statistic and a P-value smaller than an alpha of 0.05, we must reject the null hypothesis that our errors are normally distributed."
   ]
  },
  {
   "cell_type": "markdown",
   "metadata": {},
   "source": [
    "Given more time, we could make individual histograms for each of our variables to see their distribution, as a non-normal distribution of errors is often caused by a non-normal distribution of variables. If we were to identify specific variables with non-normal distributions, we could try to transform the offending variables in some way to compensate. Another option would be to engineer new features based on our variables using Polynomial Features, in hopes of creating features with more normal distributions that still have a significant correlation with our target."
   ]
  },
  {
   "cell_type": "markdown",
   "metadata": {},
   "source": [
    "### Checking Assumptions - Homoscedasticity"
   ]
  },
  {
   "cell_type": "markdown",
   "metadata": {},
   "source": [
    "Next we check for homoscedasticity. Our errors should have the same variance."
   ]
  },
  {
   "cell_type": "code",
   "execution_count": 150,
   "metadata": {},
   "outputs": [
    {
     "data": {
      "image/png": "[encoded data removed]",
      "text/plain": [
       "<Figure size 864x864 with 1 Axes>"
      ]
     },
     "metadata": {},
     "output_type": "display_data"
    }
   ],
   "source": [
    "# We reproduce the plot from above, when we checked for independence of errors:\n",
    "\n",
    "fig, ax = plt.subplots()\n",
    "\n",
    "ax.scatter(y, resids);"
   ]
  },
  {
   "cell_type": "markdown",
   "metadata": {},
   "source": [
    "At first glance, our errors appear to have similar variances. This is to say, the spread of our errors does not appear to vary much as our target increases. If anything, the spread may constrain slightly as our target increases, denoted by the larger presence of outliers around the smallest values of our target."
   ]
  },
  {
   "cell_type": "code",
   "execution_count": 151,
   "metadata": {},
   "outputs": [
    {
     "data": {
      "text/plain": [
       "(1.0218023963413203, 0.14345733771876557, 'increasing')"
      ]
     },
     "execution_count": 151,
     "metadata": {},
     "output_type": "execute_result"
    }
   ],
   "source": [
    "# For a more quantitative assessment of homoscedasticity, we employ the Goldfeld-Quant test:\n",
    "sm.stats.diagnostic.het_goldfeldquandt(y,X_cat,drop=0.2)\n",
    "# We chose to remove 20% of our total observations for the test, a common-practice proportion\n",
    "# according to multiple online resources that were consulted."
   ]
  },
  {
   "cell_type": "markdown",
   "metadata": {},
   "source": [
    "The Goldfeld-Quant test has a null hypothesis that homoscedasticity is present in our errors. Since the p-value for our test is greater than an alpha of 0.05, we fail to reject the null hypothesis and cannot gather that heteroscedasticity is a problem with our model."
   ]
  },
  {
   "cell_type": "code",
   "execution_count": 152,
   "metadata": {},
   "outputs": [
    {
     "data": {
      "text/plain": [
       "[('Lagrange multiplier statistic', 1974.4663711504156),\n",
       " ('p-value', 0.0),\n",
       " ('f-value', 20.63634939207755),\n",
       " ('f p-value', 0.0)]"
      ]
     },
     "execution_count": 152,
     "metadata": {},
     "output_type": "execute_result"
    }
   ],
   "source": [
    "# Turning to the Breusch-Pagan test for a second opinion on whether our data is homoscedastic:\n",
    "names = ['Lagrange multiplier statistic', 'p-value',\n",
    "         'f-value', 'f p-value']\n",
    "bp_test_result = sm.stats.diagnostic.het_breuschpagan(scaled_oheall_model.resid, scaled_oheall_model.model.exog)\n",
    "lzip(names, bp_test_result)"
   ]
  },
  {
   "cell_type": "markdown",
   "metadata": {},
   "source": [
    "Since our p-value is smaller than our alpha of 0.05 and our test statistic is quite high for our number of predictors, we must reject the null hypothesis and conclude that there is some evidence to suggest that our errors are heteroscedastic. "
   ]
  },
  {
   "cell_type": "markdown",
   "metadata": {},
   "source": [
    "A possible solution would be to transform our target variable in some way, such as log-scaling. However, as discussed earlier, log-scaling our target variable makes its distribution less normal than it is currently."
   ]
  },
  {
   "cell_type": "markdown",
   "metadata": {},
   "source": [
    "Given more time, we could test other transformations of our target to try and account for the skew in its distribution."
   ]
  },
  {
   "cell_type": "markdown",
   "metadata": {},
   "source": [
    "### Checking Assumptions - Independence of Predictors (No Multicollinearity)"
   ]
  },
  {
   "cell_type": "markdown",
   "metadata": {},
   "source": [
    "Finally, we check for independence of predictors."
   ]
  },
  {
   "cell_type": "code",
   "execution_count": 62,
   "metadata": {},
   "outputs": [
    {
     "data": {
      "text/plain": [
       "490577.23677665746"
      ]
     },
     "execution_count": 62,
     "metadata": {},
     "output_type": "execute_result"
    }
   ],
   "source": [
    "# Pulling out our model's condition number to tease out multicollinearity:\n",
    "scaled_oheall_model.condition_number"
   ]
  },
  {
   "cell_type": "markdown",
   "metadata": {},
   "source": [
    "Our current model's condition number is well above the generally accepted 'danger zone' of approximately 1000. We can gather from this that our predictors have a significant amount of correlation with one another, implying the presence of multicollinearity. Likely, this has to do with the large number of predictors used in our model. A logical improvement given more time is to try and cut down the number of predictor variables used and optimizing our model's R-squared score with its condition number."
   ]
  },
  {
   "cell_type": "markdown",
   "metadata": {},
   "source": [
    "# EDA - Baseline OLS Model - v2 \n",
    "#### Trying a new baseline model with less variables to get better model statistics.\n",
    "- Just sqrt_foot living vs target of price"
   ]
  },
  {
   "cell_type": "code",
   "execution_count": 153,
   "metadata": {
    "scrolled": false
   },
   "outputs": [
    {
     "name": "stdout",
     "output_type": "stream",
     "text": [
      "r sqr: 0.2959834855377248\n"
     ]
    },
    {
     "data": {
      "text/html": [
       "<table class=\"simpletable\">\n",
       "<tr>\n",
       "  <th>Omnibus:</th>       <td>1184.396</td> <th>  Durbin-Watson:     </th> <td>   2.008</td> \n",
       "</tr>\n",
       "<tr>\n",
       "  <th>Prob(Omnibus):</th>  <td> 0.000</td>  <th>  Jarque-Bera (JB):  </th> <td>1381.055</td> \n",
       "</tr>\n",
       "<tr>\n",
       "  <th>Skew:</th>           <td> 0.513</td>  <th>  Prob(JB):          </th> <td>1.28e-300</td>\n",
       "</tr>\n",
       "<tr>\n",
       "  <th>Kurtosis:</th>       <td> 3.446</td>  <th>  Cond. No.          </th> <td>    1.00</td> \n",
       "</tr>\n",
       "</table>"
      ],
      "text/plain": [
       "<class 'statsmodels.iolib.table.SimpleTable'>"
      ]
     },
     "execution_count": 153,
     "metadata": {},
     "output_type": "execute_result"
    }
   ],
   "source": [
    "# We start from a new baseline model and play around with some new ideas on features \n",
    "\n",
    "df = pd.read_csv('data/kc_house_data.csv')\n",
    "\n",
    "df = drop_outliers(df, 'sqft_living').reset_index(drop=True)\n",
    "df = drop_outliers(df, 'price').reset_index(drop=True)\n",
    "df = df.dropna().reset_index(drop=True)\n",
    "\n",
    "\n",
    "df['date_year'] = df['date'].apply(pd.to_datetime)\n",
    "df['date_year'] = df['date_year'].dt.year\n",
    "df['date_year']\n",
    "df['age_when_sold'] = df['date_year'] - df['yr_built']\n",
    "df = drop_outliers(df, 'age_when_sold').reset_index(drop=True)\n",
    "\n",
    "# Continuous numbers\n",
    "#df['sqft_living']\n",
    "df['sqft_lot_less_living'] = df['sqft_lot'] - (df['sqft_living']/df['floors'])\n",
    "\n",
    "# Nominal categories\n",
    "df['zipcode'] = df.address.str[-20:-15]\n",
    "df['has_garage'] = df['sqft_garage'].map(mapping_hasX)\n",
    "df['has_patio'] = df['sqft_patio'].map(mapping_hasX)\n",
    "df['has_basement'] = df['sqft_basement'].map(mapping_hasX)\n",
    "df['was_renovated'] = df['yr_renovated'].map(mapping_hasX)\n",
    "df['has_view'] = df['view'].map(mapping_hasView)\n",
    "\n",
    "df['waterfront']\n",
    "df['street'] = df['address'].map(mapping_addressStreet)\n",
    "df['city'] = df['address'].map(mapping_addressCity)\n",
    "good_cities = ['Algona', 'Auburn', 'Beaux Arts Village', 'Bellevue', \n",
    " 'Black Diamond', 'Bothell', 'Burien', 'Carnation', 'Clyde Hill', \n",
    " 'Covington', 'Des Moines', 'Duvall', 'Enumclaw', 'Federal Way', \n",
    " 'Hunts Point', 'Issaquah', 'Kenmore', 'Kent', 'Kirkland', \n",
    " 'Lake Forest Park', 'Maple Valley', 'Medina', 'Mercer Island', 'Milton', \n",
    " 'Newcastle', 'Normandy Park', 'North Bend', 'Pacific', 'Redmond', \n",
    " 'Renton', 'Sammamish', 'SeaTac', 'Seattle', 'Shoreline', 'Skykomish', \n",
    " 'Snoqualmie', 'Tukwila', 'Woodinville', 'Yarrow Point']\n",
    "df['good_city'] = df['city'].map(mapping_is_good_city)\n",
    "df = df.loc[df['good_city'] == True].reset_index(drop=True)\n",
    "# Ordinal categories\n",
    "df['grade']\n",
    "\n",
    "# Scale the continous number features\n",
    "df = scale_numberical_cols(df, ['sqft_living', 'age_when_sold', 'sqft_lot_less_living'])\n",
    "\n",
    "# Baseline\n",
    "x = sm.add_constant(df[['sqft_living']])\n",
    "y = df['price']\n",
    "model = sm.OLS(y, x).fit()\n",
    "\n",
    "s = model.summary()\n",
    "print(\"r sqr:\", model.rsquared)\n",
    "s.tables[2]"
   ]
  },
  {
   "cell_type": "markdown",
   "metadata": {},
   "source": [
    "**Check out the new features**"
   ]
  },
  {
   "cell_type": "code",
   "execution_count": 154,
   "metadata": {},
   "outputs": [
    {
     "data": {
      "text/plain": [
       "NONE         23943\n",
       "AVERAGE       1556\n",
       "GOOD           599\n",
       "EXCELLENT      221\n",
       "FAIR           164\n",
       "Name: view, dtype: int64"
      ]
     },
     "execution_count": 154,
     "metadata": {},
     "output_type": "execute_result"
    }
   ],
   "source": [
    "df['view'].value_counts()"
   ]
  },
  {
   "cell_type": "markdown",
   "metadata": {},
   "source": [
    "**Add in new feature 'sqft_lot_less_living', see what it does**"
   ]
  },
  {
   "cell_type": "code",
   "execution_count": 155,
   "metadata": {},
   "outputs": [
    {
     "name": "stdout",
     "output_type": "stream",
     "text": [
      "r sqr: 0.2962058300002882\n"
     ]
    },
    {
     "data": {
      "text/html": [
       "<table class=\"simpletable\">\n",
       "<tr>\n",
       "  <th>Omnibus:</th>       <td>1174.291</td> <th>  Durbin-Watson:     </th> <td>   2.008</td> \n",
       "</tr>\n",
       "<tr>\n",
       "  <th>Prob(Omnibus):</th>  <td> 0.000</td>  <th>  Jarque-Bera (JB):  </th> <td>1366.347</td> \n",
       "</tr>\n",
       "<tr>\n",
       "  <th>Skew:</th>           <td> 0.511</td>  <th>  Prob(JB):          </th> <td>2.00e-297</td>\n",
       "</tr>\n",
       "<tr>\n",
       "  <th>Kurtosis:</th>       <td> 3.439</td>  <th>  Cond. No.          </th> <td>    1.08</td> \n",
       "</tr>\n",
       "</table>"
      ],
      "text/plain": [
       "<class 'statsmodels.iolib.table.SimpleTable'>"
      ]
     },
     "execution_count": 155,
     "metadata": {},
     "output_type": "execute_result"
    }
   ],
   "source": [
    "x = sm.add_constant(df[['sqft_living','sqft_lot_less_living']])    \n",
    "y = df['price']\n",
    "model = sm.OLS(y, x).fit()\n",
    "\n",
    "s = model.summary()\n",
    "print(\"r sqr:\", model.rsquared)\n",
    "s.tables[2]"
   ]
  },
  {
   "cell_type": "markdown",
   "metadata": {},
   "source": [
    "**sqft lot helps jarque bera a tiny amount**\n",
    "\n",
    "**Layer in 'age_when_sold' feature**"
   ]
  },
  {
   "cell_type": "code",
   "execution_count": 156,
   "metadata": {},
   "outputs": [
    {
     "name": "stdout",
     "output_type": "stream",
     "text": [
      "r sqr: 0.30950338776872865\n"
     ]
    },
    {
     "data": {
      "text/html": [
       "<table class=\"simpletable\">\n",
       "<tr>\n",
       "  <th>Omnibus:</th>       <td>1061.033</td> <th>  Durbin-Watson:     </th> <td>   2.005</td> \n",
       "</tr>\n",
       "<tr>\n",
       "  <th>Prob(Omnibus):</th>  <td> 0.000</td>  <th>  Jarque-Bera (JB):  </th> <td>1245.189</td> \n",
       "</tr>\n",
       "<tr>\n",
       "  <th>Skew:</th>           <td> 0.470</td>  <th>  Prob(JB):          </th> <td>4.08e-271</td>\n",
       "</tr>\n",
       "<tr>\n",
       "  <th>Kurtosis:</th>       <td> 3.493</td>  <th>  Cond. No.          </th> <td>    1.43</td> \n",
       "</tr>\n",
       "</table>"
      ],
      "text/plain": [
       "<class 'statsmodels.iolib.table.SimpleTable'>"
      ]
     },
     "execution_count": 156,
     "metadata": {},
     "output_type": "execute_result"
    }
   ],
   "source": [
    "x = sm.add_constant(df[['sqft_living','sqft_lot_less_living', 'age_when_sold']])    \n",
    "y = df['price']\n",
    "model = sm.OLS(y, x).fit()\n",
    "\n",
    "s = model.summary()\n",
    "print(\"r sqr:\", model.rsquared)\n",
    "s.tables[2]\n"
   ]
  },
  {
   "cell_type": "markdown",
   "metadata": {},
   "source": [
    "**age_when_sold brings down Jarque-bera and omnibus**\n",
    "\n",
    "**Try out new nominal categorical features using one hot encoder**"
   ]
  },
  {
   "cell_type": "code",
   "execution_count": 157,
   "metadata": {},
   "outputs": [
    {
     "name": "stdout",
     "output_type": "stream",
     "text": [
      "r sqr: 0.6079013023338673\n"
     ]
    },
    {
     "data": {
      "text/html": [
       "<table class=\"simpletable\">\n",
       "<tr>\n",
       "  <th>Omnibus:</th>       <td>1595.089</td> <th>  Durbin-Watson:     </th> <td>   1.987</td>\n",
       "</tr>\n",
       "<tr>\n",
       "  <th>Prob(Omnibus):</th>  <td> 0.000</td>  <th>  Jarque-Bera (JB):  </th> <td>6617.238</td>\n",
       "</tr>\n",
       "<tr>\n",
       "  <th>Skew:</th>           <td> 0.134</td>  <th>  Prob(JB):          </th> <td>    0.00</td>\n",
       "</tr>\n",
       "<tr>\n",
       "  <th>Kurtosis:</th>       <td> 5.434</td>  <th>  Cond. No.          </th> <td>    199.</td>\n",
       "</tr>\n",
       "</table>"
      ],
      "text/plain": [
       "<class 'statsmodels.iolib.table.SimpleTable'>"
      ]
     },
     "execution_count": 157,
     "metadata": {},
     "output_type": "execute_result"
    }
   ],
   "source": [
    "x = df[['sqft_living', 'sqft_lot_less_living','age_when_sold']]\n",
    "ohe_cols = ['city']\n",
    "\n",
    "ohe = OneHotEncoder(drop='first')\n",
    "ohe.fit(df[ohe_cols])\n",
    "ohe_all = pd.DataFrame(ohe.transform(df[ohe_cols]).todense(),columns=ohe.get_feature_names())\n",
    "X_cat = pd.concat([x,ohe_all], axis=1)\n",
    "model = sm.OLS(y, sm.add_constant(X_cat)).fit()\n",
    "\n",
    "s = model.summary()\n",
    "print(\"r sqr:\", model.rsquared)\n",
    "s.tables[2]"
   ]
  },
  {
   "cell_type": "markdown",
   "metadata": {},
   "source": [
    "**This worked out well. This is the new model to beat.**\n",
    "\n",
    "Our new condition number is far lower than it was previously, suggesting no problems with multicollinearity while keeping an R-squared score above 0.6.\n",
    "\n",
    "**Try other features**"
   ]
  },
  {
   "cell_type": "code",
   "execution_count": 158,
   "metadata": {},
   "outputs": [
    {
     "name": "stdout",
     "output_type": "stream",
     "text": [
      "r sqr: 0.6136948618237787\n"
     ]
    },
    {
     "data": {
      "text/html": [
       "<table class=\"simpletable\">\n",
       "<tr>\n",
       "  <th>Omnibus:</th>       <td>1592.517</td> <th>  Durbin-Watson:     </th> <td>   1.989</td>\n",
       "</tr>\n",
       "<tr>\n",
       "  <th>Prob(Omnibus):</th>  <td> 0.000</td>  <th>  Jarque-Bera (JB):  </th> <td>6767.909</td>\n",
       "</tr>\n",
       "<tr>\n",
       "  <th>Skew:</th>           <td> 0.112</td>  <th>  Prob(JB):          </th> <td>    0.00</td>\n",
       "</tr>\n",
       "<tr>\n",
       "  <th>Kurtosis:</th>       <td> 5.466</td>  <th>  Cond. No.          </th> <td>    267.</td>\n",
       "</tr>\n",
       "</table>"
      ],
      "text/plain": [
       "<class 'statsmodels.iolib.table.SimpleTable'>"
      ]
     },
     "execution_count": 158,
     "metadata": {},
     "output_type": "execute_result"
    }
   ],
   "source": [
    "x = df[['sqft_living', 'sqft_lot_less_living','age_when_sold']]\n",
    "ohe_cols = ['city','waterfront', 'has_basement', 'has_garage', 'has_patio']\n",
    "\n",
    "ohe = OneHotEncoder(drop='first')\n",
    "ohe.fit(df[ohe_cols])\n",
    "ohe_all = pd.DataFrame(ohe.transform(df[ohe_cols]).todense(),columns=ohe.get_feature_names())\n",
    "X_cat = pd.concat([x,ohe_all], axis=1)\n",
    "model = sm.OLS(y, sm.add_constant(X_cat)).fit()\n",
    "\n",
    "s = model.summary()\n",
    "print(\"r sqr:\", model.rsquared)\n",
    "s.tables[2]"
   ]
  },
  {
   "cell_type": "markdown",
   "metadata": {},
   "source": [
    "Here we see a slight improvement in our R-squared score."
   ]
  },
  {
   "cell_type": "markdown",
   "metadata": {},
   "source": [
    "**Try layering in a Ordinal Categorical variable (Grade)**"
   ]
  },
  {
   "cell_type": "code",
   "execution_count": 159,
   "metadata": {},
   "outputs": [
    {
     "name": "stdout",
     "output_type": "stream",
     "text": [
      "r sqr: 0.6425970477834806\n"
     ]
    },
    {
     "data": {
      "text/html": [
       "<table class=\"simpletable\">\n",
       "<tr>\n",
       "  <th>Omnibus:</th>       <td>1812.010</td> <th>  Durbin-Watson:     </th> <td>   1.992</td>\n",
       "</tr>\n",
       "<tr>\n",
       "  <th>Prob(Omnibus):</th>  <td> 0.000</td>  <th>  Jarque-Bera (JB):  </th> <td>9065.390</td>\n",
       "</tr>\n",
       "<tr>\n",
       "  <th>Skew:</th>           <td> 0.077</td>  <th>  Prob(JB):          </th> <td>    0.00</td>\n",
       "</tr>\n",
       "<tr>\n",
       "  <th>Kurtosis:</th>       <td> 5.862</td>  <th>  Cond. No.          </th> <td>    972.</td>\n",
       "</tr>\n",
       "</table>"
      ],
      "text/plain": [
       "<class 'statsmodels.iolib.table.SimpleTable'>"
      ]
     },
     "execution_count": 159,
     "metadata": {},
     "output_type": "execute_result"
    }
   ],
   "source": [
    "# ordinally encoding grade\n",
    "grade_df = df[['grade']]\n",
    "grade_cats = [['2 Substandard',\n",
    "               '3 Poor',\n",
    "               '4 Low',\n",
    "               '5 Fair',\n",
    "               '6 Low Average',\n",
    "               '7 Average',\n",
    "               '8 Good',\n",
    "               '9 Better',\n",
    "               '10 Very Good',\n",
    "               '11 Excellent',\n",
    "               '12 Luxury',\n",
    "               '13 Mansion']]\n",
    "ords_grade = OrdinalEncoder(categories=grade_cats)\n",
    "ords_grade.fit(grade_df)\n",
    "ords_grade.transform(grade_df)\n",
    "grades_encoded = pd.DataFrame(ords_grade.transform(grade_df))\n",
    "\n",
    "\n",
    "x=df[['sqft_living', 'sqft_lot_less_living', 'age_when_sold']]\n",
    "ohe_cols = ['city','waterfront', 'has_basement', 'has_garage', 'has_patio']\n",
    "ohe = OneHotEncoder(drop='first')\n",
    "\n",
    "ohe.fit(df[ohe_cols])\n",
    "ohe_all = pd.DataFrame(ohe.transform(df[ohe_cols]).todense(),\n",
    "                            columns=ohe.get_feature_names())\n",
    "\n",
    "X_cat = pd.concat([x,ohe_all,grades_encoded], axis=1)\n",
    "model = sm.OLS(y, sm.add_constant(X_cat)).fit()\n",
    "\n",
    "s = model.summary()\n",
    "print(\"r sqr:\", model.rsquared)\n",
    "s.tables[2]"
   ]
  },
  {
   "cell_type": "markdown",
   "metadata": {},
   "source": [
    "**This skyrockets our JB and our condition number. Not using Grade.**  \n",
    "\n",
    "**Now try Condition:**"
   ]
  },
  {
   "cell_type": "code",
   "execution_count": 160,
   "metadata": {},
   "outputs": [
    {
     "name": "stdout",
     "output_type": "stream",
     "text": [
      "r sqr: 0.6181849914289587\n"
     ]
    },
    {
     "data": {
      "text/html": [
       "<table class=\"simpletable\">\n",
       "<tr>\n",
       "  <th>Omnibus:</th>       <td>1676.908</td> <th>  Durbin-Watson:     </th> <td>   1.986</td>\n",
       "</tr>\n",
       "<tr>\n",
       "  <th>Prob(Omnibus):</th>  <td> 0.000</td>  <th>  Jarque-Bera (JB):  </th> <td>7310.904</td>\n",
       "</tr>\n",
       "<tr>\n",
       "  <th>Skew:</th>           <td> 0.135</td>  <th>  Prob(JB):          </th> <td>    0.00</td>\n",
       "</tr>\n",
       "<tr>\n",
       "  <th>Kurtosis:</th>       <td> 5.560</td>  <th>  Cond. No.          </th> <td>    505.</td>\n",
       "</tr>\n",
       "</table>"
      ],
      "text/plain": [
       "<class 'statsmodels.iolib.table.SimpleTable'>"
      ]
     },
     "execution_count": 160,
     "metadata": {},
     "output_type": "execute_result"
    }
   ],
   "source": [
    "# ordinally encoding condition\n",
    "cond_df = df[['condition']]\n",
    "cond_cats = [['Poor',\n",
    "              'Fair',\n",
    "              'Average',\n",
    "              'Good',\n",
    "              'Very Good']]\n",
    "ords_cond = OrdinalEncoder(categories=cond_cats)\n",
    "ords_cond.fit(cond_df)\n",
    "ords_cond.transform(cond_df)\n",
    "cond_encoded = pd.DataFrame(ords_cond.transform(cond_df))\n",
    "cond_encoded\n",
    "\n",
    "x=df[['sqft_living', 'sqft_lot_less_living', 'age_when_sold']]\n",
    "ohe_cols = ['city','waterfront', 'has_basement', 'has_garage', 'has_patio']\n",
    "ohe = OneHotEncoder(drop='first')\n",
    "\n",
    "ohe.fit(df[ohe_cols])\n",
    "ohe_all = pd.DataFrame(ohe.transform(df[ohe_cols]).todense(),\n",
    "                            columns=ohe.get_feature_names())\n",
    "\n",
    "X_cat = pd.concat([x,ohe_all,cond_encoded], axis=1)\n",
    "model = sm.OLS(y, sm.add_constant(X_cat)).fit()\n",
    "\n",
    "s = model.summary()\n",
    "print(\"r sqr:\", model.rsquared)\n",
    "s.tables[2]"
   ]
  },
  {
   "cell_type": "markdown",
   "metadata": {},
   "source": [
    "**Trying a couple more features - Starting from Model A**"
   ]
  },
  {
   "cell_type": "code",
   "execution_count": 161,
   "metadata": {},
   "outputs": [
    {
     "name": "stdout",
     "output_type": "stream",
     "text": [
      "R sqr: 0.6140667984387345\n"
     ]
    },
    {
     "data": {
      "text/html": [
       "<table class=\"simpletable\">\n",
       "<tr>\n",
       "  <th>Omnibus:</th>       <td>1591.014</td> <th>  Durbin-Watson:     </th> <td>   1.989</td>\n",
       "</tr>\n",
       "<tr>\n",
       "  <th>Prob(Omnibus):</th>  <td> 0.000</td>  <th>  Jarque-Bera (JB):  </th> <td>6774.010</td>\n",
       "</tr>\n",
       "<tr>\n",
       "  <th>Skew:</th>           <td> 0.110</td>  <th>  Prob(JB):          </th> <td>    0.00</td>\n",
       "</tr>\n",
       "<tr>\n",
       "  <th>Kurtosis:</th>       <td> 5.468</td>  <th>  Cond. No.          </th> <td>    267.</td>\n",
       "</tr>\n",
       "</table>"
      ],
      "text/plain": [
       "<class 'statsmodels.iolib.table.SimpleTable'>"
      ]
     },
     "execution_count": 161,
     "metadata": {},
     "output_type": "execute_result"
    }
   ],
   "source": [
    "x = df[['sqft_living', 'sqft_lot_less_living', 'age_when_sold']]\n",
    "ohe_cols = ['city','waterfront', 'has_basement', 'has_garage', 'has_patio','was_renovated']\n",
    "\n",
    "ohe = OneHotEncoder(drop='first')\n",
    "ohe.fit(df[ohe_cols])\n",
    "ohe_all = pd.DataFrame(ohe.transform(df[ohe_cols]).todense(),columns=ohe.get_feature_names())\n",
    "X_cat = pd.concat([x,ohe_all], axis=1)\n",
    "model = sm.OLS(y, sm.add_constant(X_cat)).fit()\n",
    "\n",
    "s = model.summary();\n",
    "print(\"R sqr:\", model.rsquared)\n",
    "s.tables[2]"
   ]
  },
  {
   "cell_type": "markdown",
   "metadata": {},
   "source": [
    "**Didn't do much for us.  Try a few more**"
   ]
  },
  {
   "cell_type": "markdown",
   "metadata": {},
   "source": [
    "**Try all new and available nomimal categories**"
   ]
  },
  {
   "cell_type": "code",
   "execution_count": 162,
   "metadata": {
    "scrolled": true
   },
   "outputs": [
    {
     "name": "stdout",
     "output_type": "stream",
     "text": [
      "R sqr: 0.6214558432033553\n"
     ]
    },
    {
     "data": {
      "text/html": [
       "<table class=\"simpletable\">\n",
       "<tr>\n",
       "  <th>Omnibus:</th>       <td>1597.366</td> <th>  Durbin-Watson:     </th> <td>   1.989</td>\n",
       "</tr>\n",
       "<tr>\n",
       "  <th>Prob(Omnibus):</th>  <td> 0.000</td>  <th>  Jarque-Bera (JB):  </th> <td>7039.655</td>\n",
       "</tr>\n",
       "<tr>\n",
       "  <th>Skew:</th>           <td> 0.075</td>  <th>  Prob(JB):          </th> <td>    0.00</td>\n",
       "</tr>\n",
       "<tr>\n",
       "  <th>Kurtosis:</th>       <td> 5.521</td>  <th>  Cond. No.          </th> <td>    269.</td>\n",
       "</tr>\n",
       "</table>"
      ],
      "text/plain": [
       "<class 'statsmodels.iolib.table.SimpleTable'>"
      ]
     },
     "execution_count": 162,
     "metadata": {},
     "output_type": "execute_result"
    }
   ],
   "source": [
    "x = df[['sqft_living', 'sqft_lot_less_living','age_when_sold']]\n",
    "ohe_cols = ['city','waterfront', 'has_basement', 'has_garage', 'has_patio','greenbelt', 'nuisance', 'has_view']\n",
    "\n",
    "ohe = OneHotEncoder(drop='first')\n",
    "ohe.fit(df[ohe_cols])\n",
    "ohe_all = pd.DataFrame(ohe.transform(df[ohe_cols]).todense(),columns=ohe.get_feature_names())\n",
    "X_cat = pd.concat([x,ohe_all], axis=1)\n",
    "model = sm.OLS(y, sm.add_constant(X_cat)).fit()\n",
    "\n",
    "s = model.summary()\n",
    "print(\"R sqr:\", model.rsquared)\n",
    "s.tables[2]"
   ]
  },
  {
   "cell_type": "markdown",
   "metadata": {},
   "source": [
    "**This looks like the best one.**\n",
    "Our R-squared is the highest it's been throughout our new round of models while keeping a condition number well under 1000. Let's check how well this new model adheres to the assumptions of linear regression."
   ]
  },
  {
   "cell_type": "markdown",
   "metadata": {},
   "source": [
    "## Checking Assumptions - New Model"
   ]
  },
  {
   "cell_type": "code",
   "execution_count": 163,
   "metadata": {},
   "outputs": [
    {
     "data": {
      "image/png": "[encoded data removed]",
      "text/plain": [
       "<Figure size 432x432 with 1 Axes>"
      ]
     },
     "metadata": {},
     "output_type": "display_data"
    }
   ],
   "source": [
    "# plotting residuals vs predictions\n",
    "model_preds = model.predict(sm.add_constant(X_cat))\n",
    "resids = y - model_preds\n",
    "\n",
    "fig, ax = plt.subplots(figsize=(6,6))\n",
    "ax.scatter(model_preds, resids)\n",
    "\n",
    "ax.set_xlabel('predicted house prices')\n",
    "ax.set_ylabel('residual')\n",
    "plt.suptitle('Residuals Vs. Predictions');\n"
   ]
  },
  {
   "cell_type": "markdown",
   "metadata": {},
   "source": [
    "From our plot, we can gather that the relationship between our target and our predictors is linear."
   ]
  },
  {
   "cell_type": "markdown",
   "metadata": {},
   "source": [
    "### Checking Assumptions - Independence"
   ]
  },
  {
   "cell_type": "code",
   "execution_count": 164,
   "metadata": {},
   "outputs": [
    {
     "data": {
      "image/png": "[encoded data removed]",
      "text/plain": [
       "<Figure size 864x864 with 1 Axes>"
      ]
     },
     "metadata": {},
     "output_type": "display_data"
    }
   ],
   "source": [
    "# plotting residuals and target value against each other to look for patterns\n",
    "fig, ax = plt.subplots()\n",
    "\n",
    "ax.scatter(y, resids);"
   ]
  },
  {
   "cell_type": "markdown",
   "metadata": {},
   "source": [
    "The upwards trend in this plot suggests a very slight positive correlation in our errors.  \n",
    "We can confirm by looking at the Durbin-Watson test statistic from our model."
   ]
  },
  {
   "cell_type": "code",
   "execution_count": 165,
   "metadata": {},
   "outputs": [
    {
     "data": {
      "text/plain": [
       "1.9885919167316604"
      ]
     },
     "execution_count": 165,
     "metadata": {},
     "output_type": "execute_result"
    }
   ],
   "source": [
    "durbin_watson(model.resid)"
   ]
  },
  {
   "cell_type": "markdown",
   "metadata": {},
   "source": [
    "This confirms the qualitative conclusion we drew from our scatter plot.  \n",
    "Since the test statistic is below 2.0, we know there to be a very slight positive correlation in our errors.  \n",
    "However, since our test statistic is so close to 2.0, we can confidently say that autocorrelation is not a problem for our regression model."
   ]
  },
  {
   "cell_type": "markdown",
   "metadata": {},
   "source": [
    "### Checking Assumptions - Normality"
   ]
  },
  {
   "cell_type": "code",
   "execution_count": 166,
   "metadata": {},
   "outputs": [
    {
     "data": {
      "image/png": "[encoded data removed]",
      "text/plain": [
       "<Figure size 864x864 with 1 Axes>"
      ]
     },
     "metadata": {},
     "output_type": "display_data"
    }
   ],
   "source": [
    "# Making a histogram out of our residuals\n",
    "resids.hist(bins=int(np.sqrt(len(resids))));"
   ]
  },
  {
   "cell_type": "markdown",
   "metadata": {},
   "source": [
    "Upon first glance at our histogram of residuals, our errors appear to be normally distributed."
   ]
  },
  {
   "cell_type": "code",
   "execution_count": 81,
   "metadata": {},
   "outputs": [
    {
     "data": {
      "image/png": "[encoded data removed]",
      "text/plain": [
       "<Figure size 432x288 with 1 Axes>"
      ]
     },
     "metadata": {
      "needs_background": "light"
     },
     "output_type": "display_data"
    }
   ],
   "source": [
    "# Making a qqplot out of our residuals to further investigate\n",
    "sm.qqplot(resids, line='r');"
   ]
  },
  {
   "cell_type": "markdown",
   "metadata": {},
   "source": [
    "With normally distributed errors, our plot should follow the diagonal line closely.  \n",
    "Instead, we see some fairly significant divergences at the extremes. This suggests that our errors may not follow a normal distribution. That said, it is worth noting that divergences from the diagonal line are less extreme than the last time we tested our assumptions in our previous model."
   ]
  },
  {
   "cell_type": "code",
   "execution_count": 167,
   "metadata": {},
   "outputs": [
    {
     "data": {
      "text/plain": [
       "Jarque_beraResult(statistic=7039.654966167089, pvalue=0.0)"
      ]
     },
     "execution_count": 167,
     "metadata": {},
     "output_type": "execute_result"
    }
   ],
   "source": [
    "# For more quantitative assessment of error distribution, we turn to the Jarque-Bera test:\n",
    "jarque_bera(resids)"
   ]
  },
  {
   "cell_type": "markdown",
   "metadata": {},
   "source": [
    "Based on the large magnitude of our test statistic and a P-value smaller than an alpha of 0.05, we must still reject the null hypothesis that our errors are normally distributed."
   ]
  },
  {
   "cell_type": "markdown",
   "metadata": {},
   "source": [
    "Given more time, we may have to make individual histograms for each of our many variables to see their distribution, and possibly transform them in some way or use polynomial features. Unfortunately, this is outside the scope of our current project due to time constraints, and will need further investigation to address our issues with normality of errors."
   ]
  },
  {
   "cell_type": "markdown",
   "metadata": {},
   "source": [
    "### Checking Assumptions - Homoscedasticity"
   ]
  },
  {
   "cell_type": "code",
   "execution_count": 168,
   "metadata": {},
   "outputs": [
    {
     "data": {
      "image/png": "[encoded data removed]",
      "text/plain": [
       "<Figure size 864x864 with 1 Axes>"
      ]
     },
     "metadata": {},
     "output_type": "display_data"
    }
   ],
   "source": [
    "# We reproduce the plot from above, when we checked for independence of errors:\n",
    "\n",
    "fig, ax = plt.subplots()\n",
    "\n",
    "ax.scatter(y, resids);"
   ]
  },
  {
   "cell_type": "markdown",
   "metadata": {},
   "source": [
    "At first glance, our errors appear to have similar variances. This is to say, the spread of our errors does not appear to vary much as our target increases. If anything, the spread may constrain slightly as our target increases, denoted by the larger presence of outliers around the smallest values of our target."
   ]
  },
  {
   "cell_type": "code",
   "execution_count": 84,
   "metadata": {},
   "outputs": [
    {
     "data": {
      "text/plain": [
       "(0.9874786620366286, 0.7351101602688859, 'increasing')"
      ]
     },
     "execution_count": 84,
     "metadata": {},
     "output_type": "execute_result"
    }
   ],
   "source": [
    "# For a more quantitative assessment of homoscedasticity, we employ the Goldfeld-Quant test:\n",
    "sm.stats.diagnostic.het_goldfeldquandt(y,sm.add_constant(X_cat),drop=0.2)\n",
    "# We chose to remove 20% of our total observations for the test, a common-practice proportion\n",
    "# according to multiple online resources that were consulted."
   ]
  },
  {
   "cell_type": "markdown",
   "metadata": {},
   "source": [
    "The Goldfeld-Quant test has a null hypothesis that homoscedasticity is present in our errors. Since the p-value for our test is greater than an alpha of 0.05, we fail to reject the null hypothesis and cannot gather that heteroscedasticity is a problem with our model."
   ]
  },
  {
   "cell_type": "code",
   "execution_count": 85,
   "metadata": {},
   "outputs": [
    {
     "data": {
      "text/plain": [
       "[('Lagrange multiplier statistic', 2279.3581669918062),\n",
       " ('p-value', 0.0),\n",
       " ('f-value', 54.12149284620623),\n",
       " ('f p-value', 0.0)]"
      ]
     },
     "execution_count": 85,
     "metadata": {},
     "output_type": "execute_result"
    }
   ],
   "source": [
    "# Turning to the Breusch-Pagan test for a second opinion on whether our data is homoscedastic:\n",
    "names = ['Lagrange multiplier statistic', 'p-value',\n",
    "         'f-value', 'f p-value']\n",
    "bp_test_result = sm.stats.diagnostic.het_breuschpagan(model.resid, model.model.exog)\n",
    "lzip(names, bp_test_result)"
   ]
  },
  {
   "cell_type": "markdown",
   "metadata": {},
   "source": [
    "Since our p-value is smaller than our alpha of 0.05 and our test statistic is quite high for our number of predictors, we must reject the null hypothesis and conclude that there is some evidence to suggest that our errors are heteroscedastic. "
   ]
  },
  {
   "cell_type": "markdown",
   "metadata": {},
   "source": [
    "A possible solution would be to try transforming our target variable in some other way to make it more closely follow a normal distribution. Due to time constraints, this will not be possible in the present study."
   ]
  },
  {
   "cell_type": "markdown",
   "metadata": {},
   "source": [
    "### Checking Assumptions - Independence of Predictors (No Multicollinearity)"
   ]
  },
  {
   "cell_type": "code",
   "execution_count": 88,
   "metadata": {},
   "outputs": [
    {
     "data": {
      "text/plain": [
       "269.39234338796416"
      ]
     },
     "execution_count": 88,
     "metadata": {},
     "output_type": "execute_result"
    }
   ],
   "source": [
    "# Pulling out our model's condition number to tease out multicollinearity:\n",
    "model.condition_number"
   ]
  },
  {
   "cell_type": "markdown",
   "metadata": {},
   "source": [
    "Here we see a significant improvement over the previous iteration of our model, starting from the old baseline. Our current model's condition number is well below the generally-accepted 'danger zone' of 1000, suggesting that we eliminated any issues with multicollinearity in our model and that our predictors are sufficiently independent from one another."
   ]
  },
  {
   "cell_type": "markdown",
   "metadata": {},
   "source": [
    "# Answering Business Question / Results\n",
    "Our initial goal was to tease out the features in our dataset that have the highest bearing on price, so as to provide our house-flipping clients information on how to turn the most profit."
   ]
  },
  {
   "cell_type": "markdown",
   "metadata": {},
   "source": [
    "### Cheapest Cities"
   ]
  },
  {
   "cell_type": "markdown",
   "metadata": {},
   "source": [
    "Upon analysis of our predictor coefficients, we found that city where a house is located has a significant bearing on the price a house will sell for. Knowing that our clients will want to buy cheap in order to minimize property taxes before selling, we were able to ascertain which 5 cities had the highest impact on keeping house price low. In terms of our model, we found the 5 cities with the smallest relative coefficients, meaning that they increased price the *least*. "
   ]
  },
  {
   "cell_type": "markdown",
   "metadata": {},
   "source": [
    "##### Try to buy in the following cities for lowest cost:\n",
    "1. Skyomish\n",
    "2. Algona\n",
    "3. Federal Way\n",
    "4. Enumclaw\n",
    "5. Auburn"
   ]
  },
  {
   "cell_type": "markdown",
   "metadata": {},
   "source": [
    "We can plot the average prices of houses in these cities on a bar graph and compare them to the mean house price from our dataset (filtering for outliers), in order to graphically demonstrate this."
   ]
  },
  {
   "cell_type": "code",
   "execution_count": 92,
   "metadata": {},
   "outputs": [],
   "source": [
    "cheap_cities = ['Skykomish', 'Algona', 'Federal Way', 'Enumclaw', 'Auburn']"
   ]
  },
  {
   "cell_type": "code",
   "execution_count": 93,
   "metadata": {},
   "outputs": [],
   "source": [
    "df['cheap_city'] = df['city'].map(mapping_is_cheap_city)"
   ]
  },
  {
   "cell_type": "code",
   "execution_count": 94,
   "metadata": {},
   "outputs": [
    {
     "data": {
      "text/plain": [
       "Auburn         1500\n",
       "Federal Way    1150\n",
       "Enumclaw        450\n",
       "Algona           50\n",
       "Skykomish        16\n",
       "Name: city, dtype: int64"
      ]
     },
     "execution_count": 94,
     "metadata": {},
     "output_type": "execute_result"
    }
   ],
   "source": [
    "df_cheap = df.loc[df['cheap_city'] == True].reset_index(drop=True)\n",
    "df_cheap['mean_price'] = df['price'].mean()\n",
    "df_cheap.city.value_counts()"
   ]
  },
  {
   "cell_type": "code",
   "execution_count": 95,
   "metadata": {},
   "outputs": [
    {
     "data": {
      "text/plain": [
       "<AxesSubplot:xlabel='city', ylabel='price'>"
      ]
     },
     "execution_count": 95,
     "metadata": {},
     "output_type": "execute_result"
    },
    {
     "data": {
      "image/png": "[encoded data removed]",
      "text/plain": [
       "<Figure size 432x288 with 1 Axes>"
      ]
     },
     "metadata": {
      "needs_background": "light"
     },
     "output_type": "display_data"
    }
   ],
   "source": [
    "sns.barplot(data=df_cheap, x='city', y='price')"
   ]
  },
  {
   "cell_type": "markdown",
   "metadata": {},
   "source": [
    "From our bar graph, we can see that all 5 of these cities have an average house price around or significantly under 600,000 dollars. Comparing this to the mean house price for all cities of over 900,000 dollars, we can see how much cheaper buying a house in any one of these cities would be relative to the mean."
   ]
  },
  {
   "cell_type": "code",
   "execution_count": 97,
   "metadata": {},
   "outputs": [
    {
     "data": {
      "text/plain": [
       "928346.8370652872"
      ]
     },
     "execution_count": 97,
     "metadata": {},
     "output_type": "execute_result"
    }
   ],
   "source": [
    "df['price'].mean() # Mean house price for all cities"
   ]
  },
  {
   "cell_type": "markdown",
   "metadata": {},
   "source": [
    "Taking another look at our model summary, we decide to look at the coefficients for our features we think would be easiest for a homeowner to add or adjust. Since garage and patio are both external structures that would be relatively easy for a homeowner to incorporate to their property, we take a look to see if their addition would significantly affect price according to our model. Below are our findings:"
   ]
  },
  {
   "cell_type": "markdown",
   "metadata": {},
   "source": [
    "### Garage (x3)"
   ]
  },
  {
   "cell_type": "markdown",
   "metadata": {},
   "source": [
    "According to our model, we are 95% confident that adding a garage will increase value by between 38,000 dollars and 54,000 dollars so to have the highest likelihood of turning a profit, if you can add a garage for under 38,000 dollars, then we believe you should. "
   ]
  },
  {
   "cell_type": "markdown",
   "metadata": {},
   "source": [
    "### Patio (x4)"
   ]
  },
  {
   "cell_type": "markdown",
   "metadata": {},
   "source": [
    "According to our model, we are 95% confident that adding a patio will increase value by between approximately 18,000 dollars and 33,000 dollars, so to have the highest likelihood of turning a profit, if you can add a patio for under 18,000 dollars, then we believe you should."
   ]
  }
 ],
 "metadata": {
  "kernelspec": {
   "display_name": "Python (learn-env)",
   "language": "python",
   "name": "learn-env"
  },
  "language_info": {
   "codemirror_mode": {
    "name": "ipython",
    "version": 3
   },
   "file_extension": ".py",
   "mimetype": "text/x-python",
   "name": "python",
   "nbconvert_exporter": "python",
   "pygments_lexer": "ipython3",
   "version": "3.8.5"
  }
 },
 "nbformat": 4,
 "nbformat_minor": 4
}
