{
 "cells": [
  {
   "cell_type": "markdown",
   "metadata": {},
   "source": [
    "## From our current EDA file - no need to add"
   ]
  },
  {
   "cell_type": "code",
   "execution_count": 1,
   "metadata": {},
   "outputs": [],
   "source": [
    "import pandas as pd\n",
    "import numpy as np\n",
    "from matplotlib import pyplot as plt\n",
    "%matplotlib inline\n",
    "from scipy import stats as stats\n",
    "import seaborn as sns\n",
    "from sklearn.preprocessing import StandardScaler, OneHotEncoder, OrdinalEncoder\n",
    "from sklearn.datasets import make_regression\n",
    "from sklearn.linear_model import LinearRegression\n",
    "import sklearn.metrics as metrics\n",
    "import statsmodels.api as sm\n",
    "\n",
    "def drop_outliers(df, col):\n",
    "    q1 = df[col].quantile(.25)\n",
    "    q3 = df[col].quantile(.75)\n",
    "    iqr = q3 - q1\n",
    "\n",
    "    lower_lim = q1 - 1.5 * iqr\n",
    "    upper_lim = q3 + 1.5 * iqr\n",
    "\n",
    "    df = df.loc[ (df[col] >= lower_lim) & (df[col] <= upper_lim) ].reset_index(drop=True)\n",
    "    return df\n",
    "\n",
    "def scale_numberical_cols(df, cols_to_scale):\n",
    "    df = df.copy()\n",
    "    features = cols_to_scale\n",
    "    autoscaler = StandardScaler()\n",
    "    df[features] = autoscaler.fit_transform(df[features])\n",
    "    return df"
   ]
  },
  {
   "cell_type": "markdown",
   "metadata": {},
   "source": [
    "## Add in below"
   ]
  },
  {
   "cell_type": "markdown",
   "metadata": {},
   "source": [
    "### EDA - Baseline OLS Model - v2 \n",
    "#### Trying a new baseline model to get better model statistics.\n",
    "- Just sqrt_foot living vs target of price"
   ]
  },
  {
   "cell_type": "code",
   "execution_count": 2,
   "metadata": {
    "scrolled": true
   },
   "outputs": [
    {
     "data": {
      "text/html": [
       "<table class=\"simpletable\">\n",
       "<caption>OLS Regression Results</caption>\n",
       "<tr>\n",
       "  <th>Dep. Variable:</th>          <td>price</td>      <th>  R-squared:         </th>  <td>   0.370</td>  \n",
       "</tr>\n",
       "<tr>\n",
       "  <th>Model:</th>                   <td>OLS</td>       <th>  Adj. R-squared:    </th>  <td>   0.370</td>  \n",
       "</tr>\n",
       "<tr>\n",
       "  <th>Method:</th>             <td>Least Squares</td>  <th>  F-statistic:       </th>  <td>1.773e+04</td> \n",
       "</tr>\n",
       "<tr>\n",
       "  <th>Date:</th>             <td>Wed, 07 Dec 2022</td> <th>  Prob (F-statistic):</th>   <td>  0.00</td>   \n",
       "</tr>\n",
       "<tr>\n",
       "  <th>Time:</th>                 <td>23:47:20</td>     <th>  Log-Likelihood:    </th> <td>-4.4912e+05</td>\n",
       "</tr>\n",
       "<tr>\n",
       "  <th>No. Observations:</th>      <td> 30155</td>      <th>  AIC:               </th>  <td>8.982e+05</td> \n",
       "</tr>\n",
       "<tr>\n",
       "  <th>Df Residuals:</th>          <td> 30153</td>      <th>  BIC:               </th>  <td>8.983e+05</td> \n",
       "</tr>\n",
       "<tr>\n",
       "  <th>Df Model:</th>              <td>     1</td>      <th>                     </th>      <td> </td>     \n",
       "</tr>\n",
       "<tr>\n",
       "  <th>Covariance Type:</th>      <td>nonrobust</td>    <th>                     </th>      <td> </td>     \n",
       "</tr>\n",
       "</table>\n",
       "<table class=\"simpletable\">\n",
       "<tr>\n",
       "       <td></td>          <th>coef</th>     <th>std err</th>      <th>t</th>      <th>P>|t|</th>  <th>[0.025</th>    <th>0.975]</th>  \n",
       "</tr>\n",
       "<tr>\n",
       "  <th>const</th>       <td>-7.443e+04</td> <td> 9782.728</td> <td>   -7.609</td> <td> 0.000</td> <td>-9.36e+04</td> <td>-5.53e+04</td>\n",
       "</tr>\n",
       "<tr>\n",
       "  <th>sqft_living</th> <td>  560.0050</td> <td>    4.206</td> <td>  133.160</td> <td> 0.000</td> <td>  551.762</td> <td>  568.248</td>\n",
       "</tr>\n",
       "</table>\n",
       "<table class=\"simpletable\">\n",
       "<tr>\n",
       "  <th>Omnibus:</th>       <td>43429.367</td> <th>  Durbin-Watson:     </th>   <td>   1.862</td>  \n",
       "</tr>\n",
       "<tr>\n",
       "  <th>Prob(Omnibus):</th>  <td> 0.000</td>   <th>  Jarque-Bera (JB):  </th> <td>47159181.471</td>\n",
       "</tr>\n",
       "<tr>\n",
       "  <th>Skew:</th>           <td> 8.188</td>   <th>  Prob(JB):          </th>   <td>    0.00</td>  \n",
       "</tr>\n",
       "<tr>\n",
       "  <th>Kurtosis:</th>       <td>196.042</td>  <th>  Cond. No.          </th>   <td>5.56e+03</td>  \n",
       "</tr>\n",
       "</table><br/><br/>Notes:<br/>[1] Standard Errors assume that the covariance matrix of the errors is correctly specified.<br/>[2] The condition number is large, 5.56e+03. This might indicate that there are<br/>strong multicollinearity or other numerical problems."
      ],
      "text/plain": [
       "<class 'statsmodels.iolib.summary.Summary'>\n",
       "\"\"\"\n",
       "                            OLS Regression Results                            \n",
       "==============================================================================\n",
       "Dep. Variable:                  price   R-squared:                       0.370\n",
       "Model:                            OLS   Adj. R-squared:                  0.370\n",
       "Method:                 Least Squares   F-statistic:                 1.773e+04\n",
       "Date:                Wed, 07 Dec 2022   Prob (F-statistic):               0.00\n",
       "Time:                        23:47:20   Log-Likelihood:            -4.4912e+05\n",
       "No. Observations:               30155   AIC:                         8.982e+05\n",
       "Df Residuals:                   30153   BIC:                         8.983e+05\n",
       "Df Model:                           1                                         \n",
       "Covariance Type:            nonrobust                                         \n",
       "===============================================================================\n",
       "                  coef    std err          t      P>|t|      [0.025      0.975]\n",
       "-------------------------------------------------------------------------------\n",
       "const       -7.443e+04   9782.728     -7.609      0.000   -9.36e+04   -5.53e+04\n",
       "sqft_living   560.0050      4.206    133.160      0.000     551.762     568.248\n",
       "==============================================================================\n",
       "Omnibus:                    43429.367   Durbin-Watson:                   1.862\n",
       "Prob(Omnibus):                  0.000   Jarque-Bera (JB):         47159181.471\n",
       "Skew:                           8.188   Prob(JB):                         0.00\n",
       "Kurtosis:                     196.042   Cond. No.                     5.56e+03\n",
       "==============================================================================\n",
       "\n",
       "Notes:\n",
       "[1] Standard Errors assume that the covariance matrix of the errors is correctly specified.\n",
       "[2] The condition number is large, 5.56e+03. This might indicate that there are\n",
       "strong multicollinearity or other numerical problems.\n",
       "\"\"\""
      ]
     },
     "execution_count": 2,
     "metadata": {},
     "output_type": "execute_result"
    }
   ],
   "source": [
    "df = pd.read_csv('data/kc_house_data.csv')\n",
    "\n",
    "x = sm.add_constant(df[['sqft_living']])\n",
    "y = df['price']\n",
    "model = sm.OLS(y, x).fit()\n",
    "model.summary()"
   ]
  },
  {
   "cell_type": "markdown",
   "metadata": {},
   "source": [
    "**Trying to see if address helps us**"
   ]
  },
  {
   "cell_type": "code",
   "execution_count": 3,
   "metadata": {},
   "outputs": [
    {
     "data": {
      "text/plain": [
       "'2102 Southeast 21st Court, Renton, Washington 98055, United States'"
      ]
     },
     "execution_count": 3,
     "metadata": {},
     "output_type": "execute_result"
    }
   ],
   "source": [
    "df['address'][0]"
   ]
  },
  {
   "cell_type": "markdown",
   "metadata": {},
   "source": [
    "**Add in some new mapper functions to parse out some df columns**"
   ]
  },
  {
   "cell_type": "code",
   "execution_count": 4,
   "metadata": {},
   "outputs": [],
   "source": [
    "# New Mapper functions for changing df values\n",
    "def mapping_addressStreet(row):\n",
    "    row = row.split(\",\")[0]\n",
    "    row = row.split(\" \")\n",
    "    row = \" \".join(row[1:])\n",
    "    return row \n",
    "\n",
    "def mapping_addressCity(row):\n",
    "    row = row.split(\",\")[-3].strip()\n",
    "    return row \n",
    "    \n",
    "def mapping_hasX(row):\n",
    "    if row == 0:\n",
    "        row = 0\n",
    "    else:\n",
    "        row = 1\n",
    "    return row"
   ]
  },
  {
   "cell_type": "code",
   "execution_count": 5,
   "metadata": {
    "scrolled": true
   },
   "outputs": [
    {
     "name": "stdout",
     "output_type": "stream",
     "text": [
      "r sqr: 0.29808815794081\n"
     ]
    },
    {
     "data": {
      "text/html": [
       "<table class=\"simpletable\">\n",
       "<tr>\n",
       "  <th>Omnibus:</th>       <td>1234.082</td> <th>  Durbin-Watson:     </th> <td>   2.006</td>\n",
       "</tr>\n",
       "<tr>\n",
       "  <th>Prob(Omnibus):</th>  <td> 0.000</td>  <th>  Jarque-Bera (JB):  </th> <td>1454.890</td>\n",
       "</tr>\n",
       "<tr>\n",
       "  <th>Skew:</th>           <td> 0.505</td>  <th>  Prob(JB):          </th> <td>    0.00</td>\n",
       "</tr>\n",
       "<tr>\n",
       "  <th>Kurtosis:</th>       <td> 3.493</td>  <th>  Cond. No.          </th> <td>    1.00</td>\n",
       "</tr>\n",
       "</table>"
      ],
      "text/plain": [
       "<class 'statsmodels.iolib.table.SimpleTable'>"
      ]
     },
     "execution_count": 5,
     "metadata": {},
     "output_type": "execute_result"
    }
   ],
   "source": [
    "# lets start from new baseline and play around with some new ideas on features \n",
    "\n",
    "df = drop_outliers(df, 'sqft_living').reset_index(drop=True)\n",
    "df = drop_outliers(df, 'price').reset_index(drop=True)\n",
    "df = df.dropna().reset_index(drop=True)\n",
    "\n",
    "\n",
    "df['date_year'] = df['date'].apply(pd.to_datetime)\n",
    "df['date_year'] = df['date_year'].dt.year\n",
    "df['date_year']\n",
    "df['age_when_sold'] = df['date_year'] - df['yr_built']\n",
    "df['age_when_sold']\n",
    "\n",
    "# Continuous numbers\n",
    "#df['sqft_living']\n",
    "df['sqft_lot_less_living'] = df['sqft_lot'] - (df['sqft_living']/df['floors'])\n",
    "\n",
    "# Nominal categories\n",
    "df['zipcode'] = df.address.str[-20:-15]\n",
    "df['has_garage'] = df['sqft_garage'].map(mapping_hasX)\n",
    "df['has_patio'] = df['sqft_patio'].map(mapping_hasX)\n",
    "df['has_basement'] = df['sqft_basement'].map(mapping_hasX)\n",
    "df['was_renovated'] = df['yr_renovated'].map(mapping_hasX)\n",
    "\n",
    "df['waterfront']\n",
    "df['street'] = df['address'].map(mapping_addressStreet)\n",
    "df['city'] = df['address'].map(mapping_addressCity)\n",
    "\n",
    "# Ordinal categories\n",
    "df['grade']\n",
    "\n",
    "# Scale the continous number features\n",
    "df = scale_numberical_cols(df, ['sqft_living', 'age_when_sold', 'sqft_lot_less_living'])\n",
    "\n",
    "# Baseline\n",
    "x = sm.add_constant(df[['sqft_living']])\n",
    "y = df['price']\n",
    "model = sm.OLS(y, x).fit()\n",
    "\n",
    "s = model.summary()\n",
    "print(\"r sqr:\", model.rsquared)\n",
    "s.tables[2]"
   ]
  },
  {
   "cell_type": "markdown",
   "metadata": {},
   "source": [
    "**Check out the new features**"
   ]
  },
  {
   "cell_type": "code",
   "execution_count": 6,
   "metadata": {},
   "outputs": [
    {
     "data": {
      "text/html": [
       "<div>\n",
       "<style scoped>\n",
       "    .dataframe tbody tr th:only-of-type {\n",
       "        vertical-align: middle;\n",
       "    }\n",
       "\n",
       "    .dataframe tbody tr th {\n",
       "        vertical-align: top;\n",
       "    }\n",
       "\n",
       "    .dataframe thead th {\n",
       "        text-align: right;\n",
       "    }\n",
       "</style>\n",
       "<table border=\"1\" class=\"dataframe\">\n",
       "  <thead>\n",
       "    <tr style=\"text-align: right;\">\n",
       "      <th></th>\n",
       "      <th>id</th>\n",
       "      <th>date</th>\n",
       "      <th>price</th>\n",
       "      <th>bedrooms</th>\n",
       "      <th>bathrooms</th>\n",
       "      <th>sqft_living</th>\n",
       "      <th>sqft_lot</th>\n",
       "      <th>floors</th>\n",
       "      <th>waterfront</th>\n",
       "      <th>greenbelt</th>\n",
       "      <th>...</th>\n",
       "      <th>date_year</th>\n",
       "      <th>age_when_sold</th>\n",
       "      <th>sqft_lot_less_living</th>\n",
       "      <th>zipcode</th>\n",
       "      <th>has_garage</th>\n",
       "      <th>has_patio</th>\n",
       "      <th>has_basement</th>\n",
       "      <th>was_renovated</th>\n",
       "      <th>street</th>\n",
       "      <th>city</th>\n",
       "    </tr>\n",
       "  </thead>\n",
       "  <tbody>\n",
       "    <tr>\n",
       "      <th>0</th>\n",
       "      <td>7399300360</td>\n",
       "      <td>5/24/2022</td>\n",
       "      <td>675000.0</td>\n",
       "      <td>4</td>\n",
       "      <td>1.0</td>\n",
       "      <td>-1.031441</td>\n",
       "      <td>7140</td>\n",
       "      <td>1.0</td>\n",
       "      <td>NO</td>\n",
       "      <td>NO</td>\n",
       "      <td>...</td>\n",
       "      <td>2022</td>\n",
       "      <td>0.184379</td>\n",
       "      <td>-0.147410</td>\n",
       "      <td>98055</td>\n",
       "      <td>0</td>\n",
       "      <td>1</td>\n",
       "      <td>0</td>\n",
       "      <td>0</td>\n",
       "      <td>Southeast 21st Court</td>\n",
       "      <td>Renton</td>\n",
       "    </tr>\n",
       "    <tr>\n",
       "      <th>1</th>\n",
       "      <td>8910500230</td>\n",
       "      <td>12/13/2021</td>\n",
       "      <td>920000.0</td>\n",
       "      <td>5</td>\n",
       "      <td>2.5</td>\n",
       "      <td>1.074642</td>\n",
       "      <td>6703</td>\n",
       "      <td>1.0</td>\n",
       "      <td>NO</td>\n",
       "      <td>NO</td>\n",
       "      <td>...</td>\n",
       "      <td>2021</td>\n",
       "      <td>0.748342</td>\n",
       "      <td>-0.186239</td>\n",
       "      <td>98133</td>\n",
       "      <td>0</td>\n",
       "      <td>1</td>\n",
       "      <td>1</td>\n",
       "      <td>0</td>\n",
       "      <td>Greenwood Avenue North</td>\n",
       "      <td>Seattle</td>\n",
       "    </tr>\n",
       "    <tr>\n",
       "      <th>2</th>\n",
       "      <td>1180000275</td>\n",
       "      <td>9/29/2021</td>\n",
       "      <td>311000.0</td>\n",
       "      <td>6</td>\n",
       "      <td>2.0</td>\n",
       "      <td>1.220346</td>\n",
       "      <td>6156</td>\n",
       "      <td>1.0</td>\n",
       "      <td>NO</td>\n",
       "      <td>NO</td>\n",
       "      <td>...</td>\n",
       "      <td>2021</td>\n",
       "      <td>0.560354</td>\n",
       "      <td>-0.198824</td>\n",
       "      <td>98178</td>\n",
       "      <td>0</td>\n",
       "      <td>0</td>\n",
       "      <td>1</td>\n",
       "      <td>0</td>\n",
       "      <td>South 113th Street</td>\n",
       "      <td>Seattle</td>\n",
       "    </tr>\n",
       "    <tr>\n",
       "      <th>3</th>\n",
       "      <td>1604601802</td>\n",
       "      <td>12/14/2021</td>\n",
       "      <td>775000.0</td>\n",
       "      <td>3</td>\n",
       "      <td>3.0</td>\n",
       "      <td>0.266648</td>\n",
       "      <td>1400</td>\n",
       "      <td>2.0</td>\n",
       "      <td>NO</td>\n",
       "      <td>NO</td>\n",
       "      <td>...</td>\n",
       "      <td>2021</td>\n",
       "      <td>-1.131536</td>\n",
       "      <td>-0.255448</td>\n",
       "      <td>98118</td>\n",
       "      <td>1</td>\n",
       "      <td>1</td>\n",
       "      <td>1</td>\n",
       "      <td>0</td>\n",
       "      <td>Letitia Avenue South</td>\n",
       "      <td>Seattle</td>\n",
       "    </tr>\n",
       "    <tr>\n",
       "      <th>4</th>\n",
       "      <td>8562780790</td>\n",
       "      <td>8/24/2021</td>\n",
       "      <td>592500.0</td>\n",
       "      <td>2</td>\n",
       "      <td>2.0</td>\n",
       "      <td>-1.110916</td>\n",
       "      <td>758</td>\n",
       "      <td>2.0</td>\n",
       "      <td>NO</td>\n",
       "      <td>NO</td>\n",
       "      <td>...</td>\n",
       "      <td>2021</td>\n",
       "      <td>-1.194199</td>\n",
       "      <td>-0.257785</td>\n",
       "      <td>98027</td>\n",
       "      <td>1</td>\n",
       "      <td>1</td>\n",
       "      <td>1</td>\n",
       "      <td>0</td>\n",
       "      <td>Northwest Talus Drive</td>\n",
       "      <td>Issaquah</td>\n",
       "    </tr>\n",
       "  </tbody>\n",
       "</table>\n",
       "<p>5 rows × 35 columns</p>\n",
       "</div>"
      ],
      "text/plain": [
       "           id        date     price  bedrooms  bathrooms  sqft_living  \\\n",
       "0  7399300360   5/24/2022  675000.0         4        1.0    -1.031441   \n",
       "1  8910500230  12/13/2021  920000.0         5        2.5     1.074642   \n",
       "2  1180000275   9/29/2021  311000.0         6        2.0     1.220346   \n",
       "3  1604601802  12/14/2021  775000.0         3        3.0     0.266648   \n",
       "4  8562780790   8/24/2021  592500.0         2        2.0    -1.110916   \n",
       "\n",
       "   sqft_lot  floors waterfront greenbelt  ... date_year age_when_sold  \\\n",
       "0      7140     1.0         NO        NO  ...      2022      0.184379   \n",
       "1      6703     1.0         NO        NO  ...      2021      0.748342   \n",
       "2      6156     1.0         NO        NO  ...      2021      0.560354   \n",
       "3      1400     2.0         NO        NO  ...      2021     -1.131536   \n",
       "4       758     2.0         NO        NO  ...      2021     -1.194199   \n",
       "\n",
       "  sqft_lot_less_living zipcode has_garage has_patio  has_basement  \\\n",
       "0            -0.147410   98055          0         1             0   \n",
       "1            -0.186239   98133          0         1             1   \n",
       "2            -0.198824   98178          0         0             1   \n",
       "3            -0.255448   98118          1         1             1   \n",
       "4            -0.257785   98027          1         1             1   \n",
       "\n",
       "   was_renovated                  street      city  \n",
       "0              0    Southeast 21st Court    Renton  \n",
       "1              0  Greenwood Avenue North   Seattle  \n",
       "2              0      South 113th Street   Seattle  \n",
       "3              0    Letitia Avenue South   Seattle  \n",
       "4              0   Northwest Talus Drive  Issaquah  \n",
       "\n",
       "[5 rows x 35 columns]"
      ]
     },
     "execution_count": 6,
     "metadata": {},
     "output_type": "execute_result"
    }
   ],
   "source": [
    "df.head()"
   ]
  },
  {
   "cell_type": "markdown",
   "metadata": {},
   "source": [
    "**Make sure target is normalized after scaling**"
   ]
  },
  {
   "cell_type": "code",
   "execution_count": 7,
   "metadata": {},
   "outputs": [
    {
     "data": {
      "text/plain": [
       "<AxesSubplot:xlabel='price', ylabel='Count'>"
      ]
     },
     "execution_count": 7,
     "metadata": {},
     "output_type": "execute_result"
    },
    {
     "data": {
      "image/png": "[encoded data removed]",
      "text/plain": [
       "<Figure size 576x576 with 1 Axes>"
      ]
     },
     "metadata": {
      "needs_background": "light"
     },
     "output_type": "display_data"
    }
   ],
   "source": [
    "fig, ax = plt.subplots(figsize=(8,8))\n",
    "sns.histplot(df.price, kde=True)"
   ]
  },
  {
   "cell_type": "markdown",
   "metadata": {},
   "source": [
    "**Add in new feature 'sqft_lot_less_living', see what it does**"
   ]
  },
  {
   "cell_type": "code",
   "execution_count": 8,
   "metadata": {
    "scrolled": true
   },
   "outputs": [
    {
     "name": "stdout",
     "output_type": "stream",
     "text": [
      "r sqr: 0.29833311693695685\n"
     ]
    },
    {
     "data": {
      "text/html": [
       "<table class=\"simpletable\">\n",
       "<tr>\n",
       "  <th>Omnibus:</th>       <td>1223.273</td> <th>  Durbin-Watson:     </th> <td>   2.006</td>\n",
       "</tr>\n",
       "<tr>\n",
       "  <th>Prob(Omnibus):</th>  <td> 0.000</td>  <th>  Jarque-Bera (JB):  </th> <td>1439.380</td>\n",
       "</tr>\n",
       "<tr>\n",
       "  <th>Skew:</th>           <td> 0.503</td>  <th>  Prob(JB):          </th> <td>    0.00</td>\n",
       "</tr>\n",
       "<tr>\n",
       "  <th>Kurtosis:</th>       <td> 3.487</td>  <th>  Cond. No.          </th> <td>    1.09</td>\n",
       "</tr>\n",
       "</table>"
      ],
      "text/plain": [
       "<class 'statsmodels.iolib.table.SimpleTable'>"
      ]
     },
     "execution_count": 8,
     "metadata": {},
     "output_type": "execute_result"
    }
   ],
   "source": [
    "x = sm.add_constant(df[['sqft_living','sqft_lot_less_living']])    \n",
    "y = df['price']\n",
    "model = sm.OLS(y, x).fit()\n",
    "\n",
    "s = model.summary()\n",
    "print(\"r sqr:\", model.rsquared)\n",
    "s.tables[2]"
   ]
  },
  {
   "cell_type": "markdown",
   "metadata": {},
   "source": [
    "**sqft lot helps jarque bera a tiny amount**\n",
    "\n",
    "**Layer in 'age_when_sold' feature**"
   ]
  },
  {
   "cell_type": "code",
   "execution_count": 9,
   "metadata": {},
   "outputs": [
    {
     "name": "stdout",
     "output_type": "stream",
     "text": [
      "r sqr: 0.3084343543426953\n"
     ]
    },
    {
     "data": {
      "text/html": [
       "<table class=\"simpletable\">\n",
       "<tr>\n",
       "  <th>Omnibus:</th>       <td>1083.525</td> <th>  Durbin-Watson:     </th> <td>   2.003</td> \n",
       "</tr>\n",
       "<tr>\n",
       "  <th>Prob(Omnibus):</th>  <td> 0.000</td>  <th>  Jarque-Bera (JB):  </th> <td>1279.411</td> \n",
       "</tr>\n",
       "<tr>\n",
       "  <th>Skew:</th>           <td> 0.460</td>  <th>  Prob(JB):          </th> <td>1.51e-278</td>\n",
       "</tr>\n",
       "<tr>\n",
       "  <th>Kurtosis:</th>       <td> 3.514</td>  <th>  Cond. No.          </th> <td>    1.37</td> \n",
       "</tr>\n",
       "</table>"
      ],
      "text/plain": [
       "<class 'statsmodels.iolib.table.SimpleTable'>"
      ]
     },
     "execution_count": 9,
     "metadata": {},
     "output_type": "execute_result"
    }
   ],
   "source": [
    "x = sm.add_constant(df[['sqft_living','sqft_lot_less_living', 'age_when_sold']])    \n",
    "y = df['price']\n",
    "model = sm.OLS(y, x).fit()\n",
    "\n",
    "s = model.summary()\n",
    "print(\"r sqr:\", model.rsquared)\n",
    "s.tables[2]\n"
   ]
  },
  {
   "cell_type": "markdown",
   "metadata": {},
   "source": [
    "**age_when_sold brings down Jarque-bera and omnibus**\n",
    "\n",
    "**Try out new nominal categorical features using one hot encoder**"
   ]
  },
  {
   "cell_type": "code",
   "execution_count": 10,
   "metadata": {
    "scrolled": true
   },
   "outputs": [
    {
     "name": "stdout",
     "output_type": "stream",
     "text": [
      "r sqr: 0.6086717457576551\n"
     ]
    },
    {
     "data": {
      "text/html": [
       "<table class=\"simpletable\">\n",
       "<tr>\n",
       "  <th>Omnibus:</th>       <td>1758.096</td> <th>  Durbin-Watson:     </th> <td>   1.990</td>\n",
       "</tr>\n",
       "<tr>\n",
       "  <th>Prob(Omnibus):</th>  <td> 0.000</td>  <th>  Jarque-Bera (JB):  </th> <td>7768.608</td>\n",
       "</tr>\n",
       "<tr>\n",
       "  <th>Skew:</th>           <td> 0.126</td>  <th>  Prob(JB):          </th> <td>    0.00</td>\n",
       "</tr>\n",
       "<tr>\n",
       "  <th>Kurtosis:</th>       <td> 5.582</td>  <th>  Cond. No.          </th> <td>    495.</td>\n",
       "</tr>\n",
       "</table>"
      ],
      "text/plain": [
       "<class 'statsmodels.iolib.table.SimpleTable'>"
      ]
     },
     "execution_count": 10,
     "metadata": {},
     "output_type": "execute_result"
    }
   ],
   "source": [
    "x = df[['sqft_living', 'sqft_lot_less_living','age_when_sold']]\n",
    "ohe_cols = ['city']\n",
    "\n",
    "ohe = OneHotEncoder(drop='first')\n",
    "ohe.fit(df[ohe_cols])\n",
    "ohe_all = pd.DataFrame(ohe.transform(df[ohe_cols]).todense(),columns=ohe.get_feature_names())\n",
    "X_cat = pd.concat([x,ohe_all], axis=1)\n",
    "model = sm.OLS(y, sm.add_constant(X_cat)).fit()\n",
    "\n",
    "s = model.summary()\n",
    "print(\"r sqr:\", model.rsquared)\n",
    "s.tables[2]"
   ]
  },
  {
   "cell_type": "markdown",
   "metadata": {},
   "source": [
    "**This worked out well. This is the new model to beat.**\n",
    "\n",
    "**Try other features**"
   ]
  },
  {
   "cell_type": "code",
   "execution_count": 11,
   "metadata": {
    "scrolled": true
   },
   "outputs": [
    {
     "name": "stdout",
     "output_type": "stream",
     "text": [
      "r sqr: 0.6145532644346619\n"
     ]
    },
    {
     "data": {
      "text/html": [
       "<table class=\"simpletable\">\n",
       "<tr>\n",
       "  <th>Omnibus:</th>       <td>1763.972</td> <th>  Durbin-Watson:     </th> <td>   1.991</td>\n",
       "</tr>\n",
       "<tr>\n",
       "  <th>Prob(Omnibus):</th>  <td> 0.000</td>  <th>  Jarque-Bera (JB):  </th> <td>8065.580</td>\n",
       "</tr>\n",
       "<tr>\n",
       "  <th>Skew:</th>           <td> 0.097</td>  <th>  Prob(JB):          </th> <td>    0.00</td>\n",
       "</tr>\n",
       "<tr>\n",
       "  <th>Kurtosis:</th>       <td> 5.637</td>  <th>  Cond. No.          </th> <td>    675.</td>\n",
       "</tr>\n",
       "</table>"
      ],
      "text/plain": [
       "<class 'statsmodels.iolib.table.SimpleTable'>"
      ]
     },
     "execution_count": 11,
     "metadata": {},
     "output_type": "execute_result"
    }
   ],
   "source": [
    "x = df[['sqft_living', 'sqft_lot_less_living','age_when_sold']]\n",
    "ohe_cols = ['city','waterfront', 'has_basement', 'has_garage', 'has_patio']\n",
    "\n",
    "ohe = OneHotEncoder(drop='first')\n",
    "ohe.fit(df[ohe_cols])\n",
    "ohe_all = pd.DataFrame(ohe.transform(df[ohe_cols]).todense(),columns=ohe.get_feature_names())\n",
    "X_cat = pd.concat([x,ohe_all], axis=1)\n",
    "model = sm.OLS(y, sm.add_constant(X_cat)).fit()\n",
    "\n",
    "s = model.summary()\n",
    "print(\"r sqr:\", model.rsquared)\n",
    "s.tables[2]"
   ]
  },
  {
   "cell_type": "markdown",
   "metadata": {},
   "source": [
    "**Try layering in a Ordinal Categorical variable (Grade)**"
   ]
  },
  {
   "cell_type": "code",
   "execution_count": 12,
   "metadata": {
    "scrolled": true
   },
   "outputs": [
    {
     "name": "stdout",
     "output_type": "stream",
     "text": [
      "r sqr: 0.6433191156817883\n"
     ]
    },
    {
     "data": {
      "text/html": [
       "<table class=\"simpletable\">\n",
       "<tr>\n",
       "  <th>Omnibus:</th>       <td>2030.766</td> <th>  Durbin-Watson:     </th> <td>   1.992</td> \n",
       "</tr>\n",
       "<tr>\n",
       "  <th>Prob(Omnibus):</th>  <td> 0.000</td>  <th>  Jarque-Bera (JB):  </th> <td>11104.832</td>\n",
       "</tr>\n",
       "<tr>\n",
       "  <th>Skew:</th>           <td> 0.056</td>  <th>  Prob(JB):          </th> <td>    0.00</td> \n",
       "</tr>\n",
       "<tr>\n",
       "  <th>Kurtosis:</th>       <td> 6.100</td>  <th>  Cond. No.          </th> <td>2.47e+03</td> \n",
       "</tr>\n",
       "</table>"
      ],
      "text/plain": [
       "<class 'statsmodels.iolib.table.SimpleTable'>"
      ]
     },
     "execution_count": 12,
     "metadata": {},
     "output_type": "execute_result"
    }
   ],
   "source": [
    "# ordinally encoding grade\n",
    "grade_df = df[['grade']]\n",
    "grade_cats = [['2 Substandard',\n",
    "               '3 Poor',\n",
    "               '4 Low',\n",
    "               '5 Fair',\n",
    "               '6 Low Average',\n",
    "               '7 Average',\n",
    "               '8 Good',\n",
    "               '9 Better',\n",
    "               '10 Very Good',\n",
    "               '11 Excellent',\n",
    "               '12 Luxury',\n",
    "               '13 Mansion']]\n",
    "ords_grade = OrdinalEncoder(categories=grade_cats)\n",
    "ords_grade.fit(grade_df)\n",
    "ords_grade.transform(grade_df)\n",
    "grades_encoded = pd.DataFrame(ords_grade.transform(grade_df))\n",
    "\n",
    "\n",
    "x=df[['sqft_living', 'sqft_lot_less_living', 'age_when_sold']]\n",
    "ohe_cols = ['city','waterfront', 'has_basement', 'has_garage', 'has_patio']\n",
    "ohe = OneHotEncoder(drop='first')\n",
    "\n",
    "ohe.fit(df[ohe_cols])\n",
    "ohe_all = pd.DataFrame(ohe.transform(df[ohe_cols]).todense(),\n",
    "                            columns=ohe.get_feature_names())\n",
    "\n",
    "X_cat = pd.concat([x,ohe_all,grades_encoded], axis=1)\n",
    "model = sm.OLS(y, sm.add_constant(X_cat)).fit()\n",
    "\n",
    "s = model.summary()\n",
    "print(\"r sqr:\", model.rsquared)\n",
    "s.tables[2]"
   ]
  },
  {
   "cell_type": "markdown",
   "metadata": {},
   "source": [
    "**This skyrockets our JB and our cond no. Not using Grade.**  \n",
    "\n",
    "**Now try Condition**"
   ]
  },
  {
   "cell_type": "code",
   "execution_count": 13,
   "metadata": {
    "scrolled": true
   },
   "outputs": [
    {
     "name": "stdout",
     "output_type": "stream",
     "text": [
      "r sqr: 0.6190943016797948\n"
     ]
    },
    {
     "data": {
      "text/html": [
       "<table class=\"simpletable\">\n",
       "<tr>\n",
       "  <th>Omnibus:</th>       <td>1854.174</td> <th>  Durbin-Watson:     </th> <td>   1.987</td>\n",
       "</tr>\n",
       "<tr>\n",
       "  <th>Prob(Omnibus):</th>  <td> 0.000</td>  <th>  Jarque-Bera (JB):  </th> <td>8735.570</td>\n",
       "</tr>\n",
       "<tr>\n",
       "  <th>Skew:</th>           <td> 0.119</td>  <th>  Prob(JB):          </th> <td>    0.00</td>\n",
       "</tr>\n",
       "<tr>\n",
       "  <th>Kurtosis:</th>       <td> 5.741</td>  <th>  Cond. No.          </th> <td>1.27e+03</td>\n",
       "</tr>\n",
       "</table>"
      ],
      "text/plain": [
       "<class 'statsmodels.iolib.table.SimpleTable'>"
      ]
     },
     "execution_count": 13,
     "metadata": {},
     "output_type": "execute_result"
    }
   ],
   "source": [
    "# ordinally encoding condition\n",
    "cond_df = df[['condition']]\n",
    "cond_cats = [['Poor',\n",
    "              'Fair',\n",
    "              'Average',\n",
    "              'Good',\n",
    "              'Very Good']]\n",
    "ords_cond = OrdinalEncoder(categories=cond_cats)\n",
    "ords_cond.fit(cond_df)\n",
    "ords_cond.transform(cond_df)\n",
    "cond_encoded = pd.DataFrame(ords_cond.transform(cond_df))\n",
    "cond_encoded\n",
    "\n",
    "x=df[['sqft_living', 'sqft_lot_less_living', 'age_when_sold']]\n",
    "ohe_cols = ['city','waterfront', 'has_basement', 'has_garage', 'has_patio']\n",
    "ohe = OneHotEncoder(drop='first')\n",
    "\n",
    "ohe.fit(df[ohe_cols])\n",
    "ohe_all = pd.DataFrame(ohe.transform(df[ohe_cols]).todense(),\n",
    "                            columns=ohe.get_feature_names())\n",
    "\n",
    "X_cat = pd.concat([x,ohe_all,cond_encoded], axis=1)\n",
    "model = sm.OLS(y, sm.add_constant(X_cat)).fit()\n",
    "\n",
    "s = model.summary()\n",
    "print(\"r sqr:\", model.rsquared)\n",
    "s.tables[2]"
   ]
  },
  {
   "cell_type": "markdown",
   "metadata": {},
   "source": [
    "**This gives us a slightly better r squared (.619 vs .611 - our prior best), but it also doubles our condition and increases our JB by 1000.  We can call this Model B.**\n",
    "\n",
    "**Need to discuss these and choose the best**"
   ]
  },
  {
   "cell_type": "markdown",
   "metadata": {},
   "source": [
    "**Trying a couple more features - Starting from Model A**"
   ]
  },
  {
   "cell_type": "code",
   "execution_count": 14,
   "metadata": {
    "scrolled": true
   },
   "outputs": [
    {
     "name": "stdout",
     "output_type": "stream",
     "text": [
      "R sqr: 0.6120600027616369\n"
     ]
    },
    {
     "data": {
      "text/html": [
       "<table class=\"simpletable\">\n",
       "<tr>\n",
       "  <th>Omnibus:</th>       <td>1765.469</td> <th>  Durbin-Watson:     </th> <td>   1.992</td>\n",
       "</tr>\n",
       "<tr>\n",
       "  <th>Prob(Omnibus):</th>  <td> 0.000</td>  <th>  Jarque-Bera (JB):  </th> <td>7810.138</td>\n",
       "</tr>\n",
       "<tr>\n",
       "  <th>Skew:</th>           <td> 0.129</td>  <th>  Prob(JB):          </th> <td>    0.00</td>\n",
       "</tr>\n",
       "<tr>\n",
       "  <th>Kurtosis:</th>       <td> 5.589</td>  <th>  Cond. No.          </th> <td>    673.</td>\n",
       "</tr>\n",
       "</table>"
      ],
      "text/plain": [
       "<class 'statsmodels.iolib.table.SimpleTable'>"
      ]
     },
     "execution_count": 14,
     "metadata": {},
     "output_type": "execute_result"
    }
   ],
   "source": [
    "x = df[['sqft_living', 'sqft_lot_less_living']]\n",
    "ohe_cols = ['city','waterfront', 'has_basement', 'has_garage', 'has_patio','was_renovated']\n",
    "\n",
    "ohe = OneHotEncoder(drop='first')\n",
    "ohe.fit(df[ohe_cols])\n",
    "ohe_all = pd.DataFrame(ohe.transform(df[ohe_cols]).todense(),columns=ohe.get_feature_names())\n",
    "X_cat = pd.concat([x,ohe_all], axis=1)\n",
    "model = sm.OLS(y, sm.add_constant(X_cat)).fit()\n",
    "\n",
    "s = model.summary();\n",
    "print(\"R sqr:\", model.rsquared)\n",
    "s.tables[2]"
   ]
  },
  {
   "cell_type": "markdown",
   "metadata": {},
   "source": [
    "Didn't do much for us.  Try a few more"
   ]
  },
  {
   "cell_type": "markdown",
   "metadata": {},
   "source": [
    "**Try all new and available nomimal categories**"
   ]
  },
  {
   "cell_type": "code",
   "execution_count": 16,
   "metadata": {
    "scrolled": false
   },
   "outputs": [
    {
     "name": "stdout",
     "output_type": "stream",
     "text": [
      "R sqr: 0.6239080913151532\n"
     ]
    },
    {
     "data": {
      "text/html": [
       "<table class=\"simpletable\">\n",
       "<tr>\n",
       "  <th>Omnibus:</th>       <td>1753.986</td> <th>  Durbin-Watson:     </th> <td>   1.989</td>\n",
       "</tr>\n",
       "<tr>\n",
       "  <th>Prob(Omnibus):</th>  <td> 0.000</td>  <th>  Jarque-Bera (JB):  </th> <td>8235.209</td>\n",
       "</tr>\n",
       "<tr>\n",
       "  <th>Skew:</th>           <td> 0.050</td>  <th>  Prob(JB):          </th> <td>    0.00</td>\n",
       "</tr>\n",
       "<tr>\n",
       "  <th>Kurtosis:</th>       <td> 5.670</td>  <th>  Cond. No.          </th> <td>    777.</td>\n",
       "</tr>\n",
       "</table>"
      ],
      "text/plain": [
       "<class 'statsmodels.iolib.table.SimpleTable'>"
      ]
     },
     "execution_count": 16,
     "metadata": {},
     "output_type": "execute_result"
    }
   ],
   "source": [
    "x = df[['sqft_living', 'sqft_lot_less_living','age_when_sold']]\n",
    "ohe_cols = ['city','waterfront', 'has_basement', 'has_garage', 'has_patio','greenbelt', 'nuisance', 'view']\n",
    "\n",
    "ohe = OneHotEncoder(drop='first')\n",
    "ohe.fit(df[ohe_cols])\n",
    "ohe_all = pd.DataFrame(ohe.transform(df[ohe_cols]).todense(),columns=ohe.get_feature_names())\n",
    "X_cat = pd.concat([x,ohe_all], axis=1)\n",
    "model = sm.OLS(y, sm.add_constant(X_cat)).fit()\n",
    "\n",
    "s = model.summary()\n",
    "print(\"R sqr:\", model.rsquared)\n",
    "s.tables[2]"
   ]
  },
  {
   "cell_type": "markdown",
   "metadata": {},
   "source": [
    "**Pretty good.  Not the best JB or Cond. No.**"
   ]
  }
 ],
 "metadata": {
  "kernelspec": {
   "display_name": "Python (learn-env)",
   "language": "python",
   "name": "learn-env"
  },
  "language_info": {
   "codemirror_mode": {
    "name": "ipython",
    "version": 3
   },
   "file_extension": ".py",
   "mimetype": "text/x-python",
   "name": "python",
   "nbconvert_exporter": "python",
   "pygments_lexer": "ipython3",
   "version": "3.8.5"
  }
 },
 "nbformat": 4,
 "nbformat_minor": 4
}
